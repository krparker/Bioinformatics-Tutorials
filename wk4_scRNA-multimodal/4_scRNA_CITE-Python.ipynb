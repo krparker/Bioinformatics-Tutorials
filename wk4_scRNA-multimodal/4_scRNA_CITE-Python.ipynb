{
 "cells": [
  {
   "cell_type": "markdown",
   "metadata": {},
   "source": [
    "## Welcome to Week 4, Single Cell RNA (cont.)!\n",
    "\n",
    "### This week, we're going to go a bit deeper into scRNA analysis, such as how to interact with Seurat objects, add additional datatypes including CITE-seq and TCR/BCR-seq data, and create custom, publication-ready plots.\n",
    "\n",
    "We'll continue to use Scanpy, which has some nice capabilities for multi-modal data analysis. The two datatypes we will be working with today at **CITE-seq** and **TCR/BCR-seq** data. The main idea of both is that additional information about the cell is captured using the same cell barcode from reverse transcription so that multiple types of data can be assigned to the same cell. CITE-seq is a method for capturing surface protein information using oligo-conjugated antibodies developed at the New York Genome Center. Here antibodies are conjugated to oligos which contain two important sequences: an antibody specific barcode which is used to quantify surface protein levels in individual cells and a capture sequence (either poly-A sequence or a 10X specific capture sequence) which enables the antibody oligo to be tagged with the cell barcode during reverse transcription. You can look at more details in the publication here:  \n",
    "* https://www.ncbi.nlm.nih.gov/pubmed/28759029  \n",
    "\n",
    "Oligo-conjugated anitbodies compatible with 10X scRNA (both 5' and 3') are commercially available from BioLegend (https://www.biolegend.com/en-us/totalseq) and can also be used to multiplex different samples in the same 10X capture. This works by using an antibody which recognizes a common surface antigen and using the antibody barcode to distinguish between samples, a process known as **cell hashing**:\n",
    "* https://www.ncbi.nlm.nih.gov/pubmed/30567574\n",
    "\n",
    "We won't be using hashtag data today, but many of the same strategies apply and feel free to reach out if you are interested in learning more!  \n",
    "\n",
    "The second data type we will be working with is TCR/BCR sequencing data. T and B cells express a highly diverse repertoire of transcripts resulting from V(D)J recombination - the T cell receptor (TCR) in T cells and immunoglobulin (Ig) or BCR in B cells. Daughter cells will share the same TCR/BCR sequence, allowing this sequence to be used to track clonal cell populations over time and space, as well as infer lineage relationships. TCR/BCR sequences are amplified from the cDNA library in the 5' immune profiling 10X kit, allowing these sequences to be matched to the gene expression library from the same cell. For more details, see the 10X website:\n",
    "* https://www.10xgenomics.com/products/vdj/  \n",
    "\n",
    "For both of these applications, we'll be following this tutorial:\n",
    "* https://scanpy-tutorials.readthedocs.io/en/multiomics/cite-seq/pbmc5k.html"
   ]
  },
  {
   "cell_type": "markdown",
   "metadata": {},
   "source": [
    "### Import Statements"
   ]
  },
  {
   "cell_type": "code",
   "execution_count": null,
   "metadata": {},
   "outputs": [],
   "source": [
    "import scanpy as sc\n",
    "import pandas as pd\n",
    "import numpy as np\n",
    "import matplotlib as mpl\n",
    "from matplotlib import pyplot as plt\n",
    "from collections import Counter, defaultdict\n",
    "from scipy import stats as scistats\n",
    "\n",
    "import scrublet as scr\n",
    "import scipy.io\n",
    "\n",
    "%matplotlib inline"
   ]
  },
  {
   "cell_type": "code",
   "execution_count": null,
   "metadata": {},
   "outputs": [],
   "source": [
    "# you'll need to change these for yourself\n",
    "\n",
    "path = '/Users/kevin/changlab/covid19/3_scRNA/data/filtered_feature_bc_matrix/'\n",
    "figpath = '/Users/kevin/changlab/covid19/4_scRNA-part-2/figures/'\n",
    "\n",
    "# lets set the default figure settings\n",
    "\n",
    "sc.settings.set_figure_params(dpi_save=300)\n",
    "sc.settings.figdir = figpath"
   ]
  },
  {
   "cell_type": "code",
   "execution_count": null,
   "metadata": {},
   "outputs": [],
   "source": [
    "# helpful plotting functions, \"sax\" or \"simple ax\" and \"prettify ax\" or \"pax\"\n",
    "\n",
    "def pax(ax):\n",
    "    mpl.rcParams['font.sans-serif'] = 'Helvetica'\n",
    "    for spine in ax.spines.values():\n",
    "        spine.set_color('k')\n",
    "    ax.set_frameon=True\n",
    "    ax.patch.set_facecolor('w')\n",
    "    ax.tick_params(direction='out', color = 'k', length=5, width=.75, pad=8)\n",
    "    ax.set_axisbelow(True)\n",
    "    ax.grid(False)\n",
    "    ax.spines['top'].set_visible(False)\n",
    "    ax.spines['right'].set_visible(False)\n",
    "    mpl.rcParams['font.sans-serif'] = 'Helvetica'\n",
    "\n",
    "def sax(figsize=(6,6)):\n",
    "    fig = plt.figure(figsize=figsize)\n",
    "    ax = fig.add_subplot(111)\n",
    "    pax(ax)\n",
    "    return fig, ax\n",
    "\n",
    "def sf(fig, fn, formats=['png'], dpi=300, figpath=figpath):\n",
    "    for f in formats:\n",
    "        fig.savefig(figpath + fn + '.' + f, dpi=dpi, bbox_inches='tight')"
   ]
  },
  {
   "cell_type": "markdown",
   "metadata": {},
   "source": [
    "### First, go back to the week three notebook, re-run everything, and save the output so you can just re-import the procssed dataset here.\n",
    "\n",
    "Or, you can use the file that I outputted to have the same input.  I've included the code that I ran to generate it below."
   ]
  },
  {
   "cell_type": "code",
   "execution_count": null,
   "metadata": {},
   "outputs": [],
   "source": [
    "# # process with scrublet\n",
    "# print('processing with scrublet')\n",
    "# counts_matrix = scipy.io.mmread(path + '/matrix.mtx.gz').T.tocsc()\n",
    "# cells = pd.read_csv(path + '/barcodes.tsv.gz', sep='\\t', header=None, names=['barcode'])\n",
    "# cells = cells.set_index('barcode', drop=False)\n",
    "\n",
    "# scrub = scr.Scrublet(counts_matrix, expected_doublet_rate=0.08)\n",
    "# doublet_scores, predicted_doublets = scrub.scrub_doublets(min_counts=2, \n",
    "#                                                           min_cells=3, \n",
    "#                                                           min_gene_variability_pctl=85, \n",
    "#                                                           n_prin_comps=30)\n",
    "# predicted_doublets = scrub.call_doublets(threshold=0.25)\n",
    "# cells['doublet_score'] = doublet_scores\n",
    "# cells['predicted_doublet'] = predicted_doublets\n",
    "\n",
    "# # import data\n",
    "# print('importing data')\n",
    "# gex = sc.read_10x_mtx(path, gex_only=True)\n",
    "# gex.obs['doublet_score'] = cells.loc[gex.obs.index, 'doublet_score']\n",
    "# gex.obs['predicted_doublet'] = cells.loc[gex.obs.index, 'predicted_doublet']\n",
    "\n",
    "# # preliminary processing\n",
    "# print('preliminary processing')\n",
    "# sc.pp.filter_cells(gex, min_genes=200)\n",
    "# sc.pp.filter_genes(gex, min_cells=3)\n",
    "# mito_genes = gex.var_names.str.startswith('MT-')\n",
    "# gex.obs['percent_mito'] = np.sum(\n",
    "#     gex[:, mito_genes].X, axis=1).A1 / np.sum(gex.X, axis=1).A1\n",
    "# gex.obs['n_counts'] = gex.X.sum(axis=1).A1\n",
    "# gex = gex[gex.obs.n_genes >= 500, :]\n",
    "# gex = gex[gex.obs.percent_mito < 0.1, :]\n",
    "# sc.pp.normalize_total(gex, target_sum=1e4)\n",
    "# sc.pp.log1p(gex)\n",
    "# gex.raw = gex\n",
    "\n",
    "# # dimensionality reduction\n",
    "# print('secondary processing')\n",
    "# sc.pp.highly_variable_genes(gex, n_top_genes=2000)\n",
    "# gex = gex[:, gex.var.highly_variable]\n",
    "# sc.pp.regress_out(gex, ['n_genes'])\n",
    "# sc.pp.scale(gex, max_value=10)\n",
    "# sc.tl.pca(gex, svd_solver='arpack', n_comps=50)\n",
    "# sc.pp.neighbors(gex, n_neighbors=10, n_pcs=50, random_state=1)\n",
    "# sc.tl.leiden(gex, random_state=1, resolution=.4)\n",
    "# sc.tl.umap(gex)\n",
    "# new_cluster_names = ['Mono_CD14', #0\n",
    "#                     'CD4 T', #1\n",
    "#                     'B', #2\n",
    "#                     'CD8 T', #3\n",
    "#                     'NK', #4\n",
    "#                     'CD8 Tem', #5\n",
    "#                     'Mono_FCGR3A', #6\n",
    "#                     'Und1_Doublets', #7\n",
    "#                     'cDC', #8\n",
    "#                     'gd T', #9 gamma delta t cells\n",
    "#                     'pDCs', #10\n",
    "#                     'Platelets', #11\n",
    "#                     'Plasma B', #12\n",
    "#                     'Und2', #13\n",
    "#                     ]\n",
    "# gex.rename_categories('leiden', new_cluster_names)\n",
    "\n",
    "# # plot things\n",
    "# print('plotting')\n",
    "# # plot1\n",
    "# fig = sc.pl.umap(gex, color=['leiden'],\n",
    "#                 legend_fontsize = 8,\n",
    "#                 legend_loc = 'on data', return_fig=True)\n",
    "# fig.savefig(figpath + '0_leiden-clustering-renamed.png', dpi=300, bbox_inches='tight')\n",
    "# # plot2\n",
    "# genes_to_plot = ['predicted_doublet','n_genes',\n",
    "#                 'n_counts','percent_mito']\n",
    "# fig = sc.pl.umap(gex, color=genes_to_plot, use_raw=True,\n",
    "#                 sort_order=True, ncols=2, return_fig=True)\n",
    "# fig.savefig(figpath + '0_umap-metadata.png', dpi=300, bbox_inches='tight')\n",
    "# # plot3\n",
    "# genes_to_plot = ['CD3G','CD4','CD8A',\n",
    "#                  'TRDV2','KLRB1','NKG7',\n",
    "#                  'CD14','FCGR3A','FCER1A',\n",
    "#                  'MS4A1','JCHAIN','PPBP',\n",
    "#                 ]\n",
    "\n",
    "# fig = sc.pl.umap(gex, color=genes_to_plot, use_raw=True,\n",
    "#                 sort_order=True, ncols=3,return_fig=True, color_map='Reds')\n",
    "# fig.savefig(figpath + '0_umap-gene-expression.png', dpi=300, bbox_inches='tight')\n",
    "\n",
    "# # save the results\n",
    "# gex.write(figpath + 'scrna_wk3_processed.h5ad', compression='gzip')"
   ]
  },
  {
   "cell_type": "code",
   "execution_count": null,
   "metadata": {},
   "outputs": [],
   "source": [
    "# import the data\n",
    "\n",
    "# reminder that you'll need to change the path to this\n",
    "\n",
    "gex = sc.read_h5ad(figpath + 'scrna_wk3_processed.h5ad')\n",
    "gex"
   ]
  },
  {
   "cell_type": "code",
   "execution_count": null,
   "metadata": {},
   "outputs": [],
   "source": [
    "# make sure that everything looks good\n",
    "genes_to_plot = ['CD3G','CD4','CD8A',\n",
    "                 'TRDV2','KLRB1','NKG7',\n",
    "                 'CD14','FCGR3A','FCER1A',\n",
    "                 'MS4A1','JCHAIN','PPBP',\n",
    "                ]\n",
    "\n",
    "fig = sc.pl.umap(gex, color=genes_to_plot, use_raw=True,\n",
    "                sort_order=True, ncols=3,return_fig=True, color_map='Reds')\n",
    "plt.show()\n",
    "\n",
    "fig = sc.pl.umap(gex, color=['leiden'],\n",
    "                legend_fontsize = 8,\n",
    "                legend_loc = 'on data', return_fig=True)\n",
    "plt.show()"
   ]
  },
  {
   "cell_type": "markdown",
   "metadata": {},
   "source": [
    "### CITE-seq Analysis"
   ]
  },
  {
   "cell_type": "code",
   "execution_count": null,
   "metadata": {},
   "outputs": [],
   "source": [
    "# first, read in the cite seq information\n",
    "# remember that gex_only=False will let you read them both in\n",
    "\n",
    "data = sc.read_10x_mtx(path, gex_only=False)\n",
    "data"
   ]
  },
  {
   "cell_type": "code",
   "execution_count": null,
   "metadata": {},
   "outputs": [],
   "source": [
    "# what cite seq features do we have?\n",
    "# how many genes?\n",
    "# how many cite-seq?\n"
   ]
  },
  {
   "cell_type": "code",
   "execution_count": null,
   "metadata": {},
   "outputs": [],
   "source": [
    "# rename the antibody capture genes\n",
    "# get rid of the \"_TotalSeqC\" part of the name just to make our lives easier\n",
    "# e.g. CD3_TotalSeqC to CD3\n"
   ]
  },
  {
   "cell_type": "code",
   "execution_count": null,
   "metadata": {},
   "outputs": [],
   "source": [
    "# filter this to just include cells that we analyzed previously, so the datasets will align\n",
    "# you can do this with\n",
    "\n",
    "data = data[data.obs.index.isin(gex.obs.index), :]"
   ]
  },
  {
   "cell_type": "code",
   "execution_count": null,
   "metadata": {},
   "outputs": [],
   "source": [
    "# now lets get just the protein information, and make that its own anndata object\n",
    "\n",
    "protein = data[:, data.var['feature_types'] == 'Antibody Capture'].copy()\n",
    "protein"
   ]
  },
  {
   "cell_type": "markdown",
   "metadata": {},
   "source": [
    "### Now let's break out of scanpy for a minute to inspect, normalize, and scale this data on our own\n",
    "\n",
    "Scanpy seems to be developing some functions specifically for protein data, but hasn't yet implemented them.  But this isn't a problem! We can do things on our own, and transform the data into a format that scanpy wants.\n",
    "\n",
    "**We're going to break this down in a few steps:**\n",
    "\n",
    "1. get the raw antibody count data from the protein anndata object.  \n",
    "2. compute the centered log ratio (CLR) of antibody counts (this is different than for RNA!) - more notes on this below.  \n",
    "3. scale the data to be mean centered and have unit variance (i.e., z-normalization).  This is the same as for RNA.   \n",
    "4. save the CLR normalized antibody counts as the raw data of the protein object, and the scaled data as the (normal) data of the protein object, which will be used for dimensionality reduction.  \n",
    "\n",
    "Now, in terms of what the actual normalizations are: we're going to do this with the .apply() function with dataframes.  I'm providing an example for how to you would do the depth normalization that you'd normally do for RNA-seq below, but you should play around on your own with implementing the normalizations in 2 and 3.\n",
    "\n",
    "**Normalization methods:**\n",
    "\n",
    "* depth normalization (as a comparison).  For a cell, divide the counts for each gene/antibody by the sum of all gene/antibody counts for that cell, then multiply by some scaling factor (e.g. 10,000).  Commonly, you would also log transform this, and add a pseudocount (say 1).  This is sometimes referred to as **log1p**.\n",
    "* CLR.  For an antibody, divide the counts for each antibody by the geometric mean antibody counts across all cells, then take the natural log of this.  Similarly, you'll add a pseudocount of 1.\n",
    "* z-normalization (scaling to zero mean and unit variance).  Basically, you're making all datapoints have similar distributions.  For a gene, return the count for a cell minus the mean count across all cells, divided by the standard deviation across all cells.\n",
    "* clipping extremes.  You can use the np.clip() function to do this.  Basically, this will take any value lower than the lower bound in np.clip and make it equal to the lower bound, and do the same for the upper bound.  You might combine this with computing the mean and standard deviation, to clip values > 3 stds away from the mean; or np.percentile() to clip values that are less or greater than a given percentile in the data.\n",
    "\n",
    "It's worth taking the time to look at why the CLR transformation is better than a simple log transformation.  Why?  Because antibodies aren't genes - when a gene is negative, the count is 0; when a gene is positive, the count is greater than 0.  But does this hold true with antibodies?  When an antibody is negative, the count isn't necessarily 0 - the antibody might have background!  The CLR transformation does a better job of dealing with this, by looking at the relative abundance of the antibody."
   ]
  },
  {
   "cell_type": "code",
   "execution_count": null,
   "metadata": {},
   "outputs": [],
   "source": [
    "# get the raw data\n",
    "\n",
    "protein_orig = pd.DataFrame(protein.X.todense(), index=protein.obs.index, columns=protein.var.index).T"
   ]
  },
  {
   "cell_type": "code",
   "execution_count": null,
   "metadata": {},
   "outputs": [],
   "source": [
    "# what does your data look like?\n",
    "\n",
    "# I'd recommend first plotting the distribution of total antibody counts across all cells\n",
    "\n",
    "\n",
    "# sf(fig, '1_preprocess_histogram_antibody-counts')"
   ]
  },
  {
   "cell_type": "code",
   "execution_count": null,
   "metadata": {
    "scrolled": false
   },
   "outputs": [],
   "source": [
    "# what if we just take a 'naive' approach to normalization?\n",
    "\n",
    "protein_norm_depth = protein_orig.apply(lambda x: 10000 * x / x.sum(), axis=0)\n",
    "protein_norm_depth = np.log(protein_norm_depth + 1)\n",
    "\n",
    "# plot the distribution of counts for all of these\n",
    "\n",
    "fig = plt.figure(figsize=(10,10))\n",
    "axes = [fig.add_subplot(5,4,i+1) for i in range(len(protein_norm_depth.index))]\n",
    "xlim = [protein_norm_depth.min().min(), protein_norm_depth.max().max()]\n",
    "\n",
    "bins = np.linspace(xlim[0], xlim[1], 100)\n",
    "\n",
    "for ix, p in enumerate(protein_orig.index):\n",
    "    ax = axes[ix]\n",
    "    pax(ax)\n",
    "     \n",
    "    vals = protein_norm_depth.loc[p]\n",
    "\n",
    "    ax.hist(vals, bins=bins)\n",
    "    ax.set_title(p, size=16)\n",
    "    ax.set_xlim(xlim)\n",
    "\n",
    "fig.tight_layout()\n",
    "plt.show()\n",
    "\n",
    "sf(fig, '1_preprocess_log1p-distributions')"
   ]
  },
  {
   "cell_type": "code",
   "execution_count": null,
   "metadata": {},
   "outputs": [],
   "source": [
    "# now lets compare this with the CLR approach\n",
    "def clr(x, pseudo=1):\n",
    "    x = x + pseudo\n",
    "    geo_mean = scistats.gmean(x)\n",
    "    return np.log(x / geo_mean)\n",
    "\n",
    "protein_norm_clr = protein_orig.apply(clr, axis=1)\n",
    "protein_norm_clr.head()\n",
    "\n",
    "# plot the distribution of counts for all of these\n",
    "\n",
    "\n",
    "\n",
    "# sf(fig, '1_preprocess_clr-distributions')"
   ]
  },
  {
   "cell_type": "code",
   "execution_count": null,
   "metadata": {},
   "outputs": [],
   "source": [
    "# now lets compare the two with a scatter plot\n",
    "\n",
    "\n",
    "# sf(fig, '1_preprocess_scatter-norm-methods')"
   ]
  },
  {
   "cell_type": "code",
   "execution_count": null,
   "metadata": {},
   "outputs": [],
   "source": [
    "# now scale this to unit variance\n",
    "# see https://en.wikipedia.org/wiki/Feature_scaling under z-normalization\n",
    "\n",
    "\n",
    "# also, clip extremes - clip anything less than -10 and above 10\n"
   ]
  },
  {
   "cell_type": "code",
   "execution_count": null,
   "metadata": {},
   "outputs": [],
   "source": [
    "# plot the distribution of counts for all of the scaled data\n",
    "# note how the distributions are relatively similar\n",
    "\n",
    "\n",
    "# sf(fig, '1_preprocess_scaled_clr-distributions')"
   ]
  },
  {
   "cell_type": "code",
   "execution_count": null,
   "metadata": {},
   "outputs": [],
   "source": [
    "# what if we want to make a scatter plot of one CD4 vs CD8a?\n",
    "# compare the depth-normalized vs CLR normalized counts\n",
    "# make it once with depth-normalized counts and once with CLR normalized\n",
    "\n",
    "\n",
    "# sf(fig, '1_preprocess_scatter_log1p_cd4-8')"
   ]
  },
  {
   "cell_type": "code",
   "execution_count": null,
   "metadata": {},
   "outputs": [],
   "source": [
    "# what if we want to make a scatter plot of one antibody?\n",
    "\n",
    "\n",
    "# sf(fig, '1_preprocess_scatter_clr_cd4-8')"
   ]
  },
  {
   "cell_type": "markdown",
   "metadata": {},
   "source": [
    "### Now go back to scanpy\n",
    "\n",
    "Let's save the protein_norm_clr values as the raw data in protein, and the protein_scaled values in the data slot of protein.  Let's also exclude the control proteins from the main data slot."
   ]
  },
  {
   "cell_type": "code",
   "execution_count": null,
   "metadata": {},
   "outputs": [],
   "source": [
    "protein = data[:, data.var['feature_types'] == 'Antibody Capture'].copy()\n",
    "\n",
    "protein.var['control'] = ['control' in i for i in protein.var.index]\n",
    "protein.X = protein_norm_clr.T\n",
    "protein.raw = protein\n",
    "\n",
    "protein.X = protein_scaled.T\n",
    "protein = protein[:, ~protein.var['control']]\n",
    "\n",
    "protein"
   ]
  },
  {
   "cell_type": "code",
   "execution_count": null,
   "metadata": {},
   "outputs": [],
   "source": [
    "protein.var"
   ]
  },
  {
   "cell_type": "code",
   "execution_count": null,
   "metadata": {},
   "outputs": [],
   "source": [
    "protein_genes = ['CD3D','CD19','PTPRC',\n",
    "                'CD4','CD8A','CD14','FCGR3A',\n",
    "                'NCAM1','IL2RA','PTPRC',\n",
    "                'PDCD1','TIGIT','IL7R','FUT4']\n",
    "protein.var['rna_name'] = protein_genes\n",
    "name_dict = dict(zip(protein.var.index, protein.var['rna_name']))\n",
    "protein.var.head()"
   ]
  },
  {
   "cell_type": "code",
   "execution_count": null,
   "metadata": {},
   "outputs": [],
   "source": [
    "sc.pp.pca(protein, n_comps=len(protein.var)-1)\n",
    "sc.pp.neighbors(protein, n_neighbors=30, n_pcs=len(protein.var)-1)\n",
    "sc.tl.leiden(protein, key_added=\"protein_leiden\", resolution=.33)"
   ]
  },
  {
   "cell_type": "code",
   "execution_count": null,
   "metadata": {},
   "outputs": [],
   "source": [
    "sc.tl.umap(protein)"
   ]
  },
  {
   "cell_type": "code",
   "execution_count": null,
   "metadata": {},
   "outputs": [],
   "source": [
    "genes_to_plot = protein.var.index.tolist() + ['protein_leiden']\n",
    "\n",
    "fig = sc.pl.umap(protein, color=genes_to_plot,\n",
    "                sort_order=True, ncols=4,return_fig=True, color_map='Blues', use_raw=True,\n",
    "                vmin='p5', vmax='p99.9')\n",
    "fig.set_size_inches(12,12)\n",
    "sf(fig,'2_umap_with_cite-clustering')\n",
    "plt.show()"
   ]
  },
  {
   "cell_type": "markdown",
   "metadata": {},
   "source": [
    "### Now let's integrate this with the RNA data\n",
    "\n",
    "I'm going to do this a little fast and loose because I think that scanpy hasn't yet fully implemented the CITE-seq stuff too well.  Basically, we're going to add the umap coordinates and clustering information from the RNA processed data to the protein-processed data, and vice versa."
   ]
  },
  {
   "cell_type": "code",
   "execution_count": null,
   "metadata": {},
   "outputs": [],
   "source": [
    "# add gex to protein\n",
    "protein.obsm['RNA_umap'] = gex[protein.obs.index].obsm['X_umap']\n",
    "protein.obs['rna_leiden'] = gex.obs.loc[protein.obs.index, 'leiden']\n",
    "\n",
    "# add protein to gex\n",
    "# I'll leave you do to this"
   ]
  },
  {
   "cell_type": "code",
   "execution_count": null,
   "metadata": {},
   "outputs": [],
   "source": [
    "# now, let's plot the cite-seq information on top of the rna clusters\n",
    "\n",
    "genes_to_plot = protein.var.index.tolist() + ['rna_leiden']\n",
    "\n",
    "fig = sc.pl.embedding(protein, 'RNA_umap', color=genes_to_plot,\n",
    "                sort_order=True, ncols=4,return_fig=True, color_map='Blues', use_raw=True,\n",
    "                vmin='p5', vmax='p99.9', legend_fontsize=8)\n",
    "fig.set_size_inches(12,12)\n",
    "sf(fig,'3_RNA-umap_with_CITE-counts')\n",
    "plt.show()"
   ]
  },
  {
   "cell_type": "code",
   "execution_count": null,
   "metadata": {},
   "outputs": [],
   "source": [
    "# and, let's plot some rna-seq information on top of the cite clusters\n",
    "# I'll leave you to do this one\n",
    "\n",
    "# sf(fig,'3_CITE-umap_with_RNA-counts')"
   ]
  },
  {
   "cell_type": "markdown",
   "metadata": {},
   "source": [
    "### Now, let's plot RNA information against CITE information to see how they compare."
   ]
  },
  {
   "cell_type": "code",
   "execution_count": null,
   "metadata": {},
   "outputs": [],
   "source": [
    "# first, get the metadata from the scanpy .obs dataframe\n",
    "\n",
    "meta = gex.obs\n",
    "meta.head()"
   ]
  },
  {
   "cell_type": "code",
   "execution_count": null,
   "metadata": {},
   "outputs": [],
   "source": [
    "# and add in the umap coordinates from the RNA\n",
    "meta['umap_1'] = gex.obsm['X_umap'][:, 0]\n",
    "meta['umap_2'] = gex.obsm['X_umap'][:, 1]\n",
    "\n",
    "# now add in the umap coordinates from the CITE-seq\n",
    "meta['umap-cite_1'] = protein[meta.index].obsm['X_umap'][:, 0]\n",
    "meta['umap-cite_2'] = protein[meta.index].obsm['X_umap'][:, 1]\n",
    "\n",
    "meta.head()"
   ]
  },
  {
   "cell_type": "code",
   "execution_count": null,
   "metadata": {},
   "outputs": [],
   "source": [
    "# here's two helper functions to get gene/protein expression information\n",
    "\n",
    "def get_gene_expression(gene, adata=gex, undo_log=False, cells=''):\n",
    "    gene_ix = adata.raw.var.index.get_loc(gene)\n",
    "    vals = adata.raw.X[:, gene_ix].toarray().ravel()\n",
    "    \n",
    "    if undo_log:\n",
    "        vals = np.exp(vals) - 1\n",
    "    \n",
    "    vals = pd.Series(vals, index=adata.obs.index)\n",
    "        \n",
    "    return vals\n",
    "\n",
    "def get_protein_expression(gene, data=protein_norm_clr):\n",
    "    vals = protein_norm_clr.loc[gene]\n",
    "    \n",
    "    return vals"
   ]
  },
  {
   "cell_type": "code",
   "execution_count": null,
   "metadata": {},
   "outputs": [],
   "source": [
    "# make a scatter plot of RNA expression vs CITE-seq counts\n",
    "\n",
    "for gene in protein.var.index:\n",
    "\n",
    "    rna_vals = get_gene_expression(name_dict[gene])\n",
    "    protein_vals = get_protein_expression(gene)\n",
    "\n",
    "    sf(fig, '4_scatter_rna-cite_' + gene)"
   ]
  },
  {
   "cell_type": "code",
   "execution_count": null,
   "metadata": {
    "scrolled": true
   },
   "outputs": [],
   "source": [
    "# plot the RNA and CITE counts on top of the UMAP from the RNA data\n",
    "\n",
    "for gene in protein.var.index:\n",
    "\n",
    "    rna_vals = get_gene_expression(name_dict[gene])\n",
    "    protein_vals = get_protein_expression(gene)\n",
    "\n",
    "    fig = plt.figure(figsize=(10,5))\n",
    "\n",
    "    # plot RNA\n",
    "    # plot PROTEIN\n",
    "\n",
    "    sf(fig, '4_umap_rna-cite_' + gene)"
   ]
  },
  {
   "cell_type": "code",
   "execution_count": null,
   "metadata": {},
   "outputs": [],
   "source": []
  }
 ],
 "metadata": {
  "kernelspec": {
   "display_name": "Python 3",
   "language": "python",
   "name": "python3"
  },
  "language_info": {
   "codemirror_mode": {
    "name": "ipython",
    "version": 3
   },
   "file_extension": ".py",
   "mimetype": "text/x-python",
   "name": "python",
   "nbconvert_exporter": "python",
   "pygments_lexer": "ipython3",
   "version": "3.7.3"
  }
 },
 "nbformat": 4,
 "nbformat_minor": 4
}
