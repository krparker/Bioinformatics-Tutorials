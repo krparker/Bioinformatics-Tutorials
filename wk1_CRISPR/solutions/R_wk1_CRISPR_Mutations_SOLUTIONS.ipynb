{
 "cells": [
  {
   "cell_type": "markdown",
   "metadata": {},
   "source": [
    "# Welcome to Chang Lab Bioinformatics (R version)!\n",
    "We're going to start with an introduction to R, just to get a handle on basics and how to deal with data. In this experiment, we're imagining that you're trying to create a clonal line with a mutation at a given locus. You've picked lots of clones, extracted DNA and amplified the target region by PCR, and are now trying to analyze your results to quickly tell which wells are WT or mutant (or heterozygous).\n",
    "\n",
    "The first section will be an introduction, and then we'll go through dealing with one well, and then go through dealing with all 96 wells."
   ]
  },
  {
   "cell_type": "markdown",
   "metadata": {},
   "source": [
    "### Part 0: Your name"
   ]
  },
  {
   "cell_type": "markdown",
   "metadata": {},
   "source": [
    "Replace this with your name."
   ]
  },
  {
   "cell_type": "markdown",
   "metadata": {},
   "source": [
    "## Part 1: Introduction\n",
    "Make sure that you are familiar with the difference between a string, integer, and double; as well as data frames and vectors; boolean operators (equals to, greater than, less than, etc.); and the basics of defining a function.\n",
    "\n",
    "We're going to use the **table** function frequently. To see how it works, type **?table**. \n",
    "\n",
    "We're going to practice with an example 'dataset' before moving on to actual (simulated) FASTQ reads.\n",
    "\n",
    "Table is a built in function, so we don't need to load any R packages right now, but typically this would be the first thing to do in a new session."
   ]
  },
  {
   "cell_type": "code",
   "execution_count": 1,
   "metadata": {},
   "outputs": [],
   "source": [
    "# mock dataset, don't change\n",
    "\n",
    "test_data = c('cat',\n",
    "            'dog',\n",
    "            'cat',\n",
    "            'mouse',\n",
    "            'mouse',\n",
    "            'cat',\n",
    "            'cat',\n",
    "            'dog',\n",
    "            'rat',\n",
    "            'dog',\n",
    "            'rabbit',\n",
    "            'mouse',\n",
    "            'cat',\n",
    "            'cat',\n",
    "            'dog',\n",
    "            'elephant')"
   ]
  },
  {
   "cell_type": "markdown",
   "metadata": {},
   "source": [
    "How many elements are in test_data? (Hint: use the **length()** function)"
   ]
  },
  {
   "cell_type": "code",
   "execution_count": 2,
   "metadata": {},
   "outputs": [
    {
     "data": {
      "text/plain": [
       "test_data\n",
       "     cat      dog elephant    mouse   rabbit      rat \n",
       "       6        4        1        3        1        1 "
      ]
     },
     "metadata": {},
     "output_type": "display_data"
    }
   ],
   "source": [
    "# We can use the table function to print the frequencies of each item in the test_data vector\n",
    "\n",
    "table(test_data)"
   ]
  },
  {
   "cell_type": "code",
   "execution_count": 3,
   "metadata": {},
   "outputs": [
    {
     "data": {
      "text/plain": [
       "test_data\n",
       "     cat      dog    mouse elephant   rabbit      rat \n",
       "       6        4        3        1        1        1 "
      ]
     },
     "metadata": {},
     "output_type": "display_data"
    }
   ],
   "source": [
    "# Now we can use the sort function to find the most common elements of test_data \n",
    "# (by default sort orders in increasing order, so we use the decreasing = TRUE argument)\n",
    "\n",
    "sort(table(test_data), decreasing = TRUE)"
   ]
  },
  {
   "cell_type": "markdown",
   "metadata": {},
   "source": [
    "What if we only wanted to see the top 3 most common elements? (Hint: look at the **head** function using **?head**)"
   ]
  },
  {
   "cell_type": "markdown",
   "metadata": {},
   "source": [
    "If you want to store the result of the sorted table, you'll need to do that explicitly by assigning it to the same or new variable."
   ]
  },
  {
   "cell_type": "code",
   "execution_count": 4,
   "metadata": {},
   "outputs": [
    {
     "data": {
      "text/plain": [
       "test_data\n",
       "     cat      dog elephant    mouse   rabbit      rat \n",
       "       6        4        1        3        1        1 "
      ]
     },
     "metadata": {},
     "output_type": "display_data"
    },
    {
     "data": {
      "text/plain": [
       "test_data\n",
       "     cat      dog    mouse elephant   rabbit      rat \n",
       "       6        4        3        1        1        1 "
      ]
     },
     "metadata": {},
     "output_type": "display_data"
    }
   ],
   "source": [
    "test_table <- table(test_data)\n",
    "test_table_sort <- sort(test_table, decreasing = TRUE)\n",
    "\n",
    "test_table\n",
    "test_table_sort"
   ]
  },
  {
   "cell_type": "markdown",
   "metadata": {},
   "source": [
    "#### Let's say we want to go through and calculate the percent votes assigned to the third result.  How would we do this?\n",
    "\n",
    "First, lets make a data.frame of the table results: "
   ]
  },
  {
   "cell_type": "code",
   "execution_count": 5,
   "metadata": {},
   "outputs": [
    {
     "data": {
      "text/html": [
       "<table>\n",
       "<caption>A data.frame: 6 × 2</caption>\n",
       "<thead>\n",
       "\t<tr><th scope=col>test_data</th><th scope=col>Freq</th></tr>\n",
       "\t<tr><th scope=col>&lt;fct&gt;</th><th scope=col>&lt;int&gt;</th></tr>\n",
       "</thead>\n",
       "<tbody>\n",
       "\t<tr><td>cat     </td><td>6</td></tr>\n",
       "\t<tr><td>dog     </td><td>4</td></tr>\n",
       "\t<tr><td>mouse   </td><td>3</td></tr>\n",
       "\t<tr><td>elephant</td><td>1</td></tr>\n",
       "\t<tr><td>rabbit  </td><td>1</td></tr>\n",
       "\t<tr><td>rat     </td><td>1</td></tr>\n",
       "</tbody>\n",
       "</table>\n"
      ],
      "text/latex": [
       "A data.frame: 6 × 2\n",
       "\\begin{tabular}{ll}\n",
       " test\\_data & Freq\\\\\n",
       " <fct> & <int>\\\\\n",
       "\\hline\n",
       "\t cat      & 6\\\\\n",
       "\t dog      & 4\\\\\n",
       "\t mouse    & 3\\\\\n",
       "\t elephant & 1\\\\\n",
       "\t rabbit   & 1\\\\\n",
       "\t rat      & 1\\\\\n",
       "\\end{tabular}\n"
      ],
      "text/markdown": [
       "\n",
       "A data.frame: 6 × 2\n",
       "\n",
       "| test_data &lt;fct&gt; | Freq &lt;int&gt; |\n",
       "|---|---|\n",
       "| cat      | 6 |\n",
       "| dog      | 4 |\n",
       "| mouse    | 3 |\n",
       "| elephant | 1 |\n",
       "| rabbit   | 1 |\n",
       "| rat      | 1 |\n",
       "\n"
      ],
      "text/plain": [
       "  test_data Freq\n",
       "1 cat       6   \n",
       "2 dog       4   \n",
       "3 mouse     3   \n",
       "4 elephant  1   \n",
       "5 rabbit    1   \n",
       "6 rat       1   "
      ]
     },
     "metadata": {},
     "output_type": "display_data"
    }
   ],
   "source": [
    "test_df <- data.frame(test_table_sort)\n",
    "test_df"
   ]
  },
  {
   "cell_type": "code",
   "execution_count": 6,
   "metadata": {},
   "outputs": [
    {
     "data": {
      "text/html": [
       "<table>\n",
       "<caption>A data.frame: 6 × 3</caption>\n",
       "<thead>\n",
       "\t<tr><th scope=col>test_data</th><th scope=col>Freq</th><th scope=col>percent</th></tr>\n",
       "\t<tr><th scope=col>&lt;fct&gt;</th><th scope=col>&lt;int&gt;</th><th scope=col>&lt;dbl&gt;</th></tr>\n",
       "</thead>\n",
       "<tbody>\n",
       "\t<tr><td>cat     </td><td>6</td><td>0.3750</td></tr>\n",
       "\t<tr><td>dog     </td><td>4</td><td>0.2500</td></tr>\n",
       "\t<tr><td>mouse   </td><td>3</td><td>0.1875</td></tr>\n",
       "\t<tr><td>elephant</td><td>1</td><td>0.0625</td></tr>\n",
       "\t<tr><td>rabbit  </td><td>1</td><td>0.0625</td></tr>\n",
       "\t<tr><td>rat     </td><td>1</td><td>0.0625</td></tr>\n",
       "</tbody>\n",
       "</table>\n"
      ],
      "text/latex": [
       "A data.frame: 6 × 3\n",
       "\\begin{tabular}{lll}\n",
       " test\\_data & Freq & percent\\\\\n",
       " <fct> & <int> & <dbl>\\\\\n",
       "\\hline\n",
       "\t cat      & 6 & 0.3750\\\\\n",
       "\t dog      & 4 & 0.2500\\\\\n",
       "\t mouse    & 3 & 0.1875\\\\\n",
       "\t elephant & 1 & 0.0625\\\\\n",
       "\t rabbit   & 1 & 0.0625\\\\\n",
       "\t rat      & 1 & 0.0625\\\\\n",
       "\\end{tabular}\n"
      ],
      "text/markdown": [
       "\n",
       "A data.frame: 6 × 3\n",
       "\n",
       "| test_data &lt;fct&gt; | Freq &lt;int&gt; | percent &lt;dbl&gt; |\n",
       "|---|---|---|\n",
       "| cat      | 6 | 0.3750 |\n",
       "| dog      | 4 | 0.2500 |\n",
       "| mouse    | 3 | 0.1875 |\n",
       "| elephant | 1 | 0.0625 |\n",
       "| rabbit   | 1 | 0.0625 |\n",
       "| rat      | 1 | 0.0625 |\n",
       "\n"
      ],
      "text/plain": [
       "  test_data Freq percent\n",
       "1 cat       6    0.3750 \n",
       "2 dog       4    0.2500 \n",
       "3 mouse     3    0.1875 \n",
       "4 elephant  1    0.0625 \n",
       "5 rabbit    1    0.0625 \n",
       "6 rat       1    0.0625 "
      ]
     },
     "metadata": {},
     "output_type": "display_data"
    }
   ],
   "source": [
    "# Now we can divide each value in the Freq column by the total sum using the sum function to get the percent.\n",
    "# We use the $ operator to name a new column of the dataframe:\n",
    "\n",
    "test_df$percent <- test_df$Freq / sum(test_df$Freq)\n",
    "test_df"
   ]
  },
  {
   "cell_type": "markdown",
   "metadata": {},
   "source": [
    "Second, we need to get the data for the third-most common item. This can be done by indexing the dataframe. Unlike python, R is 1-indexed, so an index of 1 corresponds to the first row of the dataframe, etc. Dataframes are indexed with the row index first, followed by the column - so **dat[1,]** corresponds to the first row of a dataframe and **dat[,1]** the first column."
   ]
  },
  {
   "cell_type": "code",
   "execution_count": 7,
   "metadata": {},
   "outputs": [
    {
     "data": {
      "text/html": [
       "<table>\n",
       "<caption>A data.frame: 1 × 3</caption>\n",
       "<thead>\n",
       "\t<tr><th></th><th scope=col>test_data</th><th scope=col>Freq</th><th scope=col>percent</th></tr>\n",
       "\t<tr><th></th><th scope=col>&lt;fct&gt;</th><th scope=col>&lt;int&gt;</th><th scope=col>&lt;dbl&gt;</th></tr>\n",
       "</thead>\n",
       "<tbody>\n",
       "\t<tr><th scope=row>3</th><td>mouse</td><td>3</td><td>0.1875</td></tr>\n",
       "</tbody>\n",
       "</table>\n"
      ],
      "text/latex": [
       "A data.frame: 1 × 3\n",
       "\\begin{tabular}{r|lll}\n",
       "  & test\\_data & Freq & percent\\\\\n",
       "  & <fct> & <int> & <dbl>\\\\\n",
       "\\hline\n",
       "\t3 & mouse & 3 & 0.1875\\\\\n",
       "\\end{tabular}\n"
      ],
      "text/markdown": [
       "\n",
       "A data.frame: 1 × 3\n",
       "\n",
       "| <!--/--> | test_data &lt;fct&gt; | Freq &lt;int&gt; | percent &lt;dbl&gt; |\n",
       "|---|---|---|---|\n",
       "| 3 | mouse | 3 | 0.1875 |\n",
       "\n"
      ],
      "text/plain": [
       "  test_data Freq percent\n",
       "3 mouse     3    0.1875 "
      ]
     },
     "metadata": {},
     "output_type": "display_data"
    }
   ],
   "source": [
    "test_df[3,]"
   ]
  },
  {
   "cell_type": "code",
   "execution_count": 8,
   "metadata": {},
   "outputs": [
    {
     "data": {
      "text/html": [
       "mouse\n",
       "<details>\n",
       "\t<summary style=display:list-item;cursor:pointer>\n",
       "\t\t<strong>Levels</strong>:\n",
       "\t</summary>\n",
       "\t<style>\n",
       "\t.list-inline {list-style: none; margin:0; padding: 0}\n",
       "\t.list-inline>li {display: inline-block}\n",
       "\t.list-inline>li:not(:last-child)::after {content: \"\\00b7\"; padding: 0 .5ex}\n",
       "\t</style>\n",
       "\t<ol class=list-inline><li>'cat'</li><li>'dog'</li><li>'mouse'</li><li>'elephant'</li><li>'rabbit'</li><li>'rat'</li></ol>\n",
       "</details>"
      ],
      "text/latex": [
       "mouse\n",
       "\\emph{Levels}: \\begin{enumerate*}\n",
       "\\item 'cat'\n",
       "\\item 'dog'\n",
       "\\item 'mouse'\n",
       "\\item 'elephant'\n",
       "\\item 'rabbit'\n",
       "\\item 'rat'\n",
       "\\end{enumerate*}\n"
      ],
      "text/markdown": [
       "mouse\n",
       "**Levels**: 1. 'cat'\n",
       "2. 'dog'\n",
       "3. 'mouse'\n",
       "4. 'elephant'\n",
       "5. 'rabbit'\n",
       "6. 'rat'\n",
       "\n",
       "\n"
      ],
      "text/plain": [
       "[1] mouse\n",
       "Levels: cat dog mouse elephant rabbit rat"
      ]
     },
     "metadata": {},
     "output_type": "display_data"
    },
    {
     "data": {
      "text/html": [
       "mouse\n",
       "<details>\n",
       "\t<summary style=display:list-item;cursor:pointer>\n",
       "\t\t<strong>Levels</strong>:\n",
       "\t</summary>\n",
       "\t<style>\n",
       "\t.list-inline {list-style: none; margin:0; padding: 0}\n",
       "\t.list-inline>li {display: inline-block}\n",
       "\t.list-inline>li:not(:last-child)::after {content: \"\\00b7\"; padding: 0 .5ex}\n",
       "\t</style>\n",
       "\t<ol class=list-inline><li>'cat'</li><li>'dog'</li><li>'mouse'</li><li>'elephant'</li><li>'rabbit'</li><li>'rat'</li></ol>\n",
       "</details>"
      ],
      "text/latex": [
       "mouse\n",
       "\\emph{Levels}: \\begin{enumerate*}\n",
       "\\item 'cat'\n",
       "\\item 'dog'\n",
       "\\item 'mouse'\n",
       "\\item 'elephant'\n",
       "\\item 'rabbit'\n",
       "\\item 'rat'\n",
       "\\end{enumerate*}\n"
      ],
      "text/markdown": [
       "mouse\n",
       "**Levels**: 1. 'cat'\n",
       "2. 'dog'\n",
       "3. 'mouse'\n",
       "4. 'elephant'\n",
       "5. 'rabbit'\n",
       "6. 'rat'\n",
       "\n",
       "\n"
      ],
      "text/plain": [
       "[1] mouse\n",
       "Levels: cat dog mouse elephant rabbit rat"
      ]
     },
     "metadata": {},
     "output_type": "display_data"
    }
   ],
   "source": [
    "# If we just want the name of the 3rd most common element, we can use row and column indexing.\n",
    "# Rows and columns can be indexed either by number or by name:\n",
    "\n",
    "test_df[3, 1]\n",
    "test_df[3, \"test_data\"]"
   ]
  },
  {
   "cell_type": "markdown",
   "metadata": {},
   "source": [
    "Notice that the output here is a **factor**, which has different levels. Factors are different than strings because they have an order. This may be annoying when you are starting out but factors are very useful! If you don't want something to be a factor you can convert is back to a regular string using the **as.character** function."
   ]
  },
  {
   "cell_type": "code",
   "execution_count": 9,
   "metadata": {},
   "outputs": [
    {
     "data": {
      "text/html": [
       "'mouse'"
      ],
      "text/latex": [
       "'mouse'"
      ],
      "text/markdown": [
       "'mouse'"
      ],
      "text/plain": [
       "[1] \"mouse\""
      ]
     },
     "metadata": {},
     "output_type": "display_data"
    },
    {
     "data": {
      "text/html": [
       "'mouse'"
      ],
      "text/latex": [
       "'mouse'"
      ],
      "text/markdown": [
       "'mouse'"
      ],
      "text/plain": [
       "[1] \"mouse\""
      ]
     },
     "metadata": {},
     "output_type": "display_data"
    }
   ],
   "source": [
    "test_df$test_data <- as.character(test_df$test_data)\n",
    "test_df[3, 1]\n",
    "test_df[3, \"test_data\"]"
   ]
  },
  {
   "cell_type": "markdown",
   "metadata": {},
   "source": [
    "One very useful thing to be able to do is to subset dataframes using logical vectors. Let's use a logical vector to return all animals with over 10% frequency in our dataset."
   ]
  },
  {
   "cell_type": "code",
   "execution_count": 10,
   "metadata": {},
   "outputs": [
    {
     "data": {
      "text/html": [
       "<style>\n",
       ".list-inline {list-style: none; margin:0; padding: 0}\n",
       ".list-inline>li {display: inline-block}\n",
       ".list-inline>li:not(:last-child)::after {content: \"\\00b7\"; padding: 0 .5ex}\n",
       "</style>\n",
       "<ol class=list-inline><li>TRUE</li><li>TRUE</li><li>TRUE</li><li>FALSE</li><li>FALSE</li><li>FALSE</li></ol>\n"
      ],
      "text/latex": [
       "\\begin{enumerate*}\n",
       "\\item TRUE\n",
       "\\item TRUE\n",
       "\\item TRUE\n",
       "\\item FALSE\n",
       "\\item FALSE\n",
       "\\item FALSE\n",
       "\\end{enumerate*}\n"
      ],
      "text/markdown": [
       "1. TRUE\n",
       "2. TRUE\n",
       "3. TRUE\n",
       "4. FALSE\n",
       "5. FALSE\n",
       "6. FALSE\n",
       "\n",
       "\n"
      ],
      "text/plain": [
       "[1]  TRUE  TRUE  TRUE FALSE FALSE FALSE"
      ]
     },
     "metadata": {},
     "output_type": "display_data"
    }
   ],
   "source": [
    "# We can make a logical vector based on the value of the percent column:\n",
    "\n",
    "test_df$percent > 0.10"
   ]
  },
  {
   "cell_type": "code",
   "execution_count": 11,
   "metadata": {},
   "outputs": [
    {
     "data": {
      "text/html": [
       "<table>\n",
       "<caption>A data.frame: 3 × 3</caption>\n",
       "<thead>\n",
       "\t<tr><th></th><th scope=col>test_data</th><th scope=col>Freq</th><th scope=col>percent</th></tr>\n",
       "\t<tr><th></th><th scope=col>&lt;chr&gt;</th><th scope=col>&lt;int&gt;</th><th scope=col>&lt;dbl&gt;</th></tr>\n",
       "</thead>\n",
       "<tbody>\n",
       "\t<tr><th scope=row>1</th><td>cat  </td><td>6</td><td>0.3750</td></tr>\n",
       "\t<tr><th scope=row>2</th><td>dog  </td><td>4</td><td>0.2500</td></tr>\n",
       "\t<tr><th scope=row>3</th><td>mouse</td><td>3</td><td>0.1875</td></tr>\n",
       "</tbody>\n",
       "</table>\n"
      ],
      "text/latex": [
       "A data.frame: 3 × 3\n",
       "\\begin{tabular}{r|lll}\n",
       "  & test\\_data & Freq & percent\\\\\n",
       "  & <chr> & <int> & <dbl>\\\\\n",
       "\\hline\n",
       "\t1 & cat   & 6 & 0.3750\\\\\n",
       "\t2 & dog   & 4 & 0.2500\\\\\n",
       "\t3 & mouse & 3 & 0.1875\\\\\n",
       "\\end{tabular}\n"
      ],
      "text/markdown": [
       "\n",
       "A data.frame: 3 × 3\n",
       "\n",
       "| <!--/--> | test_data &lt;chr&gt; | Freq &lt;int&gt; | percent &lt;dbl&gt; |\n",
       "|---|---|---|---|\n",
       "| 1 | cat   | 6 | 0.3750 |\n",
       "| 2 | dog   | 4 | 0.2500 |\n",
       "| 3 | mouse | 3 | 0.1875 |\n",
       "\n"
      ],
      "text/plain": [
       "  test_data Freq percent\n",
       "1 cat       6    0.3750 \n",
       "2 dog       4    0.2500 \n",
       "3 mouse     3    0.1875 "
      ]
     },
     "metadata": {},
     "output_type": "display_data"
    }
   ],
   "source": [
    "# Now we can use this vector to subset our dataframe (should this go before or after the comma? Why?):\n",
    "\n",
    "test_df[test_df$percent > 0.10,]"
   ]
  },
  {
   "cell_type": "code",
   "execution_count": 12,
   "metadata": {},
   "outputs": [
    {
     "data": {
      "text/html": [
       "<style>\n",
       ".list-inline {list-style: none; margin:0; padding: 0}\n",
       ".list-inline>li {display: inline-block}\n",
       ".list-inline>li:not(:last-child)::after {content: \"\\00b7\"; padding: 0 .5ex}\n",
       "</style>\n",
       "<ol class=list-inline><li>'cat'</li><li>'dog'</li><li>'mouse'</li></ol>\n"
      ],
      "text/latex": [
       "\\begin{enumerate*}\n",
       "\\item 'cat'\n",
       "\\item 'dog'\n",
       "\\item 'mouse'\n",
       "\\end{enumerate*}\n"
      ],
      "text/markdown": [
       "1. 'cat'\n",
       "2. 'dog'\n",
       "3. 'mouse'\n",
       "\n",
       "\n"
      ],
      "text/plain": [
       "[1] \"cat\"   \"dog\"   \"mouse\""
      ]
     },
     "metadata": {},
     "output_type": "display_data"
    }
   ],
   "source": [
    "# If we just want the names of animals, we can just subset the test_data column.\n",
    "# Can you think of another way to do this using row column indices?\n",
    "\n",
    "test_df$test_data[test_df$percent > 0.10]"
   ]
  },
  {
   "cell_type": "code",
   "execution_count": 13,
   "metadata": {},
   "outputs": [
    {
     "data": {
      "text/html": [
       "<style>\n",
       ".list-inline {list-style: none; margin:0; padding: 0}\n",
       ".list-inline>li {display: inline-block}\n",
       ".list-inline>li:not(:last-child)::after {content: \"\\00b7\"; padding: 0 .5ex}\n",
       "</style>\n",
       "<ol class=list-inline><li>'dog'</li><li>'mouse'</li></ol>\n"
      ],
      "text/latex": [
       "\\begin{enumerate*}\n",
       "\\item 'dog'\n",
       "\\item 'mouse'\n",
       "\\end{enumerate*}\n"
      ],
      "text/markdown": [
       "1. 'dog'\n",
       "2. 'mouse'\n",
       "\n",
       "\n"
      ],
      "text/plain": [
       "[1] \"dog\"   \"mouse\""
      ]
     },
     "metadata": {},
     "output_type": "display_data"
    }
   ],
   "source": [
    "# If we want to return only the animals within a range, we can use an and statement.\n",
    "# Let's find the names of the animals that are between 10-30% frequency:\n",
    "\n",
    "upper <- 0.30\n",
    "lower <- 0.10\n",
    "\n",
    "test_df$test_data[test_df$percent > lower & test_df$percent < upper]"
   ]
  },
  {
   "cell_type": "markdown",
   "metadata": {},
   "source": [
    "#### More things to try!\n",
    "\n",
    "Try playing around with the limits (0.30, 0.10) and try using an **or** ( **|** operator) statement to return animals with either more than 30% or less than 10% frequency. Also try changing what value is returned. For example, write a statement that if the value is between 30-50, it will print the value of the percent column."
   ]
  },
  {
   "cell_type": "markdown",
   "metadata": {},
   "source": [
    "### Part 2: Writing a function to determine whether a list of 'reads' is homozygous WT, heterozygous, or mutant (on both alleles).\n",
    "\n",
    "Here, we're going to apply the concepts above to three test datasets.  Each of these datasets is going to be a counter.  However, to make things simpler, instead of reads, we're going to use animals; and we're just going to say that 'cats' are wild-type and anything else is 'mutant'."
   ]
  },
  {
   "cell_type": "code",
   "execution_count": 14,
   "metadata": {},
   "outputs": [
    {
     "data": {
      "text/plain": [
       "\n",
       "cat dog rat \n",
       "  8   1   1 "
      ]
     },
     "metadata": {},
     "output_type": "display_data"
    },
    {
     "data": {
      "text/plain": [
       "\n",
       "cat dog rat \n",
       "  5   4   1 "
      ]
     },
     "metadata": {},
     "output_type": "display_data"
    },
    {
     "data": {
      "text/plain": [
       "\n",
       "dog rat \n",
       "  5   5 "
      ]
     },
     "metadata": {},
     "output_type": "display_data"
    }
   ],
   "source": [
    "c1 <- table(c('cat','cat','cat','dog','cat','cat','cat','rat','cat','cat'))\n",
    "c2 <- table(c('cat','cat','cat','dog','dog','dog','cat','dog','rat','cat'))\n",
    "c3 <- table(c('dog','rat','dog','rat','dog','rat','dog','rat','dog','rat'))\n",
    "\n",
    "c1\n",
    "c2\n",
    "c3"
   ]
  },
  {
   "cell_type": "markdown",
   "metadata": {},
   "source": [
    "Just by looking at this, we can assign each of these as a particular status: c1 is WT, c2 is a het, and c3 is homozygous mutant.  But let's write a function to do this for us!\n",
    "\n",
    "#### First, we need to think of the criteria that we mentally apply when deciding if c1, c2, c3 are which status.\n",
    "\n",
    "Let's just set forth the following rules for each conditions:\n",
    "\n",
    "+/+ (WT): at least 80% of the 'reads' are the WT read  \n",
    "+/- : at least 40% of the 'reads' are WT, and at least 40% of the reads are for another non-WT allele  \n",
    "-/- : the WT reads are fewer than 20% of the total number of reads.  Note that there are actually two possible cases here: it could be homozygous (two of the same mutant alleles) or heterozygous (two different mutant alleles).  In the first situation (+/+), we said that the WT allele needed to represent at least 80% of the reads.  So it seems reasonable to say that if at least 80% of the reads are for a single allele, then we will call it homozygous mutant, and if there's two alleles with at least 40% of the reads for each allele, we'll call it heterozygous mutant. \n",
    "\n",
    "Note that there's also a fourth situation, which is deciding that we have bad data.  For example, there's just a lot of random stuff and it doesn't look like good/real data."
   ]
  },
  {
   "cell_type": "code",
   "execution_count": 15,
   "metadata": {},
   "outputs": [
    {
     "data": {
      "text/plain": [
       "\n",
       "alligator       cat       dog       rat \n",
       "        1         3         3         3 "
      ]
     },
     "metadata": {},
     "output_type": "display_data"
    }
   ],
   "source": [
    "c4 <- table(c('cat','dog','rat','cat','dog','rat','cat','dog','rat','alligator'))\n",
    "c4"
   ]
  },
  {
   "cell_type": "markdown",
   "metadata": {},
   "source": [
    "#### What is our function going to do?\n",
    "\n",
    "Our function will have two inputs: the Counter and the wild-type reference.\n",
    "\n",
    "It will return as output one of five vectors: (\"WT\",\"WT\"), (\"WT\", \"allele2\"), (\"allele1\",\"WT\"), (\"allele1\", \"allele2\"), where alleles 1 and 2 are the non-WT alleles.  It will also return (\"bad\",\"bad\") in the situation talked about above, where the data looks bad.\n",
    "\n",
    "#### What are the steps we are going to take?\n",
    "\n",
    "1. Get the percent frequency for each element in the vector.\n",
    "2. Look at the first most common element  \n",
    "2.1 Determine if this element is WT or mutant  \n",
    "2.2 If it has at least 80% of the reads, then we are dealing with a homozygous situation and <b>return</b> early (since there's no need to look at the second allele). On the other hand, if it has at least 40% of the reads, then we are dealing with a heterozygous situation.  \n",
    "2.3 If it doesn't then <b>return</b> 'bad' early (there's no need to look at the second allele if the most common one is under 40%, because the second most common one will also be under 40%)  \n",
    "3. Look at the second most common element  \n",
    "3.1 Check if it has at least 40% of the reads: if not (meaning that the first most common read was at least 40%, but the second most common read was less than 40%) <b>return</b> 'bad'\n",
    "3.2 Determine if the element is WT or mutant \n",
    "4. <b>Return</b> the status\n",
    "\n",
    "Note that a function can only return once: once your function hits a return statement, it will not run anything else below.\n",
    "\n",
    "#### I've laid out certain components of the function, but you're going to have to use the skills you learned above to fill in the blanks!"
   ]
  },
  {
   "cell_type": "code",
   "execution_count": 16,
   "metadata": {},
   "outputs": [
    {
     "data": {
      "text/html": [
       "<table>\n",
       "<caption>A data.frame: 3 × 2</caption>\n",
       "<thead>\n",
       "\t<tr><th scope=col>Var1</th><th scope=col>Freq</th></tr>\n",
       "\t<tr><th scope=col>&lt;fct&gt;</th><th scope=col>&lt;int&gt;</th></tr>\n",
       "</thead>\n",
       "<tbody>\n",
       "\t<tr><td>cat</td><td>8</td></tr>\n",
       "\t<tr><td>dog</td><td>1</td></tr>\n",
       "\t<tr><td>rat</td><td>1</td></tr>\n",
       "</tbody>\n",
       "</table>\n"
      ],
      "text/latex": [
       "A data.frame: 3 × 2\n",
       "\\begin{tabular}{ll}\n",
       " Var1 & Freq\\\\\n",
       " <fct> & <int>\\\\\n",
       "\\hline\n",
       "\t cat & 8\\\\\n",
       "\t dog & 1\\\\\n",
       "\t rat & 1\\\\\n",
       "\\end{tabular}\n"
      ],
      "text/markdown": [
       "\n",
       "A data.frame: 3 × 2\n",
       "\n",
       "| Var1 &lt;fct&gt; | Freq &lt;int&gt; |\n",
       "|---|---|\n",
       "| cat | 8 |\n",
       "| dog | 1 |\n",
       "| rat | 1 |\n",
       "\n"
      ],
      "text/plain": [
       "  Var1 Freq\n",
       "1 cat  8   \n",
       "2 dog  1   \n",
       "3 rat  1   "
      ]
     },
     "metadata": {},
     "output_type": "display_data"
    }
   ],
   "source": [
    "# Let's first explore the data without creating a function:\n",
    "# You can use this cell to test lines of code before putting them into the genotype function. \n",
    "# The first part is done for you:\n",
    "\n",
    "c <- c1\n",
    "wt_reference <- \"cat\"\n",
    "\n",
    "dat <- data.frame(sort(c, decreasing = TRUE))\n",
    "dat"
   ]
  },
  {
   "cell_type": "code",
   "execution_count": 17,
   "metadata": {},
   "outputs": [],
   "source": [
    "# Now, we are going to create are new function, genotype()\n",
    "\n",
    "genotype <- function(c, wt_reference) {\n",
    "    \n",
    "    # 1. Sort the results and store in a dataframe\n",
    "    dat <- data.frame(sort(c, decreasing = TRUE))\n",
    "    \n",
    "    # 1.1. Convert to character (factors will cause problems here - you can remove this line to see what happens!)\n",
    "    dat[,1] <- as.character(dat[,1])\n",
    "    \n",
    "    # 1.2. Calculate the percent for each sequence\n",
    "    dat$percent <- dat$Freq / sum(dat$Freq)\n",
    "    \n",
    "    # 2.1. Determine if the most common element is the wild-type allele and if it has at least 80% of the reads\n",
    "    if (dat[1,1] == wt_reference & dat$percent[1] >= 0.8) {\n",
    "        # 2.2. if so, return the WT vector early\n",
    "        return(c(\"WT\", \"WT\"))\n",
    "        \n",
    "    # 2.3. Check if the most common element has less than 40% of the reads\n",
    "    } else if (dat$percent[1] < 0.4) {\n",
    "        # if so, return the bad vector early\n",
    "        return(c(\"bad\", \"bad\"))\n",
    "        \n",
    "    # 3.1. Check if the second most common element has less than 40% of the reads - you have to do this on your own!\n",
    "    # if so, return the bad vector early\n",
    "    } else if (dat$percent[2] < 0.4) {\n",
    "        return(c(\"bad\", \"bad\"))\n",
    "        \n",
    "    # 3.2. Determine which elements are wild-type - you have to do this on your own!\n",
    "    } else {\n",
    "        dat[,1][dat[,1] == wt_reference] <- \"WT\"\n",
    "        # 4. Return the two alleles.\n",
    "        return(c(dat[1,1], dat[2,1]))\n",
    "    }\n",
    "}"
   ]
  },
  {
   "cell_type": "code",
   "execution_count": 18,
   "metadata": {},
   "outputs": [
    {
     "data": {
      "text/html": [
       "<style>\n",
       ".list-inline {list-style: none; margin:0; padding: 0}\n",
       ".list-inline>li {display: inline-block}\n",
       ".list-inline>li:not(:last-child)::after {content: \"\\00b7\"; padding: 0 .5ex}\n",
       "</style>\n",
       "<ol class=list-inline><li>'WT'</li><li>'WT'</li></ol>\n"
      ],
      "text/latex": [
       "\\begin{enumerate*}\n",
       "\\item 'WT'\n",
       "\\item 'WT'\n",
       "\\end{enumerate*}\n"
      ],
      "text/markdown": [
       "1. 'WT'\n",
       "2. 'WT'\n",
       "\n",
       "\n"
      ],
      "text/plain": [
       "[1] \"WT\" \"WT\""
      ]
     },
     "metadata": {},
     "output_type": "display_data"
    },
    {
     "data": {
      "text/html": [
       "<style>\n",
       ".list-inline {list-style: none; margin:0; padding: 0}\n",
       ".list-inline>li {display: inline-block}\n",
       ".list-inline>li:not(:last-child)::after {content: \"\\00b7\"; padding: 0 .5ex}\n",
       "</style>\n",
       "<ol class=list-inline><li>'WT'</li><li>'dog'</li></ol>\n"
      ],
      "text/latex": [
       "\\begin{enumerate*}\n",
       "\\item 'WT'\n",
       "\\item 'dog'\n",
       "\\end{enumerate*}\n"
      ],
      "text/markdown": [
       "1. 'WT'\n",
       "2. 'dog'\n",
       "\n",
       "\n"
      ],
      "text/plain": [
       "[1] \"WT\"  \"dog\""
      ]
     },
     "metadata": {},
     "output_type": "display_data"
    },
    {
     "data": {
      "text/html": [
       "<style>\n",
       ".list-inline {list-style: none; margin:0; padding: 0}\n",
       ".list-inline>li {display: inline-block}\n",
       ".list-inline>li:not(:last-child)::after {content: \"\\00b7\"; padding: 0 .5ex}\n",
       "</style>\n",
       "<ol class=list-inline><li>'dog'</li><li>'rat'</li></ol>\n"
      ],
      "text/latex": [
       "\\begin{enumerate*}\n",
       "\\item 'dog'\n",
       "\\item 'rat'\n",
       "\\end{enumerate*}\n"
      ],
      "text/markdown": [
       "1. 'dog'\n",
       "2. 'rat'\n",
       "\n",
       "\n"
      ],
      "text/plain": [
       "[1] \"dog\" \"rat\""
      ]
     },
     "metadata": {},
     "output_type": "display_data"
    },
    {
     "data": {
      "text/html": [
       "<style>\n",
       ".list-inline {list-style: none; margin:0; padding: 0}\n",
       ".list-inline>li {display: inline-block}\n",
       ".list-inline>li:not(:last-child)::after {content: \"\\00b7\"; padding: 0 .5ex}\n",
       "</style>\n",
       "<ol class=list-inline><li>'bad'</li><li>'bad'</li></ol>\n"
      ],
      "text/latex": [
       "\\begin{enumerate*}\n",
       "\\item 'bad'\n",
       "\\item 'bad'\n",
       "\\end{enumerate*}\n"
      ],
      "text/markdown": [
       "1. 'bad'\n",
       "2. 'bad'\n",
       "\n",
       "\n"
      ],
      "text/plain": [
       "[1] \"bad\" \"bad\""
      ]
     },
     "metadata": {},
     "output_type": "display_data"
    }
   ],
   "source": [
    "genotype(c1, \"cat\")\n",
    "genotype(c2, \"cat\")\n",
    "genotype(c3, \"cat\")\n",
    "genotype(c4, \"cat\")"
   ]
  },
  {
   "cell_type": "markdown",
   "metadata": {},
   "source": [
    "#### Does everything look good? Congratulations for finishing this!! You've now learned the basics of writing a function, performing boolean operations, using if statements, and tables!"
   ]
  },
  {
   "cell_type": "markdown",
   "metadata": {},
   "source": [
    "### Part 3: Applying this to our FASTQ data."
   ]
  },
  {
   "cell_type": "markdown",
   "metadata": {},
   "source": [
    "We're going to do this in two parts.  First, we're going to learn to deal with a single FASTQ file.  Then, we're going to deal with an entire folder of FASTQ files.\n",
    "\n",
    "We're also going to learn how to import a text file: at heart, a FASTQ file, is just a text file, where each line has a difference piece of information.  Each FASTQ read comprises four lines:\n",
    "(see https://support.illumina.com/bulletins/2016/04/fastq-files-explained.html for more information)\n",
    "\n",
    "1. Read ID: information on machine, cluster location, etc.  For our purpopses, not important.\n",
    "2. The actual read.  Important!\n",
    "3. Separator (a + sign).  Not important.\n",
    "4. Base quality scores.  Often important, but we're going to ignore it for now and just assume that all of the reads are good enough.\n",
    "\n",
    "So we can think of a FASTQ file as having a periodicity of 4, where the 2nd, 6th, 10th, etc. lines are the reads.  Which means that when we are reading in a FASTQ file, we only want to pay attention to the 2nd, 6th, 10th, etc. reads.\n",
    "\n",
    "#### The first thing we need to do is create a new variable, called <i>path</i>, that is the path to the folder (directory) that has our files.  \n",
    "You can find this in two ways: 1) in terminal, navigate to the directory with the FASTQ files (crispr_96), and type <i>pwd</i>. 2) in Finder, right click on a FASTQ file in that folder, click \"get info\" and in the \"general\" tab, look at \"where\" and that will be the path: it should be something like /Users/kevin/etc."
   ]
  },
  {
   "cell_type": "code",
   "execution_count": 19,
   "metadata": {},
   "outputs": [],
   "source": [
    "# creating our variable path which has the location to our files\n",
    "# note that this is a string, and so should be enclosed in quotes\n",
    "# also, make sure that it ends with a / ! This will be important in a second\n",
    "path  <- 'crispr_96_data/'"
   ]
  },
  {
   "cell_type": "code",
   "execution_count": 20,
   "metadata": {},
   "outputs": [
    {
     "data": {
      "text/html": [
       "<style>\n",
       ".list-inline {list-style: none; margin:0; padding: 0}\n",
       ".list-inline>li {display: inline-block}\n",
       ".list-inline>li:not(:last-child)::after {content: \"\\00b7\"; padding: 0 .5ex}\n",
       "</style>\n",
       "<ol class=list-inline><li>'crispr_well_0.fastq.gz'</li><li>'crispr_well_1.fastq.gz'</li><li>'crispr_well_10.fastq.gz'</li><li>'crispr_well_11.fastq.gz'</li><li>'crispr_well_12.fastq.gz'</li><li>'crispr_well_13.fastq.gz'</li><li>'crispr_well_14.fastq.gz'</li><li>'crispr_well_15.fastq.gz'</li><li>'crispr_well_16.fastq.gz'</li><li>'crispr_well_17.fastq.gz'</li><li>'crispr_well_18.fastq.gz'</li><li>'crispr_well_19.fastq.gz'</li><li>'crispr_well_2.fastq.gz'</li><li>'crispr_well_20.fastq.gz'</li><li>'crispr_well_21.fastq.gz'</li><li>'crispr_well_22.fastq.gz'</li><li>'crispr_well_23.fastq.gz'</li><li>'crispr_well_24.fastq.gz'</li><li>'crispr_well_25.fastq.gz'</li><li>'crispr_well_26.fastq.gz'</li><li>'crispr_well_27.fastq.gz'</li><li>'crispr_well_28.fastq.gz'</li><li>'crispr_well_29.fastq.gz'</li><li>'crispr_well_3.fastq.gz'</li><li>'crispr_well_30.fastq.gz'</li><li>'crispr_well_31.fastq.gz'</li><li>'crispr_well_32.fastq.gz'</li><li>'crispr_well_33.fastq.gz'</li><li>'crispr_well_34.fastq.gz'</li><li>'crispr_well_35.fastq.gz'</li><li>'crispr_well_36.fastq.gz'</li><li>'crispr_well_37.fastq.gz'</li><li>'crispr_well_38.fastq.gz'</li><li>'crispr_well_39.fastq.gz'</li><li>'crispr_well_4.fastq.gz'</li><li>'crispr_well_40.fastq.gz'</li><li>'crispr_well_41.fastq.gz'</li><li>'crispr_well_42.fastq.gz'</li><li>'crispr_well_43.fastq.gz'</li><li>'crispr_well_44.fastq.gz'</li><li>'crispr_well_45.fastq.gz'</li><li>'crispr_well_46.fastq.gz'</li><li>'crispr_well_47.fastq.gz'</li><li>'crispr_well_48.fastq.gz'</li><li>'crispr_well_49.fastq.gz'</li><li>'crispr_well_5.fastq.gz'</li><li>'crispr_well_50.fastq.gz'</li><li>'crispr_well_51.fastq.gz'</li><li>'crispr_well_52.fastq.gz'</li><li>'crispr_well_53.fastq.gz'</li><li>'crispr_well_54.fastq.gz'</li><li>'crispr_well_55.fastq.gz'</li><li>'crispr_well_56.fastq.gz'</li><li>'crispr_well_57.fastq.gz'</li><li>'crispr_well_58.fastq.gz'</li><li>'crispr_well_59.fastq.gz'</li><li>'crispr_well_6.fastq.gz'</li><li>'crispr_well_60.fastq.gz'</li><li>'crispr_well_61.fastq.gz'</li><li>'crispr_well_62.fastq.gz'</li><li>'crispr_well_63.fastq.gz'</li><li>'crispr_well_64.fastq.gz'</li><li>'crispr_well_65.fastq.gz'</li><li>'crispr_well_66.fastq.gz'</li><li>'crispr_well_67.fastq.gz'</li><li>'crispr_well_68.fastq.gz'</li><li>'crispr_well_69.fastq.gz'</li><li>'crispr_well_7.fastq.gz'</li><li>'crispr_well_70.fastq.gz'</li><li>'crispr_well_71.fastq.gz'</li><li>'crispr_well_72.fastq.gz'</li><li>'crispr_well_73.fastq.gz'</li><li>'crispr_well_74.fastq.gz'</li><li>'crispr_well_75.fastq.gz'</li><li>'crispr_well_76.fastq.gz'</li><li>'crispr_well_77.fastq.gz'</li><li>'crispr_well_78.fastq.gz'</li><li>'crispr_well_79.fastq.gz'</li><li>'crispr_well_8.fastq.gz'</li><li>'crispr_well_80.fastq.gz'</li><li>'crispr_well_81.fastq.gz'</li><li>'crispr_well_82.fastq.gz'</li><li>'crispr_well_83.fastq.gz'</li><li>'crispr_well_84.fastq.gz'</li><li>'crispr_well_85.fastq.gz'</li><li>'crispr_well_86.fastq.gz'</li><li>'crispr_well_87.fastq.gz'</li><li>'crispr_well_88.fastq.gz'</li><li>'crispr_well_89.fastq.gz'</li><li>'crispr_well_9.fastq.gz'</li><li>'crispr_well_90.fastq.gz'</li><li>'crispr_well_91.fastq.gz'</li><li>'crispr_well_92.fastq.gz'</li><li>'crispr_well_93.fastq.gz'</li><li>'crispr_well_94.fastq.gz'</li><li>'crispr_well_95.fastq.gz'</li></ol>\n"
      ],
      "text/latex": [
       "\\begin{enumerate*}\n",
       "\\item 'crispr\\_well\\_0.fastq.gz'\n",
       "\\item 'crispr\\_well\\_1.fastq.gz'\n",
       "\\item 'crispr\\_well\\_10.fastq.gz'\n",
       "\\item 'crispr\\_well\\_11.fastq.gz'\n",
       "\\item 'crispr\\_well\\_12.fastq.gz'\n",
       "\\item 'crispr\\_well\\_13.fastq.gz'\n",
       "\\item 'crispr\\_well\\_14.fastq.gz'\n",
       "\\item 'crispr\\_well\\_15.fastq.gz'\n",
       "\\item 'crispr\\_well\\_16.fastq.gz'\n",
       "\\item 'crispr\\_well\\_17.fastq.gz'\n",
       "\\item 'crispr\\_well\\_18.fastq.gz'\n",
       "\\item 'crispr\\_well\\_19.fastq.gz'\n",
       "\\item 'crispr\\_well\\_2.fastq.gz'\n",
       "\\item 'crispr\\_well\\_20.fastq.gz'\n",
       "\\item 'crispr\\_well\\_21.fastq.gz'\n",
       "\\item 'crispr\\_well\\_22.fastq.gz'\n",
       "\\item 'crispr\\_well\\_23.fastq.gz'\n",
       "\\item 'crispr\\_well\\_24.fastq.gz'\n",
       "\\item 'crispr\\_well\\_25.fastq.gz'\n",
       "\\item 'crispr\\_well\\_26.fastq.gz'\n",
       "\\item 'crispr\\_well\\_27.fastq.gz'\n",
       "\\item 'crispr\\_well\\_28.fastq.gz'\n",
       "\\item 'crispr\\_well\\_29.fastq.gz'\n",
       "\\item 'crispr\\_well\\_3.fastq.gz'\n",
       "\\item 'crispr\\_well\\_30.fastq.gz'\n",
       "\\item 'crispr\\_well\\_31.fastq.gz'\n",
       "\\item 'crispr\\_well\\_32.fastq.gz'\n",
       "\\item 'crispr\\_well\\_33.fastq.gz'\n",
       "\\item 'crispr\\_well\\_34.fastq.gz'\n",
       "\\item 'crispr\\_well\\_35.fastq.gz'\n",
       "\\item 'crispr\\_well\\_36.fastq.gz'\n",
       "\\item 'crispr\\_well\\_37.fastq.gz'\n",
       "\\item 'crispr\\_well\\_38.fastq.gz'\n",
       "\\item 'crispr\\_well\\_39.fastq.gz'\n",
       "\\item 'crispr\\_well\\_4.fastq.gz'\n",
       "\\item 'crispr\\_well\\_40.fastq.gz'\n",
       "\\item 'crispr\\_well\\_41.fastq.gz'\n",
       "\\item 'crispr\\_well\\_42.fastq.gz'\n",
       "\\item 'crispr\\_well\\_43.fastq.gz'\n",
       "\\item 'crispr\\_well\\_44.fastq.gz'\n",
       "\\item 'crispr\\_well\\_45.fastq.gz'\n",
       "\\item 'crispr\\_well\\_46.fastq.gz'\n",
       "\\item 'crispr\\_well\\_47.fastq.gz'\n",
       "\\item 'crispr\\_well\\_48.fastq.gz'\n",
       "\\item 'crispr\\_well\\_49.fastq.gz'\n",
       "\\item 'crispr\\_well\\_5.fastq.gz'\n",
       "\\item 'crispr\\_well\\_50.fastq.gz'\n",
       "\\item 'crispr\\_well\\_51.fastq.gz'\n",
       "\\item 'crispr\\_well\\_52.fastq.gz'\n",
       "\\item 'crispr\\_well\\_53.fastq.gz'\n",
       "\\item 'crispr\\_well\\_54.fastq.gz'\n",
       "\\item 'crispr\\_well\\_55.fastq.gz'\n",
       "\\item 'crispr\\_well\\_56.fastq.gz'\n",
       "\\item 'crispr\\_well\\_57.fastq.gz'\n",
       "\\item 'crispr\\_well\\_58.fastq.gz'\n",
       "\\item 'crispr\\_well\\_59.fastq.gz'\n",
       "\\item 'crispr\\_well\\_6.fastq.gz'\n",
       "\\item 'crispr\\_well\\_60.fastq.gz'\n",
       "\\item 'crispr\\_well\\_61.fastq.gz'\n",
       "\\item 'crispr\\_well\\_62.fastq.gz'\n",
       "\\item 'crispr\\_well\\_63.fastq.gz'\n",
       "\\item 'crispr\\_well\\_64.fastq.gz'\n",
       "\\item 'crispr\\_well\\_65.fastq.gz'\n",
       "\\item 'crispr\\_well\\_66.fastq.gz'\n",
       "\\item 'crispr\\_well\\_67.fastq.gz'\n",
       "\\item 'crispr\\_well\\_68.fastq.gz'\n",
       "\\item 'crispr\\_well\\_69.fastq.gz'\n",
       "\\item 'crispr\\_well\\_7.fastq.gz'\n",
       "\\item 'crispr\\_well\\_70.fastq.gz'\n",
       "\\item 'crispr\\_well\\_71.fastq.gz'\n",
       "\\item 'crispr\\_well\\_72.fastq.gz'\n",
       "\\item 'crispr\\_well\\_73.fastq.gz'\n",
       "\\item 'crispr\\_well\\_74.fastq.gz'\n",
       "\\item 'crispr\\_well\\_75.fastq.gz'\n",
       "\\item 'crispr\\_well\\_76.fastq.gz'\n",
       "\\item 'crispr\\_well\\_77.fastq.gz'\n",
       "\\item 'crispr\\_well\\_78.fastq.gz'\n",
       "\\item 'crispr\\_well\\_79.fastq.gz'\n",
       "\\item 'crispr\\_well\\_8.fastq.gz'\n",
       "\\item 'crispr\\_well\\_80.fastq.gz'\n",
       "\\item 'crispr\\_well\\_81.fastq.gz'\n",
       "\\item 'crispr\\_well\\_82.fastq.gz'\n",
       "\\item 'crispr\\_well\\_83.fastq.gz'\n",
       "\\item 'crispr\\_well\\_84.fastq.gz'\n",
       "\\item 'crispr\\_well\\_85.fastq.gz'\n",
       "\\item 'crispr\\_well\\_86.fastq.gz'\n",
       "\\item 'crispr\\_well\\_87.fastq.gz'\n",
       "\\item 'crispr\\_well\\_88.fastq.gz'\n",
       "\\item 'crispr\\_well\\_89.fastq.gz'\n",
       "\\item 'crispr\\_well\\_9.fastq.gz'\n",
       "\\item 'crispr\\_well\\_90.fastq.gz'\n",
       "\\item 'crispr\\_well\\_91.fastq.gz'\n",
       "\\item 'crispr\\_well\\_92.fastq.gz'\n",
       "\\item 'crispr\\_well\\_93.fastq.gz'\n",
       "\\item 'crispr\\_well\\_94.fastq.gz'\n",
       "\\item 'crispr\\_well\\_95.fastq.gz'\n",
       "\\end{enumerate*}\n"
      ],
      "text/markdown": [
       "1. 'crispr_well_0.fastq.gz'\n",
       "2. 'crispr_well_1.fastq.gz'\n",
       "3. 'crispr_well_10.fastq.gz'\n",
       "4. 'crispr_well_11.fastq.gz'\n",
       "5. 'crispr_well_12.fastq.gz'\n",
       "6. 'crispr_well_13.fastq.gz'\n",
       "7. 'crispr_well_14.fastq.gz'\n",
       "8. 'crispr_well_15.fastq.gz'\n",
       "9. 'crispr_well_16.fastq.gz'\n",
       "10. 'crispr_well_17.fastq.gz'\n",
       "11. 'crispr_well_18.fastq.gz'\n",
       "12. 'crispr_well_19.fastq.gz'\n",
       "13. 'crispr_well_2.fastq.gz'\n",
       "14. 'crispr_well_20.fastq.gz'\n",
       "15. 'crispr_well_21.fastq.gz'\n",
       "16. 'crispr_well_22.fastq.gz'\n",
       "17. 'crispr_well_23.fastq.gz'\n",
       "18. 'crispr_well_24.fastq.gz'\n",
       "19. 'crispr_well_25.fastq.gz'\n",
       "20. 'crispr_well_26.fastq.gz'\n",
       "21. 'crispr_well_27.fastq.gz'\n",
       "22. 'crispr_well_28.fastq.gz'\n",
       "23. 'crispr_well_29.fastq.gz'\n",
       "24. 'crispr_well_3.fastq.gz'\n",
       "25. 'crispr_well_30.fastq.gz'\n",
       "26. 'crispr_well_31.fastq.gz'\n",
       "27. 'crispr_well_32.fastq.gz'\n",
       "28. 'crispr_well_33.fastq.gz'\n",
       "29. 'crispr_well_34.fastq.gz'\n",
       "30. 'crispr_well_35.fastq.gz'\n",
       "31. 'crispr_well_36.fastq.gz'\n",
       "32. 'crispr_well_37.fastq.gz'\n",
       "33. 'crispr_well_38.fastq.gz'\n",
       "34. 'crispr_well_39.fastq.gz'\n",
       "35. 'crispr_well_4.fastq.gz'\n",
       "36. 'crispr_well_40.fastq.gz'\n",
       "37. 'crispr_well_41.fastq.gz'\n",
       "38. 'crispr_well_42.fastq.gz'\n",
       "39. 'crispr_well_43.fastq.gz'\n",
       "40. 'crispr_well_44.fastq.gz'\n",
       "41. 'crispr_well_45.fastq.gz'\n",
       "42. 'crispr_well_46.fastq.gz'\n",
       "43. 'crispr_well_47.fastq.gz'\n",
       "44. 'crispr_well_48.fastq.gz'\n",
       "45. 'crispr_well_49.fastq.gz'\n",
       "46. 'crispr_well_5.fastq.gz'\n",
       "47. 'crispr_well_50.fastq.gz'\n",
       "48. 'crispr_well_51.fastq.gz'\n",
       "49. 'crispr_well_52.fastq.gz'\n",
       "50. 'crispr_well_53.fastq.gz'\n",
       "51. 'crispr_well_54.fastq.gz'\n",
       "52. 'crispr_well_55.fastq.gz'\n",
       "53. 'crispr_well_56.fastq.gz'\n",
       "54. 'crispr_well_57.fastq.gz'\n",
       "55. 'crispr_well_58.fastq.gz'\n",
       "56. 'crispr_well_59.fastq.gz'\n",
       "57. 'crispr_well_6.fastq.gz'\n",
       "58. 'crispr_well_60.fastq.gz'\n",
       "59. 'crispr_well_61.fastq.gz'\n",
       "60. 'crispr_well_62.fastq.gz'\n",
       "61. 'crispr_well_63.fastq.gz'\n",
       "62. 'crispr_well_64.fastq.gz'\n",
       "63. 'crispr_well_65.fastq.gz'\n",
       "64. 'crispr_well_66.fastq.gz'\n",
       "65. 'crispr_well_67.fastq.gz'\n",
       "66. 'crispr_well_68.fastq.gz'\n",
       "67. 'crispr_well_69.fastq.gz'\n",
       "68. 'crispr_well_7.fastq.gz'\n",
       "69. 'crispr_well_70.fastq.gz'\n",
       "70. 'crispr_well_71.fastq.gz'\n",
       "71. 'crispr_well_72.fastq.gz'\n",
       "72. 'crispr_well_73.fastq.gz'\n",
       "73. 'crispr_well_74.fastq.gz'\n",
       "74. 'crispr_well_75.fastq.gz'\n",
       "75. 'crispr_well_76.fastq.gz'\n",
       "76. 'crispr_well_77.fastq.gz'\n",
       "77. 'crispr_well_78.fastq.gz'\n",
       "78. 'crispr_well_79.fastq.gz'\n",
       "79. 'crispr_well_8.fastq.gz'\n",
       "80. 'crispr_well_80.fastq.gz'\n",
       "81. 'crispr_well_81.fastq.gz'\n",
       "82. 'crispr_well_82.fastq.gz'\n",
       "83. 'crispr_well_83.fastq.gz'\n",
       "84. 'crispr_well_84.fastq.gz'\n",
       "85. 'crispr_well_85.fastq.gz'\n",
       "86. 'crispr_well_86.fastq.gz'\n",
       "87. 'crispr_well_87.fastq.gz'\n",
       "88. 'crispr_well_88.fastq.gz'\n",
       "89. 'crispr_well_89.fastq.gz'\n",
       "90. 'crispr_well_9.fastq.gz'\n",
       "91. 'crispr_well_90.fastq.gz'\n",
       "92. 'crispr_well_91.fastq.gz'\n",
       "93. 'crispr_well_92.fastq.gz'\n",
       "94. 'crispr_well_93.fastq.gz'\n",
       "95. 'crispr_well_94.fastq.gz'\n",
       "96. 'crispr_well_95.fastq.gz'\n",
       "\n",
       "\n"
      ],
      "text/plain": [
       " [1] \"crispr_well_0.fastq.gz\"  \"crispr_well_1.fastq.gz\" \n",
       " [3] \"crispr_well_10.fastq.gz\" \"crispr_well_11.fastq.gz\"\n",
       " [5] \"crispr_well_12.fastq.gz\" \"crispr_well_13.fastq.gz\"\n",
       " [7] \"crispr_well_14.fastq.gz\" \"crispr_well_15.fastq.gz\"\n",
       " [9] \"crispr_well_16.fastq.gz\" \"crispr_well_17.fastq.gz\"\n",
       "[11] \"crispr_well_18.fastq.gz\" \"crispr_well_19.fastq.gz\"\n",
       "[13] \"crispr_well_2.fastq.gz\"  \"crispr_well_20.fastq.gz\"\n",
       "[15] \"crispr_well_21.fastq.gz\" \"crispr_well_22.fastq.gz\"\n",
       "[17] \"crispr_well_23.fastq.gz\" \"crispr_well_24.fastq.gz\"\n",
       "[19] \"crispr_well_25.fastq.gz\" \"crispr_well_26.fastq.gz\"\n",
       "[21] \"crispr_well_27.fastq.gz\" \"crispr_well_28.fastq.gz\"\n",
       "[23] \"crispr_well_29.fastq.gz\" \"crispr_well_3.fastq.gz\" \n",
       "[25] \"crispr_well_30.fastq.gz\" \"crispr_well_31.fastq.gz\"\n",
       "[27] \"crispr_well_32.fastq.gz\" \"crispr_well_33.fastq.gz\"\n",
       "[29] \"crispr_well_34.fastq.gz\" \"crispr_well_35.fastq.gz\"\n",
       "[31] \"crispr_well_36.fastq.gz\" \"crispr_well_37.fastq.gz\"\n",
       "[33] \"crispr_well_38.fastq.gz\" \"crispr_well_39.fastq.gz\"\n",
       "[35] \"crispr_well_4.fastq.gz\"  \"crispr_well_40.fastq.gz\"\n",
       "[37] \"crispr_well_41.fastq.gz\" \"crispr_well_42.fastq.gz\"\n",
       "[39] \"crispr_well_43.fastq.gz\" \"crispr_well_44.fastq.gz\"\n",
       "[41] \"crispr_well_45.fastq.gz\" \"crispr_well_46.fastq.gz\"\n",
       "[43] \"crispr_well_47.fastq.gz\" \"crispr_well_48.fastq.gz\"\n",
       "[45] \"crispr_well_49.fastq.gz\" \"crispr_well_5.fastq.gz\" \n",
       "[47] \"crispr_well_50.fastq.gz\" \"crispr_well_51.fastq.gz\"\n",
       "[49] \"crispr_well_52.fastq.gz\" \"crispr_well_53.fastq.gz\"\n",
       "[51] \"crispr_well_54.fastq.gz\" \"crispr_well_55.fastq.gz\"\n",
       "[53] \"crispr_well_56.fastq.gz\" \"crispr_well_57.fastq.gz\"\n",
       "[55] \"crispr_well_58.fastq.gz\" \"crispr_well_59.fastq.gz\"\n",
       "[57] \"crispr_well_6.fastq.gz\"  \"crispr_well_60.fastq.gz\"\n",
       "[59] \"crispr_well_61.fastq.gz\" \"crispr_well_62.fastq.gz\"\n",
       "[61] \"crispr_well_63.fastq.gz\" \"crispr_well_64.fastq.gz\"\n",
       "[63] \"crispr_well_65.fastq.gz\" \"crispr_well_66.fastq.gz\"\n",
       "[65] \"crispr_well_67.fastq.gz\" \"crispr_well_68.fastq.gz\"\n",
       "[67] \"crispr_well_69.fastq.gz\" \"crispr_well_7.fastq.gz\" \n",
       "[69] \"crispr_well_70.fastq.gz\" \"crispr_well_71.fastq.gz\"\n",
       "[71] \"crispr_well_72.fastq.gz\" \"crispr_well_73.fastq.gz\"\n",
       "[73] \"crispr_well_74.fastq.gz\" \"crispr_well_75.fastq.gz\"\n",
       "[75] \"crispr_well_76.fastq.gz\" \"crispr_well_77.fastq.gz\"\n",
       "[77] \"crispr_well_78.fastq.gz\" \"crispr_well_79.fastq.gz\"\n",
       "[79] \"crispr_well_8.fastq.gz\"  \"crispr_well_80.fastq.gz\"\n",
       "[81] \"crispr_well_81.fastq.gz\" \"crispr_well_82.fastq.gz\"\n",
       "[83] \"crispr_well_83.fastq.gz\" \"crispr_well_84.fastq.gz\"\n",
       "[85] \"crispr_well_85.fastq.gz\" \"crispr_well_86.fastq.gz\"\n",
       "[87] \"crispr_well_87.fastq.gz\" \"crispr_well_88.fastq.gz\"\n",
       "[89] \"crispr_well_89.fastq.gz\" \"crispr_well_9.fastq.gz\" \n",
       "[91] \"crispr_well_90.fastq.gz\" \"crispr_well_91.fastq.gz\"\n",
       "[93] \"crispr_well_92.fastq.gz\" \"crispr_well_93.fastq.gz\"\n",
       "[95] \"crispr_well_94.fastq.gz\" \"crispr_well_95.fastq.gz\""
      ]
     },
     "metadata": {},
     "output_type": "display_data"
    }
   ],
   "source": [
    "# get a list of files\n",
    "files <- list.files(path)\n",
    "\n",
    "# just to make our lives easier, let's sort this\n",
    "files <- sort(files)\n",
    "\n",
    "files"
   ]
  },
  {
   "cell_type": "markdown",
   "metadata": {},
   "source": [
    "Check how long the list files is.  It should be 96."
   ]
  },
  {
   "cell_type": "markdown",
   "metadata": {},
   "source": [
    "Let's just start with the first file."
   ]
  },
  {
   "cell_type": "code",
   "execution_count": 21,
   "metadata": {},
   "outputs": [
    {
     "data": {
      "text/html": [
       "'crispr_well_0.fastq.gz'"
      ],
      "text/latex": [
       "'crispr\\_well\\_0.fastq.gz'"
      ],
      "text/markdown": [
       "'crispr_well_0.fastq.gz'"
      ],
      "text/plain": [
       "[1] \"crispr_well_0.fastq.gz\""
      ]
     },
     "metadata": {},
     "output_type": "display_data"
    }
   ],
   "source": [
    "# Remember that R is 1-indexed!\n",
    "\n",
    "fn <- files[1]\n",
    "fn"
   ]
  },
  {
   "cell_type": "markdown",
   "metadata": {},
   "source": [
    "Important note! <b>fn</b> is now a string that is the name of a single file in the directory.  The full path to the <i>file</i> is:"
   ]
  },
  {
   "cell_type": "code",
   "execution_count": 22,
   "metadata": {},
   "outputs": [
    {
     "data": {
      "text/html": [
       "'crispr_96_data/crispr_well_0.fastq.gz'"
      ],
      "text/latex": [
       "'crispr\\_96\\_data/crispr\\_well\\_0.fastq.gz'"
      ],
      "text/markdown": [
       "'crispr_96_data/crispr_well_0.fastq.gz'"
      ],
      "text/plain": [
       "[1] \"crispr_96_data/crispr_well_0.fastq.gz\""
      ]
     },
     "metadata": {},
     "output_type": "display_data"
    }
   ],
   "source": [
    "# Unlike python, R does not let you add strings to concatenate. Instead we use the paste function.\n",
    "# paste0 is a shortcut for paste(sep = \"\")\n",
    "\n",
    "path_to_file <- paste0(path, fn)\n",
    "path_to_file"
   ]
  },
  {
   "cell_type": "markdown",
   "metadata": {},
   "source": [
    "Above, we've added two strings together.  This is why making sure that our variable <b>path</b> ended with a / was important - if it didn't, then we would be looking for a file called \"crispr_96crispr_well_0.fastq.gz\"; rather than the file \"crispr_well_0.fastq.gz\" in the \"crispr_96\" directory."
   ]
  },
  {
   "cell_type": "markdown",
   "metadata": {},
   "source": [
    "#### Now we're going to learn to open the file.  Importantly, this file is <i>gzipped</i>. \n",
    "\n",
    "For an uncompressed file, we would say:\n",
    "\n",
    "    readLines(file)\n",
    "\n",
    "Since our files are gzipped, we're going to use the gzfile function to open this file, and say:\n",
    "\n",
    "    readLines(gzfile(file))\n",
    "    \n",
    "Since these files are small, we will just read all lines into memory. If the files were large we would want to read in line by line or in chunks to avoid overwhelming the memory.\n",
    "\n",
    "#### Now let's put it all together and print the first twelve lines of the file, corresponding to the first three reads."
   ]
  },
  {
   "cell_type": "code",
   "execution_count": 23,
   "metadata": {},
   "outputs": [
    {
     "data": {
      "text/html": [
       "<style>\n",
       ".list-inline {list-style: none; margin:0; padding: 0}\n",
       ".list-inline>li {display: inline-block}\n",
       ".list-inline>li:not(:last-child)::after {content: \"\\00b7\"; padding: 0 .5ex}\n",
       "</style>\n",
       "<ol class=list-inline><li>'@1'</li><li>'GTCCAGCTGTGCAAGAGAATATTCCCGCTCTCCGGAGAAGCTCTTCCTTCCTTTGCACTGAAAGCTGTAACTCTAAGTATCAGTGTGAAACGGGAGAAAACAGTAAAGGCAACGTCCAGGATAGAGTGAAGCGACCCATGAACGCATTCA'</li><li>'+'</li><li>'AAAAAAAAAAAAAAAAAAAAAAAAAAAAAAAAAAAAAAAAAAAAAAAAAAAAAAAAAAAAAAAAAAAAAAAAAAAAAAAAAAAAAAAAAAAAAAAAAAAAAAAAAAAAAAAAAAAAAAAAAAAAAAAAAAAAAAAAAAAAAAAAAAAAAA'</li><li>'@2'</li><li>'GTCCAGCTGTGCAAGAGAATATTCCCGCTCTCCGGAGAAGCTCTTCCTTCCTTTGCACTGAAAGCTGTAACTCTAAGTATCAGTGTGAAACGGGAGAAAACAGTAAAGGCAACGTCCAGGATAGAGTGAAGCGACCCATGAACGCATTCA'</li><li>'+'</li><li>'AAAAAAAAAAAAAAAAAAAAAAAAAAAAAAAAAAAAAAAAAAAAAAAAAAAAAAAAAAAAAAAAAAAAAAAAAAAAAAAAAAAAAAAAAAAAAAAAAAAAAAAAAAAAAAAAAAAAAAAAAAAAAAAAAAAAAAAAAAAAAAAAAAAAAA'</li><li>'@3'</li><li>'GTCCAGCTGTGCAAGAGAATATTCCCGCTCTCCGGAGAAGCTCTTCCTTCCTTTGCACTGAAAGCTGTAACTCTAAGTATCAGTGTGAAACGGGAGAAAACAGTAAAGGCAACGTCCAGGATAGAGTGAAGCGACCCATGAACGCATTCA'</li><li>'+'</li><li>'AAAAAAAAAAAAAAAAAAAAAAAAAAAAAAAAAAAAAAAAAAAAAAAAAAAAAAAAAAAAAAAAAAAAAAAAAAAAAAAAAAAAAAAAAAAAAAAAAAAAAAAAAAAAAAAAAAAAAAAAAAAAAAAAAAAAAAAAAAAAAAAAAAAAAA'</li></ol>\n"
      ],
      "text/latex": [
       "\\begin{enumerate*}\n",
       "\\item '@1'\n",
       "\\item 'GTCCAGCTGTGCAAGAGAATATTCCCGCTCTCCGGAGAAGCTCTTCCTTCCTTTGCACTGAAAGCTGTAACTCTAAGTATCAGTGTGAAACGGGAGAAAACAGTAAAGGCAACGTCCAGGATAGAGTGAAGCGACCCATGAACGCATTCA'\n",
       "\\item '+'\n",
       "\\item 'AAAAAAAAAAAAAAAAAAAAAAAAAAAAAAAAAAAAAAAAAAAAAAAAAAAAAAAAAAAAAAAAAAAAAAAAAAAAAAAAAAAAAAAAAAAAAAAAAAAAAAAAAAAAAAAAAAAAAAAAAAAAAAAAAAAAAAAAAAAAAAAAAAAAAA'\n",
       "\\item '@2'\n",
       "\\item 'GTCCAGCTGTGCAAGAGAATATTCCCGCTCTCCGGAGAAGCTCTTCCTTCCTTTGCACTGAAAGCTGTAACTCTAAGTATCAGTGTGAAACGGGAGAAAACAGTAAAGGCAACGTCCAGGATAGAGTGAAGCGACCCATGAACGCATTCA'\n",
       "\\item '+'\n",
       "\\item 'AAAAAAAAAAAAAAAAAAAAAAAAAAAAAAAAAAAAAAAAAAAAAAAAAAAAAAAAAAAAAAAAAAAAAAAAAAAAAAAAAAAAAAAAAAAAAAAAAAAAAAAAAAAAAAAAAAAAAAAAAAAAAAAAAAAAAAAAAAAAAAAAAAAAAA'\n",
       "\\item '@3'\n",
       "\\item 'GTCCAGCTGTGCAAGAGAATATTCCCGCTCTCCGGAGAAGCTCTTCCTTCCTTTGCACTGAAAGCTGTAACTCTAAGTATCAGTGTGAAACGGGAGAAAACAGTAAAGGCAACGTCCAGGATAGAGTGAAGCGACCCATGAACGCATTCA'\n",
       "\\item '+'\n",
       "\\item 'AAAAAAAAAAAAAAAAAAAAAAAAAAAAAAAAAAAAAAAAAAAAAAAAAAAAAAAAAAAAAAAAAAAAAAAAAAAAAAAAAAAAAAAAAAAAAAAAAAAAAAAAAAAAAAAAAAAAAAAAAAAAAAAAAAAAAAAAAAAAAAAAAAAAAA'\n",
       "\\end{enumerate*}\n"
      ],
      "text/markdown": [
       "1. '@1'\n",
       "2. 'GTCCAGCTGTGCAAGAGAATATTCCCGCTCTCCGGAGAAGCTCTTCCTTCCTTTGCACTGAAAGCTGTAACTCTAAGTATCAGTGTGAAACGGGAGAAAACAGTAAAGGCAACGTCCAGGATAGAGTGAAGCGACCCATGAACGCATTCA'\n",
       "3. '+'\n",
       "4. 'AAAAAAAAAAAAAAAAAAAAAAAAAAAAAAAAAAAAAAAAAAAAAAAAAAAAAAAAAAAAAAAAAAAAAAAAAAAAAAAAAAAAAAAAAAAAAAAAAAAAAAAAAAAAAAAAAAAAAAAAAAAAAAAAAAAAAAAAAAAAAAAAAAAAAA'\n",
       "5. '@2'\n",
       "6. 'GTCCAGCTGTGCAAGAGAATATTCCCGCTCTCCGGAGAAGCTCTTCCTTCCTTTGCACTGAAAGCTGTAACTCTAAGTATCAGTGTGAAACGGGAGAAAACAGTAAAGGCAACGTCCAGGATAGAGTGAAGCGACCCATGAACGCATTCA'\n",
       "7. '+'\n",
       "8. 'AAAAAAAAAAAAAAAAAAAAAAAAAAAAAAAAAAAAAAAAAAAAAAAAAAAAAAAAAAAAAAAAAAAAAAAAAAAAAAAAAAAAAAAAAAAAAAAAAAAAAAAAAAAAAAAAAAAAAAAAAAAAAAAAAAAAAAAAAAAAAAAAAAAAAA'\n",
       "9. '@3'\n",
       "10. 'GTCCAGCTGTGCAAGAGAATATTCCCGCTCTCCGGAGAAGCTCTTCCTTCCTTTGCACTGAAAGCTGTAACTCTAAGTATCAGTGTGAAACGGGAGAAAACAGTAAAGGCAACGTCCAGGATAGAGTGAAGCGACCCATGAACGCATTCA'\n",
       "11. '+'\n",
       "12. 'AAAAAAAAAAAAAAAAAAAAAAAAAAAAAAAAAAAAAAAAAAAAAAAAAAAAAAAAAAAAAAAAAAAAAAAAAAAAAAAAAAAAAAAAAAAAAAAAAAAAAAAAAAAAAAAAAAAAAAAAAAAAAAAAAAAAAAAAAAAAAAAAAAAAAA'\n",
       "\n",
       "\n"
      ],
      "text/plain": [
       " [1] \"@1\"                                                                                                                                                    \n",
       " [2] \"GTCCAGCTGTGCAAGAGAATATTCCCGCTCTCCGGAGAAGCTCTTCCTTCCTTTGCACTGAAAGCTGTAACTCTAAGTATCAGTGTGAAACGGGAGAAAACAGTAAAGGCAACGTCCAGGATAGAGTGAAGCGACCCATGAACGCATTCA\"\n",
       " [3] \"+\"                                                                                                                                                     \n",
       " [4] \"AAAAAAAAAAAAAAAAAAAAAAAAAAAAAAAAAAAAAAAAAAAAAAAAAAAAAAAAAAAAAAAAAAAAAAAAAAAAAAAAAAAAAAAAAAAAAAAAAAAAAAAAAAAAAAAAAAAAAAAAAAAAAAAAAAAAAAAAAAAAAAAAAAAAAA\"\n",
       " [5] \"@2\"                                                                                                                                                    \n",
       " [6] \"GTCCAGCTGTGCAAGAGAATATTCCCGCTCTCCGGAGAAGCTCTTCCTTCCTTTGCACTGAAAGCTGTAACTCTAAGTATCAGTGTGAAACGGGAGAAAACAGTAAAGGCAACGTCCAGGATAGAGTGAAGCGACCCATGAACGCATTCA\"\n",
       " [7] \"+\"                                                                                                                                                     \n",
       " [8] \"AAAAAAAAAAAAAAAAAAAAAAAAAAAAAAAAAAAAAAAAAAAAAAAAAAAAAAAAAAAAAAAAAAAAAAAAAAAAAAAAAAAAAAAAAAAAAAAAAAAAAAAAAAAAAAAAAAAAAAAAAAAAAAAAAAAAAAAAAAAAAAAAAAAAAA\"\n",
       " [9] \"@3\"                                                                                                                                                    \n",
       "[10] \"GTCCAGCTGTGCAAGAGAATATTCCCGCTCTCCGGAGAAGCTCTTCCTTCCTTTGCACTGAAAGCTGTAACTCTAAGTATCAGTGTGAAACGGGAGAAAACAGTAAAGGCAACGTCCAGGATAGAGTGAAGCGACCCATGAACGCATTCA\"\n",
       "[11] \"+\"                                                                                                                                                     \n",
       "[12] \"AAAAAAAAAAAAAAAAAAAAAAAAAAAAAAAAAAAAAAAAAAAAAAAAAAAAAAAAAAAAAAAAAAAAAAAAAAAAAAAAAAAAAAAAAAAAAAAAAAAAAAAAAAAAAAAAAAAAAAAAAAAAAAAAAAAAAAAAAAAAAAAAAAAAAA\""
      ]
     },
     "metadata": {},
     "output_type": "display_data"
    }
   ],
   "source": [
    "head(readLines(gzfile(path_to_file)), n = 12)"
   ]
  },
  {
   "cell_type": "markdown",
   "metadata": {},
   "source": [
    "Now, let's modify this a little bit to just print the reads.  We're going to use the seq function, which creates a vectors of numbers with a given interval between them. Use **?seq** for more information.\n",
    "\n",
    "Basically, FASTQ reads have a period of 4.  This means that we want a vector that starts at 2 and ends at the last read, counting up by 4. "
   ]
  },
  {
   "cell_type": "code",
   "execution_count": 24,
   "metadata": {},
   "outputs": [
    {
     "data": {
      "text/html": [
       "<style>\n",
       ".list-inline {list-style: none; margin:0; padding: 0}\n",
       ".list-inline>li {display: inline-block}\n",
       ".list-inline>li:not(:last-child)::after {content: \"\\00b7\"; padding: 0 .5ex}\n",
       "</style>\n",
       "<ol class=list-inline><li>2</li><li>6</li><li>10</li><li>14</li><li>18</li><li>22</li></ol>\n"
      ],
      "text/latex": [
       "\\begin{enumerate*}\n",
       "\\item 2\n",
       "\\item 6\n",
       "\\item 10\n",
       "\\item 14\n",
       "\\item 18\n",
       "\\item 22\n",
       "\\end{enumerate*}\n"
      ],
      "text/markdown": [
       "1. 2\n",
       "2. 6\n",
       "3. 10\n",
       "4. 14\n",
       "5. 18\n",
       "6. 22\n",
       "\n",
       "\n"
      ],
      "text/plain": [
       "[1]  2  6 10 14 18 22"
      ]
     },
     "metadata": {},
     "output_type": "display_data"
    },
    {
     "data": {
      "text/html": [
       "<style>\n",
       ".list-inline {list-style: none; margin:0; padding: 0}\n",
       ".list-inline>li {display: inline-block}\n",
       ".list-inline>li:not(:last-child)::after {content: \"\\00b7\"; padding: 0 .5ex}\n",
       "</style>\n",
       "<ol class=list-inline><li>'GTCCAGCTGTGCAAGAGAATATTCCCGCTCTCCGGAGAAGCTCTTCCTTCCTTTGCACTGAAAGCTGTAACTCTAAGTATCAGTGTGAAACGGGAGAAAACAGTAAAGGCAACGTCCAGGATAGAGTGAAGCGACCCATGAACGCATTCA'</li><li>'GTCCAGCTGTGCAAGAGAATATTCCCGCTCTCCGGAGAAGCTCTTCCTTCCTTTGCACTGAAAGCTGTAACTCTAAGTATCAGTGTGAAACGGGAGAAAACAGTAAAGGCAACGTCCAGGATAGAGTGAAGCGACCCATGAACGCATTCA'</li><li>'GTCCAGCTGTGCAAGAGAATATTCCCGCTCTCCGGAGAAGCTCTTCCTTCCTTTGCACTGAAAGCTGTAACTCTAAGTATCAGTGTGAAACGGGAGAAAACAGTAAAGGCAACGTCCAGGATAGAGTGAAGCGACCCATGAACGCATTCA'</li></ol>\n"
      ],
      "text/latex": [
       "\\begin{enumerate*}\n",
       "\\item 'GTCCAGCTGTGCAAGAGAATATTCCCGCTCTCCGGAGAAGCTCTTCCTTCCTTTGCACTGAAAGCTGTAACTCTAAGTATCAGTGTGAAACGGGAGAAAACAGTAAAGGCAACGTCCAGGATAGAGTGAAGCGACCCATGAACGCATTCA'\n",
       "\\item 'GTCCAGCTGTGCAAGAGAATATTCCCGCTCTCCGGAGAAGCTCTTCCTTCCTTTGCACTGAAAGCTGTAACTCTAAGTATCAGTGTGAAACGGGAGAAAACAGTAAAGGCAACGTCCAGGATAGAGTGAAGCGACCCATGAACGCATTCA'\n",
       "\\item 'GTCCAGCTGTGCAAGAGAATATTCCCGCTCTCCGGAGAAGCTCTTCCTTCCTTTGCACTGAAAGCTGTAACTCTAAGTATCAGTGTGAAACGGGAGAAAACAGTAAAGGCAACGTCCAGGATAGAGTGAAGCGACCCATGAACGCATTCA'\n",
       "\\end{enumerate*}\n"
      ],
      "text/markdown": [
       "1. 'GTCCAGCTGTGCAAGAGAATATTCCCGCTCTCCGGAGAAGCTCTTCCTTCCTTTGCACTGAAAGCTGTAACTCTAAGTATCAGTGTGAAACGGGAGAAAACAGTAAAGGCAACGTCCAGGATAGAGTGAAGCGACCCATGAACGCATTCA'\n",
       "2. 'GTCCAGCTGTGCAAGAGAATATTCCCGCTCTCCGGAGAAGCTCTTCCTTCCTTTGCACTGAAAGCTGTAACTCTAAGTATCAGTGTGAAACGGGAGAAAACAGTAAAGGCAACGTCCAGGATAGAGTGAAGCGACCCATGAACGCATTCA'\n",
       "3. 'GTCCAGCTGTGCAAGAGAATATTCCCGCTCTCCGGAGAAGCTCTTCCTTCCTTTGCACTGAAAGCTGTAACTCTAAGTATCAGTGTGAAACGGGAGAAAACAGTAAAGGCAACGTCCAGGATAGAGTGAAGCGACCCATGAACGCATTCA'\n",
       "\n",
       "\n"
      ],
      "text/plain": [
       "[1] \"GTCCAGCTGTGCAAGAGAATATTCCCGCTCTCCGGAGAAGCTCTTCCTTCCTTTGCACTGAAAGCTGTAACTCTAAGTATCAGTGTGAAACGGGAGAAAACAGTAAAGGCAACGTCCAGGATAGAGTGAAGCGACCCATGAACGCATTCA\"\n",
       "[2] \"GTCCAGCTGTGCAAGAGAATATTCCCGCTCTCCGGAGAAGCTCTTCCTTCCTTTGCACTGAAAGCTGTAACTCTAAGTATCAGTGTGAAACGGGAGAAAACAGTAAAGGCAACGTCCAGGATAGAGTGAAGCGACCCATGAACGCATTCA\"\n",
       "[3] \"GTCCAGCTGTGCAAGAGAATATTCCCGCTCTCCGGAGAAGCTCTTCCTTCCTTTGCACTGAAAGCTGTAACTCTAAGTATCAGTGTGAAACGGGAGAAAACAGTAAAGGCAACGTCCAGGATAGAGTGAAGCGACCCATGAACGCATTCA\""
      ]
     },
     "metadata": {},
     "output_type": "display_data"
    }
   ],
   "source": [
    "# Let's save the fastq file text as a variable (What data type is the output saved as?):\n",
    "fLines <- readLines(gzfile(path_to_file))\n",
    "\n",
    "# Here's my indexing vector created by the seq function:\n",
    "head(seq(2,length(fLines),4))\n",
    "\n",
    "# Now we can use this to index the fLines variable to get just the read lines:\n",
    "head(fLines[seq(2,length(fLines),4)], n=3)"
   ]
  },
  {
   "cell_type": "markdown",
   "metadata": {},
   "source": [
    "#### Now we've got a way to deal with the FASTQ files, which are gzipped, import each line of the file, and then print just the reads!\n",
    "\n",
    "#### Now, let's combine everything where we read in a single file, and return a table of the number of times we see each unique read.\n",
    "\n",
    "To start, let's just read in 10 reads to get a sense of what things look like, before we eventually read in the entire file. Pay attention to what we have changed from above to make this work."
   ]
  },
  {
   "cell_type": "code",
   "execution_count": 25,
   "metadata": {},
   "outputs": [
    {
     "data": {
      "text/plain": [
       "\n",
       "GTCCAGCTGTGCAAGAGAATATTCCCGCTCTCCGGAGAAGCTCTTCCTTCCTTTGCACTGAAAGCTGTAACTCTAAGTATCAGTGTGAAACGGGAGAAAACAGTAAAGGCAACGTCCAGGATAGAGTGAAGCGACCCATGAACGCATTCA \n",
       "                                                                                                                                                    10 "
      ]
     },
     "metadata": {},
     "output_type": "display_data"
    }
   ],
   "source": [
    "# Let's overwrite our fLines variable with just the read lines - this will save memory:\n",
    "fLines <- readLines(gzfile(path_to_file))\n",
    "fLines <- fLines[seq(2,length(fLines),4)]\n",
    "table(fLines[1:10])"
   ]
  },
  {
   "cell_type": "markdown",
   "metadata": {},
   "source": [
    "#### Now write a function that will do all of this for us.\n",
    "\n",
    "It will take as inputs the path to a file.  \n",
    "It will return as an output a table of the read frequencies for that file."
   ]
  },
  {
   "cell_type": "code",
   "execution_count": 26,
   "metadata": {},
   "outputs": [],
   "source": [
    "process_file <- function(path_to_file){\n",
    "    fLines <- readLines(gzfile(path_to_file))\n",
    "    fLines <- fLines[seq(2,length(fLines),4)]\n",
    "    return(table(fLines))\n",
    "}"
   ]
  },
  {
   "cell_type": "markdown",
   "metadata": {},
   "source": [
    "#### And let's put it together with the genotype function that we wrote above!\n",
    "\n",
    "1. using process_file(), get a table for a file.\n",
    "2. using genotype(), get the results for that file.\n",
    "\n",
    "Note that in this case, crispr_well_0.fastq.gz is WT, meaning that the most common read in this file (which you just found) is the wt_reference."
   ]
  },
  {
   "cell_type": "code",
   "execution_count": 27,
   "metadata": {},
   "outputs": [
    {
     "data": {
      "text/html": [
       "<style>\n",
       ".list-inline {list-style: none; margin:0; padding: 0}\n",
       ".list-inline>li {display: inline-block}\n",
       ".list-inline>li:not(:last-child)::after {content: \"\\00b7\"; padding: 0 .5ex}\n",
       "</style>\n",
       "<ol class=list-inline><li>'WT'</li><li>'WT'</li></ol>\n"
      ],
      "text/latex": [
       "\\begin{enumerate*}\n",
       "\\item 'WT'\n",
       "\\item 'WT'\n",
       "\\end{enumerate*}\n"
      ],
      "text/markdown": [
       "1. 'WT'\n",
       "2. 'WT'\n",
       "\n",
       "\n"
      ],
      "text/plain": [
       "[1] \"WT\" \"WT\""
      ]
     },
     "metadata": {},
     "output_type": "display_data"
    }
   ],
   "source": [
    "# replace empty string with correct wt_reference sequence\n",
    "wt_reference <- 'GTCCAGCTGTGCAAGAGAATATTCCCGCTCTCCGGAGAAGCTCTTCCTTCCTTTGCACTGAAAGCTGTAACTCTAAGTATCAGTGTGAAACGGGAGAAAACAGTAAAGGCAACGTCCAGGATAGAGTGAAGCGACCCATGAACGCATTCA'\n",
    "\n",
    "file_table <- process_file(path_to_file)\n",
    "file_results <- genotype(file_table, wt_reference)\n",
    "\n",
    "file_results"
   ]
  },
  {
   "cell_type": "markdown",
   "metadata": {},
   "source": [
    "#### When you run this with crispr_well_0, you should get the result ['WT', 'WT']."
   ]
  },
  {
   "cell_type": "markdown",
   "metadata": {},
   "source": [
    "### Part 4: Putting it all together and processing an entire folder of files.\n",
    "\n",
    "Now, we're going to process the data for all of the files in our folder.\n",
    "\n",
    "All we need to do is loop through all of the files, and then save the results."
   ]
  },
  {
   "cell_type": "code",
   "execution_count": 28,
   "metadata": {},
   "outputs": [
    {
     "data": {
      "text/html": [
       "<style>\n",
       ".list-inline {list-style: none; margin:0; padding: 0}\n",
       ".list-inline>li {display: inline-block}\n",
       ".list-inline>li:not(:last-child)::after {content: \"\\00b7\"; padding: 0 .5ex}\n",
       "</style>\n",
       "<ol class=list-inline><li>'crispr_well_0.fastq.gz'</li><li>'crispr_well_1.fastq.gz'</li><li>'crispr_well_10.fastq.gz'</li><li>'crispr_well_11.fastq.gz'</li><li>'crispr_well_12.fastq.gz'</li><li>'crispr_well_13.fastq.gz'</li><li>'crispr_well_14.fastq.gz'</li><li>'crispr_well_15.fastq.gz'</li><li>'crispr_well_16.fastq.gz'</li><li>'crispr_well_17.fastq.gz'</li><li>'crispr_well_18.fastq.gz'</li><li>'crispr_well_19.fastq.gz'</li><li>'crispr_well_2.fastq.gz'</li><li>'crispr_well_20.fastq.gz'</li><li>'crispr_well_21.fastq.gz'</li><li>'crispr_well_22.fastq.gz'</li><li>'crispr_well_23.fastq.gz'</li><li>'crispr_well_24.fastq.gz'</li><li>'crispr_well_25.fastq.gz'</li><li>'crispr_well_26.fastq.gz'</li><li>'crispr_well_27.fastq.gz'</li><li>'crispr_well_28.fastq.gz'</li><li>'crispr_well_29.fastq.gz'</li><li>'crispr_well_3.fastq.gz'</li><li>'crispr_well_30.fastq.gz'</li><li>'crispr_well_31.fastq.gz'</li><li>'crispr_well_32.fastq.gz'</li><li>'crispr_well_33.fastq.gz'</li><li>'crispr_well_34.fastq.gz'</li><li>'crispr_well_35.fastq.gz'</li><li>'crispr_well_36.fastq.gz'</li><li>'crispr_well_37.fastq.gz'</li><li>'crispr_well_38.fastq.gz'</li><li>'crispr_well_39.fastq.gz'</li><li>'crispr_well_4.fastq.gz'</li><li>'crispr_well_40.fastq.gz'</li><li>'crispr_well_41.fastq.gz'</li><li>'crispr_well_42.fastq.gz'</li><li>'crispr_well_43.fastq.gz'</li><li>'crispr_well_44.fastq.gz'</li><li>'crispr_well_45.fastq.gz'</li><li>'crispr_well_46.fastq.gz'</li><li>'crispr_well_47.fastq.gz'</li><li>'crispr_well_48.fastq.gz'</li><li>'crispr_well_49.fastq.gz'</li><li>'crispr_well_5.fastq.gz'</li><li>'crispr_well_50.fastq.gz'</li><li>'crispr_well_51.fastq.gz'</li><li>'crispr_well_52.fastq.gz'</li><li>'crispr_well_53.fastq.gz'</li><li>'crispr_well_54.fastq.gz'</li><li>'crispr_well_55.fastq.gz'</li><li>'crispr_well_56.fastq.gz'</li><li>'crispr_well_57.fastq.gz'</li><li>'crispr_well_58.fastq.gz'</li><li>'crispr_well_59.fastq.gz'</li><li>'crispr_well_6.fastq.gz'</li><li>'crispr_well_60.fastq.gz'</li><li>'crispr_well_61.fastq.gz'</li><li>'crispr_well_62.fastq.gz'</li><li>'crispr_well_63.fastq.gz'</li><li>'crispr_well_64.fastq.gz'</li><li>'crispr_well_65.fastq.gz'</li><li>'crispr_well_66.fastq.gz'</li><li>'crispr_well_67.fastq.gz'</li><li>'crispr_well_68.fastq.gz'</li><li>'crispr_well_69.fastq.gz'</li><li>'crispr_well_7.fastq.gz'</li><li>'crispr_well_70.fastq.gz'</li><li>'crispr_well_71.fastq.gz'</li><li>'crispr_well_72.fastq.gz'</li><li>'crispr_well_73.fastq.gz'</li><li>'crispr_well_74.fastq.gz'</li><li>'crispr_well_75.fastq.gz'</li><li>'crispr_well_76.fastq.gz'</li><li>'crispr_well_77.fastq.gz'</li><li>'crispr_well_78.fastq.gz'</li><li>'crispr_well_79.fastq.gz'</li><li>'crispr_well_8.fastq.gz'</li><li>'crispr_well_80.fastq.gz'</li><li>'crispr_well_81.fastq.gz'</li><li>'crispr_well_82.fastq.gz'</li><li>'crispr_well_83.fastq.gz'</li><li>'crispr_well_84.fastq.gz'</li><li>'crispr_well_85.fastq.gz'</li><li>'crispr_well_86.fastq.gz'</li><li>'crispr_well_87.fastq.gz'</li><li>'crispr_well_88.fastq.gz'</li><li>'crispr_well_89.fastq.gz'</li><li>'crispr_well_9.fastq.gz'</li><li>'crispr_well_90.fastq.gz'</li><li>'crispr_well_91.fastq.gz'</li><li>'crispr_well_92.fastq.gz'</li><li>'crispr_well_93.fastq.gz'</li><li>'crispr_well_94.fastq.gz'</li><li>'crispr_well_95.fastq.gz'</li></ol>\n"
      ],
      "text/latex": [
       "\\begin{enumerate*}\n",
       "\\item 'crispr\\_well\\_0.fastq.gz'\n",
       "\\item 'crispr\\_well\\_1.fastq.gz'\n",
       "\\item 'crispr\\_well\\_10.fastq.gz'\n",
       "\\item 'crispr\\_well\\_11.fastq.gz'\n",
       "\\item 'crispr\\_well\\_12.fastq.gz'\n",
       "\\item 'crispr\\_well\\_13.fastq.gz'\n",
       "\\item 'crispr\\_well\\_14.fastq.gz'\n",
       "\\item 'crispr\\_well\\_15.fastq.gz'\n",
       "\\item 'crispr\\_well\\_16.fastq.gz'\n",
       "\\item 'crispr\\_well\\_17.fastq.gz'\n",
       "\\item 'crispr\\_well\\_18.fastq.gz'\n",
       "\\item 'crispr\\_well\\_19.fastq.gz'\n",
       "\\item 'crispr\\_well\\_2.fastq.gz'\n",
       "\\item 'crispr\\_well\\_20.fastq.gz'\n",
       "\\item 'crispr\\_well\\_21.fastq.gz'\n",
       "\\item 'crispr\\_well\\_22.fastq.gz'\n",
       "\\item 'crispr\\_well\\_23.fastq.gz'\n",
       "\\item 'crispr\\_well\\_24.fastq.gz'\n",
       "\\item 'crispr\\_well\\_25.fastq.gz'\n",
       "\\item 'crispr\\_well\\_26.fastq.gz'\n",
       "\\item 'crispr\\_well\\_27.fastq.gz'\n",
       "\\item 'crispr\\_well\\_28.fastq.gz'\n",
       "\\item 'crispr\\_well\\_29.fastq.gz'\n",
       "\\item 'crispr\\_well\\_3.fastq.gz'\n",
       "\\item 'crispr\\_well\\_30.fastq.gz'\n",
       "\\item 'crispr\\_well\\_31.fastq.gz'\n",
       "\\item 'crispr\\_well\\_32.fastq.gz'\n",
       "\\item 'crispr\\_well\\_33.fastq.gz'\n",
       "\\item 'crispr\\_well\\_34.fastq.gz'\n",
       "\\item 'crispr\\_well\\_35.fastq.gz'\n",
       "\\item 'crispr\\_well\\_36.fastq.gz'\n",
       "\\item 'crispr\\_well\\_37.fastq.gz'\n",
       "\\item 'crispr\\_well\\_38.fastq.gz'\n",
       "\\item 'crispr\\_well\\_39.fastq.gz'\n",
       "\\item 'crispr\\_well\\_4.fastq.gz'\n",
       "\\item 'crispr\\_well\\_40.fastq.gz'\n",
       "\\item 'crispr\\_well\\_41.fastq.gz'\n",
       "\\item 'crispr\\_well\\_42.fastq.gz'\n",
       "\\item 'crispr\\_well\\_43.fastq.gz'\n",
       "\\item 'crispr\\_well\\_44.fastq.gz'\n",
       "\\item 'crispr\\_well\\_45.fastq.gz'\n",
       "\\item 'crispr\\_well\\_46.fastq.gz'\n",
       "\\item 'crispr\\_well\\_47.fastq.gz'\n",
       "\\item 'crispr\\_well\\_48.fastq.gz'\n",
       "\\item 'crispr\\_well\\_49.fastq.gz'\n",
       "\\item 'crispr\\_well\\_5.fastq.gz'\n",
       "\\item 'crispr\\_well\\_50.fastq.gz'\n",
       "\\item 'crispr\\_well\\_51.fastq.gz'\n",
       "\\item 'crispr\\_well\\_52.fastq.gz'\n",
       "\\item 'crispr\\_well\\_53.fastq.gz'\n",
       "\\item 'crispr\\_well\\_54.fastq.gz'\n",
       "\\item 'crispr\\_well\\_55.fastq.gz'\n",
       "\\item 'crispr\\_well\\_56.fastq.gz'\n",
       "\\item 'crispr\\_well\\_57.fastq.gz'\n",
       "\\item 'crispr\\_well\\_58.fastq.gz'\n",
       "\\item 'crispr\\_well\\_59.fastq.gz'\n",
       "\\item 'crispr\\_well\\_6.fastq.gz'\n",
       "\\item 'crispr\\_well\\_60.fastq.gz'\n",
       "\\item 'crispr\\_well\\_61.fastq.gz'\n",
       "\\item 'crispr\\_well\\_62.fastq.gz'\n",
       "\\item 'crispr\\_well\\_63.fastq.gz'\n",
       "\\item 'crispr\\_well\\_64.fastq.gz'\n",
       "\\item 'crispr\\_well\\_65.fastq.gz'\n",
       "\\item 'crispr\\_well\\_66.fastq.gz'\n",
       "\\item 'crispr\\_well\\_67.fastq.gz'\n",
       "\\item 'crispr\\_well\\_68.fastq.gz'\n",
       "\\item 'crispr\\_well\\_69.fastq.gz'\n",
       "\\item 'crispr\\_well\\_7.fastq.gz'\n",
       "\\item 'crispr\\_well\\_70.fastq.gz'\n",
       "\\item 'crispr\\_well\\_71.fastq.gz'\n",
       "\\item 'crispr\\_well\\_72.fastq.gz'\n",
       "\\item 'crispr\\_well\\_73.fastq.gz'\n",
       "\\item 'crispr\\_well\\_74.fastq.gz'\n",
       "\\item 'crispr\\_well\\_75.fastq.gz'\n",
       "\\item 'crispr\\_well\\_76.fastq.gz'\n",
       "\\item 'crispr\\_well\\_77.fastq.gz'\n",
       "\\item 'crispr\\_well\\_78.fastq.gz'\n",
       "\\item 'crispr\\_well\\_79.fastq.gz'\n",
       "\\item 'crispr\\_well\\_8.fastq.gz'\n",
       "\\item 'crispr\\_well\\_80.fastq.gz'\n",
       "\\item 'crispr\\_well\\_81.fastq.gz'\n",
       "\\item 'crispr\\_well\\_82.fastq.gz'\n",
       "\\item 'crispr\\_well\\_83.fastq.gz'\n",
       "\\item 'crispr\\_well\\_84.fastq.gz'\n",
       "\\item 'crispr\\_well\\_85.fastq.gz'\n",
       "\\item 'crispr\\_well\\_86.fastq.gz'\n",
       "\\item 'crispr\\_well\\_87.fastq.gz'\n",
       "\\item 'crispr\\_well\\_88.fastq.gz'\n",
       "\\item 'crispr\\_well\\_89.fastq.gz'\n",
       "\\item 'crispr\\_well\\_9.fastq.gz'\n",
       "\\item 'crispr\\_well\\_90.fastq.gz'\n",
       "\\item 'crispr\\_well\\_91.fastq.gz'\n",
       "\\item 'crispr\\_well\\_92.fastq.gz'\n",
       "\\item 'crispr\\_well\\_93.fastq.gz'\n",
       "\\item 'crispr\\_well\\_94.fastq.gz'\n",
       "\\item 'crispr\\_well\\_95.fastq.gz'\n",
       "\\end{enumerate*}\n"
      ],
      "text/markdown": [
       "1. 'crispr_well_0.fastq.gz'\n",
       "2. 'crispr_well_1.fastq.gz'\n",
       "3. 'crispr_well_10.fastq.gz'\n",
       "4. 'crispr_well_11.fastq.gz'\n",
       "5. 'crispr_well_12.fastq.gz'\n",
       "6. 'crispr_well_13.fastq.gz'\n",
       "7. 'crispr_well_14.fastq.gz'\n",
       "8. 'crispr_well_15.fastq.gz'\n",
       "9. 'crispr_well_16.fastq.gz'\n",
       "10. 'crispr_well_17.fastq.gz'\n",
       "11. 'crispr_well_18.fastq.gz'\n",
       "12. 'crispr_well_19.fastq.gz'\n",
       "13. 'crispr_well_2.fastq.gz'\n",
       "14. 'crispr_well_20.fastq.gz'\n",
       "15. 'crispr_well_21.fastq.gz'\n",
       "16. 'crispr_well_22.fastq.gz'\n",
       "17. 'crispr_well_23.fastq.gz'\n",
       "18. 'crispr_well_24.fastq.gz'\n",
       "19. 'crispr_well_25.fastq.gz'\n",
       "20. 'crispr_well_26.fastq.gz'\n",
       "21. 'crispr_well_27.fastq.gz'\n",
       "22. 'crispr_well_28.fastq.gz'\n",
       "23. 'crispr_well_29.fastq.gz'\n",
       "24. 'crispr_well_3.fastq.gz'\n",
       "25. 'crispr_well_30.fastq.gz'\n",
       "26. 'crispr_well_31.fastq.gz'\n",
       "27. 'crispr_well_32.fastq.gz'\n",
       "28. 'crispr_well_33.fastq.gz'\n",
       "29. 'crispr_well_34.fastq.gz'\n",
       "30. 'crispr_well_35.fastq.gz'\n",
       "31. 'crispr_well_36.fastq.gz'\n",
       "32. 'crispr_well_37.fastq.gz'\n",
       "33. 'crispr_well_38.fastq.gz'\n",
       "34. 'crispr_well_39.fastq.gz'\n",
       "35. 'crispr_well_4.fastq.gz'\n",
       "36. 'crispr_well_40.fastq.gz'\n",
       "37. 'crispr_well_41.fastq.gz'\n",
       "38. 'crispr_well_42.fastq.gz'\n",
       "39. 'crispr_well_43.fastq.gz'\n",
       "40. 'crispr_well_44.fastq.gz'\n",
       "41. 'crispr_well_45.fastq.gz'\n",
       "42. 'crispr_well_46.fastq.gz'\n",
       "43. 'crispr_well_47.fastq.gz'\n",
       "44. 'crispr_well_48.fastq.gz'\n",
       "45. 'crispr_well_49.fastq.gz'\n",
       "46. 'crispr_well_5.fastq.gz'\n",
       "47. 'crispr_well_50.fastq.gz'\n",
       "48. 'crispr_well_51.fastq.gz'\n",
       "49. 'crispr_well_52.fastq.gz'\n",
       "50. 'crispr_well_53.fastq.gz'\n",
       "51. 'crispr_well_54.fastq.gz'\n",
       "52. 'crispr_well_55.fastq.gz'\n",
       "53. 'crispr_well_56.fastq.gz'\n",
       "54. 'crispr_well_57.fastq.gz'\n",
       "55. 'crispr_well_58.fastq.gz'\n",
       "56. 'crispr_well_59.fastq.gz'\n",
       "57. 'crispr_well_6.fastq.gz'\n",
       "58. 'crispr_well_60.fastq.gz'\n",
       "59. 'crispr_well_61.fastq.gz'\n",
       "60. 'crispr_well_62.fastq.gz'\n",
       "61. 'crispr_well_63.fastq.gz'\n",
       "62. 'crispr_well_64.fastq.gz'\n",
       "63. 'crispr_well_65.fastq.gz'\n",
       "64. 'crispr_well_66.fastq.gz'\n",
       "65. 'crispr_well_67.fastq.gz'\n",
       "66. 'crispr_well_68.fastq.gz'\n",
       "67. 'crispr_well_69.fastq.gz'\n",
       "68. 'crispr_well_7.fastq.gz'\n",
       "69. 'crispr_well_70.fastq.gz'\n",
       "70. 'crispr_well_71.fastq.gz'\n",
       "71. 'crispr_well_72.fastq.gz'\n",
       "72. 'crispr_well_73.fastq.gz'\n",
       "73. 'crispr_well_74.fastq.gz'\n",
       "74. 'crispr_well_75.fastq.gz'\n",
       "75. 'crispr_well_76.fastq.gz'\n",
       "76. 'crispr_well_77.fastq.gz'\n",
       "77. 'crispr_well_78.fastq.gz'\n",
       "78. 'crispr_well_79.fastq.gz'\n",
       "79. 'crispr_well_8.fastq.gz'\n",
       "80. 'crispr_well_80.fastq.gz'\n",
       "81. 'crispr_well_81.fastq.gz'\n",
       "82. 'crispr_well_82.fastq.gz'\n",
       "83. 'crispr_well_83.fastq.gz'\n",
       "84. 'crispr_well_84.fastq.gz'\n",
       "85. 'crispr_well_85.fastq.gz'\n",
       "86. 'crispr_well_86.fastq.gz'\n",
       "87. 'crispr_well_87.fastq.gz'\n",
       "88. 'crispr_well_88.fastq.gz'\n",
       "89. 'crispr_well_89.fastq.gz'\n",
       "90. 'crispr_well_9.fastq.gz'\n",
       "91. 'crispr_well_90.fastq.gz'\n",
       "92. 'crispr_well_91.fastq.gz'\n",
       "93. 'crispr_well_92.fastq.gz'\n",
       "94. 'crispr_well_93.fastq.gz'\n",
       "95. 'crispr_well_94.fastq.gz'\n",
       "96. 'crispr_well_95.fastq.gz'\n",
       "\n",
       "\n"
      ],
      "text/plain": [
       " [1] \"crispr_well_0.fastq.gz\"  \"crispr_well_1.fastq.gz\" \n",
       " [3] \"crispr_well_10.fastq.gz\" \"crispr_well_11.fastq.gz\"\n",
       " [5] \"crispr_well_12.fastq.gz\" \"crispr_well_13.fastq.gz\"\n",
       " [7] \"crispr_well_14.fastq.gz\" \"crispr_well_15.fastq.gz\"\n",
       " [9] \"crispr_well_16.fastq.gz\" \"crispr_well_17.fastq.gz\"\n",
       "[11] \"crispr_well_18.fastq.gz\" \"crispr_well_19.fastq.gz\"\n",
       "[13] \"crispr_well_2.fastq.gz\"  \"crispr_well_20.fastq.gz\"\n",
       "[15] \"crispr_well_21.fastq.gz\" \"crispr_well_22.fastq.gz\"\n",
       "[17] \"crispr_well_23.fastq.gz\" \"crispr_well_24.fastq.gz\"\n",
       "[19] \"crispr_well_25.fastq.gz\" \"crispr_well_26.fastq.gz\"\n",
       "[21] \"crispr_well_27.fastq.gz\" \"crispr_well_28.fastq.gz\"\n",
       "[23] \"crispr_well_29.fastq.gz\" \"crispr_well_3.fastq.gz\" \n",
       "[25] \"crispr_well_30.fastq.gz\" \"crispr_well_31.fastq.gz\"\n",
       "[27] \"crispr_well_32.fastq.gz\" \"crispr_well_33.fastq.gz\"\n",
       "[29] \"crispr_well_34.fastq.gz\" \"crispr_well_35.fastq.gz\"\n",
       "[31] \"crispr_well_36.fastq.gz\" \"crispr_well_37.fastq.gz\"\n",
       "[33] \"crispr_well_38.fastq.gz\" \"crispr_well_39.fastq.gz\"\n",
       "[35] \"crispr_well_4.fastq.gz\"  \"crispr_well_40.fastq.gz\"\n",
       "[37] \"crispr_well_41.fastq.gz\" \"crispr_well_42.fastq.gz\"\n",
       "[39] \"crispr_well_43.fastq.gz\" \"crispr_well_44.fastq.gz\"\n",
       "[41] \"crispr_well_45.fastq.gz\" \"crispr_well_46.fastq.gz\"\n",
       "[43] \"crispr_well_47.fastq.gz\" \"crispr_well_48.fastq.gz\"\n",
       "[45] \"crispr_well_49.fastq.gz\" \"crispr_well_5.fastq.gz\" \n",
       "[47] \"crispr_well_50.fastq.gz\" \"crispr_well_51.fastq.gz\"\n",
       "[49] \"crispr_well_52.fastq.gz\" \"crispr_well_53.fastq.gz\"\n",
       "[51] \"crispr_well_54.fastq.gz\" \"crispr_well_55.fastq.gz\"\n",
       "[53] \"crispr_well_56.fastq.gz\" \"crispr_well_57.fastq.gz\"\n",
       "[55] \"crispr_well_58.fastq.gz\" \"crispr_well_59.fastq.gz\"\n",
       "[57] \"crispr_well_6.fastq.gz\"  \"crispr_well_60.fastq.gz\"\n",
       "[59] \"crispr_well_61.fastq.gz\" \"crispr_well_62.fastq.gz\"\n",
       "[61] \"crispr_well_63.fastq.gz\" \"crispr_well_64.fastq.gz\"\n",
       "[63] \"crispr_well_65.fastq.gz\" \"crispr_well_66.fastq.gz\"\n",
       "[65] \"crispr_well_67.fastq.gz\" \"crispr_well_68.fastq.gz\"\n",
       "[67] \"crispr_well_69.fastq.gz\" \"crispr_well_7.fastq.gz\" \n",
       "[69] \"crispr_well_70.fastq.gz\" \"crispr_well_71.fastq.gz\"\n",
       "[71] \"crispr_well_72.fastq.gz\" \"crispr_well_73.fastq.gz\"\n",
       "[73] \"crispr_well_74.fastq.gz\" \"crispr_well_75.fastq.gz\"\n",
       "[75] \"crispr_well_76.fastq.gz\" \"crispr_well_77.fastq.gz\"\n",
       "[77] \"crispr_well_78.fastq.gz\" \"crispr_well_79.fastq.gz\"\n",
       "[79] \"crispr_well_8.fastq.gz\"  \"crispr_well_80.fastq.gz\"\n",
       "[81] \"crispr_well_81.fastq.gz\" \"crispr_well_82.fastq.gz\"\n",
       "[83] \"crispr_well_83.fastq.gz\" \"crispr_well_84.fastq.gz\"\n",
       "[85] \"crispr_well_85.fastq.gz\" \"crispr_well_86.fastq.gz\"\n",
       "[87] \"crispr_well_87.fastq.gz\" \"crispr_well_88.fastq.gz\"\n",
       "[89] \"crispr_well_89.fastq.gz\" \"crispr_well_9.fastq.gz\" \n",
       "[91] \"crispr_well_90.fastq.gz\" \"crispr_well_91.fastq.gz\"\n",
       "[93] \"crispr_well_92.fastq.gz\" \"crispr_well_93.fastq.gz\"\n",
       "[95] \"crispr_well_94.fastq.gz\" \"crispr_well_95.fastq.gz\""
      ]
     },
     "metadata": {},
     "output_type": "display_data"
    }
   ],
   "source": [
    "# again, you'll need to change this for yourself\n",
    "path <- 'crispr_96_data/'\n",
    "\n",
    "# get a list of files\n",
    "files <- list.files(path)\n",
    "\n",
    "# just to make our lives easier, let's sort this\n",
    "files <- sort(files)\n",
    "\n",
    "files"
   ]
  },
  {
   "cell_type": "code",
   "execution_count": 29,
   "metadata": {},
   "outputs": [
    {
     "name": "stderr",
     "output_type": "stream",
     "text": [
      "crispr_well_0.fastq.gz\n"
     ]
    },
    {
     "name": "stdout",
     "output_type": "stream",
     "text": [
      "[1] \"WT\" \"WT\"\n"
     ]
    },
    {
     "name": "stderr",
     "output_type": "stream",
     "text": [
      "crispr_well_1.fastq.gz\n"
     ]
    },
    {
     "name": "stdout",
     "output_type": "stream",
     "text": [
      "[1] \"GTCCAGCTGTGCAAGAGAATATTCCCGCTCTCCGGAGAAGCTCTTCCTTCTCGTGTCTTTGCACTGAAAGCTGTAACTCTAAGTATCAGTGTGAAACGGGAGAAAACAGTAAAGGCAACGTCCAGGATAGAGTGAAGCGACCCATGAACG\"\n",
      "[2] \"WT\"                                                                                                                                                    \n"
     ]
    },
    {
     "name": "stderr",
     "output_type": "stream",
     "text": [
      "crispr_well_10.fastq.gz\n"
     ]
    },
    {
     "name": "stdout",
     "output_type": "stream",
     "text": [
      "[1] \"WT\" \"WT\"\n"
     ]
    },
    {
     "name": "stderr",
     "output_type": "stream",
     "text": [
      "crispr_well_11.fastq.gz\n"
     ]
    },
    {
     "name": "stdout",
     "output_type": "stream",
     "text": [
      "[1] \"bad\" \"bad\"\n"
     ]
    },
    {
     "name": "stderr",
     "output_type": "stream",
     "text": [
      "crispr_well_12.fastq.gz\n"
     ]
    },
    {
     "name": "stdout",
     "output_type": "stream",
     "text": [
      "[1] \"WT\" \"WT\"\n"
     ]
    },
    {
     "name": "stderr",
     "output_type": "stream",
     "text": [
      "crispr_well_13.fastq.gz\n"
     ]
    },
    {
     "name": "stdout",
     "output_type": "stream",
     "text": [
      "[1] \"WT\"                                                                                                                                                    \n",
      "[2] \"GTCCAGCTGTGCAAGAGAATATTCCCGCTCTCCGGAGAAGCTCTTCCTTCCGTGACTTTGCACTGAAAGCTGTAACTCTAAGTATCAGTGTGAAACGGGAGAAAACAGTAAAGGCAACGTCCAGGATAGAGTGAAGCGACCCATGAACGC\"\n"
     ]
    },
    {
     "name": "stderr",
     "output_type": "stream",
     "text": [
      "crispr_well_14.fastq.gz\n"
     ]
    },
    {
     "name": "stdout",
     "output_type": "stream",
     "text": [
      "[1] \"WT\" \"WT\"\n"
     ]
    },
    {
     "name": "stderr",
     "output_type": "stream",
     "text": [
      "crispr_well_15.fastq.gz\n"
     ]
    },
    {
     "name": "stdout",
     "output_type": "stream",
     "text": [
      "[1] \"WT\"                                                                                                                                                    \n",
      "[2] \"GTCCAGCTGTGCAAGAGAATATTCCCGCTCTCCGGAGAAGCTCTTCCTTCGATGTTCGTCTTTGCACTGAAAGCTGTAACTCTAAGTATCAGTGTGAAACGGGAGAAAACAGTAAAGGCAACGTCCAGGATAGAGTGAAGCGACCCATGA\"\n"
     ]
    },
    {
     "name": "stderr",
     "output_type": "stream",
     "text": [
      "crispr_well_16.fastq.gz\n"
     ]
    },
    {
     "name": "stdout",
     "output_type": "stream",
     "text": [
      "[1] \"WT\" \"WT\"\n"
     ]
    },
    {
     "name": "stderr",
     "output_type": "stream",
     "text": [
      "crispr_well_17.fastq.gz\n"
     ]
    },
    {
     "name": "stdout",
     "output_type": "stream",
     "text": [
      "[1] \"WT\" \"WT\"\n"
     ]
    },
    {
     "name": "stderr",
     "output_type": "stream",
     "text": [
      "crispr_well_18.fastq.gz\n"
     ]
    },
    {
     "name": "stdout",
     "output_type": "stream",
     "text": [
      "[1] \"GTCCAGCTGTGCAAGAGAATATTCCCGCTCTCCGGAGAAGCTCTTCCTTCAGGCTTTGCACTGAAAGCTGTAACTCTAAGTATCAGTGTGAAACGGGAGAAAACAGTAAAGGCAACGTCCAGGATAGAGTGAAGCGACCCATGAACGCAT\"\n",
      "[2] \"GTCCAGCTGTGCAAGAGAATATTCCCGCTCTCCGGAGAAGCTCTTCCTTCTTGCACTGAAAGCTGTAACTCTAAGTATCAGTGTGAAACGGGAGAAAACAGTAAAGGCAACGTCCAGGATAGAGTGAAGCGACCCATGAACGCATTCATC\"\n"
     ]
    },
    {
     "name": "stderr",
     "output_type": "stream",
     "text": [
      "crispr_well_19.fastq.gz\n"
     ]
    },
    {
     "name": "stdout",
     "output_type": "stream",
     "text": [
      "[1] \"WT\" \"WT\"\n"
     ]
    },
    {
     "name": "stderr",
     "output_type": "stream",
     "text": [
      "crispr_well_2.fastq.gz\n"
     ]
    },
    {
     "name": "stdout",
     "output_type": "stream",
     "text": [
      "[1] \"WT\" \"WT\"\n"
     ]
    },
    {
     "name": "stderr",
     "output_type": "stream",
     "text": [
      "crispr_well_20.fastq.gz\n"
     ]
    },
    {
     "name": "stdout",
     "output_type": "stream",
     "text": [
      "[1] \"WT\"                                                                                                                                                    \n",
      "[2] \"GTCCAGCTGTGCAAGAGAATATTCCCGCTCTCCGGAGAAGCTCTTCCTTCTTTGCACTGAAAGCTGTAACTCTAAGTATCAGTGTGAAACGGGAGAAAACAGTAAAGGCAACGTCCAGGATAGAGTGAAGCGACCCATGAACGCATTCAT\"\n"
     ]
    },
    {
     "name": "stderr",
     "output_type": "stream",
     "text": [
      "crispr_well_21.fastq.gz\n"
     ]
    },
    {
     "name": "stdout",
     "output_type": "stream",
     "text": [
      "[1] \"bad\" \"bad\"\n"
     ]
    },
    {
     "name": "stderr",
     "output_type": "stream",
     "text": [
      "crispr_well_22.fastq.gz\n"
     ]
    },
    {
     "name": "stdout",
     "output_type": "stream",
     "text": [
      "[1] \"WT\" \"WT\"\n"
     ]
    },
    {
     "name": "stderr",
     "output_type": "stream",
     "text": [
      "crispr_well_23.fastq.gz\n"
     ]
    },
    {
     "name": "stdout",
     "output_type": "stream",
     "text": [
      "[1] \"WT\"                                                                                                                                                    \n",
      "[2] \"GTCCAGCTGTGCAAGAGAATATTCCCGCTCTCCGGAGAAGCTCTTCCTTCGAAAGCTGTAACTCTAAGTATCAGTGTGAAACGGGAGAAAACAGTAAAGGCAACGTCCAGGATAGAGTGAAGCGACCCATGAACGCATTCATCGTGTGGT\"\n"
     ]
    },
    {
     "name": "stderr",
     "output_type": "stream",
     "text": [
      "crispr_well_24.fastq.gz\n"
     ]
    },
    {
     "name": "stdout",
     "output_type": "stream",
     "text": [
      "[1] \"WT\" \"WT\"\n"
     ]
    },
    {
     "name": "stderr",
     "output_type": "stream",
     "text": [
      "crispr_well_25.fastq.gz\n"
     ]
    },
    {
     "name": "stdout",
     "output_type": "stream",
     "text": [
      "[1] \"WT\"                                                                                                                                                    \n",
      "[2] \"GTCCAGCTGTGCAAGAGAATATTCCCGCTCTCCGGAGAAGCTCTTCCTTCGCACTGAAAGCTGTAACTCTAAGTATCAGTGTGAAACGGGAGAAAACAGTAAAGGCAACGTCCAGGATAGAGTGAAGCGACCCATGAACGCATTCATCGT\"\n"
     ]
    },
    {
     "name": "stderr",
     "output_type": "stream",
     "text": [
      "crispr_well_26.fastq.gz\n"
     ]
    },
    {
     "name": "stdout",
     "output_type": "stream",
     "text": [
      "[1] \"GTCCAGCTGTGCAAGAGAATATTCCCGCTCTCCGGAGAAGCTCTTCCTTCTGAAAGCTGTAACTCTAAGTATCAGTGTGAAACGGGAGAAAACAGTAAAGGCAACGTCCAGGATAGAGTGAAGCGACCCATGAACGCATTCATCGTGTGG\"\n",
      "[2] \"WT\"                                                                                                                                                    \n"
     ]
    },
    {
     "name": "stderr",
     "output_type": "stream",
     "text": [
      "crispr_well_27.fastq.gz\n"
     ]
    },
    {
     "name": "stdout",
     "output_type": "stream",
     "text": [
      "[1] \"WT\" \"WT\"\n"
     ]
    },
    {
     "name": "stderr",
     "output_type": "stream",
     "text": [
      "crispr_well_28.fastq.gz\n"
     ]
    },
    {
     "name": "stdout",
     "output_type": "stream",
     "text": [
      "[1] \"WT\" \"WT\"\n"
     ]
    },
    {
     "name": "stderr",
     "output_type": "stream",
     "text": [
      "crispr_well_29.fastq.gz\n"
     ]
    },
    {
     "name": "stdout",
     "output_type": "stream",
     "text": [
      "[1] \"GTCCAGCTGTGCAAGAGAATATTCCCGCTCTCCGGAGAAGCTCTTCCTTCTTGCACTGAAAGCTGTAACTCTAAGTATCAGTGTGAAACGGGAGAAAACAGTAAAGGCAACGTCCAGGATAGAGTGAAGCGACCCATGAACGCATTCATC\"\n",
      "[2] \"WT\"                                                                                                                                                    \n"
     ]
    },
    {
     "name": "stderr",
     "output_type": "stream",
     "text": [
      "crispr_well_3.fastq.gz\n"
     ]
    },
    {
     "name": "stdout",
     "output_type": "stream",
     "text": [
      "[1] \"WT\"                                                                                                                                                    \n",
      "[2] \"GTCCAGCTGTGCAAGAGAATATTCCCGCTCTCCGGAGAAGCTCTTCCTTCGAAACAAAGCTTTGCACTGAAAGCTGTAACTCTAAGTATCAGTGTGAAACGGGAGAAAACAGTAAAGGCAACGTCCAGGATAGAGTGAAGCGACCCATGA\"\n"
     ]
    },
    {
     "name": "stderr",
     "output_type": "stream",
     "text": [
      "crispr_well_30.fastq.gz\n"
     ]
    },
    {
     "name": "stdout",
     "output_type": "stream",
     "text": [
      "[1] \"WT\" \"WT\"\n"
     ]
    },
    {
     "name": "stderr",
     "output_type": "stream",
     "text": [
      "crispr_well_31.fastq.gz\n"
     ]
    },
    {
     "name": "stdout",
     "output_type": "stream",
     "text": [
      "[1] \"WT\"                                                                                                                                                    \n",
      "[2] \"GTCCAGCTGTGCAAGAGAATATTCCCGCTCTCCGGAGAAGCTCTTCCTTCATCACTTTGCACTGAAAGCTGTAACTCTAAGTATCAGTGTGAAACGGGAGAAAACAGTAAAGGCAACGTCCAGGATAGAGTGAAGCGACCCATGAACGCA\"\n"
     ]
    },
    {
     "name": "stderr",
     "output_type": "stream",
     "text": [
      "crispr_well_32.fastq.gz\n"
     ]
    },
    {
     "name": "stdout",
     "output_type": "stream",
     "text": [
      "[1] \"WT\" \"WT\"\n"
     ]
    },
    {
     "name": "stderr",
     "output_type": "stream",
     "text": [
      "crispr_well_33.fastq.gz\n"
     ]
    },
    {
     "name": "stdout",
     "output_type": "stream",
     "text": [
      "[1] \"WT\" \"WT\"\n"
     ]
    },
    {
     "name": "stderr",
     "output_type": "stream",
     "text": [
      "crispr_well_34.fastq.gz\n"
     ]
    },
    {
     "name": "stdout",
     "output_type": "stream",
     "text": [
      "[1] \"WT\" \"WT\"\n"
     ]
    },
    {
     "name": "stderr",
     "output_type": "stream",
     "text": [
      "crispr_well_35.fastq.gz\n"
     ]
    },
    {
     "name": "stdout",
     "output_type": "stream",
     "text": [
      "[1] \"WT\"                                                                                                                                                    \n",
      "[2] \"GTCCAGCTGTGCAAGAGAATATTCCCGCTCTCCGGAGAAGCTCTTCCTTCGCCCCTTTGCACTGAAAGCTGTAACTCTAAGTATCAGTGTGAAACGGGAGAAAACAGTAAAGGCAACGTCCAGGATAGAGTGAAGCGACCCATGAACGCA\"\n"
     ]
    },
    {
     "name": "stderr",
     "output_type": "stream",
     "text": [
      "crispr_well_36.fastq.gz\n"
     ]
    },
    {
     "name": "stdout",
     "output_type": "stream",
     "text": [
      "[1] \"GTCCAGCTGTGCAAGAGAATATTCCCGCTCTCCGGAGAAGCTCTTCCTTCCTGAAAGCTGTAACTCTAAGTATCAGTGTGAAACGGGAGAAAACAGTAAAGGCAACGTCCAGGATAGAGTGAAGCGACCCATGAACGCATTCATCGTGTG\"\n",
      "[2] \"WT\"                                                                                                                                                    \n"
     ]
    },
    {
     "name": "stderr",
     "output_type": "stream",
     "text": [
      "crispr_well_37.fastq.gz\n"
     ]
    },
    {
     "name": "stdout",
     "output_type": "stream",
     "text": [
      "[1] \"WT\" \"WT\"\n"
     ]
    },
    {
     "name": "stderr",
     "output_type": "stream",
     "text": [
      "crispr_well_38.fastq.gz\n"
     ]
    },
    {
     "name": "stdout",
     "output_type": "stream",
     "text": [
      "[1] \"WT\" \"WT\"\n"
     ]
    },
    {
     "name": "stderr",
     "output_type": "stream",
     "text": [
      "crispr_well_39.fastq.gz\n"
     ]
    },
    {
     "name": "stdout",
     "output_type": "stream",
     "text": [
      "[1] \"GTCCAGCTGTGCAAGAGAATATTCCCGCTCTCCGGAGAAGCTCTTCCTTCCTGAAAGCTGTAACTCTAAGTATCAGTGTGAAACGGGAGAAAACAGTAAAGGCAACGTCCAGGATAGAGTGAAGCGACCCATGAACGCATTCATCGTGTG\"\n",
      "[2] \"GTCCAGCTGTGCAAGAGAATATTCCCGCTCTCCGGAGAAGCTCTTCCTTCGTCCGAGCTTTGCACTGAAAGCTGTAACTCTAAGTATCAGTGTGAAACGGGAGAAAACAGTAAAGGCAACGTCCAGGATAGAGTGAAGCGACCCATGAAC\"\n"
     ]
    },
    {
     "name": "stderr",
     "output_type": "stream",
     "text": [
      "crispr_well_4.fastq.gz\n"
     ]
    },
    {
     "name": "stdout",
     "output_type": "stream",
     "text": [
      "[1] \"WT\"                                                                                                                                                    \n",
      "[2] \"GTCCAGCTGTGCAAGAGAATATTCCCGCTCTCCGGAGAAGCTCTTCCTTCGCACTGAAAGCTGTAACTCTAAGTATCAGTGTGAAACGGGAGAAAACAGTAAAGGCAACGTCCAGGATAGAGTGAAGCGACCCATGAACGCATTCATCGT\"\n"
     ]
    },
    {
     "name": "stderr",
     "output_type": "stream",
     "text": [
      "crispr_well_40.fastq.gz\n"
     ]
    },
    {
     "name": "stdout",
     "output_type": "stream",
     "text": [
      "[1] \"GTCCAGCTGTGCAAGAGAATATTCCCGCTCTCCGGAGAAGCTCTTCCTTCGACTTTGCACTGAAAGCTGTAACTCTAAGTATCAGTGTGAAACGGGAGAAAACAGTAAAGGCAACGTCCAGGATAGAGTGAAGCGACCCATGAACGCATT\"\n",
      "[2] \"GTCCAGCTGTGCAAGAGAATATTCCCGCTCTCCGGAGAAGCTCTTCCTTCTTGCACTGAAAGCTGTAACTCTAAGTATCAGTGTGAAACGGGAGAAAACAGTAAAGGCAACGTCCAGGATAGAGTGAAGCGACCCATGAACGCATTCATC\"\n"
     ]
    },
    {
     "name": "stderr",
     "output_type": "stream",
     "text": [
      "crispr_well_41.fastq.gz\n"
     ]
    },
    {
     "name": "stdout",
     "output_type": "stream",
     "text": [
      "[1] \"WT\"                                                                                                                                                    \n",
      "[2] \"GTCCAGCTGTGCAAGAGAATATTCCCGCTCTCCGGAGAAGCTCTTCCTTCCCGTTCCTTTGCACTGAAAGCTGTAACTCTAAGTATCAGTGTGAAACGGGAGAAAACAGTAAAGGCAACGTCCAGGATAGAGTGAAGCGACCCATGAACG\"\n"
     ]
    },
    {
     "name": "stderr",
     "output_type": "stream",
     "text": [
      "crispr_well_42.fastq.gz\n"
     ]
    },
    {
     "name": "stdout",
     "output_type": "stream",
     "text": [
      "[1] \"GTCCAGCTGTGCAAGAGAATATTCCCGCTCTCCGGAGAAGCTCTTCCTTCAGGCGCTTTGCACTGAAAGCTGTAACTCTAAGTATCAGTGTGAAACGGGAGAAAACAGTAAAGGCAACGTCCAGGATAGAGTGAAGCGACCCATGAACGC\"\n",
      "[2] \"WT\"                                                                                                                                                    \n"
     ]
    },
    {
     "name": "stderr",
     "output_type": "stream",
     "text": [
      "crispr_well_43.fastq.gz\n"
     ]
    },
    {
     "name": "stdout",
     "output_type": "stream",
     "text": [
      "[1] \"WT\" \"WT\"\n"
     ]
    },
    {
     "name": "stderr",
     "output_type": "stream",
     "text": [
      "crispr_well_44.fastq.gz\n"
     ]
    },
    {
     "name": "stdout",
     "output_type": "stream",
     "text": [
      "[1] \"WT\" \"WT\"\n"
     ]
    },
    {
     "name": "stderr",
     "output_type": "stream",
     "text": [
      "crispr_well_45.fastq.gz\n"
     ]
    },
    {
     "name": "stdout",
     "output_type": "stream",
     "text": [
      "[1] \"GTCCAGCTGTGCAAGAGAATATTCCCGCTCTCCGGAGAAGCTCTTCCTTCCCTAAGGGTGCTTTGCACTGAAAGCTGTAACTCTAAGTATCAGTGTGAAACGGGAGAAAACAGTAAAGGCAACGTCCAGGATAGAGTGAAGCGACCCATG\"\n",
      "[2] \"GTCCAGCTGTGCAAGAGAATATTCCCGCTCTCCGGAGAAGCTCTTCCTTCTGCACTGAAAGCTGTAACTCTAAGTATCAGTGTGAAACGGGAGAAAACAGTAAAGGCAACGTCCAGGATAGAGTGAAGCGACCCATGAACGCATTCATCG\"\n"
     ]
    },
    {
     "name": "stderr",
     "output_type": "stream",
     "text": [
      "crispr_well_46.fastq.gz\n"
     ]
    },
    {
     "name": "stdout",
     "output_type": "stream",
     "text": [
      "[1] \"bad\" \"bad\"\n"
     ]
    },
    {
     "name": "stderr",
     "output_type": "stream",
     "text": [
      "crispr_well_47.fastq.gz\n"
     ]
    },
    {
     "name": "stdout",
     "output_type": "stream",
     "text": [
      "[1] \"GTCCAGCTGTGCAAGAGAATATTCCCGCTCTCCGGAGAAGCTCTTCCTTCTCTTTGCACTGAAAGCTGTAACTCTAAGTATCAGTGTGAAACGGGAGAAAACAGTAAAGGCAACGTCCAGGATAGAGTGAAGCGACCCATGAACGCATTC\"\n",
      "[2] \"WT\"                                                                                                                                                    \n"
     ]
    },
    {
     "name": "stderr",
     "output_type": "stream",
     "text": [
      "crispr_well_48.fastq.gz\n"
     ]
    },
    {
     "name": "stdout",
     "output_type": "stream",
     "text": [
      "[1] \"WT\" \"WT\"\n"
     ]
    },
    {
     "name": "stderr",
     "output_type": "stream",
     "text": [
      "crispr_well_49.fastq.gz\n"
     ]
    },
    {
     "name": "stdout",
     "output_type": "stream",
     "text": [
      "[1] \"bad\" \"bad\"\n"
     ]
    },
    {
     "name": "stderr",
     "output_type": "stream",
     "text": [
      "crispr_well_5.fastq.gz\n"
     ]
    },
    {
     "name": "stdout",
     "output_type": "stream",
     "text": [
      "[1] \"bad\" \"bad\"\n"
     ]
    },
    {
     "name": "stderr",
     "output_type": "stream",
     "text": [
      "crispr_well_50.fastq.gz\n"
     ]
    },
    {
     "name": "stdout",
     "output_type": "stream",
     "text": [
      "[1] \"GTCCAGCTGTGCAAGAGAATATTCCCGCTCTCCGGAGAAGCTCTTCCTTCATTTGCACTTTGCACTGAAAGCTGTAACTCTAAGTATCAGTGTGAAACGGGAGAAAACAGTAAAGGCAACGTCCAGGATAGAGTGAAGCGACCCATGAAC\"\n",
      "[2] \"WT\"                                                                                                                                                    \n"
     ]
    },
    {
     "name": "stderr",
     "output_type": "stream",
     "text": [
      "crispr_well_51.fastq.gz\n"
     ]
    },
    {
     "name": "stdout",
     "output_type": "stream",
     "text": [
      "[1] \"WT\" \"WT\"\n"
     ]
    },
    {
     "name": "stderr",
     "output_type": "stream",
     "text": [
      "crispr_well_52.fastq.gz\n"
     ]
    },
    {
     "name": "stdout",
     "output_type": "stream",
     "text": [
      "[1] \"WT\"                                                                                                                                                    \n",
      "[2] \"GTCCAGCTGTGCAAGAGAATATTCCCGCTCTCCGGAGAAGCTCTTCCTTCACTGAAAGCTGTAACTCTAAGTATCAGTGTGAAACGGGAGAAAACAGTAAAGGCAACGTCCAGGATAGAGTGAAGCGACCCATGAACGCATTCATCGTGT\"\n"
     ]
    },
    {
     "name": "stderr",
     "output_type": "stream",
     "text": [
      "crispr_well_53.fastq.gz\n"
     ]
    },
    {
     "name": "stdout",
     "output_type": "stream",
     "text": [
      "[1] \"GTCCAGCTGTGCAAGAGAATATTCCCGCTCTCCGGAGAAGCTCTTCCTTCTCTTTGCACTGAAAGCTGTAACTCTAAGTATCAGTGTGAAACGGGAGAAAACAGTAAAGGCAACGTCCAGGATAGAGTGAAGCGACCCATGAACGCATTC\"\n",
      "[2] \"WT\"                                                                                                                                                    \n"
     ]
    },
    {
     "name": "stderr",
     "output_type": "stream",
     "text": [
      "crispr_well_54.fastq.gz\n"
     ]
    },
    {
     "name": "stdout",
     "output_type": "stream",
     "text": [
      "[1] \"WT\"                                                                                                                                                    \n",
      "[2] \"GTCCAGCTGTGCAAGAGAATATTCCCGCTCTCCGGAGAAGCTCTTCCTTCAAAGCTGTAACTCTAAGTATCAGTGTGAAACGGGAGAAAACAGTAAAGGCAACGTCCAGGATAGAGTGAAGCGACCCATGAACGCATTCATCGTGTGGTC\"\n"
     ]
    },
    {
     "name": "stderr",
     "output_type": "stream",
     "text": [
      "crispr_well_55.fastq.gz\n"
     ]
    },
    {
     "name": "stdout",
     "output_type": "stream",
     "text": [
      "[1] \"bad\" \"bad\"\n"
     ]
    },
    {
     "name": "stderr",
     "output_type": "stream",
     "text": [
      "crispr_well_56.fastq.gz\n"
     ]
    },
    {
     "name": "stdout",
     "output_type": "stream",
     "text": [
      "[1] \"GTCCAGCTGTGCAAGAGAATATTCCCGCTCTCCGGAGAAGCTCTTCCTTCTGAAAGCTGTAACTCTAAGTATCAGTGTGAAACGGGAGAAAACAGTAAAGGCAACGTCCAGGATAGAGTGAAGCGACCCATGAACGCATTCATCGTGTGG\"\n",
      "[2] \"GTCCAGCTGTGCAAGAGAATATTCCCGCTCTCCGGAGAAGCTCTTCCTTCTACCTACTTTGCACTGAAAGCTGTAACTCTAAGTATCAGTGTGAAACGGGAGAAAACAGTAAAGGCAACGTCCAGGATAGAGTGAAGCGACCCATGAACG\"\n"
     ]
    },
    {
     "name": "stderr",
     "output_type": "stream",
     "text": [
      "crispr_well_57.fastq.gz\n"
     ]
    },
    {
     "name": "stdout",
     "output_type": "stream",
     "text": [
      "[1] \"WT\" \"WT\"\n"
     ]
    },
    {
     "name": "stderr",
     "output_type": "stream",
     "text": [
      "crispr_well_58.fastq.gz\n"
     ]
    },
    {
     "name": "stdout",
     "output_type": "stream",
     "text": [
      "[1] \"WT\" \"WT\"\n"
     ]
    },
    {
     "name": "stderr",
     "output_type": "stream",
     "text": [
      "crispr_well_59.fastq.gz\n"
     ]
    },
    {
     "name": "stdout",
     "output_type": "stream",
     "text": [
      "[1] \"WT\"                                                                                                                                                    \n",
      "[2] \"GTCCAGCTGTGCAAGAGAATATTCCCGCTCTCCGGAGAAGCTCTTCCTTCAGTTCCCTTTGCACTGAAAGCTGTAACTCTAAGTATCAGTGTGAAACGGGAGAAAACAGTAAAGGCAACGTCCAGGATAGAGTGAAGCGACCCATGAACG\"\n"
     ]
    },
    {
     "name": "stderr",
     "output_type": "stream",
     "text": [
      "crispr_well_6.fastq.gz\n"
     ]
    },
    {
     "name": "stdout",
     "output_type": "stream",
     "text": [
      "[1] \"WT\"                                                                                                                                                    \n",
      "[2] \"GTCCAGCTGTGCAAGAGAATATTCCCGCTCTCCGGAGAAGCTCTTCCTTCTAAAAGCTTTGCACTGAAAGCTGTAACTCTAAGTATCAGTGTGAAACGGGAGAAAACAGTAAAGGCAACGTCCAGGATAGAGTGAAGCGACCCATGAACG\"\n"
     ]
    },
    {
     "name": "stderr",
     "output_type": "stream",
     "text": [
      "crispr_well_60.fastq.gz\n"
     ]
    },
    {
     "name": "stdout",
     "output_type": "stream",
     "text": [
      "[1] \"WT\" \"WT\"\n"
     ]
    },
    {
     "name": "stderr",
     "output_type": "stream",
     "text": [
      "crispr_well_61.fastq.gz\n"
     ]
    },
    {
     "name": "stdout",
     "output_type": "stream",
     "text": [
      "[1] \"WT\" \"WT\"\n"
     ]
    },
    {
     "name": "stderr",
     "output_type": "stream",
     "text": [
      "crispr_well_62.fastq.gz\n"
     ]
    },
    {
     "name": "stdout",
     "output_type": "stream",
     "text": [
      "[1] \"WT\" \"WT\"\n"
     ]
    },
    {
     "name": "stderr",
     "output_type": "stream",
     "text": [
      "crispr_well_63.fastq.gz\n"
     ]
    },
    {
     "name": "stdout",
     "output_type": "stream",
     "text": [
      "[1] \"WT\" \"WT\"\n"
     ]
    },
    {
     "name": "stderr",
     "output_type": "stream",
     "text": [
      "crispr_well_64.fastq.gz\n"
     ]
    },
    {
     "name": "stdout",
     "output_type": "stream",
     "text": [
      "[1] \"GTCCAGCTGTGCAAGAGAATATTCCCGCTCTCCGGAGAAGCTCTTCCTTCACTAAGTGCTTTGCACTGAAAGCTGTAACTCTAAGTATCAGTGTGAAACGGGAGAAAACAGTAAAGGCAACGTCCAGGATAGAGTGAAGCGACCCATGAA\"\n",
      "[2] \"WT\"                                                                                                                                                    \n"
     ]
    },
    {
     "name": "stderr",
     "output_type": "stream",
     "text": [
      "crispr_well_65.fastq.gz\n"
     ]
    },
    {
     "name": "stdout",
     "output_type": "stream",
     "text": [
      "[1] \"GTCCAGCTGTGCAAGAGAATATTCCCGCTCTCCGGAGAAGCTCTTCCTTCGAAAGCTGTAACTCTAAGTATCAGTGTGAAACGGGAGAAAACAGTAAAGGCAACGTCCAGGATAGAGTGAAGCGACCCATGAACGCATTCATCGTGTGGT\"\n",
      "[2] \"GTCCAGCTGTGCAAGAGAATATTCCCGCTCTCCGGAGAAGCTCTTCCTTCTTGCACTGAAAGCTGTAACTCTAAGTATCAGTGTGAAACGGGAGAAAACAGTAAAGGCAACGTCCAGGATAGAGTGAAGCGACCCATGAACGCATTCATC\"\n"
     ]
    },
    {
     "name": "stderr",
     "output_type": "stream",
     "text": [
      "crispr_well_66.fastq.gz\n"
     ]
    },
    {
     "name": "stdout",
     "output_type": "stream",
     "text": [
      "[1] \"WT\" \"WT\"\n"
     ]
    },
    {
     "name": "stderr",
     "output_type": "stream",
     "text": [
      "crispr_well_67.fastq.gz\n"
     ]
    },
    {
     "name": "stdout",
     "output_type": "stream",
     "text": [
      "[1] \"GTCCAGCTGTGCAAGAGAATATTCCCGCTCTCCGGAGAAGCTCTTCCTTCAAAGCTGTAACTCTAAGTATCAGTGTGAAACGGGAGAAAACAGTAAAGGCAACGTCCAGGATAGAGTGAAGCGACCCATGAACGCATTCATCGTGTGGTC\"\n",
      "[2] \"WT\"                                                                                                                                                    \n"
     ]
    },
    {
     "name": "stderr",
     "output_type": "stream",
     "text": [
      "crispr_well_68.fastq.gz\n"
     ]
    },
    {
     "name": "stdout",
     "output_type": "stream",
     "text": [
      "[1] \"GTCCAGCTGTGCAAGAGAATATTCCCGCTCTCCGGAGAAGCTCTTCCTTCGATCCCTTACTTTGCACTGAAAGCTGTAACTCTAAGTATCAGTGTGAAACGGGAGAAAACAGTAAAGGCAACGTCCAGGATAGAGTGAAGCGACCCATGA\"\n",
      "[2] \"WT\"                                                                                                                                                    \n"
     ]
    },
    {
     "name": "stderr",
     "output_type": "stream",
     "text": [
      "crispr_well_69.fastq.gz\n"
     ]
    },
    {
     "name": "stdout",
     "output_type": "stream",
     "text": [
      "[1] \"GTCCAGCTGTGCAAGAGAATATTCCCGCTCTCCGGAGAAGCTCTTCCTTCCTGAAAGCTGTAACTCTAAGTATCAGTGTGAAACGGGAGAAAACAGTAAAGGCAACGTCCAGGATAGAGTGAAGCGACCCATGAACGCATTCATCGTGTG\"\n",
      "[2] \"WT\"                                                                                                                                                    \n"
     ]
    },
    {
     "name": "stderr",
     "output_type": "stream",
     "text": [
      "crispr_well_7.fastq.gz\n"
     ]
    },
    {
     "name": "stdout",
     "output_type": "stream",
     "text": [
      "[1] \"WT\" \"WT\"\n"
     ]
    },
    {
     "name": "stderr",
     "output_type": "stream",
     "text": [
      "crispr_well_70.fastq.gz\n"
     ]
    },
    {
     "name": "stdout",
     "output_type": "stream",
     "text": [
      "[1] \"bad\" \"bad\"\n"
     ]
    },
    {
     "name": "stderr",
     "output_type": "stream",
     "text": [
      "crispr_well_71.fastq.gz\n"
     ]
    },
    {
     "name": "stdout",
     "output_type": "stream",
     "text": [
      "[1] \"WT\" \"WT\"\n"
     ]
    },
    {
     "name": "stderr",
     "output_type": "stream",
     "text": [
      "crispr_well_72.fastq.gz\n"
     ]
    },
    {
     "name": "stdout",
     "output_type": "stream",
     "text": [
      "[1] \"GTCCAGCTGTGCAAGAGAATATTCCCGCTCTCCGGAGAAGCTCTTCCTTCTTTGCACTGAAAGCTGTAACTCTAAGTATCAGTGTGAAACGGGAGAAAACAGTAAAGGCAACGTCCAGGATAGAGTGAAGCGACCCATGAACGCATTCAT\"\n",
      "[2] \"WT\"                                                                                                                                                    \n"
     ]
    },
    {
     "name": "stderr",
     "output_type": "stream",
     "text": [
      "crispr_well_73.fastq.gz\n"
     ]
    },
    {
     "name": "stdout",
     "output_type": "stream",
     "text": [
      "[1] \"WT\" \"WT\"\n"
     ]
    },
    {
     "name": "stderr",
     "output_type": "stream",
     "text": [
      "crispr_well_74.fastq.gz\n"
     ]
    },
    {
     "name": "stdout",
     "output_type": "stream",
     "text": [
      "[1] \"GTCCAGCTGTGCAAGAGAATATTCCCGCTCTCCGGAGAAGCTCTTCCTTCTGAAAGCTGTAACTCTAAGTATCAGTGTGAAACGGGAGAAAACAGTAAAGGCAACGTCCAGGATAGAGTGAAGCGACCCATGAACGCATTCATCGTGTGG\"\n",
      "[2] \"WT\"                                                                                                                                                    \n"
     ]
    },
    {
     "name": "stderr",
     "output_type": "stream",
     "text": [
      "crispr_well_75.fastq.gz\n"
     ]
    },
    {
     "name": "stdout",
     "output_type": "stream",
     "text": [
      "[1] \"GTCCAGCTGTGCAAGAGAATATTCCCGCTCTCCGGAGAAGCTCTTCCTTCCACTGAAAGCTGTAACTCTAAGTATCAGTGTGAAACGGGAGAAAACAGTAAAGGCAACGTCCAGGATAGAGTGAAGCGACCCATGAACGCATTCATCGTG\"\n",
      "[2] \"GTCCAGCTGTGCAAGAGAATATTCCCGCTCTCCGGAGAAGCTCTTCCTTCGAAAGCTGTAACTCTAAGTATCAGTGTGAAACGGGAGAAAACAGTAAAGGCAACGTCCAGGATAGAGTGAAGCGACCCATGAACGCATTCATCGTGTGGT\"\n"
     ]
    },
    {
     "name": "stderr",
     "output_type": "stream",
     "text": [
      "crispr_well_76.fastq.gz\n"
     ]
    },
    {
     "name": "stdout",
     "output_type": "stream",
     "text": [
      "[1] \"GTCCAGCTGTGCAAGAGAATATTCCCGCTCTCCGGAGAAGCTCTTCCTTCACTGAAAGCTGTAACTCTAAGTATCAGTGTGAAACGGGAGAAAACAGTAAAGGCAACGTCCAGGATAGAGTGAAGCGACCCATGAACGCATTCATCGTGT\"\n",
      "[2] \"GTCCAGCTGTGCAAGAGAATATTCCCGCTCTCCGGAGAAGCTCTTCCTTCAATCTTTGCACTGAAAGCTGTAACTCTAAGTATCAGTGTGAAACGGGAGAAAACAGTAAAGGCAACGTCCAGGATAGAGTGAAGCGACCCATGAACGCAT\"\n"
     ]
    },
    {
     "name": "stderr",
     "output_type": "stream",
     "text": [
      "crispr_well_77.fastq.gz\n"
     ]
    },
    {
     "name": "stdout",
     "output_type": "stream",
     "text": [
      "[1] \"WT\" \"WT\"\n"
     ]
    },
    {
     "name": "stderr",
     "output_type": "stream",
     "text": [
      "crispr_well_78.fastq.gz\n"
     ]
    },
    {
     "name": "stdout",
     "output_type": "stream",
     "text": [
      "[1] \"WT\" \"WT\"\n"
     ]
    },
    {
     "name": "stderr",
     "output_type": "stream",
     "text": [
      "crispr_well_79.fastq.gz\n"
     ]
    },
    {
     "name": "stdout",
     "output_type": "stream",
     "text": [
      "[1] \"GTCCAGCTGTGCAAGAGAATATTCCCGCTCTCCGGAGAAGCTCTTCCTTCGGTGACCTTTGCACTGAAAGCTGTAACTCTAAGTATCAGTGTGAAACGGGAGAAAACAGTAAAGGCAACGTCCAGGATAGAGTGAAGCGACCCATGAACG\"\n",
      "[2] \"WT\"                                                                                                                                                    \n"
     ]
    },
    {
     "name": "stderr",
     "output_type": "stream",
     "text": [
      "crispr_well_8.fastq.gz\n"
     ]
    },
    {
     "name": "stdout",
     "output_type": "stream",
     "text": [
      "[1] \"WT\" \"WT\"\n"
     ]
    },
    {
     "name": "stderr",
     "output_type": "stream",
     "text": [
      "crispr_well_80.fastq.gz\n"
     ]
    },
    {
     "name": "stdout",
     "output_type": "stream",
     "text": [
      "[1] \"GTCCAGCTGTGCAAGAGAATATTCCCGCTCTCCGGAGAAGCTCTTCCTTCACTGAAAGCTGTAACTCTAAGTATCAGTGTGAAACGGGAGAAAACAGTAAAGGCAACGTCCAGGATAGAGTGAAGCGACCCATGAACGCATTCATCGTGT\"\n",
      "[2] \"GTCCAGCTGTGCAAGAGAATATTCCCGCTCTCCGGAGAAGCTCTTCCTTCTGAAAGCTGTAACTCTAAGTATCAGTGTGAAACGGGAGAAAACAGTAAAGGCAACGTCCAGGATAGAGTGAAGCGACCCATGAACGCATTCATCGTGTGG\"\n"
     ]
    },
    {
     "name": "stderr",
     "output_type": "stream",
     "text": [
      "crispr_well_81.fastq.gz\n"
     ]
    },
    {
     "name": "stdout",
     "output_type": "stream",
     "text": [
      "[1] \"WT\" \"WT\"\n"
     ]
    },
    {
     "name": "stderr",
     "output_type": "stream",
     "text": [
      "crispr_well_82.fastq.gz\n"
     ]
    },
    {
     "name": "stdout",
     "output_type": "stream",
     "text": [
      "[1] \"WT\" \"WT\"\n"
     ]
    },
    {
     "name": "stderr",
     "output_type": "stream",
     "text": [
      "crispr_well_83.fastq.gz\n"
     ]
    },
    {
     "name": "stdout",
     "output_type": "stream",
     "text": [
      "[1] \"WT\" \"WT\"\n"
     ]
    },
    {
     "name": "stderr",
     "output_type": "stream",
     "text": [
      "crispr_well_84.fastq.gz\n"
     ]
    },
    {
     "name": "stdout",
     "output_type": "stream",
     "text": [
      "[1] \"GTCCAGCTGTGCAAGAGAATATTCCCGCTCTCCGGAGAAGCTCTTCCTTCAGTACCTTTGCACTGAAAGCTGTAACTCTAAGTATCAGTGTGAAACGGGAGAAAACAGTAAAGGCAACGTCCAGGATAGAGTGAAGCGACCCATGAACGC\"\n",
      "[2] \"WT\"                                                                                                                                                    \n"
     ]
    },
    {
     "name": "stderr",
     "output_type": "stream",
     "text": [
      "crispr_well_85.fastq.gz\n"
     ]
    },
    {
     "name": "stdout",
     "output_type": "stream",
     "text": [
      "[1] \"WT\" \"WT\"\n"
     ]
    },
    {
     "name": "stderr",
     "output_type": "stream",
     "text": [
      "crispr_well_86.fastq.gz\n"
     ]
    },
    {
     "name": "stdout",
     "output_type": "stream",
     "text": [
      "[1] \"WT\" \"WT\"\n"
     ]
    },
    {
     "name": "stderr",
     "output_type": "stream",
     "text": [
      "crispr_well_87.fastq.gz\n"
     ]
    },
    {
     "name": "stdout",
     "output_type": "stream",
     "text": [
      "[1] \"GTCCAGCTGTGCAAGAGAATATTCCCGCTCTCCGGAGAAGCTCTTCCTTCTGCACTTTGCACTGAAAGCTGTAACTCTAAGTATCAGTGTGAAACGGGAGAAAACAGTAAAGGCAACGTCCAGGATAGAGTGAAGCGACCCATGAACGCA\"\n",
      "[2] \"GTCCAGCTGTGCAAGAGAATATTCCCGCTCTCCGGAGAAGCTCTTCCTTCTTAGCGACTTTGCACTGAAAGCTGTAACTCTAAGTATCAGTGTGAAACGGGAGAAAACAGTAAAGGCAACGTCCAGGATAGAGTGAAGCGACCCATGAAC\"\n"
     ]
    },
    {
     "name": "stderr",
     "output_type": "stream",
     "text": [
      "crispr_well_88.fastq.gz\n"
     ]
    },
    {
     "name": "stdout",
     "output_type": "stream",
     "text": [
      "[1] \"WT\" \"WT\"\n"
     ]
    },
    {
     "name": "stderr",
     "output_type": "stream",
     "text": [
      "crispr_well_89.fastq.gz\n"
     ]
    },
    {
     "name": "stdout",
     "output_type": "stream",
     "text": [
      "[1] \"WT\" \"WT\"\n"
     ]
    },
    {
     "name": "stderr",
     "output_type": "stream",
     "text": [
      "crispr_well_9.fastq.gz\n"
     ]
    },
    {
     "name": "stdout",
     "output_type": "stream",
     "text": [
      "[1] \"WT\"                                                                                                                                                    \n",
      "[2] \"GTCCAGCTGTGCAAGAGAATATTCCCGCTCTCCGGAGAAGCTCTTCCTTCGCTTTGCACTGAAAGCTGTAACTCTAAGTATCAGTGTGAAACGGGAGAAAACAGTAAAGGCAACGTCCAGGATAGAGTGAAGCGACCCATGAACGCATTC\"\n"
     ]
    },
    {
     "name": "stderr",
     "output_type": "stream",
     "text": [
      "crispr_well_90.fastq.gz\n"
     ]
    },
    {
     "name": "stdout",
     "output_type": "stream",
     "text": [
      "[1] \"WT\"                                                                                                                                                    \n",
      "[2] \"GTCCAGCTGTGCAAGAGAATATTCCCGCTCTCCGGAGAAGCTCTTCCTTCGAAAGCTGTAACTCTAAGTATCAGTGTGAAACGGGAGAAAACAGTAAAGGCAACGTCCAGGATAGAGTGAAGCGACCCATGAACGCATTCATCGTGTGGT\"\n"
     ]
    },
    {
     "name": "stderr",
     "output_type": "stream",
     "text": [
      "crispr_well_91.fastq.gz\n"
     ]
    },
    {
     "name": "stdout",
     "output_type": "stream",
     "text": [
      "[1] \"WT\" \"WT\"\n"
     ]
    },
    {
     "name": "stderr",
     "output_type": "stream",
     "text": [
      "crispr_well_92.fastq.gz\n"
     ]
    },
    {
     "name": "stdout",
     "output_type": "stream",
     "text": [
      "[1] \"WT\" \"WT\"\n"
     ]
    },
    {
     "name": "stderr",
     "output_type": "stream",
     "text": [
      "crispr_well_93.fastq.gz\n"
     ]
    },
    {
     "name": "stdout",
     "output_type": "stream",
     "text": [
      "[1] \"WT\" \"WT\"\n"
     ]
    },
    {
     "name": "stderr",
     "output_type": "stream",
     "text": [
      "crispr_well_94.fastq.gz\n"
     ]
    },
    {
     "name": "stdout",
     "output_type": "stream",
     "text": [
      "[1] \"GTCCAGCTGTGCAAGAGAATATTCCCGCTCTCCGGAGAAGCTCTTCCTTCCACTGAAAGCTGTAACTCTAAGTATCAGTGTGAAACGGGAGAAAACAGTAAAGGCAACGTCCAGGATAGAGTGAAGCGACCCATGAACGCATTCATCGTG\"\n",
      "[2] \"WT\"                                                                                                                                                    \n"
     ]
    },
    {
     "name": "stderr",
     "output_type": "stream",
     "text": [
      "crispr_well_95.fastq.gz\n"
     ]
    },
    {
     "name": "stdout",
     "output_type": "stream",
     "text": [
      "[1] \"WT\" \"WT\"\n"
     ]
    }
   ],
   "source": [
    "wt_reference = 'GTCCAGCTGTGCAAGAGAATATTCCCGCTCTCCGGAGAAGCTCTTCCTTCCTTTGCACTGAAAGCTGTAACTCTAAGTATCAGTGTGAAACGGGAGAAAACAGTAAAGGCAACGTCCAGGATAGAGTGAAGCGACCCATGAACGCATTCA'\n",
    "\n",
    "for (fn in files) {\n",
    "    message(fn)\n",
    "    path_to_file <- paste0(path, fn)\n",
    "    \n",
    "    file_table <- process_file(path_to_file)\n",
    "    file_results <- genotype(file_table, wt_reference)\n",
    "    \n",
    "    print(file_results)\n",
    "}"
   ]
  },
  {
   "cell_type": "markdown",
   "metadata": {},
   "source": [
    "#### You should have now printed the results for each file!\n",
    "\n",
    "Now, let's save the results in a new text file.  I'm going to provide a template where it just writes the same result for everything, but you'll need to modify it to process the files and write the actual results.\n",
    "\n",
    "#### For the last part, outputting the results, it would be nice to know not just whether it is WT or mutant, but also some other information:\n",
    "\n",
    "* How many reads total did each well get? (as an integer - no decimal point)\n",
    "* What % of reads were for the first allele? (rounded to two decimal places)\n",
    "* What % of reads were for the second allele? (also rounded to two decimal places)\n",
    "* <i> In the case of a homozygous well (WT or mutant), only report a single allele and single percentage </i>\n",
    "* <i> In the case of a bad well, still report the number of reads and the percent for each of the top two alleles </i>\n",
    "    \n",
    "You'll need to create a new function, genotype2(), to output not just the genotyping results (e.g., c('WT','sequenceofmutantallele')) but also the above information.  As an example, this could be c(10000, 'WT', 45.55, 'sequenceofmutantallele', 43.28).\n",
    "\n",
    "At the end we will merge the data from each file into a new matrix and write the full table to a file. Don't forget to add the name of the file as a column so we know which file the result came from!\n",
    "\n",
    "Second, we want to round the percentages to two decimal places.  R has a built in round() function, which you'll need to look up how to use (**?round** or look at https://www.rdocumentation.org/packages/base/versions/3.6.2/topics/Round) - it's important to know how to look things up that you don't know how to use, and learn how to read the documentation for something.\n",
    "\n",
    "I'd recommend first just trying to get the existing genotype() function working here - just output the allele results and make sure you can do that.  Then, make genotype2() (and just copy in the code for genotype()) and modify it to add in each piece of information, one by one.  In other words, try to do things step-by-step, adding things in one-by-one, rather than doing everything at once - this will make it easier to troubleshoot because you're changing fewer things at a time.\n",
    "\n",
    "<b>Here is what we are doing with the additional lines:</b> Initiating an empty matrix which we can add our output to. Then we use the rbind function to add the new row generated by the genotype2 function (why do we need to use the transpose **t** function here?). Finally we write the results to our output file.\n",
    "\n",
    "Feel free to play around with different things. What if you want to make the end file comma delimted (',') as opposed to tab delimited ('\\t')?]\n",
    "\n",
    "#### Also, since we're outputting in a tab delimited text format (the two main formats are either tab separated (usually .txt or .tsv) or comma separated (.csv)), you should be able to open your resulting file in Excel and look at it there (or in any other text editor)."
   ]
  },
  {
   "cell_type": "code",
   "execution_count": 30,
   "metadata": {},
   "outputs": [],
   "source": [
    "genotype2 <- function(c, wt_reference) {\n",
    "    dat <- data.frame(sort(c, decreasing = TRUE))\n",
    "    dat[,1] <- as.character(dat[,1])\n",
    "    dat$percent <- dat$Freq / sum(dat$Freq)\n",
    "    totalReads <- sum(dat$Freq)\n",
    "    allele1Reads <- round(dat$percent[1] * 100, 2)\n",
    "    allele2Reads <- round(dat$percent[1] * 100, 2)\n",
    "    if (dat[1,1] == wt_reference & dat$percent[1] >= 0.8) {\n",
    "        return(c(totalReads, \"WT\", allele1Reads, \"WT\", NA))\n",
    "    } else if (dat$percent[1] < 0.4) {\n",
    "        return(c(totalReads,\"bad\", allele1Reads, \"bad\", allele2Reads))\n",
    "    } else if (dat$percent[2] < 0.4) {\n",
    "        return(c(totalReads,\"bad\", allele1Reads, \"bad\", allele2Reads))\n",
    "    } else {\n",
    "        dat[,1][dat[,1] == wt_reference] <- \"WT\"\n",
    "        return(c(totalReads,dat[1,1], allele1Reads, dat[2,1], allele2Reads))\n",
    "    }\n",
    "}"
   ]
  },
  {
   "cell_type": "code",
   "execution_count": 31,
   "metadata": {},
   "outputs": [],
   "source": [
    "# change the start of this to match your own computer\n",
    "output_file <- 'crispr_96_results.txt'\n",
    "output_mat <- matrix(nrow = 0, ncol = 6)\n",
    "\n",
    "for (fn in files) {\n",
    "    wt_reference = 'GTCCAGCTGTGCAAGAGAATATTCCCGCTCTCCGGAGAAGCTCTTCCTTCCTTTGCACTGAAAGCTGTAACTCTAAGTATCAGTGTGAAACGGGAGAAAACAGTAAAGGCAACGTCCAGGATAGAGTGAAGCGACCCATGAACGCATTCA'\n",
    "    \n",
    "    # add code processing files here\n",
    "    path_to_file <- paste0(path, fn)\n",
    "    file_table <- process_file(path_to_file)\n",
    "    file_results <- c(fn, genotype2(file_table, wt_reference))\n",
    "    \n",
    "    output_mat <- rbind(output_mat, t(matrix(file_results)))\n",
    "}\n",
    "write.table(output_mat, file = output_file, quote = FALSE, sep = '\\t', row.names = FALSE, col.names = FALSE)"
   ]
  },
  {
   "cell_type": "markdown",
   "metadata": {},
   "source": [
    "### Congratulations for making it to the end!!!"
   ]
  },
  {
   "cell_type": "markdown",
   "metadata": {},
   "source": [
    "Comments: Feedback, suggestions, complaints..."
   ]
  }
 ],
 "metadata": {
  "kernelspec": {
   "display_name": "R",
   "language": "R",
   "name": "ir"
  },
  "language_info": {
   "codemirror_mode": "r",
   "file_extension": ".r",
   "mimetype": "text/x-r-source",
   "name": "R",
   "pygments_lexer": "r",
   "version": "3.6.1"
  }
 },
 "nbformat": 4,
 "nbformat_minor": 2
}
