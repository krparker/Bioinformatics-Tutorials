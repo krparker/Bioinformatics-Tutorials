{
  "cells": [
    {
      "cell_type": "markdown",
      "source": [
        "## Part 0: Introduction"
      ],
      "metadata": {}
    },
    {
      "cell_type": "markdown",
      "source": [
        "### What is your name?"
      ],
      "metadata": {}
    },
    {
      "cell_type": "code",
      "source": [
        "# KP answer key"
      ],
      "outputs": [],
      "execution_count": 30,
      "metadata": {}
    },
    {
      "cell_type": "markdown",
      "source": [
        "### Welcome to Week 2 of the bioinformatics tutotial of STEMREM 201B!\n",
        "\n",
        "The main goal for this week is to get you some practice working in Python, and to make sure that you're comfortable with importing, manipulating, and exporting data.  If you haven't done any type of coding before, parts of this might be challenging - I would much rather you reach out to me if you get stuck than spend an hour getting frustrated.\n",
        "\n",
        "I'm going to try to walk you through some initial exercises, which are primarily motivated by wanting to get you some practice in Python.  Then we're going to look at at <b>GTF</b> file, which is a commonly used format for storing genomic feature annotations (i.e, transcripts, exons, genes), and prepare a few convenient files linking transcript annotations to gene names and functions.  We'll also look at a file that contains information on the files that are available through **ENCODE**, as practice of how to import and filter a large dataset.\n",
        "\n",
        "I apologize if there are any typos or parts that are particularly confusing, boring, or otherwise unhelpful - please let me know what parts were helpful, and which parts you think would be good to change!  And though I think I can generally figure out a way to answer most bioinformatics questions, I am by no means an expert at coding, so I'm sure that is often an alternative or more elegant solution to certain problems.  Absolutely feel free to do things slightly differently, as long as it gets you to the same answer - I'll try to walk you through how I generally do things, and point out parts that I have found useful, and do my best to explain how and why certain bits of code work.\n",
        "\n",
        "Parts of this tutorial were inspired by a class on RNA-seq, SCRB 152, that was taught and developed by Adrian Veres and Eran Hodis at Harvard."
      ],
      "metadata": {}
    },
    {
      "cell_type": "markdown",
      "source": [
        "## Part 1: Basics of Python"
      ],
      "metadata": {}
    },
    {
      "cell_type": "markdown",
      "source": [
        "### 1.1 Numbers\n",
        "\n",
        "In Python (as with most programming languages), you can store information in variables.  Often, bioinformatics data will be a number.\n",
        "\n",
        "**Create a variable named **the_year** and set it equal to **2018**.**"
      ],
      "metadata": {}
    },
    {
      "cell_type": "code",
      "source": [
        "the_year = 2018"
      ],
      "outputs": [],
      "execution_count": 3,
      "metadata": {}
    },
    {
      "cell_type": "markdown",
      "source": [
        "**What type of data is stored in the variable **the_year**?**\n",
        "\n",
        "Note - there is a function type() that will return the type of a variable.  For instance, if you have a variable *x*, type(x) will return the type of data in x.  In Python, functions are used with parentheses (), and between the parentheses, you put any arguments (things passed in to the function)."
      ],
      "metadata": {}
    },
    {
      "cell_type": "code",
      "source": [
        "type(the_year)"
      ],
      "outputs": [
        {
          "output_type": "execute_result",
          "execution_count": 8,
          "data": {
            "text/plain": [
              "int"
            ]
          },
          "metadata": {}
        }
      ],
      "execution_count": 8,
      "metadata": {}
    },
    {
      "cell_type": "markdown",
      "source": [
        "**Make another variable called **another_year** which is equal to **the_year** divided by 3.  What type of data is stored in the variable **another_year**?**\n",
        "\n",
        "(https://www.digitalocean.com/community/tutorials/how-to-do-math-in-python-3-with-operators)"
      ],
      "metadata": {}
    },
    {
      "cell_type": "code",
      "source": [
        "another_year = the_year / 3\n",
        "type(another_year)"
      ],
      "outputs": [
        {
          "output_type": "execute_result",
          "execution_count": 16,
          "data": {
            "text/plain": [
              "float"
            ]
          },
          "metadata": {}
        }
      ],
      "execution_count": 16,
      "metadata": {}
    },
    {
      "cell_type": "markdown",
      "source": [
        "**What is the difference between an integer and a float?**"
      ],
      "metadata": {}
    },
    {
      "cell_type": "markdown",
      "source": [
        "Integer is a whole number; float has a demical"
      ],
      "metadata": {}
    },
    {
      "cell_type": "markdown",
      "source": [
        "**What is the result of adding these two variables together?** \n",
        "\n",
        "(Note how Python will deal with different types of data, and return a float)"
      ],
      "metadata": {}
    },
    {
      "cell_type": "code",
      "source": [
        "the_year + another_year"
      ],
      "outputs": [
        {
          "output_type": "execute_result",
          "execution_count": 17,
          "data": {
            "text/plain": [
              "2690.6666666666665"
            ]
          },
          "metadata": {}
        }
      ],
      "execution_count": 17,
      "metadata": {}
    },
    {
      "cell_type": "markdown",
      "source": [
        "### 1.2 Strings\n",
        "\n",
        "What if, instead of wanting to store a number, we wanted to store a word, or sequence of characters (or DNA bases)?  Note that by default, a set of characters is interpreted as being a varaible or function - so we need some way to tell Python that we want what we are typing to be interpreted as text, instead of a variable."
      ],
      "metadata": {}
    },
    {
      "cell_type": "code",
      "source": [
        "my_string = 'hello world'\n",
        "print(my_string)"
      ],
      "outputs": [
        {
          "output_type": "stream",
          "name": "stdout",
          "text": [
            "hello world\n"
          ]
        }
      ],
      "execution_count": 19,
      "metadata": {}
    },
    {
      "cell_type": "markdown",
      "source": [
        "**Create another string, and add it to **my_string** (using the + operator).  What happens?**"
      ],
      "metadata": {}
    },
    {
      "cell_type": "code",
      "source": [
        "new_string = 'abcd'\n",
        "my_string + new_string"
      ],
      "outputs": [
        {
          "output_type": "execute_result",
          "execution_count": 22,
          "data": {
            "text/plain": [
              "'hello worldabcd'"
            ]
          },
          "metadata": {}
        }
      ],
      "execution_count": 22,
      "metadata": {}
    },
    {
      "cell_type": "markdown",
      "source": [
        "What if we want to access just a particular part of the string? i.e., a single character? You can use the [] operator to access just part of a string."
      ],
      "metadata": {}
    },
    {
      "cell_type": "code",
      "source": [
        "print(my_string[0])\n",
        "print(my_string[4])"
      ],
      "outputs": [
        {
          "output_type": "stream",
          "name": "stdout",
          "text": [
            "h\n",
            "o\n"
          ]
        }
      ],
      "execution_count": 24,
      "metadata": {}
    },
    {
      "cell_type": "markdown",
      "source": [
        "Note how Python is *0-indexed*.  This is important to remember - some languages (e.g. Python) are 0-indexed, meaning \"0\" indicates the start of things, while other langauges (e.g. R) are 1-indexed, meaning that 1 indicates the start of things.  Regardless of whether you're looking at a string, list, etc. **0 indicates the 'first' thing.**\n",
        "\n",
        "What if wanted to access a substring, rather than just a single character? We can use a colon (:) to indicate a range, as shown below"
      ],
      "metadata": {}
    },
    {
      "cell_type": "code",
      "source": [
        "my_string[1:3]"
      ],
      "outputs": [
        {
          "output_type": "execute_result",
          "execution_count": 25,
          "data": {
            "text/plain": [
              "'el'"
            ]
          },
          "metadata": {}
        }
      ],
      "execution_count": 25,
      "metadata": {}
    },
    {
      "cell_type": "markdown",
      "source": [
        "**It's important to remember that a number can be stored as an integer/float, or a string.**"
      ],
      "metadata": {}
    },
    {
      "cell_type": "code",
      "source": [
        "a = 1\n",
        "b = '1'\n",
        "\n",
        "print(a, type(a))\n",
        "print(b, type(b))"
      ],
      "outputs": [
        {
          "output_type": "stream",
          "name": "stdout",
          "text": [
            "1 <class 'int'>\n",
            "1 <class 'str'>\n"
          ]
        }
      ],
      "execution_count": 35,
      "metadata": {}
    },
    {
      "cell_type": "markdown",
      "source": [
        "### 1.3 Booleans\n",
        "\n",
        "One of the most common things you'll want to do involves  boolean logic: are things the same, different, greater or less than each other, etc.\n",
        "\n",
        "To distinguish from setting a variable equal to something (a = 1), you can use double equal signs (==) to ask whether something is equal.  Alternatively, you can use != to indicate not equal, > and < for greater and less than, and >= and <= for greater/less than or equal to.\n",
        "\n",
        "**In the above example: are variables a and b the same?  What operator could you use to ask if they are not equal?**"
      ],
      "metadata": {}
    },
    {
      "cell_type": "code",
      "source": [
        "a == b"
      ],
      "outputs": [
        {
          "output_type": "execute_result",
          "execution_count": 38,
          "data": {
            "text/plain": [
              "False"
            ]
          },
          "metadata": {}
        }
      ],
      "execution_count": 38,
      "metadata": {}
    },
    {
      "cell_type": "code",
      "source": [
        "a != b"
      ],
      "outputs": [
        {
          "output_type": "execute_result",
          "execution_count": 39,
          "data": {
            "text/plain": [
              "True"
            ]
          },
          "metadata": {}
        }
      ],
      "execution_count": 39,
      "metadata": {}
    },
    {
      "cell_type": "markdown",
      "source": [
        "Importantly, when dealing with numbers that are stored as strings, Python has a handy way to automatically convert them to an integer or float:"
      ],
      "metadata": {}
    },
    {
      "cell_type": "code",
      "source": [
        "c = int(a)\n",
        "c == a"
      ],
      "outputs": [
        {
          "output_type": "execute_result",
          "execution_count": 40,
          "data": {
            "text/plain": [
              "True"
            ]
          },
          "metadata": {}
        }
      ],
      "execution_count": 40,
      "metadata": {}
    },
    {
      "cell_type": "markdown",
      "source": [
        "Note how this works when the variable contains a string corresponding to a number.  What happens if you try to do this with a variable containing a string that is composed of letters?"
      ],
      "metadata": {}
    },
    {
      "cell_type": "code",
      "source": [
        "d = 'my string'\n",
        "int(d)"
      ],
      "outputs": [
        {
          "output_type": "error",
          "ename": "ValueError",
          "evalue": "invalid literal for int() with base 10: 'my string'",
          "traceback": [
            "\u001b[0;31m---------------------------------------------------------------------------\u001b[0m",
            "\u001b[0;31mValueError\u001b[0m                                Traceback (most recent call last)",
            "\u001b[0;32m<ipython-input-41-ae8343cbadba>\u001b[0m in \u001b[0;36m<module>\u001b[0;34m()\u001b[0m\n\u001b[1;32m      1\u001b[0m \u001b[0md\u001b[0m \u001b[0;34m=\u001b[0m \u001b[0;34m'my string'\u001b[0m\u001b[0;34m\u001b[0m\u001b[0m\n\u001b[0;32m----> 2\u001b[0;31m \u001b[0mint\u001b[0m\u001b[0;34m(\u001b[0m\u001b[0md\u001b[0m\u001b[0;34m)\u001b[0m\u001b[0;34m\u001b[0m\u001b[0m\n\u001b[0m",
            "\u001b[0;31mValueError\u001b[0m: invalid literal for int() with base 10: 'my string'"
          ]
        }
      ],
      "execution_count": 41,
      "metadata": {}
    },
    {
      "cell_type": "markdown",
      "source": [
        "This provides a good example to look into the error messages that Python provides: no matter how much time you spend with bioinformatics, you're going to get error messages, and you need to be able to figure out what they are telling you about why things are going wrong!\n",
        "\n",
        "A good plae to start is the end: that's usually the part that is telling you what is actually going wrong.  In this case, it's saying that you have an invalid value to convert to an integer - 'my string' is not base10.\n",
        "\n",
        "The other important place to look is in the middle, at the line that has the arrow: that is the actual line that is erroring.  So when you have a larger piece of code, and you get an error, you might not know exactly where to look - but the arrow points you to the exact line that is erroring."
      ],
      "metadata": {}
    },
    {
      "cell_type": "markdown",
      "source": [
        "### 1.4 Lists\n",
        "\n",
        "Often, we don't just have a single piece of information - we have a whole bunch of them,  that we'd like to keep together.  For example, a bunch of genes, or their expression values.  We can use lists for this."
      ],
      "metadata": {}
    },
    {
      "cell_type": "code",
      "source": [
        "my_list = ['a','b','c']\n",
        "print(my_list[1])\n",
        "\n",
        "temp = my_list[0]\n",
        "print(temp)"
      ],
      "outputs": [
        {
          "output_type": "stream",
          "name": "stdout",
          "text": [
            "b\n",
            "a\n"
          ]
        }
      ],
      "execution_count": 30,
      "metadata": {}
    },
    {
      "cell_type": "markdown",
      "source": [
        "**How many items are in this list?**\n",
        "\n",
        "There is a built-in function that will return the length of a list (note that you can obviously just manually count the number of elements in this list, since it's pretty short - however, with a lot of genomics data, you may not know how many genes are in a given dataset for instance, and you're not about to go through and count them!)  So your answer to this should include Python telling you how many elements are in this list."
      ],
      "metadata": {}
    },
    {
      "cell_type": "code",
      "source": [
        "len(my_list)"
      ],
      "outputs": [
        {
          "output_type": "execute_result",
          "execution_count": 31,
          "data": {
            "text/plain": [
              "3"
            ]
          },
          "metadata": {}
        }
      ],
      "execution_count": 31,
      "metadata": {}
    },
    {
      "cell_type": "markdown",
      "source": [
        "What if you want to add something to this list? You can say list1 = list1 + list2.  Or, you can say list1 += list2.\n",
        "\n",
        "**Create another list contaning the numbers 1, 2, 3, and and add it to the previous list.**"
      ],
      "metadata": {}
    },
    {
      "cell_type": "code",
      "source": [
        "my_list = ['a','b','c']\n",
        "new_list = [1,2,3]\n",
        "my_list += new_list\n",
        "print(my_list)"
      ],
      "outputs": [
        {
          "output_type": "stream",
          "name": "stdout",
          "text": [
            "['a', 'b', 'c', 1, 2, 3]\n"
          ]
        }
      ],
      "execution_count": 49,
      "metadata": {}
    },
    {
      "cell_type": "markdown",
      "source": [
        "Note how in the previous example, there are different types of data in the asme list: strings and integers.  There's nothing wrong with this, but it's often a good idea to try to keep everything consistent with the same type of data.  A common place where this comes up is chromosomes: if you're trying to compare a list of genes, for instance, you want to make sure that your chromosome values are either all integers, or all strings, otherwise you're going to run into problems! (because '1' isn't equal to 1)"
      ],
      "metadata": {}
    },
    {
      "cell_type": "markdown",
      "source": [
        "One of the most common things you'll want to do is access particular elements of a list: we can use the same notation as with strings.\n",
        "\n",
        "**Make a new variable, equal to the first element of my_list; make a second variable equal to the last element of my_list.  Are they equal?**"
      ],
      "metadata": {}
    },
    {
      "cell_type": "code",
      "source": [
        "a = my_list[0]\n",
        "b = my_list[5]\n",
        "a == b"
      ],
      "outputs": [
        {
          "output_type": "execute_result",
          "execution_count": 50,
          "data": {
            "text/plain": [
              "False"
            ]
          },
          "metadata": {}
        }
      ],
      "execution_count": 50,
      "metadata": {}
    },
    {
      "cell_type": "markdown",
      "source": [
        "When you are indexing lists, you can begin at 0 and count upward to go through the list; or begin at -1 to start at the end of the list."
      ],
      "metadata": {}
    },
    {
      "cell_type": "code",
      "source": [
        "print(my_list[-1])"
      ],
      "outputs": [
        {
          "output_type": "stream",
          "name": "stdout",
          "text": [
            "3\n"
          ]
        }
      ],
      "execution_count": 51,
      "metadata": {}
    },
    {
      "cell_type": "markdown",
      "source": [
        "### 1.5 Dictionaries\n",
        "\n",
        "The last data type we are going to cover is a dictionary (there are also other data types that we aren't going to get into right now).  A dictionary is essentially a pairing of a 'key' and a 'value'.  It's convenient when you want to be able to look up a key, and have a value returned.\n",
        "\n",
        "The syntax is as follows:"
      ],
      "metadata": {}
    },
    {
      "cell_type": "code",
      "source": [
        "my_dict = {'a':'alligator', 'b':'bonobo', 'c':'cheetah', 'd':'donkey'}\n",
        "print(my_dict)"
      ],
      "outputs": [
        {
          "output_type": "stream",
          "name": "stdout",
          "text": [
            "{'a': 'alligator', 'b': 'bonobo', 'c': 'cheetah', 'd': 'donkey'}\n"
          ]
        }
      ],
      "execution_count": 52,
      "metadata": {}
    },
    {
      "cell_type": "markdown",
      "source": [
        "With a dictionary, you look things up with the [] operator:"
      ],
      "metadata": {}
    },
    {
      "cell_type": "code",
      "source": [
        "print(my_dict['a'])"
      ],
      "outputs": [
        {
          "output_type": "stream",
          "name": "stdout",
          "text": [
            "alligator\n"
          ]
        }
      ],
      "execution_count": 53,
      "metadata": {}
    },
    {
      "cell_type": "markdown",
      "source": [
        "**What happens if you try to look up a value that is not stored in the dictionary?**"
      ],
      "metadata": {}
    },
    {
      "cell_type": "code",
      "source": [
        "my_dict['e']"
      ],
      "outputs": [
        {
          "output_type": "error",
          "ename": "KeyError",
          "evalue": "'e'",
          "traceback": [
            "\u001b[0;31m---------------------------------------------------------------------------\u001b[0m",
            "\u001b[0;31mKeyError\u001b[0m                                  Traceback (most recent call last)",
            "\u001b[0;32m<ipython-input-54-55921324f796>\u001b[0m in \u001b[0;36m<module>\u001b[0;34m()\u001b[0m\n\u001b[0;32m----> 1\u001b[0;31m \u001b[0mmy_dict\u001b[0m\u001b[0;34m[\u001b[0m\u001b[0;34m'e'\u001b[0m\u001b[0;34m]\u001b[0m\u001b[0;34m\u001b[0m\u001b[0m\n\u001b[0m",
            "\u001b[0;31mKeyError\u001b[0m: 'e'"
          ]
        }
      ],
      "execution_count": 54,
      "metadata": {}
    },
    {
      "cell_type": "markdown",
      "source": [
        "To add a value to a dictionary, you can simply say:"
      ],
      "metadata": {}
    },
    {
      "cell_type": "code",
      "source": [
        "my_dict['e'] = 'elephant'\n",
        "print(my_dict['e'])"
      ],
      "outputs": [
        {
          "output_type": "stream",
          "name": "stdout",
          "text": [
            "elephant\n"
          ]
        }
      ],
      "execution_count": 55,
      "metadata": {}
    },
    {
      "cell_type": "markdown",
      "source": [
        "Note that with a dictionary, the value can be anything - a string, integer, list, etc.  When you have a ton of pieces of data, that have some kind of organization, a dictionary can be a very efficient way to organize that information!"
      ],
      "metadata": {}
    },
    {
      "cell_type": "markdown",
      "source": [
        "## Part 2: Loops and Conditionals"
      ],
      "metadata": {}
    },
    {
      "cell_type": "markdown",
      "source": [
        "### 2.1 Loops\n",
        "\n",
        "It's pretty often that you want to do the same thing many, many times - for example, for every gene, or item in a list, or a range of iterations.  You can use a loop to do this:"
      ],
      "metadata": {}
    },
    {
      "cell_type": "code",
      "source": [
        "# The syntax is:\n",
        "\n",
        "# for *variable* in *iterable object*:\n",
        "#     *do something*\n",
        "\n",
        "my_list = ['a','b','c','d','e']\n",
        "for i in my_list:\n",
        "    print(i, my_dict[i])"
      ],
      "outputs": [
        {
          "output_type": "stream",
          "name": "stdout",
          "text": [
            "a alligator\n",
            "b bonobo\n",
            "c cheetah\n",
            "d donkey\n",
            "e elephant\n"
          ]
        }
      ],
      "execution_count": 57,
      "metadata": {}
    },
    {
      "cell_type": "markdown",
      "source": [
        "Note that the for line ends in a colon, and the *do something* is indented.  **This is important!**.  Python will expect the stuff with loops or conditionals to be indented - everything that is one tab in will be considered a part of that loop.\n",
        "\n",
        "What if you want to iterate through a number of iteractions, or a range of numbers?"
      ],
      "metadata": {}
    },
    {
      "cell_type": "code",
      "source": [
        "for i in range(10):\n",
        "    print(i)"
      ],
      "outputs": [
        {
          "output_type": "stream",
          "name": "stdout",
          "text": [
            "0\n",
            "1\n",
            "2\n",
            "3\n",
            "4\n",
            "5\n",
            "6\n",
            "7\n",
            "8\n",
            "9\n"
          ]
        }
      ],
      "execution_count": 58,
      "metadata": {}
    },
    {
      "cell_type": "markdown",
      "source": [
        "**Let's put a few concepts together:**\n",
        "\n",
        "First, initialize a new empty dictionary.  Make two lists of equal length: the first containing five letters of the alphabet; the second containing five words beginning with those letters.\n",
        "\n",
        "Now, use a for loop to iterate through a range of numbers equal to the length of those lists, and create a dictionary where the *keys* are the letters, and the *values* are the words beginning with those letters.\n",
        "\n",
        "**One aside about variable names - certain names are 'taken' - i.e., the word list has *meaning* in Python - it refers to the data type of a list.  Same goes for things like int, str, dict, etc.  So don't try to create variables with those names! In many programs, such as Jupyter notebook, if words that have 'meaning' will change color, so if you try to create a variable and see that the word you just wrote changed color, it's an indication that you should't make a variable with that name.**"
      ],
      "metadata": {}
    },
    {
      "cell_type": "code",
      "source": [
        "new_dict = {}\n",
        "list1 = ['a','b','c','d','e']\n",
        "list2 = ['apple','boy','cot','dog','egypt']\n",
        "for i in range(len(list1)):\n",
        "    new_dict[list1[i]] = list2[i]\n",
        "    \n",
        "print(new_dict)"
      ],
      "outputs": [
        {
          "output_type": "stream",
          "name": "stdout",
          "text": [
            "{'a': 'apple', 'b': 'boy', 'c': 'cot', 'd': 'dog', 'e': 'egypt'}\n"
          ]
        }
      ],
      "execution_count": 63,
      "metadata": {}
    },
    {
      "cell_type": "code",
      "source": [
        "# It's worth mentioning that there are many 'shortcuts' in Python\n",
        "# (or, as people say, 'Pythonic' ways of doing something)\n",
        "\n",
        "list1 = ['a','b','c','d','e']\n",
        "list2 = ['apple','boy','cot','dog','egypt']\n",
        "new_dict2 = dict(zip(list1, list2))\n",
        "print(new_dict2)"
      ],
      "outputs": [
        {
          "output_type": "stream",
          "name": "stdout",
          "text": [
            "{'a': 'apple', 'b': 'boy', 'c': 'cot', 'd': 'dog', 'e': 'egypt'}\n"
          ]
        }
      ],
      "execution_count": 64,
      "metadata": {}
    },
    {
      "cell_type": "markdown",
      "source": [
        "**Is this dictionary equal to the one you made before?**"
      ],
      "metadata": {}
    },
    {
      "cell_type": "markdown",
      "source": [
        "### 2.2 Conditionals\n",
        "\n",
        "It's often the case that we don't want to just blindly do something - we only want to do it if a certain condition is satisfied.  We can use an 'if' statement for this.  The syntax is similar as for for loops."
      ],
      "metadata": {}
    },
    {
      "cell_type": "code",
      "source": [
        "a = 1\n",
        "if a == 1:\n",
        "    print('a is equal to 1')\n",
        "if a == 2:\n",
        "    print('a is equal to 2')"
      ],
      "outputs": [
        {
          "output_type": "stream",
          "name": "stdout",
          "text": [
            "a is equal to 1\n"
          ]
        }
      ],
      "execution_count": 65,
      "metadata": {}
    },
    {
      "cell_type": "code",
      "source": [
        "a = 1\n",
        "if a == 2:\n",
        "    print('equals 2')\n",
        "else:\n",
        "    print('not equal to 2')"
      ],
      "outputs": [
        {
          "output_type": "stream",
          "name": "stdout",
          "text": [
            "not equal to 2\n"
          ]
        }
      ],
      "execution_count": 68,
      "metadata": {}
    },
    {
      "cell_type": "markdown",
      "source": [
        "**Use a for loop to iterate through the test_list.  If the value is greater than 5, append it to new_list.  Otherwise, print the value instead. How long is the resulting new_list?**"
      ],
      "metadata": {}
    },
    {
      "cell_type": "code",
      "source": [
        "test_list = [1,2,3,4,5,6,7,8,9,10]\n",
        "new_list = []\n",
        "\n",
        "for i in test_list:\n",
        "    if i > 5:\n",
        "        new_list += [i]\n",
        "    else:\n",
        "        print(i)"
      ],
      "outputs": [
        {
          "output_type": "stream",
          "name": "stdout",
          "text": [
            "1\n",
            "2\n",
            "3\n",
            "4\n",
            "5\n"
          ]
        }
      ],
      "execution_count": 67,
      "metadata": {}
    },
    {
      "cell_type": "markdown",
      "source": [
        "**Make a new list, and for each value of the string_list, convert it to an int.**"
      ],
      "metadata": {}
    },
    {
      "cell_type": "code",
      "source": [
        "string_list = ['1','2','3','4','5','6','7','8','9','10']\n",
        "int_list = []\n",
        "for i in string_list:\n",
        "    int_list += [int(i)]\n",
        "print(int_list)"
      ],
      "outputs": [
        {
          "output_type": "stream",
          "name": "stdout",
          "text": [
            "[1, 2, 3, 4, 5, 6, 7, 8, 9, 10]\n"
          ]
        }
      ],
      "execution_count": 69,
      "metadata": {}
    },
    {
      "cell_type": "markdown",
      "source": [
        "**There is another way you can do this using what is called a 'list comprehension'.  Essentially, you're writing the entire for loop in a single line.  *There is never a situation where you have to use a list comprehension - you could always just use a normal for loop.*  However, list comprehensions are nice because they are shorter (and more Pythonic), and are good to know so you don't have to type as much!**"
      ],
      "metadata": {}
    },
    {
      "cell_type": "code",
      "source": [
        "int_list2 = [int(i) for i in string_list]\n",
        "print(int_list2)"
      ],
      "outputs": [
        {
          "output_type": "stream",
          "name": "stdout",
          "text": [
            "[1, 2, 3, 4, 5, 6, 7, 8, 9, 10]\n"
          ]
        }
      ],
      "execution_count": 70,
      "metadata": {}
    },
    {
      "cell_type": "markdown",
      "source": [
        "You can also get fancy with list comprehensions:"
      ],
      "metadata": {}
    },
    {
      "cell_type": "code",
      "source": [
        "new_list = [i for i in range(10) if i < 5]\n",
        "print(new_list)\n",
        "\n",
        "new_list2 = ['a' if i < 5 else 'b' for i in range(10)]\n",
        "print(new_list2)"
      ],
      "outputs": [
        {
          "output_type": "stream",
          "name": "stdout",
          "text": [
            "[0, 1, 2, 3, 4]\n",
            "['a', 'a', 'a', 'a', 'a', 'b', 'b', 'b', 'b', 'b']\n"
          ]
        }
      ],
      "execution_count": 75,
      "metadata": {}
    },
    {
      "cell_type": "markdown",
      "source": [
        "There's no need to worry too much about this now if this doesn't make sense, just know that it exists, and once you get the hang of Python, it's something to try to get used to writing!"
      ],
      "metadata": {}
    },
    {
      "cell_type": "markdown",
      "source": [
        "## Part 3: Functions\n",
        "\n",
        "In general, you don't need to be 'good at coding' to do bioinformatics - you just need to learn the syntax of how to do matrix operations, since most of what you end up doing is just doing things to rows and columns of matricies.\n",
        "\n",
        "However, it's good to know what a function is, how to define one, and how they work.  Below is the syntax for a simple function that takes an input, checks if it is an integer, and if it is, multiplies it by two.  Note that once a function hits a 'return' statement, it will immediately exit and return (output) that value."
      ],
      "metadata": {}
    },
    {
      "cell_type": "code",
      "source": [
        "def my_function(x):\n",
        "    if type(x) == int:\n",
        "        return x * 2\n",
        "    else:\n",
        "        return 'not an integer!'"
      ],
      "outputs": [],
      "execution_count": 84,
      "metadata": {}
    },
    {
      "cell_type": "code",
      "source": [
        "a = 2\n",
        "b = my_function(2)\n",
        "print(b)\n",
        "\n",
        "c = my_function('abc')\n",
        "print(c)"
      ],
      "outputs": [
        {
          "output_type": "stream",
          "name": "stdout",
          "text": [
            "4\n",
            "not an integer!\n"
          ]
        }
      ],
      "execution_count": 85,
      "metadata": {}
    },
    {
      "cell_type": "markdown",
      "source": [
        "**Write a function that returns the square root of a number.  Iterate through the first ten integers, and use this function to add them to a new list.  You can do this either with a for loop, or list comprehensions.**"
      ],
      "metadata": {}
    },
    {
      "cell_type": "code",
      "source": [
        "def func2(x):\n",
        "    return x ** .5\n",
        "\n",
        "new_list = [func2(i) for i in range(10)]\n",
        "print(new_list)"
      ],
      "outputs": [
        {
          "output_type": "stream",
          "name": "stdout",
          "text": [
            "[0.0, 1.0, 1.4142135623730951, 1.7320508075688772, 2.0, 2.23606797749979, 2.449489742783178, 2.6457513110645907, 2.8284271247461903, 3.0]\n"
          ]
        }
      ],
      "execution_count": 80,
      "metadata": {}
    },
    {
      "cell_type": "markdown",
      "source": [
        "Functions can also take multiple inputs:"
      ],
      "metadata": {}
    },
    {
      "cell_type": "code",
      "source": [
        "def func3(x, y, z):\n",
        "    return x + y + z\n",
        "\n",
        "func3(1,2,3)"
      ],
      "outputs": [
        {
          "output_type": "execute_result",
          "execution_count": 82,
          "data": {
            "text/plain": [
              "6"
            ]
          },
          "metadata": {}
        }
      ],
      "execution_count": 82,
      "metadata": {}
    },
    {
      "cell_type": "markdown",
      "source": [
        "**Write a function that takes three integers as inputs and returns the largest one.  In the case of a tie, return a single value (the maximum of the three numbers).**"
      ],
      "metadata": {}
    },
    {
      "cell_type": "code",
      "source": [
        "def func4(x, y, z):\n",
        "    if x > y:\n",
        "        if x > z:\n",
        "            return x\n",
        "        else:\n",
        "            return z\n",
        "    elif y > z:\n",
        "        return y\n",
        "    else:\n",
        "        return z"
      ],
      "outputs": [],
      "execution_count": 88,
      "metadata": {}
    },
    {
      "cell_type": "code",
      "source": [
        "nums = [[1,2,3],[1,1,2],[1,2,2],[2,1,2],[2,1,3],[1,6,2],[8,1,2],[5,8,2]]\n",
        "\n",
        "for i in nums:\n",
        "    print(i, func4(i[0], i[1], i[2]))"
      ],
      "outputs": [
        {
          "output_type": "stream",
          "name": "stdout",
          "text": [
            "[1, 2, 3] 3\n",
            "[1, 1, 2] 2\n",
            "[1, 2, 2] 2\n",
            "[2, 1, 2] 2\n",
            "[2, 1, 3] 3\n",
            "[1, 6, 2] 6\n",
            "[8, 1, 2] 8\n",
            "[5, 8, 2] 8\n"
          ]
        }
      ],
      "execution_count": 92,
      "metadata": {}
    },
    {
      "cell_type": "markdown",
      "source": [
        "(Note that there is already a built in Python function that will do this for you - most things will already have been done, and either exist as a built in function, or someone will have solved it on the internet and you'll probably be able to find a nicely written function you can copy and paste off StackOverflow)"
      ],
      "metadata": {}
    },
    {
      "cell_type": "markdown",
      "source": [
        "## Part 4: Looking at genome annotations"
      ],
      "metadata": {}
    },
    {
      "cell_type": "markdown",
      "source": [
        "### 4.1 Packages - Pandas and Numpy\n",
        "\n",
        "Pandas and Numpy are two very powerful and commonly used packages in bioinformatics, data science, and a variety of other fields.  They faciltiate doing array math and matrix operations, and make it very easy to do things that would otherwise be relatively painful to do with just lists.\n",
        "\n",
        "We need to tell Python to import these packages."
      ],
      "metadata": {}
    },
    {
      "cell_type": "code",
      "source": [
        "import pandas as pd\n",
        "import numpy as np"
      ],
      "outputs": [],
      "execution_count": 95,
      "metadata": {}
    },
    {
      "cell_type": "markdown",
      "source": [
        "To save ourselves from having to type 'pandas' or 'numpy' every single time we want to refer to something in the packages (which will be a lot), we can use an abbreviation 'pd' and 'np' to save ourselves a little bit of typing.\n",
        "\n",
        "One other thing to note - to access the functions in these packages, we are going to use the notation:\n",
        "\n",
        "**pd.function()**\n",
        "\n",
        "**np.function()**\n",
        "\n",
        "or\n",
        "\n",
        "**pd.subpackage.function()**\n",
        "\n",
        "etc."
      ],
      "metadata": {}
    },
    {
      "cell_type": "markdown",
      "source": [
        "**We'll talk about numpy first - numpy introduces a data type called an 'array'.  In many ways, arrays are just like lists.  However, they are optimized for math.**\n",
        "\n",
        "Make a new list, containing the numbers 1 to 10.  Make an array from this list.\n",
        "\n",
        "Now try adding one to each element of the array.  What is the result?  What happens if you try to do this with a list?"
      ],
      "metadata": {}
    },
    {
      "cell_type": "code",
      "source": [
        "new_list = [i for i in range(1, 11)]\n",
        "new_array = np.array(new_list)\n",
        "\n",
        "print(new_array)\n",
        "print(new_array + 1)\n",
        "\n",
        "print(new_list + 1)"
      ],
      "outputs": [
        {
          "output_type": "stream",
          "name": "stdout",
          "text": [
            "[ 1  2  3  4  5  6  7  8  9 10]\n",
            "[ 2  3  4  5  6  7  8  9 10 11]\n"
          ]
        },
        {
          "output_type": "error",
          "ename": "TypeError",
          "evalue": "can only concatenate list (not \"int\") to list",
          "traceback": [
            "\u001b[0;31m---------------------------------------------------------------------------\u001b[0m",
            "\u001b[0;31mTypeError\u001b[0m                                 Traceback (most recent call last)",
            "\u001b[0;32m<ipython-input-102-9e4880b60e72>\u001b[0m in \u001b[0;36m<module>\u001b[0;34m()\u001b[0m\n\u001b[1;32m      5\u001b[0m \u001b[0mprint\u001b[0m\u001b[0;34m(\u001b[0m\u001b[0mnew_array\u001b[0m \u001b[0;34m+\u001b[0m \u001b[0;36m1\u001b[0m\u001b[0;34m)\u001b[0m\u001b[0;34m\u001b[0m\u001b[0m\n\u001b[1;32m      6\u001b[0m \u001b[0;34m\u001b[0m\u001b[0m\n\u001b[0;32m----> 7\u001b[0;31m \u001b[0mprint\u001b[0m\u001b[0;34m(\u001b[0m\u001b[0mnew_list\u001b[0m \u001b[0;34m+\u001b[0m \u001b[0;36m1\u001b[0m\u001b[0;34m)\u001b[0m\u001b[0;34m\u001b[0m\u001b[0m\n\u001b[0m",
            "\u001b[0;31mTypeError\u001b[0m: can only concatenate list (not \"int\") to list"
          ]
        }
      ],
      "execution_count": 102,
      "metadata": {}
    },
    {
      "cell_type": "markdown",
      "source": [
        "You can do a lot of math operations in this way - addition, subtraction, multiplication, etc.  There's also a lot of other built in math functions within numpy, which we'll use later on.  In general, if you're doing 'scientific' operations, it's usually a good idea to work with arrays and pandas dataframes (which we'll go into below."
      ],
      "metadata": {}
    },
    {
      "cell_type": "markdown",
      "source": [
        "### Part 4.2 Importing a genome annotation file"
      ],
      "metadata": {}
    },
    {
      "cell_type": "markdown",
      "source": [
        "Here, we're going to look at a file that I've downloaded from the ENSEMBL website that contains annotation information for various genes in the genome.  This file was originally downloaded with <i>transcript-based</i> annotations, which I convereted to be <i>gene-based</i>.  When you're doing RNA-seq analysis, you can either perform analyses at the transcript level (meaning considering different isoforms of the same gene differently) or at the gene level (aggregating different isoforms of the same gene); we're going to focus on gene level analysis for now.\n",
        "\n",
        "<b>First, we need to import the annotation file.</b>  I typically like to define paths and file names at the start, just to keep things organized.\n",
        "\n",
        "1. Create a variable called 'path' which contains the directory listing to wherever you downloaded the files.\n",
        "2. Create a variable called 'fn_anno' which is the name of the file."
      ],
      "metadata": {}
    },
    {
      "cell_type": "code",
      "source": [
        "#  commented things are not run\n",
        "# as a handy shortcut, typing \"command + backslash\" (like \"command + c\" for copy) will comment a line\n",
        "# path = '/path/to/the/directory/containing/the/file/'\n",
        "# fn = 'name_of_the_file.extension'"
      ],
      "outputs": [],
      "execution_count": 1,
      "metadata": {}
    },
    {
      "cell_type": "markdown",
      "source": [
        "**Using pd.read_csv(), import the txt file (comma delimted) containing the annotations into a dataframe called 'anno', and set the index to be the 'transcript' column.  Use .head() to show the first 5 rows of the resulting dataframe.**\n",
        "\n",
        "See https://pandas.pydata.org/pandas-docs/stable/generated/pandas.read_csv.html\n",
        "\n",
        "and https://pandas.pydata.org/pandas-docs/stable/generated/pandas.DataFrame.set_index.html\n",
        "\n",
        "and https://pandas.pydata.org/pandas-docs/stable/generated/pandas.DataFrame.head.html\n",
        "\n",
        "for reference.  These are part of the pandas documentation.  I've provoded these here just so you can get started, but in the future, I'll provide some hints/direction as to how to go about something, but it will be up to you to look up how to actually use the functions in the pandas (or other) documentation.  In real life, you'll have to look things up yourself, and (at least for me) I think having to look things on will help you learn and remember it."
      ],
      "metadata": {}
    },
    {
      "cell_type": "code",
      "source": [
        "path = '/Users/kevin/Dropbox/Documents/Stanford/Teaching/STEMREM 201B/homework/wk2/'\n",
        "fn = '/Homo_sapiens.GRCh38.gene_annotations.txt.gz'\n",
        "\n",
        "anno = pd.read_csv(path + fn, sep=',')\n",
        "anno.head()"
      ],
      "outputs": [
        {
          "output_type": "execute_result",
          "execution_count": 10,
          "data": {
            "text/html": [
              "<div>\n",
              "<style scoped>\n",
              "    .dataframe tbody tr th:only-of-type {\n",
              "        vertical-align: middle;\n",
              "    }\n",
              "\n",
              "    .dataframe tbody tr th {\n",
              "        vertical-align: top;\n",
              "    }\n",
              "\n",
              "    .dataframe thead th {\n",
              "        text-align: right;\n",
              "    }\n",
              "</style>\n",
              "<table border=\"1\" class=\"dataframe\">\n",
              "  <thead>\n",
              "    <tr style=\"text-align: right;\">\n",
              "      <th></th>\n",
              "      <th>gene</th>\n",
              "      <th>start</th>\n",
              "      <th>end</th>\n",
              "      <th>strand</th>\n",
              "      <th>length</th>\n",
              "      <th>chr</th>\n",
              "      <th>gene_symbol</th>\n",
              "      <th>gene_type</th>\n",
              "      <th>source</th>\n",
              "    </tr>\n",
              "  </thead>\n",
              "  <tbody>\n",
              "    <tr>\n",
              "      <th>0</th>\n",
              "      <td>ENSG00000000003.14</td>\n",
              "      <td>100630765</td>\n",
              "      <td>100637538</td>\n",
              "      <td>-1</td>\n",
              "      <td>6773</td>\n",
              "      <td>X</td>\n",
              "      <td>TSPAN6</td>\n",
              "      <td>protein_coding</td>\n",
              "      <td>cdna</td>\n",
              "    </tr>\n",
              "    <tr>\n",
              "      <th>1</th>\n",
              "      <td>ENSG00000000005.5</td>\n",
              "      <td>100589213</td>\n",
              "      <td>100598708</td>\n",
              "      <td>1</td>\n",
              "      <td>9495</td>\n",
              "      <td>X</td>\n",
              "      <td>TNMD</td>\n",
              "      <td>protein_coding</td>\n",
              "      <td>cdna</td>\n",
              "    </tr>\n",
              "    <tr>\n",
              "      <th>2</th>\n",
              "      <td>ENSG00000000419.12</td>\n",
              "      <td>50935098</td>\n",
              "      <td>50956428</td>\n",
              "      <td>-1</td>\n",
              "      <td>21329</td>\n",
              "      <td>20</td>\n",
              "      <td>DPM1</td>\n",
              "      <td>protein_coding</td>\n",
              "      <td>cdna</td>\n",
              "    </tr>\n",
              "    <tr>\n",
              "      <th>3</th>\n",
              "      <td>ENSG00000000457.13</td>\n",
              "      <td>169853881</td>\n",
              "      <td>169893003</td>\n",
              "      <td>-1</td>\n",
              "      <td>39121</td>\n",
              "      <td>1</td>\n",
              "      <td>SCYL3</td>\n",
              "      <td>protein_coding</td>\n",
              "      <td>cdna</td>\n",
              "    </tr>\n",
              "    <tr>\n",
              "      <th>4</th>\n",
              "      <td>ENSG00000000460.16</td>\n",
              "      <td>169780373</td>\n",
              "      <td>169834072</td>\n",
              "      <td>1</td>\n",
              "      <td>53699</td>\n",
              "      <td>1</td>\n",
              "      <td>C1orf112</td>\n",
              "      <td>protein_coding</td>\n",
              "      <td>cdna</td>\n",
              "    </tr>\n",
              "  </tbody>\n",
              "</table>\n",
              "</div>"
            ],
            "text/plain": [
              "                 gene      start        end  strand  length chr gene_symbol  \\\n",
              "0  ENSG00000000003.14  100630765  100637538      -1    6773   X      TSPAN6   \n",
              "1   ENSG00000000005.5  100589213  100598708       1    9495   X        TNMD   \n",
              "2  ENSG00000000419.12   50935098   50956428      -1   21329  20        DPM1   \n",
              "3  ENSG00000000457.13  169853881  169893003      -1   39121   1       SCYL3   \n",
              "4  ENSG00000000460.16  169780373  169834072       1   53699   1    C1orf112   \n",
              "\n",
              "        gene_type source  \n",
              "0  protein_coding   cdna  \n",
              "1  protein_coding   cdna  \n",
              "2  protein_coding   cdna  \n",
              "3  protein_coding   cdna  \n",
              "4  protein_coding   cdna  "
            ]
          },
          "metadata": {}
        }
      ],
      "execution_count": 10,
      "metadata": {}
    },
    {
      "cell_type": "code",
      "source": [
        "anno = anno.set_index('gene')\n",
        "anno.head()"
      ],
      "outputs": [
        {
          "output_type": "execute_result",
          "execution_count": 11,
          "data": {
            "text/html": [
              "<div>\n",
              "<style scoped>\n",
              "    .dataframe tbody tr th:only-of-type {\n",
              "        vertical-align: middle;\n",
              "    }\n",
              "\n",
              "    .dataframe tbody tr th {\n",
              "        vertical-align: top;\n",
              "    }\n",
              "\n",
              "    .dataframe thead th {\n",
              "        text-align: right;\n",
              "    }\n",
              "</style>\n",
              "<table border=\"1\" class=\"dataframe\">\n",
              "  <thead>\n",
              "    <tr style=\"text-align: right;\">\n",
              "      <th></th>\n",
              "      <th>start</th>\n",
              "      <th>end</th>\n",
              "      <th>strand</th>\n",
              "      <th>length</th>\n",
              "      <th>chr</th>\n",
              "      <th>gene_symbol</th>\n",
              "      <th>gene_type</th>\n",
              "      <th>source</th>\n",
              "    </tr>\n",
              "    <tr>\n",
              "      <th>gene</th>\n",
              "      <th></th>\n",
              "      <th></th>\n",
              "      <th></th>\n",
              "      <th></th>\n",
              "      <th></th>\n",
              "      <th></th>\n",
              "      <th></th>\n",
              "      <th></th>\n",
              "    </tr>\n",
              "  </thead>\n",
              "  <tbody>\n",
              "    <tr>\n",
              "      <th>ENSG00000000003.14</th>\n",
              "      <td>100630765</td>\n",
              "      <td>100637538</td>\n",
              "      <td>-1</td>\n",
              "      <td>6773</td>\n",
              "      <td>X</td>\n",
              "      <td>TSPAN6</td>\n",
              "      <td>protein_coding</td>\n",
              "      <td>cdna</td>\n",
              "    </tr>\n",
              "    <tr>\n",
              "      <th>ENSG00000000005.5</th>\n",
              "      <td>100589213</td>\n",
              "      <td>100598708</td>\n",
              "      <td>1</td>\n",
              "      <td>9495</td>\n",
              "      <td>X</td>\n",
              "      <td>TNMD</td>\n",
              "      <td>protein_coding</td>\n",
              "      <td>cdna</td>\n",
              "    </tr>\n",
              "    <tr>\n",
              "      <th>ENSG00000000419.12</th>\n",
              "      <td>50935098</td>\n",
              "      <td>50956428</td>\n",
              "      <td>-1</td>\n",
              "      <td>21329</td>\n",
              "      <td>20</td>\n",
              "      <td>DPM1</td>\n",
              "      <td>protein_coding</td>\n",
              "      <td>cdna</td>\n",
              "    </tr>\n",
              "    <tr>\n",
              "      <th>ENSG00000000457.13</th>\n",
              "      <td>169853881</td>\n",
              "      <td>169893003</td>\n",
              "      <td>-1</td>\n",
              "      <td>39121</td>\n",
              "      <td>1</td>\n",
              "      <td>SCYL3</td>\n",
              "      <td>protein_coding</td>\n",
              "      <td>cdna</td>\n",
              "    </tr>\n",
              "    <tr>\n",
              "      <th>ENSG00000000460.16</th>\n",
              "      <td>169780373</td>\n",
              "      <td>169834072</td>\n",
              "      <td>1</td>\n",
              "      <td>53699</td>\n",
              "      <td>1</td>\n",
              "      <td>C1orf112</td>\n",
              "      <td>protein_coding</td>\n",
              "      <td>cdna</td>\n",
              "    </tr>\n",
              "  </tbody>\n",
              "</table>\n",
              "</div>"
            ],
            "text/plain": [
              "                        start        end  strand  length chr gene_symbol  \\\n",
              "gene                                                                       \n",
              "ENSG00000000003.14  100630765  100637538      -1    6773   X      TSPAN6   \n",
              "ENSG00000000005.5   100589213  100598708       1    9495   X        TNMD   \n",
              "ENSG00000000419.12   50935098   50956428      -1   21329  20        DPM1   \n",
              "ENSG00000000457.13  169853881  169893003      -1   39121   1       SCYL3   \n",
              "ENSG00000000460.16  169780373  169834072       1   53699   1    C1orf112   \n",
              "\n",
              "                         gene_type source  \n",
              "gene                                       \n",
              "ENSG00000000003.14  protein_coding   cdna  \n",
              "ENSG00000000005.5   protein_coding   cdna  \n",
              "ENSG00000000419.12  protein_coding   cdna  \n",
              "ENSG00000000457.13  protein_coding   cdna  \n",
              "ENSG00000000460.16  protein_coding   cdna  "
            ]
          },
          "metadata": {}
        }
      ],
      "execution_count": 11,
      "metadata": {}
    },
    {
      "cell_type": "markdown",
      "source": [
        "### Part 4.3 Working with pandas dataframes\n",
        "\n",
        "**Print the information for the gene *ENSG00000181449.3*.  You should familiarize yourself with the .loc and .iloc commands.**"
      ],
      "metadata": {}
    },
    {
      "cell_type": "code",
      "source": [
        "anno.loc['ENSG00000181449.3']"
      ],
      "outputs": [
        {
          "output_type": "execute_result",
          "execution_count": 4,
          "data": {
            "text/plain": [
              "start               181711924\n",
              "end                 181714436\n",
              "strand                      1\n",
              "length                   2512\n",
              "chr                         3\n",
              "gene_symbol              SOX2\n",
              "gene_type      protein_coding\n",
              "source                   cdna\n",
              "Name: ENSG00000181449.3, dtype: object"
            ]
          },
          "metadata": {}
        }
      ],
      "execution_count": 4,
      "metadata": {}
    },
    {
      "cell_type": "markdown",
      "source": [
        "#### One of the most important things about working with genomics data is double checking that the files you are working with have the data you expect them to have.\n",
        "\n",
        "For instance: what values are present in the 'chr' column of our annotation dataframe?  How many chromosome values are in this column?\n",
        "\n",
        "What chromosomes would you expect to be there?  Are there any other chromosomes present, and if so, what are they?\n",
        "\n",
        "As a hint, you're looking for unique values in that column of the dataframe."
      ],
      "metadata": {}
    },
    {
      "cell_type": "code",
      "source": [
        "print(len(anno['chr'].unique()))\n",
        "print(anno['chr'].unique())"
      ],
      "outputs": [
        {
          "output_type": "stream",
          "name": "stdout",
          "text": [
            "380\n",
            "['X' '20' '1' '6' '3' '7' '12' '11' '4' '17' '2' '16' '8' '19' '9' '13'\n",
            " '14' '5' '22' '10' 'Y' '18' '15' 'CHR_HSCHR6_MHC_MCF_CTG1'\n",
            " 'CHR_HSCHR6_MHC_QBL_CTG1' 'CHR_HSCHR6_MHC_DBB_CTG1'\n",
            " 'CHR_HSCHR6_MHC_SSTO_CTG1' 'CHR_HSCHR6_MHC_COX_CTG1' '21'\n",
            " 'CHR_HSCHR6_MHC_MANN_CTG1' 'CHR_HSCHR4_6_CTG12' 'MT' 'CHR_HSCHR1_5_CTG3'\n",
            " 'CHR_HSCHR6_MHC_APD_CTG1' 'CHR_HG1362_PATCH' 'CHR_HSCHR15_3_CTG8'\n",
            " 'CHR_HSCHR19_4_CTG3_1' 'CHR_HSCHR16_1_CTG1' 'CHR_HSCHR1_2_CTG3'\n",
            " 'CHR_HG2128_PATCH' 'CHR_HSCHR13_1_CTG3' 'CHR_HSCHR16_2_CTG3_1'\n",
            " 'CHR_HSCHR3_1_CTG2_1' 'CHR_HSCHR21_2_CTG1_1' 'CHR_HSCHR17_4_CTG4'\n",
            " 'CHR_HSCHR12_2_CTG2' 'CHR_HSCHR12_3_CTG2_1' 'CHR_HSCHR1_2_CTG31'\n",
            " 'CHR_HG142_HG150_NOVEL_TEST' 'CHR_HG151_NOVEL_TEST'\n",
            " 'CHR_HSCHR16_1_CTG3_1' 'CHR_HSCHR17_1_CTG4' 'CHR_HSCHR1_1_CTG31'\n",
            " 'CHR_HSCHR7_1_CTG6' 'CHR_HSCHR12_1_CTG1' 'CHR_HSCHR22_1_CTG1'\n",
            " 'CHR_HSCHR12_2_CTG2_1' 'CHR_HSCHR12_1_CTG2_1' 'CHR_HSCHR18_2_CTG2'\n",
            " 'CHR_HSCHR18_1_CTG2_1' 'CHR_HSCHR19_1_CTG3_1' 'CHR_HSCHR18_1_CTG1_1'\n",
            " 'CHR_HSCHR21_4_CTG1_1' 'CHR_HSCHR22_1_CTG2' 'CHR_HSCHR1_3_CTG31'\n",
            " 'CHR_HSCHR17_6_CTG4' 'CHR_HSCHR17_5_CTG4' 'CHR_HSCHR18_2_CTG2_1'\n",
            " 'CHR_HSCHR17_1_CTG1' 'CHR_HSCHR4_1_CTG12' 'CHR_HSCHR5_1_CTG5'\n",
            " 'CHR_HSCHR20_1_CTG1' 'CHR_HSCHR21_3_CTG1_1' 'CHR_HSCHR9_1_CTG1'\n",
            " 'CHR_HSCHR4_1_CTG6' 'CHR_HSCHR3_1_CTG1' 'CHR_HSCHR3_9_CTG3'\n",
            " 'CHR_HSCHR22_1_CTG7' 'KI270713.1' 'KI270711.1' 'CHR_HSCHR22_2_CTG1'\n",
            " 'CHR_HSCHR15_4_CTG8' 'CHR_HSCHR1_1_CTG3' 'CHR_HSCHR10_1_CTG2'\n",
            " 'GL000205.2' 'CHR_HSCHR19KIR_LUCE_BDEL_HAP_CTG3_1' 'CHR_HSCHR10_1_CTG1'\n",
            " 'CHR_HSCHR19KIR_FH13_A_HAP_CTG3_1' 'CHR_HSCHR12_3_CTG2'\n",
            " 'CHR_HSCHR19LRC_LRC_I_CTG3_1' 'CHR_HSCHR1_ALT2_1_CTG32_1'\n",
            " 'CHR_HSCHR19KIR_FH08_A_HAP_CTG3_1' 'CHR_HSCHR19LRC_COX1_CTG3_1'\n",
            " 'CHR_HSCHR19KIR_RP5_B_HAP_CTG3_1' 'CHR_HSCHR19KIR_RSH_A_HAP_CTG3_1'\n",
            " 'CHR_HSCHR19LRC_LRC_T_CTG3_1' 'CHR_HSCHR19KIR_ABC08_AB_HAP_T_P_CTG3_1'\n",
            " 'CHR_HSCHR11_1_CTG7' 'CHR_HSCHR19KIR_G085_A_HAP_CTG3_1' 'KI270721.1'\n",
            " 'CHR_HSCHR14_7_CTG1' 'CHR_HSCHR19LRC_PGF1_CTG3_1' 'CHR_HSCHR14_3_CTG1'\n",
            " 'KI270728.1' 'CHR_HSCHR11_1_CTG8' 'CHR_HSCHR19KIR_FH15_A_HAP_CTG3_1'\n",
            " 'CHR_HSCHR19KIR_T7526_BDEL_HAP_CTG3_1' 'CHR_HSCHR8_3_CTG7'\n",
            " 'CHR_HSCHR6_1_CTG2' 'CHR_HSCHR17_7_CTG4' 'CHR_HSCHR15_1_CTG1'\n",
            " 'CHR_HSCHR15_1_CTG8' 'CHR_HSCHR8_3_CTG1' 'CHR_HSCHR19LRC_LRC_J_CTG3_1'\n",
            " 'CHR_HSCHR8_8_CTG1' 'CHR_HSCHR5_2_CTG1_1'\n",
            " 'CHR_HSCHR19KIR_FH15_B_HAP_CTG3_1' 'CHR_HSCHR15_5_CTG8'\n",
            " 'CHR_HSCHR19KIR_ABC08_AB_HAP_C_P_CTG3_1' 'CHR_HSCHR19LRC_PGF2_CTG3_1'\n",
            " 'CHR_HSCHR17_2_CTG2' 'GL000220.1' 'CHR_HSCHR22_1_CTG3' 'KI270733.1'\n",
            " 'GL000219.1' 'CHR_HSCHR19KIR_FH06_BA1_HAP_CTG3_1'\n",
            " 'CHR_HSCHR19KIR_FH13_BA2_HAP_CTG3_1' 'CHR_HSCHR1_4_CTG31'\n",
            " 'CHR_HSCHR18_ALT21_CTG2_1' 'CHR_HSCHR5_1_CTG1_1' 'CHR_HSCHR22_3_CTG1'\n",
            " 'CHR_HSCHR11_1_CTG6' 'CHR_HSCHR3_3_CTG3' 'CHR_HSCHR1_2_CTG32_1'\n",
            " 'CHR_HSCHRX_2_CTG3' 'CHR_HSCHR19KIR_FH08_BAX_HAP_CTG3_1'\n",
            " 'CHR_HSCHR19KIR_G248_A_HAP_CTG3_1' 'CHR_HSCHR19LRC_COX2_CTG3_1'\n",
            " 'CHR_HSCHR19KIR_FH05_A_HAP_CTG3_1' 'CHR_HSCHR7_2_CTG6'\n",
            " 'CHR_HSCHR11_1_CTG5' 'CHR_HSCHR5_1_CTG1' 'CHR_HSCHR17_1_CTG2'\n",
            " 'CHR_HSCHR3_7_CTG3' 'CHR_HSCHR6_1_CTG8' 'CHR_HSCHR16_CTG2'\n",
            " 'CHR_HSCHR9_1_CTG2' 'CHR_HSCHR15_1_CTG3' 'CHR_HSCHR4_1_CTG9'\n",
            " 'CHR_HSCHR19KIR_T7526_A_HAP_CTG3_1' 'CHR_HSCHR19_1_CTG2'\n",
            " 'CHR_HSCHR19KIR_FH06_A_HAP_CTG3_1' 'CHR_HSCHR14_2_CTG1'\n",
            " 'CHR_HSCHR19KIR_RSH_BA2_HAP_CTG3_1' 'CHR_HSCHR19_3_CTG3_1'\n",
            " 'CHR_HSCHR19KIR_G085_BA1_HAP_CTG3_1' 'CHR_HSCHR8_5_CTG1'\n",
            " 'CHR_HSCHR17_10_CTG4' 'CHR_HSCHR17_2_CTG5' 'GL000216.2'\n",
            " 'CHR_HSCHR4_7_CTG12' 'CHR_HSCHR19KIR_GRC212_BA1_HAP_CTG3_1'\n",
            " 'CHR_HSCHR19KIR_GRC212_AB_HAP_CTG3_1' 'CHR_HSCHR17_1_CTG5'\n",
            " 'CHR_HSCHR16_3_CTG1' 'CHR_HSCHR14_1_CTG1' 'CHR_HSCHR2_3_CTG7_2'\n",
            " 'CHR_HSCHR5_3_CTG5' 'CHR_HSCHR15_3_CTG3' 'CHR_HSCHR10_1_CTG4'\n",
            " 'CHR_HSCHR19KIR_G248_BA2_HAP_CTG3_1' 'CHR_HSCHR19KIR_FH05_B_HAP_CTG3_1'\n",
            " 'CHR_HSCHR8_4_CTG7' 'CHR_HSCHR19LRC_LRC_S_CTG3_1' 'CHR_HSCHR19_5_CTG2'\n",
            " 'CHR_HSCHR19KIR_LUCE_A_HAP_CTG3_1' 'CHR_HSCHR22_1_CTG6'\n",
            " 'CHR_HSCHR22_1_CTG5' 'CHR_HSCHR21_5_CTG2' 'CHR_HSCHR5_2_CTG5'\n",
            " 'CHR_HSCHR19_2_CTG2' 'KI270727.1' 'CHR_HSCHR9_1_CTG3' 'CHR_HSCHR5_3_CTG1'\n",
            " 'GL000194.1' 'CHR_HSCHR19_3_CTG2' 'CHR_HSCHR5_2_CTG1' 'CHR_HSCHR2_1_CTG1'\n",
            " 'CHR_HSCHR7_3_CTG6' 'CHR_HSCHR11_2_CTG1' 'CHR_HSCHR20_1_CTG3'\n",
            " 'CHR_HSCHR17_1_CTG9' 'CHR_HSCHR12_6_CTG2_1' 'CHR_HSCHR12_5_CTG2_1'\n",
            " 'KI270726.1' 'CHR_HSCHR19KIR_ABC08_A1_HAP_CTG3_1' 'CHR_HSCHR3_6_CTG3'\n",
            " 'CHR_HSCHR8_5_CTG7' 'CHR_HSCHR17_8_CTG4' 'CHR_HSCHR1_3_CTG32_1'\n",
            " 'CHR_HSCHR2_1_CTG7_2' 'CHR_HSCHR6_1_CTG5' 'CHR_HSCHR6_1_CTG4'\n",
            " 'CHR_HSCHR12_4_CTG2' 'CHR_HSCHR3_8_CTG3' 'CHR_HSCHR12_5_CTG2'\n",
            " 'CHR_HSCHR3_2_CTG3' 'CHR_HSCHR8_9_CTG1' 'CHR_HSCHR7_1_CTG4_4'\n",
            " 'CHR_HSCHR2_2_CTG7' 'CHR_HSCHR6_8_CTG1' 'CHR_HSCHR13_1_CTG1'\n",
            " 'CHR_HSCHR17_2_CTG1' 'CHR_HSCHR17_3_CTG2' 'KI270734.1'\n",
            " 'CHR_HSCHR4_3_CTG12' 'CHR_HSCHR2_3_CTG15' 'CHR_HSCHR5_4_CTG1_1'\n",
            " 'CHR_HSCHR7_2_CTG4_4' 'CHR_HSCHR11_3_CTG1' 'CHR_HSCHR12_4_CTG2_1'\n",
            " 'GL000195.1' 'CHR_HSCHR16_4_CTG1' 'CHR_HSCHR9_1_CTG4' 'CHR_HSCHRX_1_CTG3'\n",
            " 'CHR_HSCHR5_4_CTG1' 'CHR_HSCHR9_1_CTG5' 'CHR_HSCHR3_1_CTG3' 'GL000225.1'\n",
            " 'CHR_HSCHR2_2_CTG7_2' 'CHR_HSCHR18_ALT2_CTG2_1' 'CHR_HSCHR15_2_CTG3'\n",
            " 'CHR_HSCHR5_6_CTG1' 'CHR_HSCHR3_2_CTG2_1' 'CHR_HSCHR2_1_CTG5'\n",
            " 'CHR_HSCHR6_1_CTG7' 'KI270750.1' 'CHR_HSCHR11_2_CTG1_1'\n",
            " 'CHR_HSCHR22_1_CTG4' 'CHR_HSCHR2_4_CTG1' 'GL000213.1' 'CHR_HSCHR3_5_CTG3'\n",
            " 'CHR_HSCHRX_2_CTG12' 'CHR_HSCHR15_2_CTG8' 'CHR_HSCHR8_2_CTG7'\n",
            " 'KI270731.1' 'CHR_HSCHR8_1_CTG6' 'CHR_HSCHR3_4_CTG3' 'CHR_HSCHR8_7_CTG1'\n",
            " 'KI270442.1' 'GL000218.1' 'KI270744.1' 'GL000009.2' 'CHR_HSCHR19_4_CTG2'\n",
            " 'CHR_HG1342_HG2282_PATCH' 'CHR_HG2046_PATCH' 'CHR_HSCHR1_4_CTG3'\n",
            " 'CHR_HSCHR22_4_CTG1' 'CHR_HG2288_HG2289_PATCH' 'CHR_HG2030_PATCH'\n",
            " 'CHR_HG2217_PATCH' 'CHR_HG126_PATCH' 'CHR_HG2066_PATCH'\n",
            " 'CHR_HSCHR20_1_CTG2' 'CHR_HSCHR2_2_CTG1' 'CHR_HSCHR21_6_CTG1_1'\n",
            " 'CHR_HG2021_PATCH' 'CHR_HG2095_PATCH' 'CHR_HSCHR3_3_CTG1'\n",
            " 'CHR_HSCHR6_1_CTG9' 'CHR_HSCHR2_1_CTG15' 'CHR_HSCHR3_4_CTG2_1'\n",
            " 'CHR_HSCHR11_1_CTG1_2' 'CHR_HSCHR4_2_CTG12' 'CHR_HG2247_PATCH'\n",
            " 'CHR_HG2232_PATCH' 'CHR_HSCHR5_5_CTG1' 'CHR_HG1832_PATCH'\n",
            " 'CHR_HSCHR21_8_CTG1_1' 'CHR_HSCHR6_1_CTG6' 'CHR_HG2104_PATCH'\n",
            " 'CHR_HG2233_PATCH' 'CHR_HG2058_PATCH' 'CHR_HSCHR4_1_CTG4'\n",
            " 'CHR_HSCHR1_1_CTG11' 'CHR_HG2291_PATCH' 'CHR_HSCHR22_5_CTG1'\n",
            " 'CHR_HSCHR2_1_CTG7' 'CHR_HSCHR2_2_CTG15' 'CHR_HSCHR22_8_CTG1'\n",
            " 'CHR_HG2191_PATCH' 'CHR_HSCHR4_4_CTG12' 'CHR_HSCHR20_1_CTG4'\n",
            " 'CHR_HSCHR5_7_CTG1' 'CHR_HG2062_PATCH' 'CHR_HSCHR1_1_CTG32_1'\n",
            " 'CHR_HSCHR3_5_CTG2_1' 'CHR_HSCHR7_1_CTG1' 'CHR_HSCHR2_6_CTG7_2'\n",
            " 'CHR_HSCHR4_5_CTG12' 'CHR_HSCHR2_3_CTG1' 'CHR_HG986_PATCH'\n",
            " 'CHR_HG2249_PATCH' 'CHR_HSCHR15_6_CTG8' 'CHR_HG2290_PATCH'\n",
            " 'CHR_HSCHR18_3_CTG2_1' 'CHR_HSCHR7_2_CTG1' 'CHR_HSCHR8_1_CTG1'\n",
            " 'CHR_HSCHR13_1_CTG5' 'CHR_HSCHR19_2_CTG3_1' 'CHR_HSCHR8_6_CTG1'\n",
            " 'CHR_HSCHR8_4_CTG1' 'CHR_HSCHR8_1_CTG7' 'CHR_HSCHR17_2_CTG4'\n",
            " 'CHR_HSCHR10_1_CTG3' 'CHR_HSCHR7_1_CTG7' 'CHR_HG2235_PATCH'\n",
            " 'CHR_HSCHR8_2_CTG1' 'CHR_HSCHR17_9_CTG4' 'CHR_HSCHR17_3_CTG4'\n",
            " 'CHR_HSCHR18_2_CTG1_1' 'CHR_HG1651_PATCH' 'CHR_HSCHR7_2_CTG7'\n",
            " 'CHR_HSCHR1_5_CTG32_1' 'CHR_HG2213_PATCH' 'CHR_HSCHR16_4_CTG3_1'\n",
            " 'CHR_HG26_PATCH' 'CHR_HSCHR6_1_CTG10' 'CHR_HSCHR22_6_CTG1'\n",
            " 'CHR_HSCHR16_5_CTG1' 'CHR_HSCHR18_5_CTG1_1' 'CHR_HSCHR13_1_CTG8'\n",
            " 'CHR_HG2334_PATCH' 'CHR_HG2072_PATCH' 'CHR_HSCHR4_9_CTG12'\n",
            " 'CHR_HSCHR22_7_CTG1' 'CHR_HSCHR4_2_CTG4' 'CHR_HG2116_PATCH'\n",
            " 'CHR_HSCHR9_1_CTG6' 'CHR_HSCHR4_8_CTG12' 'CHR_HG2239_PATCH'\n",
            " 'CHR_HSCHR12_2_CTG1' 'CHR_HSCHR10_1_CTG6' 'CHR_HSCHR1_3_CTG3'\n",
            " 'CHR_HG2023_PATCH' 'CHR_HG107_PATCH' 'CHR_HSCHR4_11_CTG12'\n",
            " 'CHR_HG1311_PATCH' 'CHR_HG2022_PATCH' 'CHR_HG2063_PATCH'\n",
            " 'CHR_HG926_PATCH' 'CHR_HSCHR19KIR_0010-5217-AB_CTG3_1'\n",
            " 'CHR_HSCHR1_6_CTG3' 'CHR_HSCHR19KIR_502960008-1_CTG3_1'\n",
            " 'CHR_HSCHR19KIR_CA01-TB01_CTG3_1' 'CHR_HSCHR19KIR_0019-4656-A_CTG3_1'\n",
            " 'CHR_HSCHR19KIR_0019-4656-B_CTG3_1' 'CHR_HG30_PATCH' 'CHR_HSCHR5_8_CTG1'\n",
            " 'CHR_HSCHR19KIR_7191059-1_CTG3_1' 'CHR_HSCHR19KIR_CA01-TA01_1_CTG3_1'\n",
            " 'CHR_HSCHR19KIR_502960008-2_CTG3_1' 'CHR_HSCHR19KIR_CA04_CTG3_1'\n",
            " 'CHR_HSCHR17_3_CTG1' 'CHR_HSCHR19KIR_HG2393_CTG3_1'\n",
            " 'CHR_HSCHR19KIR_HG2394_CTG3_1' 'CHR_HSCHR19KIR_CA01-TB04_CTG3_1'\n",
            " 'CHR_HSCHR19KIR_7191059-2_CTG3_1' 'CHR_HG2266_PATCH'\n",
            " 'CHR_HSCHR19KIR_CA01-TA01_2_CTG3_1' 'CHR_HSCHR17_11_CTG4'\n",
            " 'CHR_HSCHR19KIR_HG2396_CTG3_1' 'CHR_HSCHR4_12_CTG12' 'CHR_HSCHR9_1_CTG7'\n",
            " 'CHR_HG2285_HG106_HG2252_PATCH' 'CHR_HG2236_PATCH' 'CHR_HG2067_PATCH'\n",
            " 'CHR_HG2088_PATCH' 'CHR_HG1708_PATCH' 'CHR_HG23_PATCH']\n"
          ]
        }
      ],
      "execution_count": 5,
      "metadata": {}
    },
    {
      "cell_type": "markdown",
      "source": [
        "#### Note that some of the values in the chromosome column are numbers (e.g., 1, 2, etc.) and others are strings (e.g., 'X', 'Y').  When Python imported the dataframe (pd.read_csv()), did it import the numerical chromosomes as integers or strings?"
      ],
      "metadata": {}
    },
    {
      "cell_type": "code",
      "source": [
        "np.unique([str(type(i)) for i in anno['chr']])"
      ],
      "outputs": [
        {
          "output_type": "execute_result",
          "execution_count": 12,
          "data": {
            "text/plain": [
              "array([\"<class 'str'>\"], dtype='<U13')"
            ]
          },
          "metadata": {}
        }
      ],
      "execution_count": 12,
      "metadata": {}
    },
    {
      "cell_type": "markdown",
      "source": [
        "#### Just to be sure - go through and explicitly convert everything in the column 'chr' of the dataframe to be a string.\n",
        "\n",
        "We're going to consider three ways of doing this (these types of row/column manipulations are things you're going to be doing a lot of). For two of them, you're going to want the command str() to convert something to a string.\n",
        "\n",
        "Save the column 'chr' of anno as a new variable called column_orig.  Using either list comprehensions or a for each loop, explicitly convert every value to a string (using str()), and save the results as a new variable called column_new.  Set the 'chr' column of anno to be equal to column_new."
      ],
      "metadata": {}
    },
    {
      "cell_type": "code",
      "source": [
        "column_orig = anno['chr']\n",
        "column_new = [str(i) for i in column_orig]\n",
        "anno['chr'] = column_new"
      ],
      "outputs": [],
      "execution_count": 13,
      "metadata": {}
    },
    {
      "cell_type": "markdown",
      "source": [
        "#### As it turns out, there's also a convenient function that is built into dataframes called .apply().  Look up the syntax for this, and convert the values in the 'chr' column to strings with .apply().\n",
        "\n",
        "(You should be able to do this in a single line of code.  Remember that you need to explicitly tell Python to both 1) perform .apply() <i>and</i> save the result in the 'chr' column of anno)"
      ],
      "metadata": {}
    },
    {
      "cell_type": "code",
      "source": [
        "anno['chr'] = anno['chr'].apply(str)"
      ],
      "outputs": [],
      "execution_count": 14,
      "metadata": {}
    },
    {
      "cell_type": "markdown",
      "source": [
        "**There's actually an even more convenient way to do this - look up the .astype() function, and use it below to convert the values in the 'chr' column to strings.**"
      ],
      "metadata": {}
    },
    {
      "cell_type": "code",
      "source": [
        "anno['chr'] = anno['chr'].astype(str)"
      ],
      "outputs": [],
      "execution_count": 15,
      "metadata": {}
    },
    {
      "cell_type": "markdown",
      "source": [
        "#### Let's say that we want to subset this annotation to get a list of only those genes that are on the 'normal' chromosomes: autosomes, sex chromosomes, in the mitochondrial genome.\n",
        "\n",
        "Make a list that looks like this:\n",
        "\n",
        "[1, 2, 3, 4, 5, 6, 7, 8, 9, 10, 11, 12, 13, 14, 15, 16, 17, 18, 19, 20, 21, 22, 'X', 'Y', 'MT']\n",
        "\n",
        "Do it <u>without</u> explicitly writing out the numbers 1 to 22.  Feel free to use either lists (built-in to Python) or numpy arrays (np.array()).  Be sure to save the numerical chromosomes as the correct data type (integer or string) to match the data type of the values in anno['chr']."
      ],
      "metadata": {}
    },
    {
      "cell_type": "code",
      "source": [
        "my_chrs = [str(i) for i in range(1,23)] + ['X', 'Y','MT']\n",
        "print(my_chrs)"
      ],
      "outputs": [
        {
          "output_type": "stream",
          "name": "stdout",
          "text": [
            "['1', '2', '3', '4', '5', '6', '7', '8', '9', '10', '11', '12', '13', '14', '15', '16', '17', '18', '19', '20', '21', '22', 'X', 'Y', 'MT']\n"
          ]
        }
      ],
      "execution_count": 16,
      "metadata": {}
    },
    {
      "cell_type": "markdown",
      "source": [
        "#### Subset the anno dataframe to include only those genes whose chromosome annotations are in this list of chromosomes.  Save this as a new dataframe called anno_filtered.\n",
        "\n",
        "How big is this new annotation/how many things did we filter out? Print the first five columns of the dataframe with .head().\n",
        "\n",
        "(You should end up with 57106 rows remaining in anno_filt)"
      ],
      "metadata": {}
    },
    {
      "cell_type": "code",
      "source": [
        "anno_filt = anno[anno['chr'].isin(my_chrs)]\n",
        "print(anno.shape)\n",
        "print(anno_filt.shape)\n",
        "anno_filt.head()"
      ],
      "outputs": [
        {
          "output_type": "stream",
          "name": "stdout",
          "text": [
            "(62803, 8)\n",
            "(57106, 8)\n"
          ]
        },
        {
          "output_type": "execute_result",
          "execution_count": 17,
          "data": {
            "text/html": [
              "<div>\n",
              "<style scoped>\n",
              "    .dataframe tbody tr th:only-of-type {\n",
              "        vertical-align: middle;\n",
              "    }\n",
              "\n",
              "    .dataframe tbody tr th {\n",
              "        vertical-align: top;\n",
              "    }\n",
              "\n",
              "    .dataframe thead th {\n",
              "        text-align: right;\n",
              "    }\n",
              "</style>\n",
              "<table border=\"1\" class=\"dataframe\">\n",
              "  <thead>\n",
              "    <tr style=\"text-align: right;\">\n",
              "      <th></th>\n",
              "      <th>start</th>\n",
              "      <th>end</th>\n",
              "      <th>strand</th>\n",
              "      <th>length</th>\n",
              "      <th>chr</th>\n",
              "      <th>gene_symbol</th>\n",
              "      <th>gene_type</th>\n",
              "      <th>source</th>\n",
              "    </tr>\n",
              "    <tr>\n",
              "      <th>gene</th>\n",
              "      <th></th>\n",
              "      <th></th>\n",
              "      <th></th>\n",
              "      <th></th>\n",
              "      <th></th>\n",
              "      <th></th>\n",
              "      <th></th>\n",
              "      <th></th>\n",
              "    </tr>\n",
              "  </thead>\n",
              "  <tbody>\n",
              "    <tr>\n",
              "      <th>ENSG00000000003.14</th>\n",
              "      <td>100630765</td>\n",
              "      <td>100637538</td>\n",
              "      <td>-1</td>\n",
              "      <td>6773</td>\n",
              "      <td>X</td>\n",
              "      <td>TSPAN6</td>\n",
              "      <td>protein_coding</td>\n",
              "      <td>cdna</td>\n",
              "    </tr>\n",
              "    <tr>\n",
              "      <th>ENSG00000000005.5</th>\n",
              "      <td>100589213</td>\n",
              "      <td>100598708</td>\n",
              "      <td>1</td>\n",
              "      <td>9495</td>\n",
              "      <td>X</td>\n",
              "      <td>TNMD</td>\n",
              "      <td>protein_coding</td>\n",
              "      <td>cdna</td>\n",
              "    </tr>\n",
              "    <tr>\n",
              "      <th>ENSG00000000419.12</th>\n",
              "      <td>50935098</td>\n",
              "      <td>50956428</td>\n",
              "      <td>-1</td>\n",
              "      <td>21329</td>\n",
              "      <td>20</td>\n",
              "      <td>DPM1</td>\n",
              "      <td>protein_coding</td>\n",
              "      <td>cdna</td>\n",
              "    </tr>\n",
              "    <tr>\n",
              "      <th>ENSG00000000457.13</th>\n",
              "      <td>169853881</td>\n",
              "      <td>169893003</td>\n",
              "      <td>-1</td>\n",
              "      <td>39121</td>\n",
              "      <td>1</td>\n",
              "      <td>SCYL3</td>\n",
              "      <td>protein_coding</td>\n",
              "      <td>cdna</td>\n",
              "    </tr>\n",
              "    <tr>\n",
              "      <th>ENSG00000000460.16</th>\n",
              "      <td>169780373</td>\n",
              "      <td>169834072</td>\n",
              "      <td>1</td>\n",
              "      <td>53699</td>\n",
              "      <td>1</td>\n",
              "      <td>C1orf112</td>\n",
              "      <td>protein_coding</td>\n",
              "      <td>cdna</td>\n",
              "    </tr>\n",
              "  </tbody>\n",
              "</table>\n",
              "</div>"
            ],
            "text/plain": [
              "                        start        end  strand  length chr gene_symbol  \\\n",
              "gene                                                                       \n",
              "ENSG00000000003.14  100630765  100637538      -1    6773   X      TSPAN6   \n",
              "ENSG00000000005.5   100589213  100598708       1    9495   X        TNMD   \n",
              "ENSG00000000419.12   50935098   50956428      -1   21329  20        DPM1   \n",
              "ENSG00000000457.13  169853881  169893003      -1   39121   1       SCYL3   \n",
              "ENSG00000000460.16  169780373  169834072       1   53699   1    C1orf112   \n",
              "\n",
              "                         gene_type source  \n",
              "gene                                       \n",
              "ENSG00000000003.14  protein_coding   cdna  \n",
              "ENSG00000000005.5   protein_coding   cdna  \n",
              "ENSG00000000419.12  protein_coding   cdna  \n",
              "ENSG00000000457.13  protein_coding   cdna  \n",
              "ENSG00000000460.16  protein_coding   cdna  "
            ]
          },
          "metadata": {}
        }
      ],
      "execution_count": 17,
      "metadata": {}
    },
    {
      "cell_type": "markdown",
      "source": [
        "#### How many genes are on each chromosome?  There's a few ways you could do this, but one is to use a Counter.\n",
        "\n",
        "1. from the package 'collections' import Counter. https://docs.python.org/3.6/library/collections.html#collections.Counter\n",
        "2. create a new variable called chr_count that is a Counter.\n",
        "3. loop through all values in the 'chr' column of anno_filt and update the Counter.\n",
        "    - You can either use a for loop, or, use .apply() and a lambda function.\n",
        "    - Lambda functions are incredibly useful: they let you define a new short function in a single line.  The syntax is:"
      ],
      "metadata": {}
    },
    {
      "cell_type": "code",
      "source": [
        "# information on lambda functions\n",
        "\n",
        "func_lambda = lambda x: x + 2\n",
        "func_lambda2 = lambda x: x ** 2 + 100\n",
        "func_lambda3 = lambda x: str(x)\n",
        "\n",
        "print(func_lambda(10))\n",
        "print(func_lambda2(10))\n",
        "print(func_lambda3(10))\n",
        "\n",
        "# these are the same as:\n",
        "\n",
        "def func_long(x):\n",
        "    return x + 2\n",
        "def func_long2(x):\n",
        "    return x ** 2 + 100\n",
        "def func_long3(x):\n",
        "    return str(x)\n",
        "\n",
        "# you can use a lambda function with dataframes\n",
        "my_data_frame = pd.DataFrame()\n",
        "my_data_frame['my_column'] = np.arange(10)\n",
        "my_data_frame['other_column'] = np.arange(10,20)\n",
        "print(my_data_frame, '\\n')\n",
        "\n",
        "print(my_data_frame.apply(lambda x: np.log10(x['my_column'] + 10**-15), axis=1), '\\n')\n",
        "print(my_data_frame['my_column'].apply(lambda x: np.log10(x + 10**-15)), '\\n')\n",
        "print(my_data_frame.apply(lambda x: [(i**2)/100 for i in x]), '\\n')"
      ],
      "outputs": [
        {
          "output_type": "stream",
          "name": "stdout",
          "text": [
            "12\n",
            "200\n",
            "10\n",
            "   my_column  other_column\n",
            "0          0            10\n",
            "1          1            11\n",
            "2          2            12\n",
            "3          3            13\n",
            "4          4            14\n",
            "5          5            15\n",
            "6          6            16\n",
            "7          7            17\n",
            "8          8            18\n",
            "9          9            19 \n",
            "\n",
            "0   -1.500000e+01\n",
            "1    4.821637e-16\n",
            "2    3.010300e-01\n",
            "3    4.771213e-01\n",
            "4    6.020600e-01\n",
            "5    6.989700e-01\n",
            "6    7.781513e-01\n",
            "7    8.450980e-01\n",
            "8    9.030900e-01\n",
            "9    9.542425e-01\n",
            "dtype: float64 \n",
            "\n",
            "0   -1.500000e+01\n",
            "1    4.821637e-16\n",
            "2    3.010300e-01\n",
            "3    4.771213e-01\n",
            "4    6.020600e-01\n",
            "5    6.989700e-01\n",
            "6    7.781513e-01\n",
            "7    8.450980e-01\n",
            "8    9.030900e-01\n",
            "9    9.542425e-01\n",
            "Name: my_column, dtype: float64 \n",
            "\n",
            "   my_column  other_column\n",
            "0       0.00          1.00\n",
            "1       0.01          1.21\n",
            "2       0.04          1.44\n",
            "3       0.09          1.69\n",
            "4       0.16          1.96\n",
            "5       0.25          2.25\n",
            "6       0.36          2.56\n",
            "7       0.49          2.89\n",
            "8       0.64          3.24\n",
            "9       0.81          3.61 \n",
            "\n"
          ]
        }
      ],
      "execution_count": 103,
      "metadata": {}
    },
    {
      "cell_type": "code",
      "source": [
        "from collections import Counter\n",
        "\n",
        "chr_count = Counter()\n",
        "chr_count.update(anno_filt['chr'])\n",
        "\n",
        "[(i,chr_count[i]) for i in my_chrs]"
      ],
      "outputs": [
        {
          "output_type": "execute_result",
          "execution_count": 19,
          "data": {
            "text/plain": [
              "[('1', 5191),\n",
              " ('2', 3919),\n",
              " ('3', 2992),\n",
              " ('4', 2466),\n",
              " ('5', 2796),\n",
              " ('6', 2823),\n",
              " ('7', 2846),\n",
              " ('8', 2335),\n",
              " ('9', 2226),\n",
              " ('10', 2177),\n",
              " ('11', 3172),\n",
              " ('12', 2852),\n",
              " ('13', 1283),\n",
              " ('14', 2194),\n",
              " ('15', 2105),\n",
              " ('16', 2373),\n",
              " ('17', 2918),\n",
              " ('18', 1123),\n",
              " ('19', 2877),\n",
              " ('20', 1381),\n",
              " ('21', 821),\n",
              " ('22', 1329),\n",
              " ('X', 2351),\n",
              " ('Y', 519),\n",
              " ('MT', 37)]"
            ]
          },
          "metadata": {}
        }
      ],
      "execution_count": 19,
      "metadata": {}
    },
    {
      "cell_type": "markdown",
      "source": [
        "## Part 5: ENCODE data\n",
        "\n",
        "**Import the file 'all_ENCODE_metadata.tsv.gz' into a dataframe called encode.  Set the index column to be the file accession number, and print the first rows with .head()**"
      ],
      "metadata": {}
    },
    {
      "cell_type": "code",
      "source": [
        "fn = 'all_ENCODE_metadata.tsv.gz'\n",
        "encode = pd.read_csv(path + fn, sep='\\t')\n",
        "encode = encode.set_index('File accession')\n",
        "\n",
        "encode.head()"
      ],
      "outputs": [
        {
          "output_type": "stream",
          "name": "stderr",
          "text": [
            "/anaconda3/lib/python3.6/site-packages/IPython/core/interactiveshell.py:2785: DtypeWarning: Columns (13,14,15,23,26,34) have mixed types. Specify dtype option on import or set low_memory=False.\n",
            "  interactivity=interactivity, compiler=compiler, result=result)\n"
          ]
        },
        {
          "output_type": "execute_result",
          "execution_count": 32,
          "data": {
            "text/html": [
              "<div>\n",
              "<style scoped>\n",
              "    .dataframe tbody tr th:only-of-type {\n",
              "        vertical-align: middle;\n",
              "    }\n",
              "\n",
              "    .dataframe tbody tr th {\n",
              "        vertical-align: top;\n",
              "    }\n",
              "\n",
              "    .dataframe thead th {\n",
              "        text-align: right;\n",
              "    }\n",
              "</style>\n",
              "<table border=\"1\" class=\"dataframe\">\n",
              "  <thead>\n",
              "    <tr style=\"text-align: right;\">\n",
              "      <th></th>\n",
              "      <th>File format</th>\n",
              "      <th>Output type</th>\n",
              "      <th>Experiment accession</th>\n",
              "      <th>Assay</th>\n",
              "      <th>Biosample term id</th>\n",
              "      <th>Biosample term name</th>\n",
              "      <th>Biosample type</th>\n",
              "      <th>Biosample life stage</th>\n",
              "      <th>Biosample sex</th>\n",
              "      <th>Biosample Age</th>\n",
              "      <th>...</th>\n",
              "      <th>dbxrefs</th>\n",
              "      <th>File download URL</th>\n",
              "      <th>Assembly</th>\n",
              "      <th>Platform</th>\n",
              "      <th>Controlled by</th>\n",
              "      <th>File Status</th>\n",
              "      <th>Audit WARNING</th>\n",
              "      <th>Audit INTERNAL_ACTION</th>\n",
              "      <th>Audit NOT_COMPLIANT</th>\n",
              "      <th>Audit ERROR</th>\n",
              "    </tr>\n",
              "    <tr>\n",
              "      <th>File accession</th>\n",
              "      <th></th>\n",
              "      <th></th>\n",
              "      <th></th>\n",
              "      <th></th>\n",
              "      <th></th>\n",
              "      <th></th>\n",
              "      <th></th>\n",
              "      <th></th>\n",
              "      <th></th>\n",
              "      <th></th>\n",
              "      <th></th>\n",
              "      <th></th>\n",
              "      <th></th>\n",
              "      <th></th>\n",
              "      <th></th>\n",
              "      <th></th>\n",
              "      <th></th>\n",
              "      <th></th>\n",
              "      <th></th>\n",
              "      <th></th>\n",
              "      <th></th>\n",
              "    </tr>\n",
              "  </thead>\n",
              "  <tbody>\n",
              "    <tr>\n",
              "      <th>ENCFF467JYT</th>\n",
              "      <td>fastq</td>\n",
              "      <td>reads</td>\n",
              "      <td>ENCSR146BGM</td>\n",
              "      <td>ChIP-seq</td>\n",
              "      <td>UBERON:0004550</td>\n",
              "      <td>gastroesophageal sphincter</td>\n",
              "      <td>tissue</td>\n",
              "      <td>adult</td>\n",
              "      <td>female</td>\n",
              "      <td>51 year</td>\n",
              "      <td>...</td>\n",
              "      <td>NaN</td>\n",
              "      <td>https://www.encodeproject.org/files/ENCFF467JY...</td>\n",
              "      <td>NaN</td>\n",
              "      <td>HiSeq 2000</td>\n",
              "      <td>/files/ENCFF231JUU/</td>\n",
              "      <td>released</td>\n",
              "      <td>antibody characterized with exemption, mild to...</td>\n",
              "      <td>mismatched file status, experiment not submitt...</td>\n",
              "      <td>severe bottlenecking, poor library complexity</td>\n",
              "      <td>NaN</td>\n",
              "    </tr>\n",
              "    <tr>\n",
              "      <th>ENCFF351KDO</th>\n",
              "      <td>fastq</td>\n",
              "      <td>reads</td>\n",
              "      <td>ENCSR146BGM</td>\n",
              "      <td>ChIP-seq</td>\n",
              "      <td>UBERON:0004550</td>\n",
              "      <td>gastroesophageal sphincter</td>\n",
              "      <td>tissue</td>\n",
              "      <td>adult</td>\n",
              "      <td>female</td>\n",
              "      <td>51 year</td>\n",
              "      <td>...</td>\n",
              "      <td>NaN</td>\n",
              "      <td>https://www.encodeproject.org/files/ENCFF351KD...</td>\n",
              "      <td>NaN</td>\n",
              "      <td>HiSeq 2000</td>\n",
              "      <td>/files/ENCFF432BFB/</td>\n",
              "      <td>released</td>\n",
              "      <td>antibody characterized with exemption, mild to...</td>\n",
              "      <td>mismatched file status, experiment not submitt...</td>\n",
              "      <td>severe bottlenecking, poor library complexity</td>\n",
              "      <td>NaN</td>\n",
              "    </tr>\n",
              "    <tr>\n",
              "      <th>ENCFF961OUB</th>\n",
              "      <td>bam</td>\n",
              "      <td>alignments</td>\n",
              "      <td>ENCSR146BGM</td>\n",
              "      <td>ChIP-seq</td>\n",
              "      <td>UBERON:0004550</td>\n",
              "      <td>gastroesophageal sphincter</td>\n",
              "      <td>tissue</td>\n",
              "      <td>adult</td>\n",
              "      <td>female</td>\n",
              "      <td>51 year</td>\n",
              "      <td>...</td>\n",
              "      <td>NaN</td>\n",
              "      <td>https://www.encodeproject.org/files/ENCFF961OU...</td>\n",
              "      <td>hg19</td>\n",
              "      <td>NaN</td>\n",
              "      <td>NaN</td>\n",
              "      <td>archived</td>\n",
              "      <td>antibody characterized with exemption, mild to...</td>\n",
              "      <td>mismatched file status, experiment not submitt...</td>\n",
              "      <td>severe bottlenecking, poor library complexity</td>\n",
              "      <td>NaN</td>\n",
              "    </tr>\n",
              "    <tr>\n",
              "      <th>ENCFF014FJF</th>\n",
              "      <td>fastq</td>\n",
              "      <td>reads</td>\n",
              "      <td>ENCSR146BGM</td>\n",
              "      <td>ChIP-seq</td>\n",
              "      <td>UBERON:0004550</td>\n",
              "      <td>gastroesophageal sphincter</td>\n",
              "      <td>tissue</td>\n",
              "      <td>adult</td>\n",
              "      <td>female</td>\n",
              "      <td>51 year</td>\n",
              "      <td>...</td>\n",
              "      <td>NaN</td>\n",
              "      <td>https://www.encodeproject.org/files/ENCFF014FJ...</td>\n",
              "      <td>NaN</td>\n",
              "      <td>HiSeq 2000</td>\n",
              "      <td>/files/ENCFF432BFB/</td>\n",
              "      <td>released</td>\n",
              "      <td>antibody characterized with exemption, mild to...</td>\n",
              "      <td>mismatched file status, experiment not submitt...</td>\n",
              "      <td>severe bottlenecking, poor library complexity</td>\n",
              "      <td>NaN</td>\n",
              "    </tr>\n",
              "    <tr>\n",
              "      <th>ENCFF655EPI</th>\n",
              "      <td>fastq</td>\n",
              "      <td>reads</td>\n",
              "      <td>ENCSR146BGM</td>\n",
              "      <td>ChIP-seq</td>\n",
              "      <td>UBERON:0004550</td>\n",
              "      <td>gastroesophageal sphincter</td>\n",
              "      <td>tissue</td>\n",
              "      <td>adult</td>\n",
              "      <td>female</td>\n",
              "      <td>51 year</td>\n",
              "      <td>...</td>\n",
              "      <td>NaN</td>\n",
              "      <td>https://www.encodeproject.org/files/ENCFF655EP...</td>\n",
              "      <td>NaN</td>\n",
              "      <td>HiSeq 2000</td>\n",
              "      <td>/files/ENCFF231JUU/</td>\n",
              "      <td>released</td>\n",
              "      <td>antibody characterized with exemption, mild to...</td>\n",
              "      <td>mismatched file status, experiment not submitt...</td>\n",
              "      <td>severe bottlenecking, poor library complexity</td>\n",
              "      <td>NaN</td>\n",
              "    </tr>\n",
              "  </tbody>\n",
              "</table>\n",
              "<p>5 rows × 49 columns</p>\n",
              "</div>"
            ],
            "text/plain": [
              "               File format Output type Experiment accession     Assay  \\\n",
              "File accession                                                          \n",
              "ENCFF467JYT          fastq       reads          ENCSR146BGM  ChIP-seq   \n",
              "ENCFF351KDO          fastq       reads          ENCSR146BGM  ChIP-seq   \n",
              "ENCFF961OUB            bam  alignments          ENCSR146BGM  ChIP-seq   \n",
              "ENCFF014FJF          fastq       reads          ENCSR146BGM  ChIP-seq   \n",
              "ENCFF655EPI          fastq       reads          ENCSR146BGM  ChIP-seq   \n",
              "\n",
              "               Biosample term id         Biosample term name Biosample type  \\\n",
              "File accession                                                                \n",
              "ENCFF467JYT       UBERON:0004550  gastroesophageal sphincter         tissue   \n",
              "ENCFF351KDO       UBERON:0004550  gastroesophageal sphincter         tissue   \n",
              "ENCFF961OUB       UBERON:0004550  gastroesophageal sphincter         tissue   \n",
              "ENCFF014FJF       UBERON:0004550  gastroesophageal sphincter         tissue   \n",
              "ENCFF655EPI       UBERON:0004550  gastroesophageal sphincter         tissue   \n",
              "\n",
              "               Biosample life stage Biosample sex Biosample Age     ...      \\\n",
              "File accession                                                      ...       \n",
              "ENCFF467JYT                   adult        female       51 year     ...       \n",
              "ENCFF351KDO                   adult        female       51 year     ...       \n",
              "ENCFF961OUB                   adult        female       51 year     ...       \n",
              "ENCFF014FJF                   adult        female       51 year     ...       \n",
              "ENCFF655EPI                   adult        female       51 year     ...       \n",
              "\n",
              "               dbxrefs                                  File download URL  \\\n",
              "File accession                                                              \n",
              "ENCFF467JYT        NaN  https://www.encodeproject.org/files/ENCFF467JY...   \n",
              "ENCFF351KDO        NaN  https://www.encodeproject.org/files/ENCFF351KD...   \n",
              "ENCFF961OUB        NaN  https://www.encodeproject.org/files/ENCFF961OU...   \n",
              "ENCFF014FJF        NaN  https://www.encodeproject.org/files/ENCFF014FJ...   \n",
              "ENCFF655EPI        NaN  https://www.encodeproject.org/files/ENCFF655EP...   \n",
              "\n",
              "               Assembly    Platform        Controlled by File Status  \\\n",
              "File accession                                                         \n",
              "ENCFF467JYT         NaN  HiSeq 2000  /files/ENCFF231JUU/    released   \n",
              "ENCFF351KDO         NaN  HiSeq 2000  /files/ENCFF432BFB/    released   \n",
              "ENCFF961OUB        hg19         NaN                  NaN    archived   \n",
              "ENCFF014FJF         NaN  HiSeq 2000  /files/ENCFF432BFB/    released   \n",
              "ENCFF655EPI         NaN  HiSeq 2000  /files/ENCFF231JUU/    released   \n",
              "\n",
              "                                                    Audit WARNING  \\\n",
              "File accession                                                      \n",
              "ENCFF467JYT     antibody characterized with exemption, mild to...   \n",
              "ENCFF351KDO     antibody characterized with exemption, mild to...   \n",
              "ENCFF961OUB     antibody characterized with exemption, mild to...   \n",
              "ENCFF014FJF     antibody characterized with exemption, mild to...   \n",
              "ENCFF655EPI     antibody characterized with exemption, mild to...   \n",
              "\n",
              "                                            Audit INTERNAL_ACTION  \\\n",
              "File accession                                                      \n",
              "ENCFF467JYT     mismatched file status, experiment not submitt...   \n",
              "ENCFF351KDO     mismatched file status, experiment not submitt...   \n",
              "ENCFF961OUB     mismatched file status, experiment not submitt...   \n",
              "ENCFF014FJF     mismatched file status, experiment not submitt...   \n",
              "ENCFF655EPI     mismatched file status, experiment not submitt...   \n",
              "\n",
              "                                          Audit NOT_COMPLIANT Audit ERROR  \n",
              "File accession                                                             \n",
              "ENCFF467JYT     severe bottlenecking, poor library complexity         NaN  \n",
              "ENCFF351KDO     severe bottlenecking, poor library complexity         NaN  \n",
              "ENCFF961OUB     severe bottlenecking, poor library complexity         NaN  \n",
              "ENCFF014FJF     severe bottlenecking, poor library complexity         NaN  \n",
              "ENCFF655EPI     severe bottlenecking, poor library complexity         NaN  \n",
              "\n",
              "[5 rows x 49 columns]"
            ]
          },
          "metadata": {}
        }
      ],
      "execution_count": 32,
      "metadata": {}
    },
    {
      "cell_type": "markdown",
      "source": [
        "#### How big is this dataframe?  What type of information is present in the rows? Columns?"
      ],
      "metadata": {}
    },
    {
      "cell_type": "code",
      "source": [
        "print(encode.shape)\n",
        "print(encode.columns)"
      ],
      "outputs": [
        {
          "output_type": "stream",
          "name": "stdout",
          "text": [
            "(301366, 49)\n",
            "Index(['File format', 'Output type', 'Experiment accession', 'Assay',\n",
            "       'Biosample term id', 'Biosample term name', 'Biosample type',\n",
            "       'Biosample life stage', 'Biosample sex', 'Biosample Age',\n",
            "       'Biosample organism', 'Biosample treatments',\n",
            "       'Biosample subcellular fraction term name', 'Biosample phase',\n",
            "       'Biosample synchronization stage', 'Experiment target',\n",
            "       'Antibody accession', 'Library made from', 'Library depleted in',\n",
            "       'Library extraction method', 'Library lysis method',\n",
            "       'Library crosslinking method', 'Library strand specific',\n",
            "       'Experiment date released', 'Project', 'RBNS protein concentration',\n",
            "       'Library fragmentation method', 'Library size range',\n",
            "       'Biological replicate(s)', 'Technical replicate', 'Read length',\n",
            "       'Mapped read length', 'Run type', 'Paired end', 'Paired with',\n",
            "       'Derived from', 'Size', 'Lab', 'md5sum', 'dbxrefs', 'File download URL',\n",
            "       'Assembly', 'Platform', 'Controlled by', 'File Status', 'Audit WARNING',\n",
            "       'Audit INTERNAL_ACTION', 'Audit NOT_COMPLIANT', 'Audit ERROR'],\n",
            "      dtype='object')\n"
          ]
        }
      ],
      "execution_count": 21,
      "metadata": {}
    },
    {
      "cell_type": "markdown",
      "source": [
        "#### Create a new dataframe called encode_filt that includes only samples that:\n",
        " - are from human (homo sapiens)\n",
        " - do not have audit errors.  Specifically, only include rows where encode['Audit ERROR'].isnull() is True.\n",
        " \n",
        "For the first criteria, you may need to look at what columns are present in the dataframe to choose the appropriate ones to filter on.  Your dataframe should have 223543 rows."
      ],
      "metadata": {}
    },
    {
      "cell_type": "code",
      "source": [
        "m1 = encode['Biosample organism'] == 'Homo sapiens'\n",
        "m2 = encode['Audit ERROR'].isnull()\n",
        "mask = m1 & m2\n",
        "encode_filt = encode[mask]\n",
        "print(encode_filt.shape)"
      ],
      "outputs": [
        {
          "output_type": "stream",
          "name": "stdout",
          "text": [
            "(223543, 49)\n"
          ]
        }
      ],
      "execution_count": 22,
      "metadata": {}
    },
    {
      "cell_type": "markdown",
      "source": [
        "#### What types of RNA-seq data are available?  Create a dataframe called rna that only has rows that satisfy all of the following criteria:\n",
        " - They come from RNA-seq experiments.\n",
        " - Their libraries are made from RNA\n",
        " - They are depleted in rRNA\n",
        " - They are fastq files\n",
        " \n",
        "You will need to look at both the column listings, as well as the unique values in these columns, to be able to know what values to filter on.  You will want to look at four columns, create a boolean mask for each of them (a array/series containing either True or False for each value), and then make a final mask that contains only values where all four sub-masks were True.\n",
        "\n",
        "Your final 'rna' dataframe should have 1017 rows."
      ],
      "metadata": {}
    },
    {
      "cell_type": "code",
      "source": [
        "# example on how to merge multiple masks\n",
        "\n",
        "a = np.array([True, True, False])\n",
        "b = np.array([False, True, False])\n",
        "c = np.array([True, True, True])\n",
        "\n",
        "d = a & b & c\n",
        "\n",
        "d\n",
        "\n",
        "# note that you can't do this with lists\n",
        "# (try it yourself and see what happens)\n",
        "# arrays make our lives easier!"
      ],
      "outputs": [
        {
          "output_type": "execute_result",
          "execution_count": 105,
          "data": {
            "text/plain": [
              "array([False,  True, False])"
            ]
          },
          "metadata": {}
        }
      ],
      "execution_count": 105,
      "metadata": {}
    },
    {
      "cell_type": "code",
      "source": [
        "m1 = encode_filt['Assay'] == 'RNA-seq'\n",
        "m2 = encode_filt['Library made from'] == 'RNA'\n",
        "m3 = encode_filt['Library depleted in'] == 'rRNA'\n",
        "m4 = encode_filt['File format'] == 'fastq'\n",
        "mask = m1 & m2 & m3 & m4\n",
        "\n",
        "rna = encode_filt[mask]\n",
        "\n",
        "print(rna.shape)"
      ],
      "outputs": [
        {
          "output_type": "stream",
          "name": "stdout",
          "text": [
            "(1017, 49)\n"
          ]
        }
      ],
      "execution_count": 23,
      "metadata": {}
    },
    {
      "cell_type": "markdown",
      "source": [
        "#### Get a list of the unique biosample term names in the rna dataframe.  In other words, a list of biosample term names for which there exists RNA-seq data that satisfied our above criteria."
      ],
      "metadata": {}
    },
    {
      "cell_type": "code",
      "source": [
        "in_rna = rna['Biosample term name'].unique()\n",
        "print(in_rna)"
      ],
      "outputs": [
        {
          "output_type": "stream",
          "name": "stdout",
          "text": [
            "['pericardium fibroblast' 'pulmonary artery endothelial cell' 'K562'\n",
            " 'gastrocnemius medialis' 'metanephros' 'thyroid gland' 'body of pancreas'\n",
            " 'airway epithelial cell' 'urinary bladder' 'tongue' 'IMR-90'\n",
            " 'skeletal muscle tissue' 'esophagus muscularis mucosa' 'HeLa-S3'\n",
            " 'dermis microvascular lymphatic vessel endothelial cell' 'heart'\n",
            " 'smooth muscle cell of bladder' 'spinal cord' 'MCF-7' 'sigmoid colon'\n",
            " 'uterus' 'lung' 'skin of body' 'SJSA1' 'A549' 'stomach' 'M059J'\n",
            " 'suprapubic skin' 'fibroblast of lung' 'SK-N-SH' 'RPMI-7951'\n",
            " 'hair follicular keratinocyte' 'omental fat pad' 'adrenal gland'\n",
            " 'vein endothelial cell' 'keratinocyte' 'skeletal muscle satellite cell'\n",
            " 'HepG2' 'subcutaneous preadipocyte' 'subcutaneous adipose tissue'\n",
            " 'fibroblast of villous mesenchyme' 'spleen' 'cerebellum' 'temporal lobe'\n",
            " 'endothelial cell of coronary artery' 'HT1080'\n",
            " 'smooth muscle cell of the umbilical artery' 'right lobe of liver'\n",
            " 'transverse colon' 'umbilical cord' 'occipital lobe'\n",
            " 'glomerular endothelial cell' 'tibial nerve' 'upper lobe of left lung'\n",
            " 'ovary' 'A172' 'melanocyte of skin' 'esophagus squamous epithelium'\n",
            " 'cardiac ventricle fibroblast' 'testis' 'pericyte cell'\n",
            " 'bronchus fibroblast of lung' 'smooth muscle cell of the coronary artery'\n",
            " 'hair follicle dermal papilla cell' 'vagina' 'G401' 'ascending aorta'\n",
            " \"Peyer's patch\" 'neural cell' 'heart left ventricle'\n",
            " 'gastroesophageal sphincter' 'frontal cortex'\n",
            " \"mesenchymal stem cell of Wharton's jelly\"\n",
            " 'smooth muscle cell of the pulmonary artery' 'breast epithelium'\n",
            " 'parietal lobe' 'mesenchymal stem cell of adipose'\n",
            " 'thoracic aorta endothelial cell' 'placental epithelial cell'\n",
            " 'camera-type eye' 'mammary microvascular endothelial cell'\n",
            " 'kidney epithelial cell' 'cardiac atrium fibroblast'\n",
            " 'dermis blood vessel endothelial cell' 'aortic smooth muscle cell'\n",
            " 'mesangial cell' 'A375' 'bladder microvascular endothelial cell' 'HT-29'\n",
            " 'mesenchymal stem cell of the bone marrow' 'liver' 'diencephalon'\n",
            " 'skeletal muscle myoblast'\n",
            " 'nasal cavity respiratory epithelium epithelial cell of viscerocranial mucosa'\n",
            " 'smooth muscle cell of trachea'\n",
            " 'dermis lymphatic vessel endothelial cell'\n",
            " 'right atrium auricular region' 'lung microvascular endothelial cell'\n",
            " 'SK-N-DZ' 'epithelial cell of umbilical artery' 'NCI-H460' 'H1-hESC'\n",
            " 'epithelial cell of proximal tubule'\n",
            " 'fibroblast of the aortic adventitia'\n",
            " 'endometrial microvascular endothelial cells'\n",
            " 'epithelial cell of alveolus of lung' 'prostate gland'\n",
            " 'renal cortical epithelial cell' 'Caki2' 'MG63'\n",
            " 'hematopoietic multipotent progenitor cell' 'foreskin fibroblast'\n",
            " 'SK-MEL-5' 'LHCN-M2' 'lower leg skin' 'mammary epithelial cell'\n",
            " 'uterine smooth muscle cell' 'bronchial smooth muscle cell'\n",
            " 'tracheal epithelial cell' 'myometrial cell' 'regular cardiac myocyte'\n",
            " 'Daoy' 'thoracic aorta' 'articular chondrocyte of knee joint'\n",
            " 'hepatocyte' 'astrocyte' 'SJCRH30' 'GM12878' 'mononuclear cell' 'H4'\n",
            " 'smooth muscle cell' 'H7-hESC' 'myocyte' 'osteoblast'\n",
            " 'neural progenitor cell' 'myotube' 'fibroblast of dermis'\n",
            " 'induced pluripotent stem cell' 'CD14-positive monocyte' 'Karpas-422'\n",
            " 'bronchial epithelial cell' 'endothelial cell of umbilical vein' 'B cell'\n",
            " 'cardiac muscle cell' 'PC-3' 'bipolar neuron' 'OCI-LY7'\n",
            " 'fibroblast of arm']\n"
          ]
        }
      ],
      "execution_count": 24,
      "metadata": {}
    },
    {
      "cell_type": "markdown",
      "source": [
        "#### What types of ChIP-seq data are available?  Create a dataframe called chip that only has rows that satisfy all of the following criteria:\n",
        " - They come from ChIP-seq experiments\n",
        " - The ChIP-seq target is H3K27ac-human\n",
        " - The file format is bed narrowPeak\n",
        " - The output type is replicated peaks\n",
        " - The bed files were aligned to the GRCh38 assembly.\n",
        " \n",
        "Your final dataframe should have 80 rows."
      ],
      "metadata": {}
    },
    {
      "cell_type": "code",
      "source": [
        "m1 = encode_filt['Assay'] == 'ChIP-seq'\n",
        "m2 = encode_filt['Experiment target'] == 'H3K27ac-human'\n",
        "m3 = encode_filt['File format'] == 'bed narrowPeak'\n",
        "m4 = encode_filt['Output type'] == 'replicated peaks'\n",
        "m5 = encode_filt['Assembly'] == 'GRCh38'\n",
        "mask = m1 & m2 & m3 & m4 & m5\n",
        "chip = encode_filt.loc[mask]\n",
        "print(chip.shape)"
      ],
      "outputs": [
        {
          "output_type": "stream",
          "name": "stdout",
          "text": [
            "(80, 49)\n"
          ]
        }
      ],
      "execution_count": 25,
      "metadata": {}
    },
    {
      "cell_type": "markdown",
      "source": [
        "#### Get a list of the unique biosample term names in the chip dataframe."
      ],
      "metadata": {}
    },
    {
      "cell_type": "code",
      "source": [
        "in_chip = chip['Biosample term name'].unique()\n",
        "print(in_chip)"
      ],
      "outputs": [
        {
          "output_type": "stream",
          "name": "stdout",
          "text": [
            "['ACC112' 'neural cell' 'RWPE1' '22Rv1' 'endodermal cell'\n",
            " 'gastrocnemius medialis' 'GM12878' 'SUDHL6' 'MCF-7' 'KMS-11'\n",
            " 'thoracic aorta' 'KOPT-K1' 'RWPE2' 'neutrophil' 'DND-41' 'Loucy' 'VCaP'\n",
            " 'DOHH2' 'OCI-LY1' 'OCI-LY3' 'A549' 'keratinocyte' 'SK-N-SH' 'C4-2B'\n",
            " 'epithelial cell of prostate' 'HCT116' 'smooth muscle cell'\n",
            " 'neuroepithelial stem cell' 'mid-neurogenesis radial glial cells'\n",
            " 'fibroblast of dermis' 'H9' 'neural progenitor cell' 'osteoblast'\n",
            " 'radial glial cell' 'induced pluripotent stem cell' 'Karpas-422'\n",
            " 'astrocyte' 'mammary epithelial cell' 'CD14-positive monocyte' 'Panc1'\n",
            " 'thyroid gland' 'HeLa-S3' 'myotube' 'IMR-90' 'H1-hESC' 'A673'\n",
            " 'mesenchymal stem cell' 'MM.1S' 'hepatocyte' 'iPS DF 19.11' 'B cell'\n",
            " 'mesendoderm' 'endothelial cell of umbilical vein' 'cardiac muscle cell'\n",
            " 'body of pancreas' 'PC-3' 'skeletal muscle myoblast' 'trophoblast cell'\n",
            " 'SK-N-MC' 'bipolar neuron' 'adrenal gland' 'right lobe of liver' 'PC-9'\n",
            " 'neural stem progenitor cell' 'fibroblast of lung' 'OCI-LY7' 'vagina'\n",
            " 'fibroblast of arm']\n"
          ]
        }
      ],
      "execution_count": 26,
      "metadata": {}
    },
    {
      "cell_type": "markdown",
      "source": [
        "#### Now, get a list of the biosample term names which are shared between the two lists.  In other words, find the intersection of biosample term names with RNA and ChIP data satisfying our various criteria.  How many samples are there in this list?"
      ],
      "metadata": {}
    },
    {
      "cell_type": "code",
      "source": [
        "in_both = set(in_rna).intersection(in_chip)\n",
        "print(len(in_both))\n",
        "print(sorted(in_both))"
      ],
      "outputs": [
        {
          "output_type": "stream",
          "name": "stdout",
          "text": [
            "36\n",
            "['A549', 'B cell', 'CD14-positive monocyte', 'GM12878', 'H1-hESC', 'HeLa-S3', 'IMR-90', 'Karpas-422', 'MCF-7', 'OCI-LY7', 'PC-3', 'SK-N-SH', 'adrenal gland', 'astrocyte', 'bipolar neuron', 'body of pancreas', 'cardiac muscle cell', 'endothelial cell of umbilical vein', 'fibroblast of arm', 'fibroblast of dermis', 'fibroblast of lung', 'gastrocnemius medialis', 'hepatocyte', 'induced pluripotent stem cell', 'keratinocyte', 'mammary epithelial cell', 'myotube', 'neural cell', 'neural progenitor cell', 'osteoblast', 'right lobe of liver', 'skeletal muscle myoblast', 'smooth muscle cell', 'thoracic aorta', 'thyroid gland', 'vagina']\n"
          ]
        }
      ],
      "execution_count": 27,
      "metadata": {}
    },
    {
      "cell_type": "markdown",
      "source": [
        "#### The sample 'gastrocnemius medialis' should be in your list.  Print the data in the rna and chip dataframes that are from this sample."
      ],
      "metadata": {}
    },
    {
      "cell_type": "code",
      "source": [
        "print(rna[rna['Biosample term name'] == 'gastrocnemius medialis'])\n",
        "print('\\n')\n",
        "print(chip[chip['Biosample term name'] == 'gastrocnemius medialis'])"
      ],
      "outputs": [
        {
          "output_type": "stream",
          "name": "stdout",
          "text": [
            "               File format Output type Experiment accession    Assay  \\\n",
            "File accession                                                         \n",
            "ENCFF173AFN          fastq       reads          ENCSR609NZM  RNA-seq   \n",
            "ENCFF054KNM          fastq       reads          ENCSR609NZM  RNA-seq   \n",
            "ENCFF387IXO          fastq       reads          ENCSR853BNH  RNA-seq   \n",
            "ENCFF307UCJ          fastq       reads          ENCSR853BNH  RNA-seq   \n",
            "ENCFF004CNM          fastq       reads          ENCSR853BNH  RNA-seq   \n",
            "ENCFF086LCO          fastq       reads          ENCSR853BNH  RNA-seq   \n",
            "ENCFF660SLV          fastq       reads          ENCSR678TMV  RNA-seq   \n",
            "ENCFF751QEC          fastq       reads          ENCSR678TMV  RNA-seq   \n",
            "ENCFF139SHO          fastq       reads          ENCSR967JPI  RNA-seq   \n",
            "ENCFF825PCO          fastq       reads          ENCSR967JPI  RNA-seq   \n",
            "\n",
            "               Biosample term id     Biosample term name Biosample type  \\\n",
            "File accession                                                            \n",
            "ENCFF173AFN       UBERON:0011907  gastrocnemius medialis         tissue   \n",
            "ENCFF054KNM       UBERON:0011907  gastrocnemius medialis         tissue   \n",
            "ENCFF387IXO       UBERON:0011907  gastrocnemius medialis         tissue   \n",
            "ENCFF307UCJ       UBERON:0011907  gastrocnemius medialis         tissue   \n",
            "ENCFF004CNM       UBERON:0011907  gastrocnemius medialis         tissue   \n",
            "ENCFF086LCO       UBERON:0011907  gastrocnemius medialis         tissue   \n",
            "ENCFF660SLV       UBERON:0011907  gastrocnemius medialis         tissue   \n",
            "ENCFF751QEC       UBERON:0011907  gastrocnemius medialis         tissue   \n",
            "ENCFF139SHO       UBERON:0011907  gastrocnemius medialis         tissue   \n",
            "ENCFF825PCO       UBERON:0011907  gastrocnemius medialis         tissue   \n",
            "\n",
            "               Biosample life stage Biosample sex Biosample Age     ...      \\\n",
            "File accession                                                      ...       \n",
            "ENCFF173AFN                   adult        female       51 year     ...       \n",
            "ENCFF054KNM                   adult        female       51 year     ...       \n",
            "ENCFF387IXO                   adult          male       37 year     ...       \n",
            "ENCFF307UCJ                   adult          male       37 year     ...       \n",
            "ENCFF004CNM                   adult          male       37 year     ...       \n",
            "ENCFF086LCO                   adult          male       37 year     ...       \n",
            "ENCFF660SLV                   adult        female       53 year     ...       \n",
            "ENCFF751QEC                   adult        female       53 year     ...       \n",
            "ENCFF139SHO                   adult          male       54 year     ...       \n",
            "ENCFF825PCO                   adult          male       54 year     ...       \n",
            "\n",
            "                       dbxrefs  \\\n",
            "File accession                   \n",
            "ENCFF173AFN     SRA:SRR4422023   \n",
            "ENCFF054KNM     SRA:SRR4422023   \n",
            "ENCFF387IXO     SRA:SRR4422372   \n",
            "ENCFF307UCJ     SRA:SRR4422372   \n",
            "ENCFF004CNM     SRA:SRR4422371   \n",
            "ENCFF086LCO     SRA:SRR4422371   \n",
            "ENCFF660SLV     SRA:SRR4422107   \n",
            "ENCFF751QEC     SRA:SRR4422107   \n",
            "ENCFF139SHO     SRA:SRR4422532   \n",
            "ENCFF825PCO     SRA:SRR4422532   \n",
            "\n",
            "                                                File download URL Assembly  \\\n",
            "File accession                                                               \n",
            "ENCFF173AFN     https://www.encodeproject.org/files/ENCFF173AF...      NaN   \n",
            "ENCFF054KNM     https://www.encodeproject.org/files/ENCFF054KN...      NaN   \n",
            "ENCFF387IXO     https://www.encodeproject.org/files/ENCFF387IX...      NaN   \n",
            "ENCFF307UCJ     https://www.encodeproject.org/files/ENCFF307UC...      NaN   \n",
            "ENCFF004CNM     https://www.encodeproject.org/files/ENCFF004CN...      NaN   \n",
            "ENCFF086LCO     https://www.encodeproject.org/files/ENCFF086LC...      NaN   \n",
            "ENCFF660SLV     https://www.encodeproject.org/files/ENCFF660SL...      NaN   \n",
            "ENCFF751QEC     https://www.encodeproject.org/files/ENCFF751QE...      NaN   \n",
            "ENCFF139SHO     https://www.encodeproject.org/files/ENCFF139SH...      NaN   \n",
            "ENCFF825PCO     https://www.encodeproject.org/files/ENCFF825PC...      NaN   \n",
            "\n",
            "                  Platform        Controlled by File Status Audit WARNING  \\\n",
            "File accession                                                              \n",
            "ENCFF173AFN     HiSeq 2500  /files/ENCFF001RTP/    released           NaN   \n",
            "ENCFF054KNM     HiSeq 2500  /files/ENCFF001RTP/    released           NaN   \n",
            "ENCFF387IXO     HiSeq 2000  /files/ENCFF001RTP/    released           NaN   \n",
            "ENCFF307UCJ     HiSeq 2000  /files/ENCFF001RTP/    released           NaN   \n",
            "ENCFF004CNM     HiSeq 2000  /files/ENCFF001RTP/    released           NaN   \n",
            "ENCFF086LCO     HiSeq 2000  /files/ENCFF001RTP/    released           NaN   \n",
            "ENCFF660SLV     HiSeq 2500  /files/ENCFF001RTP/    released           NaN   \n",
            "ENCFF751QEC     HiSeq 2500  /files/ENCFF001RTP/    released           NaN   \n",
            "ENCFF139SHO     HiSeq 2500  /files/ENCFF001RTP/    released           NaN   \n",
            "ENCFF825PCO     HiSeq 2500  /files/ENCFF001RTP/    released           NaN   \n",
            "\n",
            "               Audit INTERNAL_ACTION Audit NOT_COMPLIANT Audit ERROR  \n",
            "File accession                                                        \n",
            "ENCFF173AFN                      NaN                 NaN         NaN  \n",
            "ENCFF054KNM                      NaN                 NaN         NaN  \n",
            "ENCFF387IXO                      NaN                 NaN         NaN  \n",
            "ENCFF307UCJ                      NaN                 NaN         NaN  \n",
            "ENCFF004CNM                      NaN                 NaN         NaN  \n",
            "ENCFF086LCO                      NaN                 NaN         NaN  \n",
            "ENCFF660SLV                      NaN                 NaN         NaN  \n",
            "ENCFF751QEC                      NaN                 NaN         NaN  \n",
            "ENCFF139SHO                      NaN                 NaN         NaN  \n",
            "ENCFF825PCO                      NaN                 NaN         NaN  \n",
            "\n",
            "[10 rows x 49 columns]\n",
            "\n",
            "\n",
            "                   File format       Output type Experiment accession  \\\n",
            "File accession                                                          \n",
            "ENCFF393HCO     bed narrowPeak  replicated peaks          ENCSR736ALU   \n",
            "ENCFF718ILR     bed narrowPeak  replicated peaks          ENCSR801IPH   \n",
            "ENCFF369MQM     bed narrowPeak  replicated peaks          ENCSR948YYZ   \n",
            "\n",
            "                   Assay Biosample term id     Biosample term name  \\\n",
            "File accession                                                       \n",
            "ENCFF393HCO     ChIP-seq    UBERON:0011907  gastrocnemius medialis   \n",
            "ENCFF718ILR     ChIP-seq    UBERON:0011907  gastrocnemius medialis   \n",
            "ENCFF369MQM     ChIP-seq    UBERON:0011907  gastrocnemius medialis   \n",
            "\n",
            "               Biosample type Biosample life stage Biosample sex  \\\n",
            "File accession                                                     \n",
            "ENCFF393HCO            tissue                adult        female   \n",
            "ENCFF718ILR            tissue                adult          male   \n",
            "ENCFF369MQM            tissue                adult          male   \n",
            "\n",
            "               Biosample Age     ...     dbxrefs  \\\n",
            "File accession                   ...               \n",
            "ENCFF393HCO          53 year     ...         NaN   \n",
            "ENCFF718ILR          37 year     ...         NaN   \n",
            "ENCFF369MQM          54 year     ...         NaN   \n",
            "\n",
            "                                                File download URL Assembly  \\\n",
            "File accession                                                               \n",
            "ENCFF393HCO     https://www.encodeproject.org/files/ENCFF393HC...   GRCh38   \n",
            "ENCFF718ILR     https://www.encodeproject.org/files/ENCFF718IL...   GRCh38   \n",
            "ENCFF369MQM     https://www.encodeproject.org/files/ENCFF369MQ...   GRCh38   \n",
            "\n",
            "               Platform Controlled by File Status  \\\n",
            "File accession                                      \n",
            "ENCFF393HCO         NaN           NaN    released   \n",
            "ENCFF718ILR         NaN           NaN    released   \n",
            "ENCFF369MQM         NaN           NaN    released   \n",
            "\n",
            "                                                    Audit WARNING  \\\n",
            "File accession                                                      \n",
            "ENCFF393HCO                                                   NaN   \n",
            "ENCFF718ILR     mild to moderate bottlenecking, moderate libra...   \n",
            "ENCFF369MQM                        mild to moderate bottlenecking   \n",
            "\n",
            "                                         Audit INTERNAL_ACTION  \\\n",
            "File accession                                                   \n",
            "ENCFF393HCO     biological replicates with identical biosample   \n",
            "ENCFF718ILR                                                NaN   \n",
            "ENCFF369MQM     biological replicates with identical biosample   \n",
            "\n",
            "               Audit NOT_COMPLIANT Audit ERROR  \n",
            "File accession                                  \n",
            "ENCFF393HCO                    NaN         NaN  \n",
            "ENCFF718ILR                    NaN         NaN  \n",
            "ENCFF369MQM                    NaN         NaN  \n",
            "\n",
            "[3 rows x 49 columns]\n"
          ]
        }
      ],
      "execution_count": 28,
      "metadata": {
        "scrolled": false
      }
    },
    {
      "cell_type": "markdown",
      "source": [
        "#### The sample 'fibroblast of arm' should also be in your list.  Print the data in the rna and chip dataframes that are from this sample."
      ],
      "metadata": {}
    },
    {
      "cell_type": "code",
      "source": [
        "print(rna[rna['Biosample term name'] == 'fibroblast of arm'])\n",
        "print('\\n')\n",
        "print(chip[chip['Biosample term name'] == 'fibroblast of arm'])"
      ],
      "outputs": [
        {
          "output_type": "stream",
          "name": "stdout",
          "text": [
            "               File format Output type Experiment accession    Assay  \\\n",
            "File accession                                                         \n",
            "ENCFF590YKZ          fastq       reads          ENCSR489KNQ  RNA-seq   \n",
            "ENCFF062TYF          fastq       reads          ENCSR489KNQ  RNA-seq   \n",
            "ENCFF002DHP          fastq       reads          ENCSR797BPP  RNA-seq   \n",
            "ENCFF002DHQ          fastq       reads          ENCSR797BPP  RNA-seq   \n",
            "ENCFF002DMN          fastq       reads          ENCSR797BPP  RNA-seq   \n",
            "ENCFF002DMO          fastq       reads          ENCSR797BPP  RNA-seq   \n",
            "\n",
            "               Biosample term id Biosample term name Biosample type  \\\n",
            "File accession                                                        \n",
            "ENCFF590YKZ           CL:2000015   fibroblast of arm   primary cell   \n",
            "ENCFF062TYF           CL:2000015   fibroblast of arm   primary cell   \n",
            "ENCFF002DHP           CL:2000015   fibroblast of arm   primary cell   \n",
            "ENCFF002DHQ           CL:2000015   fibroblast of arm   primary cell   \n",
            "ENCFF002DMN           CL:2000015   fibroblast of arm   primary cell   \n",
            "ENCFF002DMO           CL:2000015   fibroblast of arm   primary cell   \n",
            "\n",
            "               Biosample life stage Biosample sex Biosample Age     ...      \\\n",
            "File accession                                                      ...       \n",
            "ENCFF590YKZ                   adult          male       53 year     ...       \n",
            "ENCFF062TYF                   adult          male       53 year     ...       \n",
            "ENCFF002DHP                   adult          male       53 year     ...       \n",
            "ENCFF002DHQ                   adult          male       53 year     ...       \n",
            "ENCFF002DMN                   adult          male       53 year     ...       \n",
            "ENCFF002DMO                   adult          male       53 year     ...       \n",
            "\n",
            "                       dbxrefs  \\\n",
            "File accession                   \n",
            "ENCFF590YKZ     SRA:SRR3191999   \n",
            "ENCFF062TYF     SRA:SRR3191998   \n",
            "ENCFF002DHP     SRA:SRR3192650   \n",
            "ENCFF002DHQ     SRA:SRR3192650   \n",
            "ENCFF002DMN     SRA:SRR3192649   \n",
            "ENCFF002DMO     SRA:SRR3192649   \n",
            "\n",
            "                                                File download URL Assembly  \\\n",
            "File accession                                                               \n",
            "ENCFF590YKZ     https://www.encodeproject.org/files/ENCFF590YK...      NaN   \n",
            "ENCFF062TYF     https://www.encodeproject.org/files/ENCFF062TY...      NaN   \n",
            "ENCFF002DHP     https://www.encodeproject.org/files/ENCFF002DH...      NaN   \n",
            "ENCFF002DHQ     https://www.encodeproject.org/files/ENCFF002DH...      NaN   \n",
            "ENCFF002DMN     https://www.encodeproject.org/files/ENCFF002DM...      NaN   \n",
            "ENCFF002DMO     https://www.encodeproject.org/files/ENCFF002DM...      NaN   \n",
            "\n",
            "                  Platform Controlled by File Status  \\\n",
            "File accession                                         \n",
            "ENCFF590YKZ     HiSeq 2000           NaN    released   \n",
            "ENCFF062TYF     HiSeq 2000           NaN    released   \n",
            "ENCFF002DHP     HiSeq 2000           NaN    released   \n",
            "ENCFF002DHQ     HiSeq 2000           NaN    released   \n",
            "ENCFF002DMN     HiSeq 2000           NaN    released   \n",
            "ENCFF002DMO     HiSeq 2000           NaN    released   \n",
            "\n",
            "                                            Audit WARNING  \\\n",
            "File accession                                              \n",
            "ENCFF590YKZ     low read depth, low replicate concordance   \n",
            "ENCFF062TYF     low read depth, low replicate concordance   \n",
            "ENCFF002DHP                                           NaN   \n",
            "ENCFF002DHQ                                           NaN   \n",
            "ENCFF002DMN                                           NaN   \n",
            "ENCFF002DMO                                           NaN   \n",
            "\n",
            "               Audit INTERNAL_ACTION Audit NOT_COMPLIANT Audit ERROR  \n",
            "File accession                                                        \n",
            "ENCFF590YKZ                      NaN                 NaN         NaN  \n",
            "ENCFF062TYF                      NaN                 NaN         NaN  \n",
            "ENCFF002DHP                      NaN                 NaN         NaN  \n",
            "ENCFF002DHQ                      NaN                 NaN         NaN  \n",
            "ENCFF002DMN                      NaN                 NaN         NaN  \n",
            "ENCFF002DMO                      NaN                 NaN         NaN  \n",
            "\n",
            "[6 rows x 49 columns]\n",
            "\n",
            "\n",
            "                   File format       Output type Experiment accession  \\\n",
            "File accession                                                          \n",
            "ENCFF276VWQ     bed narrowPeak  replicated peaks          ENCSR007YOT   \n",
            "\n",
            "                   Assay Biosample term id Biosample term name Biosample type  \\\n",
            "File accession                                                                  \n",
            "ENCFF276VWQ     ChIP-seq        CL:2000015   fibroblast of arm   primary cell   \n",
            "\n",
            "               Biosample life stage Biosample sex Biosample Age     ...      \\\n",
            "File accession                                                      ...       \n",
            "ENCFF276VWQ                   adult          male       53 year     ...       \n",
            "\n",
            "               dbxrefs                                  File download URL  \\\n",
            "File accession                                                              \n",
            "ENCFF276VWQ        NaN  https://www.encodeproject.org/files/ENCFF276VW...   \n",
            "\n",
            "               Assembly Platform Controlled by File Status  \\\n",
            "File accession                                               \n",
            "ENCFF276VWQ      GRCh38      NaN           NaN    released   \n",
            "\n",
            "                                 Audit WARNING Audit INTERNAL_ACTION  \\\n",
            "File accession                                                         \n",
            "ENCFF276VWQ     mild to moderate bottlenecking                   NaN   \n",
            "\n",
            "               Audit NOT_COMPLIANT Audit ERROR  \n",
            "File accession                                  \n",
            "ENCFF276VWQ                    NaN         NaN  \n",
            "\n",
            "[1 rows x 49 columns]\n"
          ]
        }
      ],
      "execution_count": 29,
      "metadata": {}
    },
    {
      "cell_type": "markdown",
      "source": [
        "## The end\n",
        "\n",
        "#### Congratulations on finishing this - I know that it's a lot!\n",
        "\n",
        "How much time did this take you?  Do you have any comments/advice on things to improve, add more of, remove, or otherwise change?"
      ],
      "metadata": {}
    },
    {
      "cell_type": "code",
      "source": [],
      "outputs": [],
      "execution_count": null,
      "metadata": {}
    }
  ],
  "metadata": {
    "kernelspec": {
      "display_name": "Python 3",
      "language": "python",
      "name": "python3"
    },
    "language_info": {
      "codemirror_mode": {
        "name": "ipython",
        "version": 3
      },
      "file_extension": ".py",
      "mimetype": "text/x-python",
      "name": "python",
      "nbconvert_exporter": "python",
      "pygments_lexer": "ipython3",
      "version": "3.6.6"
    },
    "nteract": {
      "version": "0.21.0"
    }
  },
  "nbformat": 4,
  "nbformat_minor": 2
}