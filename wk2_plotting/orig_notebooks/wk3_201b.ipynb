{
 "cells": [
  {
   "cell_type": "markdown",
   "metadata": {},
   "source": [
    "## Import Statements"
   ]
  },
  {
   "cell_type": "code",
   "execution_count": 1,
   "metadata": {},
   "outputs": [],
   "source": [
    "import pandas as pd\n",
    "import numpy as np\n",
    "import matplotlib as mpl\n",
    "from matplotlib import pyplot as plt\n",
    "%matplotlib inline"
   ]
  },
  {
   "cell_type": "markdown",
   "metadata": {},
   "source": [
    "We're going to be working with the matplotlib package this week, which is the primary package used to make plots in Python.  pyplot is the part of matplotlib that contains all of the plotting functions that we're going to use. A helpful resource is https://matplotlib.org/2.0.2/api/pyplot_api.html"
   ]
  },
  {
   "cell_type": "markdown",
   "metadata": {},
   "source": [
    "### Importing files"
   ]
  },
  {
   "cell_type": "markdown",
   "metadata": {},
   "source": [
    "#### Import two files: 'Homo_sapiens.GRCh38.gene_annotations.txt.gz' and 'deseq_endo_hues.txt.gz'.  You worked with the first file last week; the second file contains the result of differential gene expression analysis between two ENCODE samples:\n",
    "\n",
    "HUES64 hESC https://www.encodeproject.org/experiments/ENCSR738PHQ/\n",
    "\n",
    "HUES64 endoderm differentiation https://www.encodeproject.org/experiments/ENCSR002CTR/\n",
    "\n",
    "Since I'm assuming some of you may be curious - \n",
    "\n",
    "Directed differentiation of human ES cells\n",
    "\n",
    "\n",
    "When human ES cells reached 60–70% confluency on MEFs, the cells were plated as clumps on 6-well plates coated with Matrigel (Life Technologies) in mTeSR1 basal medium (Stem Cell Technologies). We maintained the cells for three days in feeder-free culture and then induced directed differentiation towards mesendoderm, endoderm, mesoderm, and ectoderm using different media conditions. For mesendoderm and endoderm differentiation cells were cultured for 12 and 120 h, respectively, in Roswell Park Memorial Institute (RPMI) medium (Life Technologies) supplemented with 100 ng ml−1 activin A (R&D Systems), 50nM ml−1 WNT3A (R&D Systems), 0.5% FBS (Hyclone), 200 mM GlutaMAX (Life Technologies), 0.2× MEM non-essential amino acids solution (Life Technologies), and 55 µM β-mercaptoethanol. For the first 24 h of mesoderm differentiation, cells were cultured in DMEM/F12 medium supplemented with 100 ng ml−1 activin A (R&D Systems), 10 ng ml−1 bFGF (Millipore), 100 ng ml−1 BMP4 (R&D Systems), 100 ng ml−1 VEGF (R&D Systems), 0.5% FBS (Hyclone), 200 mM GlutaMax (Life Technologies), 0.2× MEM non-essential amino acids solution (Life Technologies), and 55 µM β-mercaptoethanol. From 24 to 120 h of mesoderm differentiation, Activin A was removed from the culture. For ectoderm differentiation cells were cultured in DMEM/F12 medium supplemented with 2 µM TGF-β inhibitor (Tocris, A83-01), 2 µM WNT3A inhibitor (Tocris, PNU-74654), 2 μM dorsomorphin BMP inhibitor (Tocris), 15% KOSR (Life Technologies), 0.2× MEM non-essential amino acids solution (Life Technologies), and 55 µM β-mercaptoethanol. Media was changed daily. Before inducing differentiation, we manually removed the differentiated cell clumps. We routinely obtain greater than 80% differentiated cells based on the presence of the surface marker CD56 (81.7% of mesoderm and 94.4% of ectoderm cells) and greater than 70% differentiated cells based on the surface marker CD184 for endoderm.\n",
    "\n",
    "from https://www.nature.com/articles/nature14233#methods, cited by https://www.nature.com/articles/nature14248#abstract"
   ]
  },
  {
   "cell_type": "code",
   "execution_count": 3,
   "metadata": {},
   "outputs": [
    {
     "data": {
      "text/html": [
       "<div>\n",
       "<style scoped>\n",
       "    .dataframe tbody tr th:only-of-type {\n",
       "        vertical-align: middle;\n",
       "    }\n",
       "\n",
       "    .dataframe tbody tr th {\n",
       "        vertical-align: top;\n",
       "    }\n",
       "\n",
       "    .dataframe thead th {\n",
       "        text-align: right;\n",
       "    }\n",
       "</style>\n",
       "<table border=\"1\" class=\"dataframe\">\n",
       "  <thead>\n",
       "    <tr style=\"text-align: right;\">\n",
       "      <th></th>\n",
       "      <th>baseMean</th>\n",
       "      <th>log2FoldChange</th>\n",
       "      <th>lfcSE</th>\n",
       "      <th>stat</th>\n",
       "      <th>pvalue</th>\n",
       "      <th>padj</th>\n",
       "      <th>tpm_adj_fibro_1</th>\n",
       "      <th>tpm_adj_fibro_2</th>\n",
       "      <th>tpm_adj_gastro_1</th>\n",
       "      <th>tpm_adj_gastro_2</th>\n",
       "      <th>tpm_orig_fibro_1</th>\n",
       "      <th>tpm_orig_fibro_2</th>\n",
       "      <th>tpm_orig_gastro_1</th>\n",
       "      <th>tpm_orig_gastro_2</th>\n",
       "    </tr>\n",
       "  </thead>\n",
       "  <tbody>\n",
       "    <tr>\n",
       "      <th>ENSG00000000003.14</th>\n",
       "      <td>599.185185</td>\n",
       "      <td>-1.950693</td>\n",
       "      <td>0.372234</td>\n",
       "      <td>-5.240508</td>\n",
       "      <td>1.601354e-07</td>\n",
       "      <td>0.000001</td>\n",
       "      <td>953.713463</td>\n",
       "      <td>954.454866</td>\n",
       "      <td>199.040564</td>\n",
       "      <td>289.531847</td>\n",
       "      <td>8.445570</td>\n",
       "      <td>6.022396</td>\n",
       "      <td>2.234379</td>\n",
       "      <td>2.793143</td>\n",
       "    </tr>\n",
       "    <tr>\n",
       "      <th>ENSG00000000005.5</th>\n",
       "      <td>1.696444</td>\n",
       "      <td>2.131342</td>\n",
       "      <td>2.084352</td>\n",
       "      <td>1.022544</td>\n",
       "      <td>3.065235e-01</td>\n",
       "      <td>NaN</td>\n",
       "      <td>0.000000</td>\n",
       "      <td>0.000000</td>\n",
       "      <td>6.785774</td>\n",
       "      <td>0.000000</td>\n",
       "      <td>0.000000</td>\n",
       "      <td>0.000000</td>\n",
       "      <td>0.129858</td>\n",
       "      <td>0.000000</td>\n",
       "    </tr>\n",
       "    <tr>\n",
       "      <th>ENSG00000000419.12</th>\n",
       "      <td>1030.585374</td>\n",
       "      <td>-0.326499</td>\n",
       "      <td>0.384987</td>\n",
       "      <td>-0.848080</td>\n",
       "      <td>3.963936e-01</td>\n",
       "      <td>0.522776</td>\n",
       "      <td>824.611965</td>\n",
       "      <td>1470.772884</td>\n",
       "      <td>896.539770</td>\n",
       "      <td>930.416877</td>\n",
       "      <td>17.399207</td>\n",
       "      <td>22.103243</td>\n",
       "      <td>24.035199</td>\n",
       "      <td>21.439879</td>\n",
       "    </tr>\n",
       "    <tr>\n",
       "      <th>ENSG00000000457.13</th>\n",
       "      <td>639.222297</td>\n",
       "      <td>0.299695</td>\n",
       "      <td>0.344259</td>\n",
       "      <td>0.870552</td>\n",
       "      <td>3.839987e-01</td>\n",
       "      <td>0.510555</td>\n",
       "      <td>582.060995</td>\n",
       "      <td>563.170902</td>\n",
       "      <td>616.983701</td>\n",
       "      <td>794.673591</td>\n",
       "      <td>3.347503</td>\n",
       "      <td>2.306745</td>\n",
       "      <td>4.518169</td>\n",
       "      <td>4.992752</td>\n",
       "    </tr>\n",
       "    <tr>\n",
       "      <th>ENSG00000000460.16</th>\n",
       "      <td>214.226762</td>\n",
       "      <td>-0.181518</td>\n",
       "      <td>0.460596</td>\n",
       "      <td>-0.394093</td>\n",
       "      <td>6.935122e-01</td>\n",
       "      <td>0.783184</td>\n",
       "      <td>247.869293</td>\n",
       "      <td>207.806629</td>\n",
       "      <td>193.896253</td>\n",
       "      <td>207.334874</td>\n",
       "      <td>1.649314</td>\n",
       "      <td>0.986385</td>\n",
       "      <td>1.635529</td>\n",
       "      <td>1.505823</td>\n",
       "    </tr>\n",
       "  </tbody>\n",
       "</table>\n",
       "</div>"
      ],
      "text/plain": [
       "                       baseMean  log2FoldChange     lfcSE      stat  \\\n",
       "ENSG00000000003.14   599.185185       -1.950693  0.372234 -5.240508   \n",
       "ENSG00000000005.5      1.696444        2.131342  2.084352  1.022544   \n",
       "ENSG00000000419.12  1030.585374       -0.326499  0.384987 -0.848080   \n",
       "ENSG00000000457.13   639.222297        0.299695  0.344259  0.870552   \n",
       "ENSG00000000460.16   214.226762       -0.181518  0.460596 -0.394093   \n",
       "\n",
       "                          pvalue      padj  tpm_adj_fibro_1  tpm_adj_fibro_2  \\\n",
       "ENSG00000000003.14  1.601354e-07  0.000001       953.713463       954.454866   \n",
       "ENSG00000000005.5   3.065235e-01       NaN         0.000000         0.000000   \n",
       "ENSG00000000419.12  3.963936e-01  0.522776       824.611965      1470.772884   \n",
       "ENSG00000000457.13  3.839987e-01  0.510555       582.060995       563.170902   \n",
       "ENSG00000000460.16  6.935122e-01  0.783184       247.869293       207.806629   \n",
       "\n",
       "                    tpm_adj_gastro_1  tpm_adj_gastro_2  tpm_orig_fibro_1  \\\n",
       "ENSG00000000003.14        199.040564        289.531847          8.445570   \n",
       "ENSG00000000005.5           6.785774          0.000000          0.000000   \n",
       "ENSG00000000419.12        896.539770        930.416877         17.399207   \n",
       "ENSG00000000457.13        616.983701        794.673591          3.347503   \n",
       "ENSG00000000460.16        193.896253        207.334874          1.649314   \n",
       "\n",
       "                    tpm_orig_fibro_2  tpm_orig_gastro_1  tpm_orig_gastro_2  \n",
       "ENSG00000000003.14          6.022396           2.234379           2.793143  \n",
       "ENSG00000000005.5           0.000000           0.129858           0.000000  \n",
       "ENSG00000000419.12         22.103243          24.035199          21.439879  \n",
       "ENSG00000000457.13          2.306745           4.518169           4.992752  \n",
       "ENSG00000000460.16          0.986385           1.635529           1.505823  "
      ]
     },
     "execution_count": 3,
     "metadata": {},
     "output_type": "execute_result"
    }
   ],
   "source": [
    "path = '/Users/kevin/Stanford/Teaching/STEMREM 201B/homework/wk3/'\n",
    "fn = 'DESeq2_fibro_gastro.txt.gz'\n",
    "\n",
    "data = pd.read_csv(path + fn, sep='\\t')\n",
    "data.head()"
   ]
  },
  {
   "cell_type": "code",
   "execution_count": 29,
   "metadata": {},
   "outputs": [
    {
     "data": {
      "image/png": "[encoded data removed]",
      "text/plain": [
       "<Figure size 432x432 with 1 Axes>"
      ]
     },
     "metadata": {
      "needs_background": "light"
     },
     "output_type": "display_data"
    }
   ],
   "source": [
    "fig = plt.figure(figsize=(6,6))\n",
    "ax = fig.add_subplot(111)\n",
    "\n",
    "xvals = data['tpm_adj_fibro_1']\n",
    "yvals = data['tpm_adj_fibro_2']\n",
    "\n",
    "# xvals = np.log2(xvals + .001)\n",
    "# yvals = np.log2(yvals + .001)\n",
    "\n",
    "ax.scatter(xvals, yvals, s=1, c='k')\n",
    "\n",
    "ax.set_xscale('log')\n",
    "ax.set_yscale('log')\n",
    "\n",
    "ax.set_xticks([1, 100])\n",
    "ax.set_xticklabels(['a','b'])\n",
    "\n",
    "ax.set_xlim([.0001, 10**8])\n",
    "ax.set_ylim(ax.get_xlim())\n",
    "\n",
    "ax.set_xlabel('sample1')\n",
    "ax.set_ylabel('sample2')\n",
    "ax.set_title('tpm')\n",
    "\n",
    "plt.show()"
   ]
  },
  {
   "cell_type": "code",
   "execution_count": null,
   "metadata": {},
   "outputs": [],
   "source": []
  },
  {
   "cell_type": "code",
   "execution_count": null,
   "metadata": {},
   "outputs": [],
   "source": []
  },
  {
   "cell_type": "code",
   "execution_count": null,
   "metadata": {},
   "outputs": [],
   "source": []
  },
  {
   "cell_type": "code",
   "execution_count": null,
   "metadata": {},
   "outputs": [],
   "source": []
  },
  {
   "cell_type": "code",
   "execution_count": null,
   "metadata": {},
   "outputs": [],
   "source": []
  },
  {
   "cell_type": "code",
   "execution_count": null,
   "metadata": {},
   "outputs": [],
   "source": []
  },
  {
   "cell_type": "code",
   "execution_count": null,
   "metadata": {},
   "outputs": [],
   "source": []
  },
  {
   "cell_type": "code",
   "execution_count": null,
   "metadata": {},
   "outputs": [],
   "source": []
  },
  {
   "cell_type": "code",
   "execution_count": 3,
   "metadata": {},
   "outputs": [
    {
     "data": {
      "text/html": [
       "<div>\n",
       "<style scoped>\n",
       "    .dataframe tbody tr th:only-of-type {\n",
       "        vertical-align: middle;\n",
       "    }\n",
       "\n",
       "    .dataframe tbody tr th {\n",
       "        vertical-align: top;\n",
       "    }\n",
       "\n",
       "    .dataframe thead th {\n",
       "        text-align: right;\n",
       "    }\n",
       "</style>\n",
       "<table border=\"1\" class=\"dataframe\">\n",
       "  <thead>\n",
       "    <tr style=\"text-align: right;\">\n",
       "      <th></th>\n",
       "      <th>start</th>\n",
       "      <th>end</th>\n",
       "      <th>strand</th>\n",
       "      <th>length</th>\n",
       "      <th>chr</th>\n",
       "      <th>gene_symbol</th>\n",
       "      <th>gene_type</th>\n",
       "      <th>source</th>\n",
       "    </tr>\n",
       "    <tr>\n",
       "      <th>gene</th>\n",
       "      <th></th>\n",
       "      <th></th>\n",
       "      <th></th>\n",
       "      <th></th>\n",
       "      <th></th>\n",
       "      <th></th>\n",
       "      <th></th>\n",
       "      <th></th>\n",
       "    </tr>\n",
       "  </thead>\n",
       "  <tbody>\n",
       "    <tr>\n",
       "      <th>ENSG00000000003.14</th>\n",
       "      <td>100630765</td>\n",
       "      <td>100637538</td>\n",
       "      <td>-1</td>\n",
       "      <td>6773</td>\n",
       "      <td>X</td>\n",
       "      <td>TSPAN6</td>\n",
       "      <td>protein_coding</td>\n",
       "      <td>cdna</td>\n",
       "    </tr>\n",
       "    <tr>\n",
       "      <th>ENSG00000000005.5</th>\n",
       "      <td>100589213</td>\n",
       "      <td>100598708</td>\n",
       "      <td>1</td>\n",
       "      <td>9495</td>\n",
       "      <td>X</td>\n",
       "      <td>TNMD</td>\n",
       "      <td>protein_coding</td>\n",
       "      <td>cdna</td>\n",
       "    </tr>\n",
       "    <tr>\n",
       "      <th>ENSG00000000419.12</th>\n",
       "      <td>50935098</td>\n",
       "      <td>50956428</td>\n",
       "      <td>-1</td>\n",
       "      <td>21329</td>\n",
       "      <td>20</td>\n",
       "      <td>DPM1</td>\n",
       "      <td>protein_coding</td>\n",
       "      <td>cdna</td>\n",
       "    </tr>\n",
       "    <tr>\n",
       "      <th>ENSG00000000457.13</th>\n",
       "      <td>169853881</td>\n",
       "      <td>169893003</td>\n",
       "      <td>-1</td>\n",
       "      <td>39121</td>\n",
       "      <td>1</td>\n",
       "      <td>SCYL3</td>\n",
       "      <td>protein_coding</td>\n",
       "      <td>cdna</td>\n",
       "    </tr>\n",
       "    <tr>\n",
       "      <th>ENSG00000000460.16</th>\n",
       "      <td>169780373</td>\n",
       "      <td>169834072</td>\n",
       "      <td>1</td>\n",
       "      <td>53699</td>\n",
       "      <td>1</td>\n",
       "      <td>C1orf112</td>\n",
       "      <td>protein_coding</td>\n",
       "      <td>cdna</td>\n",
       "    </tr>\n",
       "  </tbody>\n",
       "</table>\n",
       "</div>"
      ],
      "text/plain": [
       "                        start        end  strand  length chr gene_symbol  \\\n",
       "gene                                                                       \n",
       "ENSG00000000003.14  100630765  100637538      -1    6773   X      TSPAN6   \n",
       "ENSG00000000005.5   100589213  100598708       1    9495   X        TNMD   \n",
       "ENSG00000000419.12   50935098   50956428      -1   21329  20        DPM1   \n",
       "ENSG00000000457.13  169853881  169893003      -1   39121   1       SCYL3   \n",
       "ENSG00000000460.16  169780373  169834072       1   53699   1    C1orf112   \n",
       "\n",
       "                         gene_type source  \n",
       "gene                                       \n",
       "ENSG00000000003.14  protein_coding   cdna  \n",
       "ENSG00000000005.5   protein_coding   cdna  \n",
       "ENSG00000000419.12  protein_coding   cdna  \n",
       "ENSG00000000457.13  protein_coding   cdna  \n",
       "ENSG00000000460.16  protein_coding   cdna  "
      ]
     },
     "execution_count": 3,
     "metadata": {},
     "output_type": "execute_result"
    }
   ],
   "source": [
    "path = '/Users/kevin/Stanford/Teaching/STEMREM 201B/homework/wk3/'\n",
    "figpath = path + 'figures/'\n",
    "\n",
    "fn_anno = 'Homo_sapiens.GRCh38.gene_annotations.txt.gz'\n",
    "fn_deseq = 'deseq_endo_esc.txt.gz'\n",
    "\n",
    "anno = pd.read_csv(path + fn_anno, sep=',', index_col=0)\n",
    "deseq = pd.read_csv(path + fn_deseq, sep='\\t', index_col=0)\n",
    "anno.head()"
   ]
  },
  {
   "cell_type": "code",
   "execution_count": 4,
   "metadata": {},
   "outputs": [
    {
     "data": {
      "text/html": [
       "<div>\n",
       "<style scoped>\n",
       "    .dataframe tbody tr th:only-of-type {\n",
       "        vertical-align: middle;\n",
       "    }\n",
       "\n",
       "    .dataframe tbody tr th {\n",
       "        vertical-align: top;\n",
       "    }\n",
       "\n",
       "    .dataframe thead th {\n",
       "        text-align: right;\n",
       "    }\n",
       "</style>\n",
       "<table border=\"1\" class=\"dataframe\">\n",
       "  <thead>\n",
       "    <tr style=\"text-align: right;\">\n",
       "      <th></th>\n",
       "      <th>baseMean</th>\n",
       "      <th>log2FoldChange</th>\n",
       "      <th>lfcSE</th>\n",
       "      <th>stat</th>\n",
       "      <th>pvalue</th>\n",
       "      <th>padj</th>\n",
       "      <th>endo_counts</th>\n",
       "      <th>esc_counts</th>\n",
       "      <th>avg_length</th>\n",
       "    </tr>\n",
       "  </thead>\n",
       "  <tbody>\n",
       "    <tr>\n",
       "      <th>ENSG00000000003.14</th>\n",
       "      <td>1155.378951</td>\n",
       "      <td>-0.071363</td>\n",
       "      <td>0.065942</td>\n",
       "      <td>-1.082201</td>\n",
       "      <td>2.791630e-01</td>\n",
       "      <td>4.140459e-01</td>\n",
       "      <td>1183.956122</td>\n",
       "      <td>1126.801779</td>\n",
       "      <td>2042.518601</td>\n",
       "    </tr>\n",
       "    <tr>\n",
       "      <th>ENSG00000000005.5</th>\n",
       "      <td>13.444480</td>\n",
       "      <td>3.979120</td>\n",
       "      <td>0.821682</td>\n",
       "      <td>4.842651</td>\n",
       "      <td>1.281184e-06</td>\n",
       "      <td>5.248074e-06</td>\n",
       "      <td>1.602214</td>\n",
       "      <td>25.286746</td>\n",
       "      <td>893.058748</td>\n",
       "    </tr>\n",
       "    <tr>\n",
       "      <th>ENSG00000000419.12</th>\n",
       "      <td>484.030001</td>\n",
       "      <td>0.560340</td>\n",
       "      <td>0.098994</td>\n",
       "      <td>5.660330</td>\n",
       "      <td>1.510826e-08</td>\n",
       "      <td>7.296088e-08</td>\n",
       "      <td>391.217628</td>\n",
       "      <td>576.842374</td>\n",
       "      <td>935.608584</td>\n",
       "    </tr>\n",
       "    <tr>\n",
       "      <th>ENSG00000000457.13</th>\n",
       "      <td>151.416462</td>\n",
       "      <td>-0.643948</td>\n",
       "      <td>0.180979</td>\n",
       "      <td>-3.558143</td>\n",
       "      <td>3.734859e-04</td>\n",
       "      <td>1.155851e-03</td>\n",
       "      <td>184.782827</td>\n",
       "      <td>118.050096</td>\n",
       "      <td>3450.560335</td>\n",
       "    </tr>\n",
       "    <tr>\n",
       "      <th>ENSG00000000460.16</th>\n",
       "      <td>387.181972</td>\n",
       "      <td>0.771154</td>\n",
       "      <td>0.119697</td>\n",
       "      <td>6.442528</td>\n",
       "      <td>1.174994e-10</td>\n",
       "      <td>6.669104e-10</td>\n",
       "      <td>286.228331</td>\n",
       "      <td>488.135614</td>\n",
       "      <td>2122.539351</td>\n",
       "    </tr>\n",
       "  </tbody>\n",
       "</table>\n",
       "</div>"
      ],
      "text/plain": [
       "                       baseMean  log2FoldChange     lfcSE      stat  \\\n",
       "ENSG00000000003.14  1155.378951       -0.071363  0.065942 -1.082201   \n",
       "ENSG00000000005.5     13.444480        3.979120  0.821682  4.842651   \n",
       "ENSG00000000419.12   484.030001        0.560340  0.098994  5.660330   \n",
       "ENSG00000000457.13   151.416462       -0.643948  0.180979 -3.558143   \n",
       "ENSG00000000460.16   387.181972        0.771154  0.119697  6.442528   \n",
       "\n",
       "                          pvalue          padj  endo_counts   esc_counts  \\\n",
       "ENSG00000000003.14  2.791630e-01  4.140459e-01  1183.956122  1126.801779   \n",
       "ENSG00000000005.5   1.281184e-06  5.248074e-06     1.602214    25.286746   \n",
       "ENSG00000000419.12  1.510826e-08  7.296088e-08   391.217628   576.842374   \n",
       "ENSG00000000457.13  3.734859e-04  1.155851e-03   184.782827   118.050096   \n",
       "ENSG00000000460.16  1.174994e-10  6.669104e-10   286.228331   488.135614   \n",
       "\n",
       "                     avg_length  \n",
       "ENSG00000000003.14  2042.518601  \n",
       "ENSG00000000005.5    893.058748  \n",
       "ENSG00000000419.12   935.608584  \n",
       "ENSG00000000457.13  3450.560335  \n",
       "ENSG00000000460.16  2122.539351  "
      ]
     },
     "execution_count": 4,
     "metadata": {},
     "output_type": "execute_result"
    }
   ],
   "source": [
    "deseq.head()"
   ]
  },
  {
   "cell_type": "markdown",
   "metadata": {},
   "source": [
    "### Reference notes"
   ]
  },
  {
   "cell_type": "code",
   "execution_count": null,
   "metadata": {},
   "outputs": [],
   "source": [
    "# to initialize a figure:\n",
    "\n",
    "fig = plt.figure(figsize=(6,6))\n",
    "ax = fig.add_subplot(111)\n",
    "\n",
    "# see \n",
    "# what we're doing with this is first making a figure\n",
    "# we're then adding a plot to that figure: the '111' says 1 row, 1 column, plot 1\n",
    "# this is convenient, because sometimes you want to put multiple plots in the same figure\n",
    "# so you could say ax = fig.add_subplot(2,2,1) and then work with the top left corner\n",
    "# then ax = fig.add_subplot(2,2,2) and then work in the top right corner\n",
    "# and so on\n",
    "\n",
    "ax.scatter()\n",
    "\n",
    "# this is the command that you'll use to actually plot things on your current axis\n",
    "# these commands match what you can find in the pyplot API\n",
    "# https://matplotlib.org/2.0.2/api/pyplot_api.html\n",
    "\n",
    "plt.show()\n",
    "fig.savefig('file.png')\n",
    "\n",
    "# this is how you can save the figure\n",
    "# you can export it in a variety of formats - pdf, png, eps (useful for importing into Illustrator), etc."
   ]
  },
  {
   "cell_type": "markdown",
   "metadata": {},
   "source": [
    "### 1. Let's explore the *counts* values: these are the number of reads that align to each gene, averaged across samples.  Make a scatter plot plotting the count values for ESCs on the x axis, and ENDO on the y axis.  Make the plot using *linear* count values, as well as *log2 transformed counts*.  Label your axes appropriately.\n",
    "\n",
    "Note that when you're performing a log2 transformation, it's usually helpful to add a *pseudocount* of 1: this is because if a gene has 0 counts, you won't be able to do a log transformation (becasue log of 0 is undefined).  It's also helpful, because log2(1) equals 0 - so your values will all start at 0.  Because we're adding this pseudocount to all values, it won't affect their relative abundances.  So when you plot on the log scale, you're really plotting the log(counts+1).\n",
    "\n",
    "Explore with different axes limits (i.e., the range that is shown on the plot) and submit the version containing the limits you think are most useful."
   ]
  },
  {
   "cell_type": "code",
   "execution_count": null,
   "metadata": {},
   "outputs": [],
   "source": []
  },
  {
   "cell_type": "code",
   "execution_count": null,
   "metadata": {},
   "outputs": [],
   "source": []
  },
  {
   "cell_type": "markdown",
   "metadata": {},
   "source": [
    "#### Which of these representations do you think is more useful/informative? Log vs linear counts? Why?"
   ]
  },
  {
   "cell_type": "code",
   "execution_count": null,
   "metadata": {},
   "outputs": [],
   "source": []
  },
  {
   "cell_type": "markdown",
   "metadata": {},
   "source": [
    "### 2.  Make a histogram of gene counts for the ESC sample.  Again, plot this using both a linear and log scale.  Which is more informative? What do these plots tell you about the distribution of gene expression values? Are they linearly distributed? \n",
    "\n",
    "You'll want to explore different *bin* paramters: telling the function how many bins to use for the histogram, and how big each bin should be.  An easy way to make bins is using the np.linspace() and/or np.logspace() functions, which you can then pass into the ax.hist() function as the bins argument.\n",
    "\n",
    "See https://matplotlib.org/api/_as_gen/matplotlib.pyplot.hist.html and https://docs.scipy.org/doc/numpy-1.15.0/reference/generated/numpy.linspace.html"
   ]
  },
  {
   "cell_type": "code",
   "execution_count": null,
   "metadata": {},
   "outputs": [],
   "source": []
  },
  {
   "cell_type": "code",
   "execution_count": null,
   "metadata": {},
   "outputs": [],
   "source": []
  },
  {
   "cell_type": "markdown",
   "metadata": {},
   "source": [
    "### 3.  Make a histogram comparing the distribution of log2 gene counts for each of the two samples.\n",
    "\n",
    "Overlay these on the same axis.  You may want to look at the histtype argument, as well as the alpha parameters, and explore which ones you think best display the data. Also include a legend using the ax.legend() command, and label your axes appropriately.\n",
    "\n",
    "In addition, there's a lot of genes that are zero in both samples: when you plot your histogram, only show genes that have nonzero counts in at least one of the samples (i.e., don't include genes that are zero in both samples)."
   ]
  },
  {
   "cell_type": "code",
   "execution_count": null,
   "metadata": {},
   "outputs": [],
   "source": []
  },
  {
   "cell_type": "markdown",
   "metadata": {},
   "source": [
    "#### Why might it be useful to compare these distributions of gene expression values? Do they look roughly aligned? What does that tell us about the two samples?  What is the histograms were not generally similar in terms of their distributions?"
   ]
  },
  {
   "cell_type": "code",
   "execution_count": null,
   "metadata": {},
   "outputs": [],
   "source": []
  },
  {
   "cell_type": "markdown",
   "metadata": {},
   "source": [
    "### 4.  MA plot\n",
    "\n",
    "A very common type of plot is a 'MA' plot: in this plot, you plot log mean abudance on the x axis versus log2FC on the y axis.  In this way, you can get a global sense of what the differences between two samples look like.\n",
    "\n",
    "Make a MA plot for the two samples, and also plot a line along the y=0."
   ]
  },
  {
   "cell_type": "code",
   "execution_count": null,
   "metadata": {},
   "outputs": [],
   "source": []
  },
  {
   "cell_type": "markdown",
   "metadata": {},
   "source": [
    "#### What is the overall relationship between gene abundance and log2FC ranges? Do more lowly or highly expressed genes have greater or smaller log2FC ranges? What do you think is a good range to cut off analyses when you're looking at gene expression changes, in terms of minimum gene abundance?"
   ]
  },
  {
   "cell_type": "code",
   "execution_count": null,
   "metadata": {},
   "outputs": [],
   "source": []
  },
  {
   "cell_type": "markdown",
   "metadata": {},
   "source": [
    "### 5.  Volcano Plot\n",
    "\n",
    "This is another very common way of visualizing the significance of gene expression changes between two samples.  On the x axis, we plot log2FC.  On the y-axis, we plot -log10(adjusted pvalue).  We log transform the value for the same reason we log transform gene expression data (the range is too large to visualize on a linear scale), and take the negative of this value because we want high pvalues, i.e. 1, to be at the bottom, and low pvalues, i.e. close to 0, to be at the top.\n",
    "\n",
    "Include lines showing a cutoff of log2FC > 1, and pvalue < .05."
   ]
  },
  {
   "cell_type": "markdown",
   "metadata": {},
   "source": [
    "Before you plot this - what is the minimum adjusted p value in your dataframe?  A pvalue or adjusted p value of 0 generally indicates that the value was sufficiently small that because of a rounding error, it is stored at 0.\n",
    "\n",
    "For the genes for which the padj is equal to 0, set it equal to the smallest *nonzero* pvalue."
   ]
  },
  {
   "cell_type": "code",
   "execution_count": null,
   "metadata": {},
   "outputs": [],
   "source": []
  },
  {
   "cell_type": "code",
   "execution_count": null,
   "metadata": {},
   "outputs": [],
   "source": []
  },
  {
   "cell_type": "code",
   "execution_count": null,
   "metadata": {},
   "outputs": [],
   "source": []
  },
  {
   "cell_type": "markdown",
   "metadata": {},
   "source": [
    "#### The data says that they sorted CD184 positive cells.  On your volcano plot, highlight the point corresponding to CD184.  Note, you may need to look up the correct gene name in your index - particularly with CD genes, there's often a corresponding gene name.  e.g., CD45 is PTPRC.  You may also need to find out the ENSG ID by looking it up in the annotation dataframe."
   ]
  },
  {
   "cell_type": "code",
   "execution_count": null,
   "metadata": {},
   "outputs": [],
   "source": []
  },
  {
   "cell_type": "markdown",
   "metadata": {},
   "source": [
    "### 6.  Bar plot of the number of genes per chromosome\n",
    "\n",
    "Make a plot showing the number of genes expressed on each chromosome (only 1-22, X, Y). Order the x axis from 1-22, X, Y."
   ]
  },
  {
   "cell_type": "code",
   "execution_count": null,
   "metadata": {},
   "outputs": [],
   "source": []
  },
  {
   "cell_type": "markdown",
   "metadata": {},
   "source": [
    "### 7.  Box plot of gene expression values in ES cells, grouped by chromosome.\n",
    "\n",
    "1.  Compute TPM values from the counts values for the ESC_counts.  Do this by 1) taking the counts, divided by the average length; 2) dividing this by the sum of the length-normalized counts, and 3) multiplying by 1,000,000.  This reults in the transcripts per million, which is the counts, normalized by length, normalized by sequencing depth.  Add this as a new column to your dataframe.\n",
    "\n",
    "2.  Make a list of chromosomes.  Make a second empty list.  Iterate through the chromosomes, get only the genes that are on that chromosome.  And then get the associated tpm values.  Note that you'll need to use the annotation and deseq dataframes for this.\n",
    "\n",
    "3.  Make the box plot."
   ]
  },
  {
   "cell_type": "code",
   "execution_count": null,
   "metadata": {},
   "outputs": [],
   "source": []
  },
  {
   "cell_type": "code",
   "execution_count": null,
   "metadata": {},
   "outputs": [],
   "source": []
  },
  {
   "cell_type": "code",
   "execution_count": null,
   "metadata": {},
   "outputs": [],
   "source": []
  },
  {
   "cell_type": "markdown",
   "metadata": {},
   "source": [
    "#### How long did everything take you?  Any comments/suggestions?"
   ]
  },
  {
   "cell_type": "code",
   "execution_count": null,
   "metadata": {},
   "outputs": [],
   "source": []
  }
 ],
 "metadata": {
  "kernelspec": {
   "display_name": "Python 3",
   "language": "python",
   "name": "python3"
  },
  "language_info": {
   "codemirror_mode": {
    "name": "ipython",
    "version": 3
   },
   "file_extension": ".py",
   "mimetype": "text/x-python",
   "name": "python",
   "nbconvert_exporter": "python",
   "pygments_lexer": "ipython3",
   "version": "3.6.6"
  }
 },
 "nbformat": 4,
 "nbformat_minor": 2
}
