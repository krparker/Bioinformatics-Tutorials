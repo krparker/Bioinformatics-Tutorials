{
 "cells": [
  {
   "cell_type": "markdown",
   "metadata": {},
   "source": [
    "## Welcome to Week 2, part 2: Plotting!\n",
    "\n",
    "### In this week, we're going to focus on two things, which are essentially the basics of all downstream bioinformatics that you'll do.\n",
    "\n",
    "<u>First</u>, learning to work with dataframes: we're going use the package <b>pandas</b>, which is one of the most commonly used packages for datascience. https://pandas.pydata.org/docs/getting_started/10min.html#min has a brief introduction, if you are curious.  The core idea of dataframes - the primary datatype associated with pandas - is that you have a two-dimensional matrix of data (i.e., rows and columns, like an Excel spreadsheet), and can associate a *label* with each row and column.  For example, with scRNA data, you have a 2D matrix of gene expression counts, where each row is a gene and each column is a cell. If you wanted to look up the expression for a particular gene in a particular cell, rather than have to know the particular XY \"coordinates\" of that datapoint (i.e., gene row # 1827 and cell column # 2937), you can just pass in the names of the gene and cell.  If you wanted to sort the dataframe by the expression of a particular gene, you'd want to make sure that the pairings of gene names, cell names, and datapoints stay correct through this sorting process, and pandas dataframes help take care of this to keep everything organized and correct.  Don't worry if this doesn't make too much sense now - it'll make more sense when we start playing with actual examples.\n",
    "\n",
    "In addition to pandas, we're going to use the package <b>numpy</b>, which is the core \"math\" package (\"scientific computing\", as they describe it - https://docs.scipy.org/doc/numpy/user/quickstart.html and https://docs.scipy.org/doc/numpy/user/basics.html). Oftentimes when working with large datasets, you want to perform a simple operation (for example, log transform or depth normalize) on many pieces of data.  Numpy implements a lot of tricks under the hood to perform vectorized math operations very efficiently - doing the same operation to many pieces of data.  Numpy is built around *arrays*, which are a 1D datatype: essentially a list, but with a lot of added tricks. Say you have a bunch of datapoints - gene counts, for example - and want to multiply each one by 2.  Using a list, you would need to do this one-by-one for each list: iterate through the entire list with a for loop (or list comprehension) and multiply each value by two. However, using a numpy array, you can simply multiply the entire array by 2, and numpy will return the element-wise product of the array by 2 (multiplying each elementy by 2). Again, this will make a little more sense once you've played around with it a little.\n",
    "\n",
    "**I would recommend skimming through the introductions for pandas and numpy, since you'll want to become familiar with them both for this lesson and going forward. It's not as crucial that you memorize each function and every feature, but good to just have a sense of what is possible, so that you can remember that there should be a way to do something easily, then google for it later on and re-figure out how to do it.**\n",
    "\n",
    "* https://pandas.pydata.org/docs/getting_started/10min.html#min\n",
    "* https://docs.scipy.org/doc/numpy/user/quickstart.html\n",
    "\n",
    "The <u>second</u> thing that we're going to focus on is plotting. **Matplotlib** is the core plotting package in Python. It is built around two concepts: the figure, which is the \"overall\" image - think about it like a piece of paper or figure panel - and axes, which are the specific XY axes where you plot things.  The simplest example is a figure with one axis - say a simple scatter plot. This is what you'll do 90% of the time.  Sometimes, though, you might want to group together multiple plots at the same time - say you have four scatter plots you want to make together. In this case, the figure might have four axes (a 2-by-2 grid of scatter plots).  The important thing to remember, is that when you're plotting, you 1) create a figure, 2) create an axis, 3) plot things on that axis, [4) create & plot on any additional axes if applicable], and 5) save the figure (which contains the axis/axes you've plotting things on).\n",
    "\n",
    "Two useful matplotlib links with some tutorials and example plots:\n",
    "\n",
    "* https://matplotlib.org/tutorials/index.html\n",
    "* https://matplotlib.org/gallery/index.html\n",
    "\n",
    "Three other packages that we aren't going to use here, but you will also encounter down the road: <b>scipy</b>, which has a lot of more specialized functions for things like statistics (and many others - https://docs.scipy.org/doc/scipy/reference/, https://docs.scipy.org/doc/scipy/reference/tutorial/index.html), and **scikit-learn**, which is the core machine learning package (https://scikit-learn.org/stable/getting_started.html), and **seaborn**, which is another data visualization package (https://seaborn.pydata.org/introduction.html) built on matplotlib."
   ]
  },
  {
   "cell_type": "markdown",
   "metadata": {},
   "source": [
    "## Import Statements\n",
    "\n",
    "As before, let's import things that we're going to use below."
   ]
  },
  {
   "cell_type": "code",
   "execution_count": 1,
   "metadata": {},
   "outputs": [],
   "source": [
    "import pandas as pd\n",
    "import numpy as np\n",
    "import matplotlib as mpl\n",
    "from matplotlib import pyplot as plt"
   ]
  },
  {
   "cell_type": "markdown",
   "metadata": {},
   "source": [
    "### 0: Import our data"
   ]
  },
  {
   "cell_type": "markdown",
   "metadata": {},
   "source": [
    "#### Import two files: 'Homo_sapiens.GRCh38.gene_annotations.txt.gz' and 'deseq_endo_esc.txt.gz'.  You worked with the first file last week; the second file contains the result of differential gene expression analysis between two ENCODE samples:\n",
    "\n",
    "HUES64 hESC https://www.encodeproject.org/experiments/ENCSR738PHQ/\n",
    "\n",
    "HUES64 endoderm differentiation https://www.encodeproject.org/experiments/ENCSR002CTR/\n",
    "\n",
    "The data was processed with DESeq2 to perform the differential expression testing - we'll go into this in later weeks!"
   ]
  },
  {
   "cell_type": "code",
   "execution_count": 2,
   "metadata": {},
   "outputs": [],
   "source": [
    "# you'll need to change these\n",
    "# path is where the data is kept\n",
    "# figpath is where you want to write the output\n",
    "\n",
    "path = '/Users/kevin/changlab/covid19/2_Plotting/data/'\n",
    "figpath = '/Users/kevin/changlab/covid19/2_Plotting/figures/'\n",
    "\n",
    "fn_anno = 'Homo_sapiens.GRCh38.gene_annotations.txt.gz'\n",
    "fn_deseq = 'deseq_endo_esc.txt.gz'"
   ]
  },
  {
   "cell_type": "code",
   "execution_count": 3,
   "metadata": {},
   "outputs": [
    {
     "data": {
      "text/html": [
       "<div>\n",
       "<style scoped>\n",
       "    .dataframe tbody tr th:only-of-type {\n",
       "        vertical-align: middle;\n",
       "    }\n",
       "\n",
       "    .dataframe tbody tr th {\n",
       "        vertical-align: top;\n",
       "    }\n",
       "\n",
       "    .dataframe thead th {\n",
       "        text-align: right;\n",
       "    }\n",
       "</style>\n",
       "<table border=\"1\" class=\"dataframe\">\n",
       "  <thead>\n",
       "    <tr style=\"text-align: right;\">\n",
       "      <th></th>\n",
       "      <th>start</th>\n",
       "      <th>end</th>\n",
       "      <th>strand</th>\n",
       "      <th>length</th>\n",
       "      <th>chr</th>\n",
       "      <th>gene_symbol</th>\n",
       "      <th>gene_type</th>\n",
       "      <th>source</th>\n",
       "    </tr>\n",
       "    <tr>\n",
       "      <th>gene</th>\n",
       "      <th></th>\n",
       "      <th></th>\n",
       "      <th></th>\n",
       "      <th></th>\n",
       "      <th></th>\n",
       "      <th></th>\n",
       "      <th></th>\n",
       "      <th></th>\n",
       "    </tr>\n",
       "  </thead>\n",
       "  <tbody>\n",
       "    <tr>\n",
       "      <th>ENSG00000000003.14</th>\n",
       "      <td>100630765</td>\n",
       "      <td>100637538</td>\n",
       "      <td>-1</td>\n",
       "      <td>6773</td>\n",
       "      <td>X</td>\n",
       "      <td>TSPAN6</td>\n",
       "      <td>protein_coding</td>\n",
       "      <td>cdna</td>\n",
       "    </tr>\n",
       "    <tr>\n",
       "      <th>ENSG00000000005.5</th>\n",
       "      <td>100589213</td>\n",
       "      <td>100598708</td>\n",
       "      <td>1</td>\n",
       "      <td>9495</td>\n",
       "      <td>X</td>\n",
       "      <td>TNMD</td>\n",
       "      <td>protein_coding</td>\n",
       "      <td>cdna</td>\n",
       "    </tr>\n",
       "    <tr>\n",
       "      <th>ENSG00000000419.12</th>\n",
       "      <td>50935098</td>\n",
       "      <td>50956428</td>\n",
       "      <td>-1</td>\n",
       "      <td>21329</td>\n",
       "      <td>20</td>\n",
       "      <td>DPM1</td>\n",
       "      <td>protein_coding</td>\n",
       "      <td>cdna</td>\n",
       "    </tr>\n",
       "    <tr>\n",
       "      <th>ENSG00000000457.13</th>\n",
       "      <td>169853881</td>\n",
       "      <td>169893003</td>\n",
       "      <td>-1</td>\n",
       "      <td>39121</td>\n",
       "      <td>1</td>\n",
       "      <td>SCYL3</td>\n",
       "      <td>protein_coding</td>\n",
       "      <td>cdna</td>\n",
       "    </tr>\n",
       "    <tr>\n",
       "      <th>ENSG00000000460.16</th>\n",
       "      <td>169780373</td>\n",
       "      <td>169834072</td>\n",
       "      <td>1</td>\n",
       "      <td>53699</td>\n",
       "      <td>1</td>\n",
       "      <td>C1orf112</td>\n",
       "      <td>protein_coding</td>\n",
       "      <td>cdna</td>\n",
       "    </tr>\n",
       "  </tbody>\n",
       "</table>\n",
       "</div>"
      ],
      "text/plain": [
       "                        start        end  strand  length chr gene_symbol  \\\n",
       "gene                                                                       \n",
       "ENSG00000000003.14  100630765  100637538      -1    6773   X      TSPAN6   \n",
       "ENSG00000000005.5   100589213  100598708       1    9495   X        TNMD   \n",
       "ENSG00000000419.12   50935098   50956428      -1   21329  20        DPM1   \n",
       "ENSG00000000457.13  169853881  169893003      -1   39121   1       SCYL3   \n",
       "ENSG00000000460.16  169780373  169834072       1   53699   1    C1orf112   \n",
       "\n",
       "                         gene_type source  \n",
       "gene                                       \n",
       "ENSG00000000003.14  protein_coding   cdna  \n",
       "ENSG00000000005.5   protein_coding   cdna  \n",
       "ENSG00000000419.12  protein_coding   cdna  \n",
       "ENSG00000000457.13  protein_coding   cdna  \n",
       "ENSG00000000460.16  protein_coding   cdna  "
      ]
     },
     "execution_count": 3,
     "metadata": {},
     "output_type": "execute_result"
    }
   ],
   "source": [
    "anno = pd.read_csv(path + fn_anno, sep=',', index_col=0)\n",
    "anno.head()"
   ]
  },
  {
   "cell_type": "code",
   "execution_count": 4,
   "metadata": {},
   "outputs": [
    {
     "data": {
      "text/html": [
       "<div>\n",
       "<style scoped>\n",
       "    .dataframe tbody tr th:only-of-type {\n",
       "        vertical-align: middle;\n",
       "    }\n",
       "\n",
       "    .dataframe tbody tr th {\n",
       "        vertical-align: top;\n",
       "    }\n",
       "\n",
       "    .dataframe thead th {\n",
       "        text-align: right;\n",
       "    }\n",
       "</style>\n",
       "<table border=\"1\" class=\"dataframe\">\n",
       "  <thead>\n",
       "    <tr style=\"text-align: right;\">\n",
       "      <th></th>\n",
       "      <th>baseMean</th>\n",
       "      <th>log2FoldChange</th>\n",
       "      <th>lfcSE</th>\n",
       "      <th>stat</th>\n",
       "      <th>pvalue</th>\n",
       "      <th>padj</th>\n",
       "      <th>endo_counts</th>\n",
       "      <th>esc_counts</th>\n",
       "      <th>avg_length</th>\n",
       "    </tr>\n",
       "  </thead>\n",
       "  <tbody>\n",
       "    <tr>\n",
       "      <th>ENSG00000000003.14</th>\n",
       "      <td>1155.378951</td>\n",
       "      <td>-0.071363</td>\n",
       "      <td>0.065942</td>\n",
       "      <td>-1.082201</td>\n",
       "      <td>2.791630e-01</td>\n",
       "      <td>4.140459e-01</td>\n",
       "      <td>1183.956122</td>\n",
       "      <td>1126.801779</td>\n",
       "      <td>2042.518601</td>\n",
       "    </tr>\n",
       "    <tr>\n",
       "      <th>ENSG00000000005.5</th>\n",
       "      <td>13.444480</td>\n",
       "      <td>3.979120</td>\n",
       "      <td>0.821682</td>\n",
       "      <td>4.842651</td>\n",
       "      <td>1.281184e-06</td>\n",
       "      <td>5.248074e-06</td>\n",
       "      <td>1.602214</td>\n",
       "      <td>25.286746</td>\n",
       "      <td>893.058748</td>\n",
       "    </tr>\n",
       "    <tr>\n",
       "      <th>ENSG00000000419.12</th>\n",
       "      <td>484.030001</td>\n",
       "      <td>0.560340</td>\n",
       "      <td>0.098994</td>\n",
       "      <td>5.660330</td>\n",
       "      <td>1.510826e-08</td>\n",
       "      <td>7.296088e-08</td>\n",
       "      <td>391.217628</td>\n",
       "      <td>576.842374</td>\n",
       "      <td>935.608584</td>\n",
       "    </tr>\n",
       "    <tr>\n",
       "      <th>ENSG00000000457.13</th>\n",
       "      <td>151.416462</td>\n",
       "      <td>-0.643948</td>\n",
       "      <td>0.180979</td>\n",
       "      <td>-3.558143</td>\n",
       "      <td>3.734859e-04</td>\n",
       "      <td>1.155851e-03</td>\n",
       "      <td>184.782827</td>\n",
       "      <td>118.050096</td>\n",
       "      <td>3450.560335</td>\n",
       "    </tr>\n",
       "    <tr>\n",
       "      <th>ENSG00000000460.16</th>\n",
       "      <td>387.181972</td>\n",
       "      <td>0.771154</td>\n",
       "      <td>0.119697</td>\n",
       "      <td>6.442528</td>\n",
       "      <td>1.174994e-10</td>\n",
       "      <td>6.669104e-10</td>\n",
       "      <td>286.228331</td>\n",
       "      <td>488.135614</td>\n",
       "      <td>2122.539351</td>\n",
       "    </tr>\n",
       "  </tbody>\n",
       "</table>\n",
       "</div>"
      ],
      "text/plain": [
       "                       baseMean  log2FoldChange     lfcSE      stat  \\\n",
       "ENSG00000000003.14  1155.378951       -0.071363  0.065942 -1.082201   \n",
       "ENSG00000000005.5     13.444480        3.979120  0.821682  4.842651   \n",
       "ENSG00000000419.12   484.030001        0.560340  0.098994  5.660330   \n",
       "ENSG00000000457.13   151.416462       -0.643948  0.180979 -3.558143   \n",
       "ENSG00000000460.16   387.181972        0.771154  0.119697  6.442528   \n",
       "\n",
       "                          pvalue          padj  endo_counts   esc_counts  \\\n",
       "ENSG00000000003.14  2.791630e-01  4.140459e-01  1183.956122  1126.801779   \n",
       "ENSG00000000005.5   1.281184e-06  5.248074e-06     1.602214    25.286746   \n",
       "ENSG00000000419.12  1.510826e-08  7.296088e-08   391.217628   576.842374   \n",
       "ENSG00000000457.13  3.734859e-04  1.155851e-03   184.782827   118.050096   \n",
       "ENSG00000000460.16  1.174994e-10  6.669104e-10   286.228331   488.135614   \n",
       "\n",
       "                     avg_length  \n",
       "ENSG00000000003.14  2042.518601  \n",
       "ENSG00000000005.5    893.058748  \n",
       "ENSG00000000419.12   935.608584  \n",
       "ENSG00000000457.13  3450.560335  \n",
       "ENSG00000000460.16  2122.539351  "
      ]
     },
     "execution_count": 4,
     "metadata": {},
     "output_type": "execute_result"
    }
   ],
   "source": [
    "deseq = pd.read_csv(path + fn_deseq, sep='\\t', index_col=0)\n",
    "deseq.head()"
   ]
  },
  {
   "cell_type": "markdown",
   "metadata": {},
   "source": [
    "### ***Important! - a note on pseudocounts***\n",
    "\n",
    "**Note that when you're performing a log2 transformation, or in many cases division as well, you need add a small *pseudocount* (e.g. .01) to the column prior to taking the log2: this is because if a gene has 0 counts, you won't be able to do a log transformation (becasue log of 0 is undefined).**  If you don't do this, you'll get an error message but things will probably work.  However, if you look closesly at the resulting dataframe, you'll see that you've introduced a lot of nan values, which are essentially null values that get ignored - so if you don't include the pseudocount prior to doing calculations where trying to perform the calculation on a value of 0 will return undefined - such as log transforming and division - then you'll be artifically dropping/ignoring data.\n",
    "\n",
    "There is a lot of flexibility in choosing a pseudocount, but also some nuance: you don't want the value to be too large, because then it will start affecting your actual data: i.e., if most of your data is in the range of 0-10, and you add a pseudocount of 10, then you'll have blown out a lot of the signal in your data.  However, if you add a pseudocount of 10**-10, then after you log transform your data, your pseudocount values (things that were 0 before) will be so far from your actual data that it will be annoying to deal with.  Instead, go with something that is roughly an order of magnitude smaller than the smallest non-zero datapoint - like .1 or .01."
   ]
  },
  {
   "cell_type": "markdown",
   "metadata": {},
   "source": [
    "### 1. Let's explore the *counts* values: these are the number of reads that align to each gene, averaged across samples.  Make a scatter plot plotting the count values for ESCs on the x axis, and ENDO on the y axis.  Make the plot using *linear* count values, as well as *log10 transformed counts*.  Label your axes appropriately.\n",
    "\n",
    "Note that when you're performing a log2 transformation, it's usually helpful to add a small *pseudocount* (e.g. .01): this is because if a gene has 0 counts, you won't be able to do a log transformation (becasue log of 0 is undefined).\n",
    "\n",
    "Explore with different axes limits (i.e., the range that is shown on the plot) and submit the version containing the limits you think are most useful.\n",
    "\n",
    "I've provided code for this, along with comments, to get you started. I've done two examples of this - one with just a basic figure, and then one with a few other things added, so you can get a sense of what you can change.  Try playing around with things on your own!\n",
    "\n",
    "https://matplotlib.org/3.2.1/api/_as_gen/matplotlib.pyplot.scatter.html has notes for the scatter function, and https://matplotlib.org/tutorials/introductory/usage.html#sphx-glr-tutorials-introductory-usage-py has a good overview - particularly the 'Parts of Figure' section.\n",
    "\n",
    "We're using the .savefig() function to save the resulting figures.  We're providing a few optional arguments: dpi=300, to set the resolution of the output to 300 dots per inch, and bbox_inches='tight', which is saying to not to save the figure with any extra whitespace (just around the edges of the figure/axis labels)."
   ]
  },
  {
   "cell_type": "code",
   "execution_count": 19,
   "metadata": {},
   "outputs": [
    {
     "data": {
      "image/png": "[encoded data removed]",
      "text/plain": [
       "<Figure size 432x288 with 1 Axes>"
      ]
     },
     "metadata": {
      "needs_background": "light"
     },
     "output_type": "display_data"
    }
   ],
   "source": [
    "# version 1: basics, linear scale\n",
    "\n",
    "# create our figure and axis\n",
    "fig = plt.figure()\n",
    "ax = fig.add_subplot()\n",
    "\n",
    "xvals = [1,2,3,4]\n",
    "yvals = [1,2,3,4]\n",
    "\n",
    "ax.scatter(xvals, yvals)\n",
    "\n",
    "ax.set_xlabel('X axis', size=16)\n",
    "\n",
    "fig.savefig(figpath + \"test_figure.eps\")"
   ]
  },
  {
   "cell_type": "code",
   "execution_count": 8,
   "metadata": {},
   "outputs": [
    {
     "data": {
      "image/png": "[encoded data removed]",
      "text/plain": [
       "<Figure size 432x288 with 1 Axes>"
      ]
     },
     "metadata": {
      "needs_background": "light"
     },
     "output_type": "display_data"
    }
   ],
   "source": [
    "# version 1: basics, linear scale\n",
    "\n",
    "# create our figure and axis\n",
    "fig = plt.figure()\n",
    "ax = fig.add_subplot()\n",
    "\n",
    "# get our values from the deseq dataframe\n",
    "xvals = deseq['esc_counts']\n",
    "yvals = deseq['endo_counts']\n",
    "\n",
    "# plot things\n",
    "ax.scatter(xvals, yvals)\n",
    "\n",
    "# save the output\n",
    "fig.savefig(figpath + '1.1_scatter_counts_linear.png', dpi=300, bbox_inches='tight')"
   ]
  },
  {
   "cell_type": "code",
   "execution_count": 9,
   "metadata": {},
   "outputs": [
    {
     "data": {
      "image/png": "[encoded data removed]",
      "text/plain": [
       "<Figure size 360x360 with 1 Axes>"
      ]
     },
     "metadata": {
      "needs_background": "light"
     },
     "output_type": "display_data"
    }
   ],
   "source": [
    "# version 2: changing some things, linear scale\n",
    "\n",
    "# create our figure and axis\n",
    "# make our figure dimensions 5 by 5 (i.e., make it square)\n",
    "fig = plt.figure(figsize=(5,5))\n",
    "ax = fig.add_subplot()\n",
    "\n",
    "# get our values from the deseq dataframe\n",
    "xvals = deseq['esc_counts']\n",
    "yvals = deseq['endo_counts']\n",
    "\n",
    "# plot things\n",
    "ax.scatter(xvals, yvals, s=5, c='k')\n",
    "\n",
    "# label our axes\n",
    "ax.set_xlabel('ESC', size=12)\n",
    "ax.set_ylabel('ENDO', size=12)\n",
    "ax.set_title('COUNTS', size=14)\n",
    "\n",
    "# change our axis limits\n",
    "ax_limit = 2000000\n",
    "ax.set_xlim([-50000, ax_limit])\n",
    "ax.set_ylim([-50000, ax_limit])\n",
    "\n",
    "# change the ticks\n",
    "ticks = np.arange(0, ax_limit+1, 500000)\n",
    "ax.set_xticks(ticks)\n",
    "ax.set_yticks(ticks)\n",
    "\n",
    "# fig.tight_layout()\n",
    "\n",
    "# save the output\n",
    "fig.savefig(figpath + '1.2_scatter_counts_linear_adj.png', dpi=300, bbox_inches='tight')"
   ]
  },
  {
   "cell_type": "code",
   "execution_count": 10,
   "metadata": {},
   "outputs": [
    {
     "data": {
      "image/png": "[encoded data removed]",
      "text/plain": [
       "<Figure size 360x360 with 1 Axes>"
      ]
     },
     "metadata": {
      "needs_background": "light"
     },
     "output_type": "display_data"
    }
   ],
   "source": [
    "# version 3: changing some things, plotting on a log scale scale\n",
    "\n",
    "# create our figure and axis\n",
    "# make our figure dimensions 5 by 5 (i.e., make it square)\n",
    "fig = plt.figure(figsize=(5,5))\n",
    "ax = fig.add_subplot()\n",
    "\n",
    "# get our values from the deseq dataframe\n",
    "xvals = deseq['esc_counts']\n",
    "yvals = deseq['endo_counts']\n",
    "\n",
    "# log transform\n",
    "xvals = np.log10(xvals + .01)\n",
    "yvals = np.log10(yvals + .01)\n",
    "\n",
    "# plot things\n",
    "ax.scatter(xvals, yvals, s=1, c='k', alpha=.2)\n",
    "\n",
    "# add a dashed line along x = y\n",
    "ax.plot([-3, 8], [-3, 8], ls='--', color='red', lw=.5)\n",
    "\n",
    "# label our axes\n",
    "ax.set_xlabel('ESC log10 counts', size=12)\n",
    "ax.set_ylabel('Endoderm log10 counts', size=12)\n",
    "ax.set_title('Gene Expression log10 Counts', size=14)\n",
    "\n",
    "# change our axis limits\n",
    "ax.set_xlim([-2.2, 7])\n",
    "ax.set_ylim([-2.2, 7])\n",
    "\n",
    "# change the ticks\n",
    "ticks = np.arange(-2, 7.1)\n",
    "ax.set_xticks(ticks)\n",
    "ax.set_yticks(ticks)\n",
    "\n",
    "# save the output\n",
    "fig.savefig(figpath + '1.3_scatter_counts_log.png', dpi=300, bbox_inches='tight')"
   ]
  },
  {
   "cell_type": "markdown",
   "metadata": {},
   "source": [
    "#### Which of these representations do you think is more useful/informative? Log vs linear counts? Why?"
   ]
  },
  {
   "cell_type": "code",
   "execution_count": null,
   "metadata": {},
   "outputs": [],
   "source": []
  },
  {
   "cell_type": "markdown",
   "metadata": {},
   "source": [
    "### 2.  Make a histogram of gene counts for the ESC sample.  Again, plot this using both a linear and log scale.  Additionally, make a version plotted on a log scale that only includes non-zero values. Which is more informative? What do these plots tell you about the distribution of gene expression values? Are they linearly distributed? \n",
    "\n",
    "You'll want to explore different *bin* paramters: telling the function how many bins to use for the histogram, and how big each bin should be.  An easy way to make bins is using the np.linspace() and/or np.logspace() functions, which you can then pass into the ax.hist() function as the bins argument."
   ]
  },
  {
   "cell_type": "code",
   "execution_count": null,
   "metadata": {},
   "outputs": [],
   "source": []
  },
  {
   "cell_type": "code",
   "execution_count": null,
   "metadata": {},
   "outputs": [],
   "source": []
  },
  {
   "cell_type": "code",
   "execution_count": null,
   "metadata": {},
   "outputs": [],
   "source": []
  },
  {
   "cell_type": "markdown",
   "metadata": {},
   "source": [
    "### 3.  Make a histogram comparing the distribution of log gene counts for each of the two samples.\n",
    "\n",
    "Overlay these on the same axis.  You may want to look at the histtype argument, as well as the alpha parameters, and explore which ones you think best display the data. Also include a legend using the ax.legend() command, and label your axes appropriately.\n",
    "\n",
    "In addition, there's a lot of genes that are zero in both samples: when you plot your histogram, only show genes that have nonzero counts in at least one of the samples (i.e., don't include genes that are zero in both samples)."
   ]
  },
  {
   "cell_type": "code",
   "execution_count": null,
   "metadata": {},
   "outputs": [],
   "source": []
  },
  {
   "cell_type": "markdown",
   "metadata": {},
   "source": [
    "### 4.  MA plot\n",
    "\n",
    "A very common type of plot is a 'MA' plot: in this plot, you plot log mean abudance on the x axis versus log2FC on the y axis.  In this way, you can get a global sense of what the differences between two samples look like.\n",
    "\n",
    "Make a MA plot for the two samples, and also plot a line along the y=0."
   ]
  },
  {
   "cell_type": "code",
   "execution_count": null,
   "metadata": {},
   "outputs": [],
   "source": []
  },
  {
   "cell_type": "markdown",
   "metadata": {},
   "source": [
    "In this case, you're able to use the output from DESeq2 which has already computed the mean and log2FC between your samples.  However, it's good to be able to do this on your own as well. Create three new columns in your dataframe:\n",
    "\n",
    "* **own_mean**: the mean of esc_counts and endo_counts\n",
    "* **own_fc**: the fold change of esc_counts over endo_counts.  When you do this, add a pseudocount of .01 to each column (esc_counts and endo_counts) prior to dividing them.  So you are doing (esc_counts + .1) / (endo_counts + .1).\n",
    "* **own_log2fc**: the log2 of the own_fc column\n",
    "\n",
    "Now, remake the MA plot using the columns you created. Does it look the same?\n",
    "\n",
    "Play around with the pseudocount value that you add (making it larger/smaller), and see how it changes things and compress your data if too large."
   ]
  },
  {
   "cell_type": "code",
   "execution_count": null,
   "metadata": {},
   "outputs": [],
   "source": []
  },
  {
   "cell_type": "markdown",
   "metadata": {},
   "source": [
    "Optional - for an added challenge, make a MA plot where the color of each point is indicated by the adjusted p value, and include a colorbar for the p value."
   ]
  },
  {
   "cell_type": "code",
   "execution_count": null,
   "metadata": {},
   "outputs": [],
   "source": []
  },
  {
   "cell_type": "markdown",
   "metadata": {},
   "source": [
    "### 5.  Volcano Plot\n",
    "\n",
    "This is another very common way of visualizing the significance of gene expression changes between two samples.  On the x axis, we plot log2FC.  On the y-axis, we plot -log10(adjusted pvalue).  We log transform the value for the same reason we log transform gene expression data (the range is too large to visualize on a linear scale), and take the negative of this value because we want high pvalues, i.e. 1, to be at the bottom, and low pvalues, i.e. close to 0, to be at the top.\n",
    "\n",
    "Include lines showing a cutoff of log2FC > 1, and pvalue < .05."
   ]
  },
  {
   "cell_type": "markdown",
   "metadata": {},
   "source": [
    "Before you plot this - what is the minimum adjusted p value in your dataframe?  A pvalue or adjusted p value of 0 generally indicates that the value was sufficiently small that because of a rounding error, it is stored at 0.\n",
    "\n",
    "For the genes for which the padj is equal to 0, set it equal to the smallest *nonzero* pvalue.\n",
    "\n",
    "Additionally, for columns where no padj is reported, set the value equal to 1."
   ]
  },
  {
   "cell_type": "code",
   "execution_count": null,
   "metadata": {},
   "outputs": [],
   "source": []
  },
  {
   "cell_type": "code",
   "execution_count": null,
   "metadata": {},
   "outputs": [],
   "source": []
  },
  {
   "cell_type": "code",
   "execution_count": null,
   "metadata": {},
   "outputs": [],
   "source": []
  },
  {
   "cell_type": "markdown",
   "metadata": {},
   "source": [
    "The data says that they sorted Endoderm based on CD184 positive cells.  On your volcano plot, highlight the point corresponding to CD184.  Note, you may need to look up the correct gene name in your index - particularly with CD genes, there's often a corresponding gene name.  e.g., CD45 is PTPRC.  You may also need to find out the ENSG ID by looking it up in the annotation dataframe."
   ]
  },
  {
   "cell_type": "code",
   "execution_count": null,
   "metadata": {},
   "outputs": [],
   "source": []
  },
  {
   "cell_type": "markdown",
   "metadata": {},
   "source": [
    "### 6.  Bar plot of the number of genes per chromosome\n",
    "\n",
    "Make a plot showing the number of genes expressed on each chromosome (only 1-22, X, Y). Order the x axis from 1-22, X, Y."
   ]
  },
  {
   "cell_type": "code",
   "execution_count": null,
   "metadata": {},
   "outputs": [],
   "source": []
  },
  {
   "cell_type": "markdown",
   "metadata": {},
   "source": [
    "### 7.  Box plot of non-zero gene expression values in ES cells, grouped by chromosome.\n",
    "\n",
    "1.  Compute TPM values from the counts values for the ESC_counts.  Do this by 1) taking the counts, divided by the average length; 2) dividing this by the sum of the length-normalized counts, and 3) multiplying by 1,000,000.  This reults in the transcripts per million, which is the counts, normalized by length, normalized by sequencing depth.  Add this as a new column to your dataframe.\n",
    "\n",
    "2.  Make a list of chromosomes.  Make a second empty list.  Iterate through the chromosomes, get only the genes that are on that chromosome.  And then get the associated tpm values.  Note that you'll need to use the annotation and deseq dataframes for this.\n",
    "\n",
    "3.  Make the box plot."
   ]
  },
  {
   "cell_type": "code",
   "execution_count": null,
   "metadata": {},
   "outputs": [],
   "source": []
  },
  {
   "cell_type": "code",
   "execution_count": null,
   "metadata": {},
   "outputs": [],
   "source": []
  },
  {
   "cell_type": "code",
   "execution_count": null,
   "metadata": {},
   "outputs": [],
   "source": []
  }
 ],
 "metadata": {
  "kernelspec": {
   "display_name": "Python 3",
   "language": "python",
   "name": "python3"
  },
  "language_info": {
   "codemirror_mode": {
    "name": "ipython",
    "version": 3
   },
   "file_extension": ".py",
   "mimetype": "text/x-python",
   "name": "python",
   "nbconvert_exporter": "python",
   "pygments_lexer": "ipython3",
   "version": "3.7.3"
  }
 },
 "nbformat": 4,
 "nbformat_minor": 2
}
