{
 "cells": [
  {
   "cell_type": "markdown",
   "metadata": {},
   "source": [
    "## Welcome to Week 2: Dataframes!\n",
    "\n",
    "### In weeks 2 and 3, we're going to focus on two things, which are essentially the basics of all downstream bioinformatics that you'll do.\n",
    "\n",
    "<u>First</u>, learning to work with dataframes: we're going use the package <b>pandas</b>, which is one of the most commonly used packages for datascience. https://pandas.pydata.org/docs/getting_started/10min.html#min has a brief introduction, if you are curious.  The core idea of dataframes - the primary datatype associated with pandas - is that you have a two-dimensional matrix of data (i.e., rows and columns, like an Excel spreadsheet), and can associate a *label* with each row and column.  For example, with scRNA data, you have a 2D matrix of gene expression counts, where each row is a gene and each column is a cell. If you wanted to look up the expression for a particular gene in a particular cell, rather than have to know the particular XY \"coordinates\" of that datapoint (i.e., gene row # 1827 and cell column # 2937), you can just pass in the names of the gene and cell.  If you wanted to sort the dataframe by the expression of a particular gene, you'd want to make sure that the pairings of gene names, cell names, and datapoints stay correct through this sorting process, and pandas dataframes help take care of this to keep everything organized and correct.  Don't worry if this doesn't make too much sense now - it'll make more sense when we start playing with actual examples.\n",
    "\n",
    "In addition to pandas, we're going to use the package <b>numpy</b>, which is the core \"math\" package (\"scientific computing\", as they describe it - https://docs.scipy.org/doc/numpy/user/quickstart.html and https://docs.scipy.org/doc/numpy/user/basics.html). Oftentimes when working with large datasets, you want to perform a simple operation (for example, log transform or depth normalize) on many pieces of data.  Numpy implements a lot of tricks under the hood to perform vectorized math operations very efficiently - doing the same operation to many pieces of data.  Numpy is built around *arrays*, which are a 1D datatype: essentially a list, but with a lot of added tricks. Say you have a bunch of datapoints - gene counts, for example - and want to multiply each one by 2.  Using a list, you would need to do this one-by-one for each list: iterate through the entire list with a for loop (or list comprehension) and multiply each value by two. However, using a numpy array, you can simply multiply the entire array by 2, and numpy will return the element-wise product of the array by 2 (multiplying each elementy by 2). Again, this will make a little more sense once you've played around with it a little.\n",
    "\n",
    "**I would recommend skimming through the introductions for pandas and numpy, since you'll want to become familiar with them both for this lesson and going forward. It's not as crucial that you memorize each function and every feature, but good to just have a sense of what is possible, so that you can remember that there should be a way to do something easily, then google for it later on and re-figure out how to do it.**\n",
    "\n",
    "* https://pandas.pydata.org/docs/getting_started/10min.html#min\n",
    "* https://docs.scipy.org/doc/numpy/user/quickstart.html\n",
    "\n",
    "The <u>second</u> thing that we're going to focus on is plotting. **Matplotlib** is the core plotting package in Python. It is built around two concepts: the figure, which is the \"overall\" image - think about it like a piece of paper or figure panel - and axes, which are the specific XY axes where you plot things.  The simplest example is a figure with one axis - say a simple scatter plot. This is what you'll do 90% of the time.  Sometimes, though, you might want to group together multiple plots at the same time - say you have four scatter plots you want to make together. In this case, the figure might have four axes (a 2-by-2 grid of scatter plots).  The important thing to remember, is that when you're plotting, you 1) create a figure, 2) create an axis, 3) plot things on that axis, [4) create & plot on any additional axes if applicable], and 5) save the figure (which contains the axis/axes you've plotting things on).\n",
    "\n",
    "Two useful matplotlib links with some tutorials and example plots:\n",
    "\n",
    "* https://matplotlib.org/tutorials/index.html\n",
    "* https://matplotlib.org/gallery/index.html\n",
    "\n",
    "Three other packages that we aren't going to use here, but you will also encounter down the road: <b>scipy</b>, which has a lot of more specialized functions for things like statistics (and many others - https://docs.scipy.org/doc/scipy/reference/, https://docs.scipy.org/doc/scipy/reference/tutorial/index.html), and **scikit-learn**, which is the core machine learning package (https://scikit-learn.org/stable/getting_started.html), and **seaborn**, which is another data visualization package (https://seaborn.pydata.org/introduction.html) built on matplotlib."
   ]
  },
  {
   "cell_type": "markdown",
   "metadata": {},
   "source": [
    "## Import Statements\n",
    "\n",
    "#### First, let's import the packages that we are going to use this and next week: pandas, numpy, and matplotlib.\n",
    "\n",
    "We're going to abbreviate their names as follows:\n",
    "\n",
    "    import pandas as pd\n",
    "    import numpy as np\n",
    "    import matplotlib as mpl\n",
    "    \n",
    "Then, when we want to do things with numpy, for example, such as the log10() function, rather than say: numpy.log10(my_data), we can say np.log10(my_data). Note that if we wanted to just import numpy (and not rename it - so saying numpy.log10(my_data)), we would just say:\n",
    "\n",
    "    import numpy\n",
    "    \n",
    "We can also import a particular function from numpy, rather than everything:\n",
    "\n",
    "    from numpy import log10\n",
    "    \n",
    "If we ran that, we would be importing just the log10() function from numpy, rather than the package as a whole.  We would then access this function by saying log10(my_data), rather than np.log10(my_dat).\n",
    "\n",
    "You can also put these things together and say:\n",
    "\n",
    "    from matplotlib import pyplot as plt\n",
    "    \n",
    "Here, we're importing pyplot from the matplotlib package, and renaming it plt to save us some typing."
   ]
  },
  {
   "cell_type": "code",
   "execution_count": 1,
   "metadata": {},
   "outputs": [],
   "source": [
    "import pandas as pd\n",
    "import numpy as np\n",
    "import matplotlib as mpl\n",
    "from matplotlib import pyplot as plt"
   ]
  },
  {
   "cell_type": "markdown",
   "metadata": {},
   "source": [
    "## 1. Lists, loops, and arrays.\n",
    "\n",
    "First, we're going to do a quick overview of lists vs. arrays, and also list comprehensions."
   ]
  },
  {
   "cell_type": "markdown",
   "metadata": {},
   "source": [
    "### 1.1 Lists, loops, and list comprehensions.\n",
    "\n",
    "Here, I've created a list, where each element is a string.  Let's say I want to convert each element to be an integer.  There are two ways to do this.\n",
    "\n",
    "In the first way, we're creating a new empty list, iterating through each element of string_list, converting it to an integer, and adding it to our new empty list.\n",
    "\n",
    "In the second way, we're using a list comprehension to do this all in one step."
   ]
  },
  {
   "cell_type": "code",
   "execution_count": 2,
   "metadata": {},
   "outputs": [
    {
     "name": "stdout",
     "output_type": "stream",
     "text": [
      "[1, 2, 3, 4, 5, 6, 7, 8, 9, 10]\n",
      "[1, 2, 3, 4, 5, 6, 7, 8, 9, 10]\n",
      "True\n"
     ]
    }
   ],
   "source": [
    "string_list = ['1','2','3','4','5','6','7','8','9','10']\n",
    "\n",
    "# first way\n",
    "int_list = []\n",
    "for i in string_list:\n",
    "    int_list += [int(i)]\n",
    "print(int_list)\n",
    "\n",
    "# second way\n",
    "int_list2 = [int(i) for i in string_list]\n",
    "print(int_list2)\n",
    "\n",
    "# checking that they are equal\n",
    "print(int_list == int_list2)"
   ]
  },
  {
   "cell_type": "markdown",
   "metadata": {},
   "source": [
    "List comprehensions are your friend - they can make it easier to do simple operations to an entire list.  The basic syntax is:\n",
    "\n",
    "    [function(variable) for variable in thing_to_iterate_over]\n",
    "\n",
    "https://treyhunner.com/2015/12/python-list-comprehensions-now-in-color/ has a good short tutorial that is worth reading through.\n",
    "\n",
    "You can also make a list comprehension include a conditional:\n",
    "\n",
    "    [function(variable) for variable in thing_to_iterate_over if condition]\n",
    "    \n",
    "I'm going to provide a few examples below of the same thing done either with a loop or list comprehension, and then ask you to convert a few loops to comprehensions and vice versa."
   ]
  },
  {
   "cell_type": "markdown",
   "metadata": {},
   "source": [
    "### 1.1 Examples"
   ]
  },
  {
   "cell_type": "code",
   "execution_count": 3,
   "metadata": {},
   "outputs": [
    {
     "name": "stdout",
     "output_type": "stream",
     "text": [
      "[0, 1, 2, 3, 4, 5, 6, 7, 8, 9]\n",
      "[0, 1, 2, 3, 4, 5, 6, 7, 8, 9]\n"
     ]
    }
   ],
   "source": [
    "# make a list containing the integers from 0 to 10\n",
    "\n",
    "# here, we are using the range() function, which will automatically start at 0\n",
    "# and then iterate up to the number you provide\n",
    "\n",
    "# with a loop\n",
    "list_1 = []\n",
    "for i in range(10):\n",
    "    list_1 += [i]\n",
    "\n",
    "# list comprehension\n",
    "list_2 = [i for i in range(10)]\n",
    "\n",
    "print(list_1)\n",
    "print(list_2)"
   ]
  },
  {
   "cell_type": "code",
   "execution_count": 4,
   "metadata": {},
   "outputs": [
    {
     "name": "stdout",
     "output_type": "stream",
     "text": [
      "['10', '11', '12', '13', '14', '15', '16', '17', '18', '19']\n",
      "['10', '11', '12', '13', '14', '15', '16', '17', '18', '19']\n"
     ]
    }
   ],
   "source": [
    "# make a list containing the integers from 10 to 20, but as strings.\n",
    "\n",
    "# if you provide two inputs to the range() function, it will start at the first one, and end at the second one\n",
    "\n",
    "# with a loop\n",
    "list_1 = []\n",
    "for i in range(10, 20):\n",
    "    list_1 += [str(i)]\n",
    "\n",
    "# list comprehension\n",
    "list_2 = [str(i) for i in range(10, 20)]\n",
    "\n",
    "print(list_1)\n",
    "print(list_2)"
   ]
  },
  {
   "cell_type": "code",
   "execution_count": 5,
   "metadata": {},
   "outputs": [
    {
     "name": "stdout",
     "output_type": "stream",
     "text": [
      "[0, 1, 4, 9, 16, 25, 36, 49, 64, 81]\n",
      "[0, 1, 4, 9, 16, 25, 36, 49, 64, 81]\n"
     ]
    }
   ],
   "source": [
    "# make a list of the first ten integers squared\n",
    "\n",
    "# note that you can say either i*i or i**2 to square a number\n",
    "# to cube it, you could say i*i*i or i**3, and so on\n",
    "\n",
    "# with a loop\n",
    "list_1 = []\n",
    "for i in range(10):\n",
    "    list_1 += [i * i]\n",
    "\n",
    "# list comprehension\n",
    "list_2 = [i*i for i in range(10)]\n",
    "\n",
    "print(list_1)\n",
    "print(list_2)"
   ]
  },
  {
   "cell_type": "code",
   "execution_count": 6,
   "metadata": {},
   "outputs": [
    {
     "name": "stdout",
     "output_type": "stream",
     "text": [
      "[100, 16, 9, 1, 36, 4, 64]\n",
      "[100, 16, 9, 1, 36, 4, 64]\n"
     ]
    }
   ],
   "source": [
    "# iterate through input_list\n",
    "# if the integer is less than or equal to 10, then square it\n",
    "# otherwise, don't include it\n",
    "\n",
    "input_list = [10, 4, 28, 3, 1, 930, 3928, 6, 2, 8, 2038]\n",
    "\n",
    "# with a loop\n",
    "list_1 = []\n",
    "for i in input_list:\n",
    "    if i <= 10:\n",
    "        list_1 += [i**2]\n",
    "\n",
    "# list comprehension\n",
    "list_2 = [i*i for i in input_list if i <= 10]\n",
    "\n",
    "print(list_1)\n",
    "print(list_2)"
   ]
  },
  {
   "cell_type": "markdown",
   "metadata": {},
   "source": [
    "The following two examples are examples where you can write things with a list comprehension - but it starts to get a little hard to follow, and might just be better off writing with a normal list, because the list comprehension starts to become a little unreadable."
   ]
  },
  {
   "cell_type": "code",
   "execution_count": 7,
   "metadata": {},
   "outputs": [
    {
     "name": "stdout",
     "output_type": "stream",
     "text": [
      "[100, 16, 614656, 9, 1, 748052010000, 238059718905856, 36, 4, 64, 17251097061136]\n",
      "[100, 16, 614656, 9, 1, 748052010000, 238059718905856, 36, 4, 64, 17251097061136]\n"
     ]
    }
   ],
   "source": [
    "# iterate through input list\n",
    "# if it is less than or equal to 10, return the integer squared\n",
    "# otherwise, return the integer raised to the fourth power\n",
    "\n",
    "# note that when you have an if...else that the location gets moved around\n",
    "\n",
    "input_list = [10, 4, 28, 3, 1, 930, 3928, 6, 2, 8, 2038]\n",
    "\n",
    "# with a loop\n",
    "list_1 = []\n",
    "for i in input_list:\n",
    "    if i <= 10:\n",
    "        list_1 += [i**2]\n",
    "    else:\n",
    "        list_1 += [i**4]\n",
    "\n",
    "# list comprehension\n",
    "list_2 = [i**2 if i <= 10 else i ** 4 for i in input_list]\n",
    "\n",
    "print(list_1)\n",
    "print(list_2)"
   ]
  },
  {
   "cell_type": "code",
   "execution_count": 8,
   "metadata": {},
   "outputs": [
    {
     "name": "stdout",
     "output_type": "stream",
     "text": [
      "['black', 'black', 'black', 'black', 'black', 'black', 'red', 'red', 'blue', 'blue']\n",
      "['black', 'black', 'black', 'black', 'black', 'black', 'red', 'red', 'blue', 'blue']\n"
     ]
    }
   ],
   "source": [
    "# iterate through integers from 0 to 10\n",
    "# if it is less than or equal to 5, return 'black'\n",
    "# otherwise, if it is less than 8, return 'red'\n",
    "# otherwise, return 'blue'\n",
    "\n",
    "# note that when you have an if...else that the location gets moved around\n",
    "\n",
    "# with a loop\n",
    "list_1 = []\n",
    "for i in range(10):\n",
    "    if i <= 5:\n",
    "        list_1 += ['black']\n",
    "    elif i < 8:\n",
    "        list_1 += ['red']\n",
    "    else:\n",
    "        list_1 += ['blue']\n",
    "\n",
    "# list comprehension\n",
    "list_2 = ['black' if i <= 5 else 'red' if i < 8 else 'blue' for i in range(10)]\n",
    "\n",
    "print(list_1)\n",
    "print(list_2)"
   ]
  },
  {
   "cell_type": "markdown",
   "metadata": {},
   "source": [
    "### 1.2 Problems\n",
    "\n",
    "Convert the loop to a list comprehension, and the list comprehensions to loops.  Check that the results are equal."
   ]
  },
  {
   "cell_type": "code",
   "execution_count": 9,
   "metadata": {},
   "outputs": [
    {
     "name": "stdout",
     "output_type": "stream",
     "text": [
      "[-2, 2, 6, 10, 14, 18, 22, 26, 30, 34, 38, 42, 46, 50, 54, 58, 62, 66, 70, 74]\n",
      "[-2, 2, 6, 10, 14, 18, 22, 26, 30, 34, 38, 42, 46, 50, 54, 58, 62, 66, 70, 74]\n",
      "True\n"
     ]
    }
   ],
   "source": [
    "list_1 = []\n",
    "for i in range(20):\n",
    "    list_1 += [4 * i - 2]\n",
    "    \n",
    "print(list_1)\n",
    "\n",
    "# write answer below\n",
    "list_2 = [4 * i - 2 for i in range(20)]\n",
    "print(list_2)\n",
    "print(list_1 == list_2)"
   ]
  },
  {
   "cell_type": "code",
   "execution_count": 10,
   "metadata": {},
   "outputs": [
    {
     "name": "stdout",
     "output_type": "stream",
     "text": [
      "[1, 1, 5, 1, 5, 1, 5, 1, 5, 5, 1, 5, 5, 5]\n",
      "[1, 1, 5, 1, 5, 1, 5, 1, 5, 5, 1, 5, 5, 5]\n",
      "True\n"
     ]
    }
   ],
   "source": [
    "input_list = ['black','black','orange','black','red','black','red','black','red','red','black','green','blue','purple']\n",
    "\n",
    "list_1 = []\n",
    "for i in input_list:\n",
    "    if i == 'black':\n",
    "        list_1 += [1]\n",
    "    else:\n",
    "        list_1 += [5]\n",
    "print(list_1)\n",
    "\n",
    "# write answer below\n",
    "list_2 = [1 if i == 'black' else 5 for i in input_list]\n",
    "print(list_2)\n",
    "print(list_1 == list_2)"
   ]
  },
  {
   "cell_type": "code",
   "execution_count": 11,
   "metadata": {},
   "outputs": [
    {
     "name": "stdout",
     "output_type": "stream",
     "text": [
      "['0.0', '0.5', '1.0', '1.5', '2.0', '2.5', '3.0', '3.5', '4.0', '4.5', '5.0', '5.5', '6.0', '6.5', '7.0']\n",
      "['0.0', '0.5', '1.0', '1.5', '2.0', '2.5', '3.0', '3.5', '4.0', '4.5', '5.0', '5.5', '6.0', '6.5', '7.0']\n",
      "True\n"
     ]
    }
   ],
   "source": [
    "list_1 = [str(i / 2) for i in range(15)]\n",
    "print(list_1)\n",
    "\n",
    "# write answer below\n",
    "list_2 = []\n",
    "for i in range(15):\n",
    "    list_2 += [str(i / 2)]\n",
    "print(list_2)\n",
    "print(list_1 == list_2)"
   ]
  },
  {
   "cell_type": "code",
   "execution_count": 12,
   "metadata": {},
   "outputs": [
    {
     "name": "stdout",
     "output_type": "stream",
     "text": [
      "[4, 8, 2, 40, 2038, 882]\n",
      "[4, 8, 2, 40, 2038, 882]\n",
      "True\n"
     ]
    }
   ],
   "source": [
    "input_list = [1,4,8,2,40,2038,233,23,1,5,3,882]\n",
    "\n",
    "list_1 = [i for i in input_list if i % 2 == 0]\n",
    "print(list_1)\n",
    "\n",
    "# write your answer below\n",
    "list_2 = []\n",
    "for i in input_list:\n",
    "    if i % 2 == 0:\n",
    "        list_2 += [i]\n",
    "print(list_2)\n",
    "print(list_1 == list_2)"
   ]
  },
  {
   "cell_type": "markdown",
   "metadata": {},
   "source": [
    "### 1.2 Numpy arrays\n",
    "\n",
    "To create an array from a list, you say:\n",
    "\n",
    "    new_array = np.array(old_list)\n",
    "    \n",
    "We're going to try doing the same things to list and arrays to see what happens in each case.\n",
    "\n",
    "**Before running the cells below, try to guess that the output will be in each case (for the list versus array), and pay attention to the differences between how lists and arrays behave.**"
   ]
  },
  {
   "cell_type": "code",
   "execution_count": 13,
   "metadata": {},
   "outputs": [
    {
     "name": "stdout",
     "output_type": "stream",
     "text": [
      "[0, 1, 2, 3, 4, 5, 6, 7, 8, 9]\n",
      "[0 1 2 3 4 5 6 7 8 9]\n",
      "\n",
      "[0, 1, 2, 3, 4, 5, 6, 7, 8, 9, 0, 1, 2, 3, 4, 5, 6, 7, 8, 9]\n",
      "[ 0  2  4  6  8 10 12 14 16 18]\n"
     ]
    }
   ],
   "source": [
    "test_list = [i for i in range(10)]\n",
    "test_array = np.array(test_list)\n",
    "\n",
    "print(test_list)\n",
    "print(test_array)\n",
    "print()\n",
    "\n",
    "# what happens if we multiply by two?\n",
    "print(test_list * 2)\n",
    "print(test_array * 2)"
   ]
  },
  {
   "cell_type": "code",
   "execution_count": 14,
   "metadata": {},
   "outputs": [],
   "source": [
    "# what happens if we try to add one to each one?\n",
    "# note that this will only work for the arrays: it will throw an error for the list"
   ]
  },
  {
   "cell_type": "code",
   "execution_count": 15,
   "metadata": {},
   "outputs": [
    {
     "ename": "TypeError",
     "evalue": "can only concatenate list (not \"int\") to list",
     "output_type": "error",
     "traceback": [
      "\u001b[0;31m---------------------------------------------------------------------------\u001b[0m",
      "\u001b[0;31mTypeError\u001b[0m                                 Traceback (most recent call last)",
      "\u001b[0;32m<ipython-input-15-127834640291>\u001b[0m in \u001b[0;36m<module>\u001b[0;34m\u001b[0m\n\u001b[0;32m----> 1\u001b[0;31m \u001b[0mprint\u001b[0m\u001b[0;34m(\u001b[0m\u001b[0mtest_list\u001b[0m \u001b[0;34m+\u001b[0m \u001b[0;36m1\u001b[0m\u001b[0;34m)\u001b[0m\u001b[0;34m\u001b[0m\u001b[0;34m\u001b[0m\u001b[0m\n\u001b[0m",
      "\u001b[0;31mTypeError\u001b[0m: can only concatenate list (not \"int\") to list"
     ]
    }
   ],
   "source": [
    "print(test_list + 1)"
   ]
  },
  {
   "cell_type": "code",
   "execution_count": 16,
   "metadata": {},
   "outputs": [
    {
     "name": "stdout",
     "output_type": "stream",
     "text": [
      "[ 1  2  3  4  5  6  7  8  9 10]\n"
     ]
    }
   ],
   "source": [
    "print(test_array + 1)"
   ]
  },
  {
   "cell_type": "code",
   "execution_count": 17,
   "metadata": {},
   "outputs": [
    {
     "name": "stdout",
     "output_type": "stream",
     "text": [
      "[0, 1, 2, 3, 4, 5, 6, 7, 8, 9, 0, 1, 2, 3, 4, 5, 6, 7, 8, 9]\n",
      "[ 0  2  4  6  8 10 12 14 16 18]\n"
     ]
    }
   ],
   "source": [
    "# what happens if we try to add two lists or two arrays together?\n",
    "\n",
    "print(test_list + test_list)\n",
    "print(test_array + test_array)"
   ]
  },
  {
   "cell_type": "markdown",
   "metadata": {},
   "source": [
    "**This is all that we are going to go over for now - the main takeaway here is that when you're dealing with arrays, you're performing the same operation on all elements of the array.**"
   ]
  },
  {
   "cell_type": "markdown",
   "metadata": {},
   "source": [
    "## 2. Importing a genome annotation file in pandas"
   ]
  },
  {
   "cell_type": "markdown",
   "metadata": {},
   "source": [
    "Here, we're going to look at a file that I've downloaded from the ENSEMBL website that contains annotation information for various genes in the genome.  This file was originally downloaded with <i>transcript-based</i> annotations, which I convereted to be <i>gene-based</i>.  When you're doing RNA-seq analysis, you can either perform analyses at the transcript level (meaning considering different isoforms of the same gene differently) or at the gene level (aggregating different isoforms of the same gene); we're going to focus on gene level analysis for now.\n",
    "\n",
    "<b>First, we need to import the annotation file.</b>  I typically like to define paths and file names at the start, just to keep things organized.\n",
    "\n",
    "1. Create a variable called 'path' which contains the directory listing to wherever you downloaded the files.\n",
    "2. Create a variable called 'fn_anno' which is the name of the file.\n",
    "\n",
    "As a reminder, both of these should be strings, and the variable 'path' should end with a '/'."
   ]
  },
  {
   "cell_type": "code",
   "execution_count": 18,
   "metadata": {},
   "outputs": [],
   "source": [
    "# you will need to change this based on where you saved the files on your comptuer, as you did last week\n",
    "\n",
    "# path = '/path/to/the/directory/containing/the/file/'\n",
    "# fn = 'name_of_the_file.extension'"
   ]
  },
  {
   "cell_type": "markdown",
   "metadata": {},
   "source": [
    "**Using pd.read_csv(), import the txt file (comma delimted) containing the annotations into a dataframe called 'anno', and set the index to be the 'gene' column.  Use .head() to show the first 5 rows of the resulting dataframe.**\n",
    "\n",
    "See https://pandas.pydata.org/pandas-docs/stable/generated/pandas.read_csv.html\n",
    "\n",
    "and https://pandas.pydata.org/pandas-docs/stable/generated/pandas.DataFrame.set_index.html\n",
    "\n",
    "and https://pandas.pydata.org/pandas-docs/stable/generated/pandas.DataFrame.head.html\n",
    "\n",
    "for reference.  These are part of the pandas documentation.  I've provided these here just so you can get started, but in the future, I'll provide some hints/direction as to how to go about something, but it will be up to you to look up how to actually use the functions in the pandas (or other) documentation.  In real life, you'll have to look things up yourself, and and I'm constantly looking up things that I've forgotten, don't know how to do, or don't want to figure out and would rather copy something somebody else already figured out and helpfully posted online."
   ]
  },
  {
   "cell_type": "code",
   "execution_count": 19,
   "metadata": {},
   "outputs": [
    {
     "data": {
      "text/html": [
       "<div>\n",
       "<style scoped>\n",
       "    .dataframe tbody tr th:only-of-type {\n",
       "        vertical-align: middle;\n",
       "    }\n",
       "\n",
       "    .dataframe tbody tr th {\n",
       "        vertical-align: top;\n",
       "    }\n",
       "\n",
       "    .dataframe thead th {\n",
       "        text-align: right;\n",
       "    }\n",
       "</style>\n",
       "<table border=\"1\" class=\"dataframe\">\n",
       "  <thead>\n",
       "    <tr style=\"text-align: right;\">\n",
       "      <th></th>\n",
       "      <th>start</th>\n",
       "      <th>end</th>\n",
       "      <th>strand</th>\n",
       "      <th>length</th>\n",
       "      <th>chr</th>\n",
       "      <th>gene_symbol</th>\n",
       "      <th>gene_type</th>\n",
       "      <th>source</th>\n",
       "    </tr>\n",
       "    <tr>\n",
       "      <th>gene</th>\n",
       "      <th></th>\n",
       "      <th></th>\n",
       "      <th></th>\n",
       "      <th></th>\n",
       "      <th></th>\n",
       "      <th></th>\n",
       "      <th></th>\n",
       "      <th></th>\n",
       "    </tr>\n",
       "  </thead>\n",
       "  <tbody>\n",
       "    <tr>\n",
       "      <th>ENSG00000000003.14</th>\n",
       "      <td>100630765</td>\n",
       "      <td>100637538</td>\n",
       "      <td>-1</td>\n",
       "      <td>6773</td>\n",
       "      <td>X</td>\n",
       "      <td>TSPAN6</td>\n",
       "      <td>protein_coding</td>\n",
       "      <td>cdna</td>\n",
       "    </tr>\n",
       "    <tr>\n",
       "      <th>ENSG00000000005.5</th>\n",
       "      <td>100589213</td>\n",
       "      <td>100598708</td>\n",
       "      <td>1</td>\n",
       "      <td>9495</td>\n",
       "      <td>X</td>\n",
       "      <td>TNMD</td>\n",
       "      <td>protein_coding</td>\n",
       "      <td>cdna</td>\n",
       "    </tr>\n",
       "    <tr>\n",
       "      <th>ENSG00000000419.12</th>\n",
       "      <td>50935098</td>\n",
       "      <td>50956428</td>\n",
       "      <td>-1</td>\n",
       "      <td>21329</td>\n",
       "      <td>20</td>\n",
       "      <td>DPM1</td>\n",
       "      <td>protein_coding</td>\n",
       "      <td>cdna</td>\n",
       "    </tr>\n",
       "    <tr>\n",
       "      <th>ENSG00000000457.13</th>\n",
       "      <td>169853881</td>\n",
       "      <td>169893003</td>\n",
       "      <td>-1</td>\n",
       "      <td>39121</td>\n",
       "      <td>1</td>\n",
       "      <td>SCYL3</td>\n",
       "      <td>protein_coding</td>\n",
       "      <td>cdna</td>\n",
       "    </tr>\n",
       "    <tr>\n",
       "      <th>ENSG00000000460.16</th>\n",
       "      <td>169780373</td>\n",
       "      <td>169834072</td>\n",
       "      <td>1</td>\n",
       "      <td>53699</td>\n",
       "      <td>1</td>\n",
       "      <td>C1orf112</td>\n",
       "      <td>protein_coding</td>\n",
       "      <td>cdna</td>\n",
       "    </tr>\n",
       "  </tbody>\n",
       "</table>\n",
       "</div>"
      ],
      "text/plain": [
       "                        start        end  strand  length chr gene_symbol  \\\n",
       "gene                                                                       \n",
       "ENSG00000000003.14  100630765  100637538      -1    6773   X      TSPAN6   \n",
       "ENSG00000000005.5   100589213  100598708       1    9495   X        TNMD   \n",
       "ENSG00000000419.12   50935098   50956428      -1   21329  20        DPM1   \n",
       "ENSG00000000457.13  169853881  169893003      -1   39121   1       SCYL3   \n",
       "ENSG00000000460.16  169780373  169834072       1   53699   1    C1orf112   \n",
       "\n",
       "                         gene_type source  \n",
       "gene                                       \n",
       "ENSG00000000003.14  protein_coding   cdna  \n",
       "ENSG00000000005.5   protein_coding   cdna  \n",
       "ENSG00000000419.12  protein_coding   cdna  \n",
       "ENSG00000000457.13  protein_coding   cdna  \n",
       "ENSG00000000460.16  protein_coding   cdna  "
      ]
     },
     "execution_count": 19,
     "metadata": {},
     "output_type": "execute_result"
    }
   ],
   "source": [
    "path = '/Users/kevin/changlab/github/Bioinformatics-Tutorials/wk2_dataframes/data/'\n",
    "fn = '/Homo_sapiens.GRCh38.gene_annotations.txt.gz'\n",
    "\n",
    "anno = pd.read_csv(path + fn, sep=',')\n",
    "anno = anno.set_index('gene')\n",
    "anno.head()"
   ]
  },
  {
   "cell_type": "markdown",
   "metadata": {},
   "source": [
    "**Print the information for the gene** *'ENSG00000181449.3'* **.  You should familiarize yourself with the .loc and .iloc commands.**"
   ]
  },
  {
   "cell_type": "code",
   "execution_count": 20,
   "metadata": {},
   "outputs": [
    {
     "data": {
      "text/plain": [
       "start               181711924\n",
       "end                 181714436\n",
       "strand                      1\n",
       "length                   2512\n",
       "chr                         3\n",
       "gene_symbol              SOX2\n",
       "gene_type      protein_coding\n",
       "source                   cdna\n",
       "Name: ENSG00000181449.3, dtype: object"
      ]
     },
     "execution_count": 20,
     "metadata": {},
     "output_type": "execute_result"
    }
   ],
   "source": [
    "anno.loc['ENSG00000181449.3']"
   ]
  },
  {
   "cell_type": "markdown",
   "metadata": {},
   "source": [
    "**Save the information in the** *'start'* **column of the anno dataframe in a new variable, called** *start_column* **. Print start_column.**"
   ]
  },
  {
   "cell_type": "code",
   "execution_count": 21,
   "metadata": {},
   "outputs": [
    {
     "name": "stdout",
     "output_type": "stream",
     "text": [
      "gene\n",
      "ENSG00000000003.14    100630765\n",
      "ENSG00000000005.5     100589213\n",
      "ENSG00000000419.12     50935098\n",
      "ENSG00000000457.13    169853881\n",
      "ENSG00000000460.16    169780373\n",
      "                        ...    \n",
      "ENSG00000284596.1     102471469\n",
      "ENSG00000284597.1       7931256\n",
      "ENSG00000284598.1       7420360\n",
      "ENSG00000284599.1      16979511\n",
      "ENSG00000284600.1       1795567\n",
      "Name: start, Length: 62803, dtype: int64\n"
     ]
    }
   ],
   "source": [
    "start_column = anno['start']\n",
    "print(start_column)"
   ]
  },
  {
   "cell_type": "markdown",
   "metadata": {},
   "source": [
    "#### One of the most important things about working with genomics data is double checking that the files you are working with have the data you expect them to have.\n",
    "\n",
    "For instance: what values are present in the 'chr' column of our annotation dataframe?  How many chromosome values are in this column?\n",
    "\n",
    "What chromosomes would you expect to be there?  Are there any other chromosomes present, and if so, what are they?\n",
    "\n",
    "As a hint, you're looking for unique values in that column of the dataframe (and then also the length of the result)."
   ]
  },
  {
   "cell_type": "code",
   "execution_count": 22,
   "metadata": {},
   "outputs": [
    {
     "name": "stdout",
     "output_type": "stream",
     "text": [
      "380\n",
      "['X' '20' '1' '6' '3' '7' '12' '11' '4' '17' '2' '16' '8' '19' '9' '13'\n",
      " '14' '5' '22' '10' 'Y' '18' '15' 'CHR_HSCHR6_MHC_MCF_CTG1'\n",
      " 'CHR_HSCHR6_MHC_QBL_CTG1' 'CHR_HSCHR6_MHC_DBB_CTG1'\n",
      " 'CHR_HSCHR6_MHC_SSTO_CTG1' 'CHR_HSCHR6_MHC_COX_CTG1' '21'\n",
      " 'CHR_HSCHR6_MHC_MANN_CTG1' 'CHR_HSCHR4_6_CTG12' 'MT' 'CHR_HSCHR1_5_CTG3'\n",
      " 'CHR_HSCHR6_MHC_APD_CTG1' 'CHR_HG1362_PATCH' 'CHR_HSCHR15_3_CTG8'\n",
      " 'CHR_HSCHR19_4_CTG3_1' 'CHR_HSCHR16_1_CTG1' 'CHR_HSCHR1_2_CTG3'\n",
      " 'CHR_HG2128_PATCH' 'CHR_HSCHR13_1_CTG3' 'CHR_HSCHR16_2_CTG3_1'\n",
      " 'CHR_HSCHR3_1_CTG2_1' 'CHR_HSCHR21_2_CTG1_1' 'CHR_HSCHR17_4_CTG4'\n",
      " 'CHR_HSCHR12_2_CTG2' 'CHR_HSCHR12_3_CTG2_1' 'CHR_HSCHR1_2_CTG31'\n",
      " 'CHR_HG142_HG150_NOVEL_TEST' 'CHR_HG151_NOVEL_TEST'\n",
      " 'CHR_HSCHR16_1_CTG3_1' 'CHR_HSCHR17_1_CTG4' 'CHR_HSCHR1_1_CTG31'\n",
      " 'CHR_HSCHR7_1_CTG6' 'CHR_HSCHR12_1_CTG1' 'CHR_HSCHR22_1_CTG1'\n",
      " 'CHR_HSCHR12_2_CTG2_1' 'CHR_HSCHR12_1_CTG2_1' 'CHR_HSCHR18_2_CTG2'\n",
      " 'CHR_HSCHR18_1_CTG2_1' 'CHR_HSCHR19_1_CTG3_1' 'CHR_HSCHR18_1_CTG1_1'\n",
      " 'CHR_HSCHR21_4_CTG1_1' 'CHR_HSCHR22_1_CTG2' 'CHR_HSCHR1_3_CTG31'\n",
      " 'CHR_HSCHR17_6_CTG4' 'CHR_HSCHR17_5_CTG4' 'CHR_HSCHR18_2_CTG2_1'\n",
      " 'CHR_HSCHR17_1_CTG1' 'CHR_HSCHR4_1_CTG12' 'CHR_HSCHR5_1_CTG5'\n",
      " 'CHR_HSCHR20_1_CTG1' 'CHR_HSCHR21_3_CTG1_1' 'CHR_HSCHR9_1_CTG1'\n",
      " 'CHR_HSCHR4_1_CTG6' 'CHR_HSCHR3_1_CTG1' 'CHR_HSCHR3_9_CTG3'\n",
      " 'CHR_HSCHR22_1_CTG7' 'KI270713.1' 'KI270711.1' 'CHR_HSCHR22_2_CTG1'\n",
      " 'CHR_HSCHR15_4_CTG8' 'CHR_HSCHR1_1_CTG3' 'CHR_HSCHR10_1_CTG2'\n",
      " 'GL000205.2' 'CHR_HSCHR19KIR_LUCE_BDEL_HAP_CTG3_1' 'CHR_HSCHR10_1_CTG1'\n",
      " 'CHR_HSCHR19KIR_FH13_A_HAP_CTG3_1' 'CHR_HSCHR12_3_CTG2'\n",
      " 'CHR_HSCHR19LRC_LRC_I_CTG3_1' 'CHR_HSCHR1_ALT2_1_CTG32_1'\n",
      " 'CHR_HSCHR19KIR_FH08_A_HAP_CTG3_1' 'CHR_HSCHR19LRC_COX1_CTG3_1'\n",
      " 'CHR_HSCHR19KIR_RP5_B_HAP_CTG3_1' 'CHR_HSCHR19KIR_RSH_A_HAP_CTG3_1'\n",
      " 'CHR_HSCHR19LRC_LRC_T_CTG3_1' 'CHR_HSCHR19KIR_ABC08_AB_HAP_T_P_CTG3_1'\n",
      " 'CHR_HSCHR11_1_CTG7' 'CHR_HSCHR19KIR_G085_A_HAP_CTG3_1' 'KI270721.1'\n",
      " 'CHR_HSCHR14_7_CTG1' 'CHR_HSCHR19LRC_PGF1_CTG3_1' 'CHR_HSCHR14_3_CTG1'\n",
      " 'KI270728.1' 'CHR_HSCHR11_1_CTG8' 'CHR_HSCHR19KIR_FH15_A_HAP_CTG3_1'\n",
      " 'CHR_HSCHR19KIR_T7526_BDEL_HAP_CTG3_1' 'CHR_HSCHR8_3_CTG7'\n",
      " 'CHR_HSCHR6_1_CTG2' 'CHR_HSCHR17_7_CTG4' 'CHR_HSCHR15_1_CTG1'\n",
      " 'CHR_HSCHR15_1_CTG8' 'CHR_HSCHR8_3_CTG1' 'CHR_HSCHR19LRC_LRC_J_CTG3_1'\n",
      " 'CHR_HSCHR8_8_CTG1' 'CHR_HSCHR5_2_CTG1_1'\n",
      " 'CHR_HSCHR19KIR_FH15_B_HAP_CTG3_1' 'CHR_HSCHR15_5_CTG8'\n",
      " 'CHR_HSCHR19KIR_ABC08_AB_HAP_C_P_CTG3_1' 'CHR_HSCHR19LRC_PGF2_CTG3_1'\n",
      " 'CHR_HSCHR17_2_CTG2' 'GL000220.1' 'CHR_HSCHR22_1_CTG3' 'KI270733.1'\n",
      " 'GL000219.1' 'CHR_HSCHR19KIR_FH06_BA1_HAP_CTG3_1'\n",
      " 'CHR_HSCHR19KIR_FH13_BA2_HAP_CTG3_1' 'CHR_HSCHR1_4_CTG31'\n",
      " 'CHR_HSCHR18_ALT21_CTG2_1' 'CHR_HSCHR5_1_CTG1_1' 'CHR_HSCHR22_3_CTG1'\n",
      " 'CHR_HSCHR11_1_CTG6' 'CHR_HSCHR3_3_CTG3' 'CHR_HSCHR1_2_CTG32_1'\n",
      " 'CHR_HSCHRX_2_CTG3' 'CHR_HSCHR19KIR_FH08_BAX_HAP_CTG3_1'\n",
      " 'CHR_HSCHR19KIR_G248_A_HAP_CTG3_1' 'CHR_HSCHR19LRC_COX2_CTG3_1'\n",
      " 'CHR_HSCHR19KIR_FH05_A_HAP_CTG3_1' 'CHR_HSCHR7_2_CTG6'\n",
      " 'CHR_HSCHR11_1_CTG5' 'CHR_HSCHR5_1_CTG1' 'CHR_HSCHR17_1_CTG2'\n",
      " 'CHR_HSCHR3_7_CTG3' 'CHR_HSCHR6_1_CTG8' 'CHR_HSCHR16_CTG2'\n",
      " 'CHR_HSCHR9_1_CTG2' 'CHR_HSCHR15_1_CTG3' 'CHR_HSCHR4_1_CTG9'\n",
      " 'CHR_HSCHR19KIR_T7526_A_HAP_CTG3_1' 'CHR_HSCHR19_1_CTG2'\n",
      " 'CHR_HSCHR19KIR_FH06_A_HAP_CTG3_1' 'CHR_HSCHR14_2_CTG1'\n",
      " 'CHR_HSCHR19KIR_RSH_BA2_HAP_CTG3_1' 'CHR_HSCHR19_3_CTG3_1'\n",
      " 'CHR_HSCHR19KIR_G085_BA1_HAP_CTG3_1' 'CHR_HSCHR8_5_CTG1'\n",
      " 'CHR_HSCHR17_10_CTG4' 'CHR_HSCHR17_2_CTG5' 'GL000216.2'\n",
      " 'CHR_HSCHR4_7_CTG12' 'CHR_HSCHR19KIR_GRC212_BA1_HAP_CTG3_1'\n",
      " 'CHR_HSCHR19KIR_GRC212_AB_HAP_CTG3_1' 'CHR_HSCHR17_1_CTG5'\n",
      " 'CHR_HSCHR16_3_CTG1' 'CHR_HSCHR14_1_CTG1' 'CHR_HSCHR2_3_CTG7_2'\n",
      " 'CHR_HSCHR5_3_CTG5' 'CHR_HSCHR15_3_CTG3' 'CHR_HSCHR10_1_CTG4'\n",
      " 'CHR_HSCHR19KIR_G248_BA2_HAP_CTG3_1' 'CHR_HSCHR19KIR_FH05_B_HAP_CTG3_1'\n",
      " 'CHR_HSCHR8_4_CTG7' 'CHR_HSCHR19LRC_LRC_S_CTG3_1' 'CHR_HSCHR19_5_CTG2'\n",
      " 'CHR_HSCHR19KIR_LUCE_A_HAP_CTG3_1' 'CHR_HSCHR22_1_CTG6'\n",
      " 'CHR_HSCHR22_1_CTG5' 'CHR_HSCHR21_5_CTG2' 'CHR_HSCHR5_2_CTG5'\n",
      " 'CHR_HSCHR19_2_CTG2' 'KI270727.1' 'CHR_HSCHR9_1_CTG3' 'CHR_HSCHR5_3_CTG1'\n",
      " 'GL000194.1' 'CHR_HSCHR19_3_CTG2' 'CHR_HSCHR5_2_CTG1' 'CHR_HSCHR2_1_CTG1'\n",
      " 'CHR_HSCHR7_3_CTG6' 'CHR_HSCHR11_2_CTG1' 'CHR_HSCHR20_1_CTG3'\n",
      " 'CHR_HSCHR17_1_CTG9' 'CHR_HSCHR12_6_CTG2_1' 'CHR_HSCHR12_5_CTG2_1'\n",
      " 'KI270726.1' 'CHR_HSCHR19KIR_ABC08_A1_HAP_CTG3_1' 'CHR_HSCHR3_6_CTG3'\n",
      " 'CHR_HSCHR8_5_CTG7' 'CHR_HSCHR17_8_CTG4' 'CHR_HSCHR1_3_CTG32_1'\n",
      " 'CHR_HSCHR2_1_CTG7_2' 'CHR_HSCHR6_1_CTG5' 'CHR_HSCHR6_1_CTG4'\n",
      " 'CHR_HSCHR12_4_CTG2' 'CHR_HSCHR3_8_CTG3' 'CHR_HSCHR12_5_CTG2'\n",
      " 'CHR_HSCHR3_2_CTG3' 'CHR_HSCHR8_9_CTG1' 'CHR_HSCHR7_1_CTG4_4'\n",
      " 'CHR_HSCHR2_2_CTG7' 'CHR_HSCHR6_8_CTG1' 'CHR_HSCHR13_1_CTG1'\n",
      " 'CHR_HSCHR17_2_CTG1' 'CHR_HSCHR17_3_CTG2' 'KI270734.1'\n",
      " 'CHR_HSCHR4_3_CTG12' 'CHR_HSCHR2_3_CTG15' 'CHR_HSCHR5_4_CTG1_1'\n",
      " 'CHR_HSCHR7_2_CTG4_4' 'CHR_HSCHR11_3_CTG1' 'CHR_HSCHR12_4_CTG2_1'\n",
      " 'GL000195.1' 'CHR_HSCHR16_4_CTG1' 'CHR_HSCHR9_1_CTG4' 'CHR_HSCHRX_1_CTG3'\n",
      " 'CHR_HSCHR5_4_CTG1' 'CHR_HSCHR9_1_CTG5' 'CHR_HSCHR3_1_CTG3' 'GL000225.1'\n",
      " 'CHR_HSCHR2_2_CTG7_2' 'CHR_HSCHR18_ALT2_CTG2_1' 'CHR_HSCHR15_2_CTG3'\n",
      " 'CHR_HSCHR5_6_CTG1' 'CHR_HSCHR3_2_CTG2_1' 'CHR_HSCHR2_1_CTG5'\n",
      " 'CHR_HSCHR6_1_CTG7' 'KI270750.1' 'CHR_HSCHR11_2_CTG1_1'\n",
      " 'CHR_HSCHR22_1_CTG4' 'CHR_HSCHR2_4_CTG1' 'GL000213.1' 'CHR_HSCHR3_5_CTG3'\n",
      " 'CHR_HSCHRX_2_CTG12' 'CHR_HSCHR15_2_CTG8' 'CHR_HSCHR8_2_CTG7'\n",
      " 'KI270731.1' 'CHR_HSCHR8_1_CTG6' 'CHR_HSCHR3_4_CTG3' 'CHR_HSCHR8_7_CTG1'\n",
      " 'KI270442.1' 'GL000218.1' 'KI270744.1' 'GL000009.2' 'CHR_HSCHR19_4_CTG2'\n",
      " 'CHR_HG1342_HG2282_PATCH' 'CHR_HG2046_PATCH' 'CHR_HSCHR1_4_CTG3'\n",
      " 'CHR_HSCHR22_4_CTG1' 'CHR_HG2288_HG2289_PATCH' 'CHR_HG2030_PATCH'\n",
      " 'CHR_HG2217_PATCH' 'CHR_HG126_PATCH' 'CHR_HG2066_PATCH'\n",
      " 'CHR_HSCHR20_1_CTG2' 'CHR_HSCHR2_2_CTG1' 'CHR_HSCHR21_6_CTG1_1'\n",
      " 'CHR_HG2021_PATCH' 'CHR_HG2095_PATCH' 'CHR_HSCHR3_3_CTG1'\n",
      " 'CHR_HSCHR6_1_CTG9' 'CHR_HSCHR2_1_CTG15' 'CHR_HSCHR3_4_CTG2_1'\n",
      " 'CHR_HSCHR11_1_CTG1_2' 'CHR_HSCHR4_2_CTG12' 'CHR_HG2247_PATCH'\n",
      " 'CHR_HG2232_PATCH' 'CHR_HSCHR5_5_CTG1' 'CHR_HG1832_PATCH'\n",
      " 'CHR_HSCHR21_8_CTG1_1' 'CHR_HSCHR6_1_CTG6' 'CHR_HG2104_PATCH'\n",
      " 'CHR_HG2233_PATCH' 'CHR_HG2058_PATCH' 'CHR_HSCHR4_1_CTG4'\n",
      " 'CHR_HSCHR1_1_CTG11' 'CHR_HG2291_PATCH' 'CHR_HSCHR22_5_CTG1'\n",
      " 'CHR_HSCHR2_1_CTG7' 'CHR_HSCHR2_2_CTG15' 'CHR_HSCHR22_8_CTG1'\n",
      " 'CHR_HG2191_PATCH' 'CHR_HSCHR4_4_CTG12' 'CHR_HSCHR20_1_CTG4'\n",
      " 'CHR_HSCHR5_7_CTG1' 'CHR_HG2062_PATCH' 'CHR_HSCHR1_1_CTG32_1'\n",
      " 'CHR_HSCHR3_5_CTG2_1' 'CHR_HSCHR7_1_CTG1' 'CHR_HSCHR2_6_CTG7_2'\n",
      " 'CHR_HSCHR4_5_CTG12' 'CHR_HSCHR2_3_CTG1' 'CHR_HG986_PATCH'\n",
      " 'CHR_HG2249_PATCH' 'CHR_HSCHR15_6_CTG8' 'CHR_HG2290_PATCH'\n",
      " 'CHR_HSCHR18_3_CTG2_1' 'CHR_HSCHR7_2_CTG1' 'CHR_HSCHR8_1_CTG1'\n",
      " 'CHR_HSCHR13_1_CTG5' 'CHR_HSCHR19_2_CTG3_1' 'CHR_HSCHR8_6_CTG1'\n",
      " 'CHR_HSCHR8_4_CTG1' 'CHR_HSCHR8_1_CTG7' 'CHR_HSCHR17_2_CTG4'\n",
      " 'CHR_HSCHR10_1_CTG3' 'CHR_HSCHR7_1_CTG7' 'CHR_HG2235_PATCH'\n",
      " 'CHR_HSCHR8_2_CTG1' 'CHR_HSCHR17_9_CTG4' 'CHR_HSCHR17_3_CTG4'\n",
      " 'CHR_HSCHR18_2_CTG1_1' 'CHR_HG1651_PATCH' 'CHR_HSCHR7_2_CTG7'\n",
      " 'CHR_HSCHR1_5_CTG32_1' 'CHR_HG2213_PATCH' 'CHR_HSCHR16_4_CTG3_1'\n",
      " 'CHR_HG26_PATCH' 'CHR_HSCHR6_1_CTG10' 'CHR_HSCHR22_6_CTG1'\n",
      " 'CHR_HSCHR16_5_CTG1' 'CHR_HSCHR18_5_CTG1_1' 'CHR_HSCHR13_1_CTG8'\n",
      " 'CHR_HG2334_PATCH' 'CHR_HG2072_PATCH' 'CHR_HSCHR4_9_CTG12'\n",
      " 'CHR_HSCHR22_7_CTG1' 'CHR_HSCHR4_2_CTG4' 'CHR_HG2116_PATCH'\n",
      " 'CHR_HSCHR9_1_CTG6' 'CHR_HSCHR4_8_CTG12' 'CHR_HG2239_PATCH'\n",
      " 'CHR_HSCHR12_2_CTG1' 'CHR_HSCHR10_1_CTG6' 'CHR_HSCHR1_3_CTG3'\n",
      " 'CHR_HG2023_PATCH' 'CHR_HG107_PATCH' 'CHR_HSCHR4_11_CTG12'\n",
      " 'CHR_HG1311_PATCH' 'CHR_HG2022_PATCH' 'CHR_HG2063_PATCH'\n",
      " 'CHR_HG926_PATCH' 'CHR_HSCHR19KIR_0010-5217-AB_CTG3_1'\n",
      " 'CHR_HSCHR1_6_CTG3' 'CHR_HSCHR19KIR_502960008-1_CTG3_1'\n",
      " 'CHR_HSCHR19KIR_CA01-TB01_CTG3_1' 'CHR_HSCHR19KIR_0019-4656-A_CTG3_1'\n",
      " 'CHR_HSCHR19KIR_0019-4656-B_CTG3_1' 'CHR_HG30_PATCH' 'CHR_HSCHR5_8_CTG1'\n",
      " 'CHR_HSCHR19KIR_7191059-1_CTG3_1' 'CHR_HSCHR19KIR_CA01-TA01_1_CTG3_1'\n",
      " 'CHR_HSCHR19KIR_502960008-2_CTG3_1' 'CHR_HSCHR19KIR_CA04_CTG3_1'\n",
      " 'CHR_HSCHR17_3_CTG1' 'CHR_HSCHR19KIR_HG2393_CTG3_1'\n",
      " 'CHR_HSCHR19KIR_HG2394_CTG3_1' 'CHR_HSCHR19KIR_CA01-TB04_CTG3_1'\n",
      " 'CHR_HSCHR19KIR_7191059-2_CTG3_1' 'CHR_HG2266_PATCH'\n",
      " 'CHR_HSCHR19KIR_CA01-TA01_2_CTG3_1' 'CHR_HSCHR17_11_CTG4'\n",
      " 'CHR_HSCHR19KIR_HG2396_CTG3_1' 'CHR_HSCHR4_12_CTG12' 'CHR_HSCHR9_1_CTG7'\n",
      " 'CHR_HG2285_HG106_HG2252_PATCH' 'CHR_HG2236_PATCH' 'CHR_HG2067_PATCH'\n",
      " 'CHR_HG2088_PATCH' 'CHR_HG1708_PATCH' 'CHR_HG23_PATCH']\n"
     ]
    }
   ],
   "source": [
    "print(len(anno['chr'].unique()))\n",
    "print(anno['chr'].unique())"
   ]
  },
  {
   "cell_type": "markdown",
   "metadata": {},
   "source": [
    "#### Note that some of the values in the chromosome column are numbers (e.g., 1, 2, etc.) and others are strings (e.g., 'X', 'Y').  When Python imported the dataframe (pd.read_csv()), did it import the numerical chromosomes as integers or strings?"
   ]
  },
  {
   "cell_type": "code",
   "execution_count": 23,
   "metadata": {},
   "outputs": [
    {
     "data": {
      "text/plain": [
       "array([\"<class 'str'>\"], dtype='<U13')"
      ]
     },
     "execution_count": 23,
     "metadata": {},
     "output_type": "execute_result"
    }
   ],
   "source": [
    "np.unique([str(type(i)) for i in anno['chr']])"
   ]
  },
  {
   "cell_type": "markdown",
   "metadata": {},
   "source": [
    "#### Let's say that we want to subset this annotation to get a list of only those genes that are on the 'normal' chromosomes: autosomes, sex chromosomes, in the mitochondrial genome.\n",
    "\n",
    "Make a list that looks like this:\n",
    "\n",
    "[1, 2, 3, 4, 5, 6, 7, 8, 9, 10, 11, 12, 13, 14, 15, 16, 17, 18, 19, 20, 21, 22, 'X', 'Y', 'MT']\n",
    "\n",
    "Do it <u>without</u> explicitly writing out the numbers 1 to 22.  Feel free to use either lists (built-in to Python) or numpy arrays (np.array()).  Be sure to save the numerical chromosomes as the correct data type (integer or string) to match the data type of the values in anno['chr']."
   ]
  },
  {
   "cell_type": "code",
   "execution_count": 24,
   "metadata": {},
   "outputs": [
    {
     "name": "stdout",
     "output_type": "stream",
     "text": [
      "['1', '2', '3', '4', '5', '6', '7', '8', '9', '10', '11', '12', '13', '14', '15', '16', '17', '18', '19', '20', '21', '22', 'X', 'Y', 'MT']\n"
     ]
    }
   ],
   "source": [
    "my_chrs = [str(i) for i in range(1,23)] + ['X', 'Y','MT']\n",
    "print(my_chrs)"
   ]
  },
  {
   "cell_type": "markdown",
   "metadata": {},
   "source": [
    "#### Subset the anno dataframe to include only those genes whose chromosome annotations are in this list of chromosomes.  Save this as a new dataframe called anno_filt.\n",
    "\n",
    "How big is this new annotation/how many things did we filter out? Print the first five columns of the dataframe with .head().\n",
    "\n",
    "You should use the .isin() function, and can also use .shape to get the size of a dataframe.\n",
    "\n",
    "(You should end up with 57106 rows remaining in anno_filt)"
   ]
  },
  {
   "cell_type": "code",
   "execution_count": 25,
   "metadata": {},
   "outputs": [
    {
     "name": "stdout",
     "output_type": "stream",
     "text": [
      "(62803, 8)\n",
      "(57106, 8)\n"
     ]
    },
    {
     "data": {
      "text/html": [
       "<div>\n",
       "<style scoped>\n",
       "    .dataframe tbody tr th:only-of-type {\n",
       "        vertical-align: middle;\n",
       "    }\n",
       "\n",
       "    .dataframe tbody tr th {\n",
       "        vertical-align: top;\n",
       "    }\n",
       "\n",
       "    .dataframe thead th {\n",
       "        text-align: right;\n",
       "    }\n",
       "</style>\n",
       "<table border=\"1\" class=\"dataframe\">\n",
       "  <thead>\n",
       "    <tr style=\"text-align: right;\">\n",
       "      <th></th>\n",
       "      <th>start</th>\n",
       "      <th>end</th>\n",
       "      <th>strand</th>\n",
       "      <th>length</th>\n",
       "      <th>chr</th>\n",
       "      <th>gene_symbol</th>\n",
       "      <th>gene_type</th>\n",
       "      <th>source</th>\n",
       "    </tr>\n",
       "    <tr>\n",
       "      <th>gene</th>\n",
       "      <th></th>\n",
       "      <th></th>\n",
       "      <th></th>\n",
       "      <th></th>\n",
       "      <th></th>\n",
       "      <th></th>\n",
       "      <th></th>\n",
       "      <th></th>\n",
       "    </tr>\n",
       "  </thead>\n",
       "  <tbody>\n",
       "    <tr>\n",
       "      <th>ENSG00000000003.14</th>\n",
       "      <td>100630765</td>\n",
       "      <td>100637538</td>\n",
       "      <td>-1</td>\n",
       "      <td>6773</td>\n",
       "      <td>X</td>\n",
       "      <td>TSPAN6</td>\n",
       "      <td>protein_coding</td>\n",
       "      <td>cdna</td>\n",
       "    </tr>\n",
       "    <tr>\n",
       "      <th>ENSG00000000005.5</th>\n",
       "      <td>100589213</td>\n",
       "      <td>100598708</td>\n",
       "      <td>1</td>\n",
       "      <td>9495</td>\n",
       "      <td>X</td>\n",
       "      <td>TNMD</td>\n",
       "      <td>protein_coding</td>\n",
       "      <td>cdna</td>\n",
       "    </tr>\n",
       "    <tr>\n",
       "      <th>ENSG00000000419.12</th>\n",
       "      <td>50935098</td>\n",
       "      <td>50956428</td>\n",
       "      <td>-1</td>\n",
       "      <td>21329</td>\n",
       "      <td>20</td>\n",
       "      <td>DPM1</td>\n",
       "      <td>protein_coding</td>\n",
       "      <td>cdna</td>\n",
       "    </tr>\n",
       "    <tr>\n",
       "      <th>ENSG00000000457.13</th>\n",
       "      <td>169853881</td>\n",
       "      <td>169893003</td>\n",
       "      <td>-1</td>\n",
       "      <td>39121</td>\n",
       "      <td>1</td>\n",
       "      <td>SCYL3</td>\n",
       "      <td>protein_coding</td>\n",
       "      <td>cdna</td>\n",
       "    </tr>\n",
       "    <tr>\n",
       "      <th>ENSG00000000460.16</th>\n",
       "      <td>169780373</td>\n",
       "      <td>169834072</td>\n",
       "      <td>1</td>\n",
       "      <td>53699</td>\n",
       "      <td>1</td>\n",
       "      <td>C1orf112</td>\n",
       "      <td>protein_coding</td>\n",
       "      <td>cdna</td>\n",
       "    </tr>\n",
       "  </tbody>\n",
       "</table>\n",
       "</div>"
      ],
      "text/plain": [
       "                        start        end  strand  length chr gene_symbol  \\\n",
       "gene                                                                       \n",
       "ENSG00000000003.14  100630765  100637538      -1    6773   X      TSPAN6   \n",
       "ENSG00000000005.5   100589213  100598708       1    9495   X        TNMD   \n",
       "ENSG00000000419.12   50935098   50956428      -1   21329  20        DPM1   \n",
       "ENSG00000000457.13  169853881  169893003      -1   39121   1       SCYL3   \n",
       "ENSG00000000460.16  169780373  169834072       1   53699   1    C1orf112   \n",
       "\n",
       "                         gene_type source  \n",
       "gene                                       \n",
       "ENSG00000000003.14  protein_coding   cdna  \n",
       "ENSG00000000005.5   protein_coding   cdna  \n",
       "ENSG00000000419.12  protein_coding   cdna  \n",
       "ENSG00000000457.13  protein_coding   cdna  \n",
       "ENSG00000000460.16  protein_coding   cdna  "
      ]
     },
     "execution_count": 25,
     "metadata": {},
     "output_type": "execute_result"
    }
   ],
   "source": [
    "# print(anno.shape) to get the size of the current dataframe\n",
    "\n",
    "anno_filt = anno[anno['chr'].isin(my_chrs)]\n",
    "print(anno.shape)\n",
    "print(anno_filt.shape)\n",
    "anno_filt.head()"
   ]
  },
  {
   "cell_type": "markdown",
   "metadata": {},
   "source": [
    "#### How many genes are on each chromosome?  There's a few ways you could do this, but one is to use a Counter.\n",
    "\n",
    "1. from the package 'collections' import Counter. https://docs.python.org/3.6/library/collections.html#collections.Counter\n",
    "2. create a new variable called chr_count that is a Counter, and pass in the chr column of your dataframe to your counter to get the counts of how many times each chromosome is found\n",
    "3. print the results"
   ]
  },
  {
   "cell_type": "code",
   "execution_count": 26,
   "metadata": {},
   "outputs": [
    {
     "name": "stdout",
     "output_type": "stream",
     "text": [
      "1 5191\n",
      "2 3919\n",
      "3 2992\n",
      "4 2466\n",
      "5 2796\n",
      "6 2823\n",
      "7 2846\n",
      "8 2335\n",
      "9 2226\n",
      "10 2177\n",
      "11 3172\n",
      "12 2852\n",
      "13 1283\n",
      "14 2194\n",
      "15 2105\n",
      "16 2373\n",
      "17 2918\n",
      "18 1123\n",
      "19 2877\n",
      "20 1381\n",
      "21 821\n",
      "22 1329\n",
      "X 2351\n",
      "Y 519\n",
      "MT 37\n"
     ]
    }
   ],
   "source": [
    "from collections import Counter\n",
    "\n",
    "chr_count = Counter(anno_filt['chr'])\n",
    "\n",
    "for i in my_chrs:\n",
    "    print(i, chr_count[i])"
   ]
  },
  {
   "cell_type": "markdown",
   "metadata": {},
   "source": [
    "## Part 3: ENCODE data\n",
    "\n",
    "**Import the file 'all_ENCODE_metadata.tsv.gz' into a dataframe called encode.  Set the index column to be the file accession number, and print the first rows with .head()**"
   ]
  },
  {
   "cell_type": "code",
   "execution_count": 27,
   "metadata": {},
   "outputs": [
    {
     "name": "stderr",
     "output_type": "stream",
     "text": [
      "/anaconda3/lib/python3.6/site-packages/IPython/core/interactiveshell.py:3063: DtypeWarning: Columns (13,14,15,23,26,34) have mixed types.Specify dtype option on import or set low_memory=False.\n",
      "  interactivity=interactivity, compiler=compiler, result=result)\n"
     ]
    },
    {
     "data": {
      "text/html": [
       "<div>\n",
       "<style scoped>\n",
       "    .dataframe tbody tr th:only-of-type {\n",
       "        vertical-align: middle;\n",
       "    }\n",
       "\n",
       "    .dataframe tbody tr th {\n",
       "        vertical-align: top;\n",
       "    }\n",
       "\n",
       "    .dataframe thead th {\n",
       "        text-align: right;\n",
       "    }\n",
       "</style>\n",
       "<table border=\"1\" class=\"dataframe\">\n",
       "  <thead>\n",
       "    <tr style=\"text-align: right;\">\n",
       "      <th></th>\n",
       "      <th>File format</th>\n",
       "      <th>Output type</th>\n",
       "      <th>Experiment accession</th>\n",
       "      <th>Assay</th>\n",
       "      <th>Biosample term id</th>\n",
       "      <th>Biosample term name</th>\n",
       "      <th>Biosample type</th>\n",
       "      <th>Biosample life stage</th>\n",
       "      <th>Biosample sex</th>\n",
       "      <th>Biosample Age</th>\n",
       "      <th>...</th>\n",
       "      <th>dbxrefs</th>\n",
       "      <th>File download URL</th>\n",
       "      <th>Assembly</th>\n",
       "      <th>Platform</th>\n",
       "      <th>Controlled by</th>\n",
       "      <th>File Status</th>\n",
       "      <th>Audit WARNING</th>\n",
       "      <th>Audit INTERNAL_ACTION</th>\n",
       "      <th>Audit NOT_COMPLIANT</th>\n",
       "      <th>Audit ERROR</th>\n",
       "    </tr>\n",
       "    <tr>\n",
       "      <th>File accession</th>\n",
       "      <th></th>\n",
       "      <th></th>\n",
       "      <th></th>\n",
       "      <th></th>\n",
       "      <th></th>\n",
       "      <th></th>\n",
       "      <th></th>\n",
       "      <th></th>\n",
       "      <th></th>\n",
       "      <th></th>\n",
       "      <th></th>\n",
       "      <th></th>\n",
       "      <th></th>\n",
       "      <th></th>\n",
       "      <th></th>\n",
       "      <th></th>\n",
       "      <th></th>\n",
       "      <th></th>\n",
       "      <th></th>\n",
       "      <th></th>\n",
       "      <th></th>\n",
       "    </tr>\n",
       "  </thead>\n",
       "  <tbody>\n",
       "    <tr>\n",
       "      <th>ENCFF467JYT</th>\n",
       "      <td>fastq</td>\n",
       "      <td>reads</td>\n",
       "      <td>ENCSR146BGM</td>\n",
       "      <td>ChIP-seq</td>\n",
       "      <td>UBERON:0004550</td>\n",
       "      <td>gastroesophageal sphincter</td>\n",
       "      <td>tissue</td>\n",
       "      <td>adult</td>\n",
       "      <td>female</td>\n",
       "      <td>51 year</td>\n",
       "      <td>...</td>\n",
       "      <td>NaN</td>\n",
       "      <td>https://www.encodeproject.org/files/ENCFF467JY...</td>\n",
       "      <td>NaN</td>\n",
       "      <td>HiSeq 2000</td>\n",
       "      <td>/files/ENCFF231JUU/</td>\n",
       "      <td>released</td>\n",
       "      <td>antibody characterized with exemption, mild to...</td>\n",
       "      <td>mismatched file status, experiment not submitt...</td>\n",
       "      <td>severe bottlenecking, poor library complexity</td>\n",
       "      <td>NaN</td>\n",
       "    </tr>\n",
       "    <tr>\n",
       "      <th>ENCFF351KDO</th>\n",
       "      <td>fastq</td>\n",
       "      <td>reads</td>\n",
       "      <td>ENCSR146BGM</td>\n",
       "      <td>ChIP-seq</td>\n",
       "      <td>UBERON:0004550</td>\n",
       "      <td>gastroesophageal sphincter</td>\n",
       "      <td>tissue</td>\n",
       "      <td>adult</td>\n",
       "      <td>female</td>\n",
       "      <td>51 year</td>\n",
       "      <td>...</td>\n",
       "      <td>NaN</td>\n",
       "      <td>https://www.encodeproject.org/files/ENCFF351KD...</td>\n",
       "      <td>NaN</td>\n",
       "      <td>HiSeq 2000</td>\n",
       "      <td>/files/ENCFF432BFB/</td>\n",
       "      <td>released</td>\n",
       "      <td>antibody characterized with exemption, mild to...</td>\n",
       "      <td>mismatched file status, experiment not submitt...</td>\n",
       "      <td>severe bottlenecking, poor library complexity</td>\n",
       "      <td>NaN</td>\n",
       "    </tr>\n",
       "    <tr>\n",
       "      <th>ENCFF961OUB</th>\n",
       "      <td>bam</td>\n",
       "      <td>alignments</td>\n",
       "      <td>ENCSR146BGM</td>\n",
       "      <td>ChIP-seq</td>\n",
       "      <td>UBERON:0004550</td>\n",
       "      <td>gastroesophageal sphincter</td>\n",
       "      <td>tissue</td>\n",
       "      <td>adult</td>\n",
       "      <td>female</td>\n",
       "      <td>51 year</td>\n",
       "      <td>...</td>\n",
       "      <td>NaN</td>\n",
       "      <td>https://www.encodeproject.org/files/ENCFF961OU...</td>\n",
       "      <td>hg19</td>\n",
       "      <td>NaN</td>\n",
       "      <td>NaN</td>\n",
       "      <td>archived</td>\n",
       "      <td>antibody characterized with exemption, mild to...</td>\n",
       "      <td>mismatched file status, experiment not submitt...</td>\n",
       "      <td>severe bottlenecking, poor library complexity</td>\n",
       "      <td>NaN</td>\n",
       "    </tr>\n",
       "    <tr>\n",
       "      <th>ENCFF014FJF</th>\n",
       "      <td>fastq</td>\n",
       "      <td>reads</td>\n",
       "      <td>ENCSR146BGM</td>\n",
       "      <td>ChIP-seq</td>\n",
       "      <td>UBERON:0004550</td>\n",
       "      <td>gastroesophageal sphincter</td>\n",
       "      <td>tissue</td>\n",
       "      <td>adult</td>\n",
       "      <td>female</td>\n",
       "      <td>51 year</td>\n",
       "      <td>...</td>\n",
       "      <td>NaN</td>\n",
       "      <td>https://www.encodeproject.org/files/ENCFF014FJ...</td>\n",
       "      <td>NaN</td>\n",
       "      <td>HiSeq 2000</td>\n",
       "      <td>/files/ENCFF432BFB/</td>\n",
       "      <td>released</td>\n",
       "      <td>antibody characterized with exemption, mild to...</td>\n",
       "      <td>mismatched file status, experiment not submitt...</td>\n",
       "      <td>severe bottlenecking, poor library complexity</td>\n",
       "      <td>NaN</td>\n",
       "    </tr>\n",
       "    <tr>\n",
       "      <th>ENCFF655EPI</th>\n",
       "      <td>fastq</td>\n",
       "      <td>reads</td>\n",
       "      <td>ENCSR146BGM</td>\n",
       "      <td>ChIP-seq</td>\n",
       "      <td>UBERON:0004550</td>\n",
       "      <td>gastroesophageal sphincter</td>\n",
       "      <td>tissue</td>\n",
       "      <td>adult</td>\n",
       "      <td>female</td>\n",
       "      <td>51 year</td>\n",
       "      <td>...</td>\n",
       "      <td>NaN</td>\n",
       "      <td>https://www.encodeproject.org/files/ENCFF655EP...</td>\n",
       "      <td>NaN</td>\n",
       "      <td>HiSeq 2000</td>\n",
       "      <td>/files/ENCFF231JUU/</td>\n",
       "      <td>released</td>\n",
       "      <td>antibody characterized with exemption, mild to...</td>\n",
       "      <td>mismatched file status, experiment not submitt...</td>\n",
       "      <td>severe bottlenecking, poor library complexity</td>\n",
       "      <td>NaN</td>\n",
       "    </tr>\n",
       "  </tbody>\n",
       "</table>\n",
       "<p>5 rows × 49 columns</p>\n",
       "</div>"
      ],
      "text/plain": [
       "               File format Output type Experiment accession     Assay  \\\n",
       "File accession                                                          \n",
       "ENCFF467JYT          fastq       reads          ENCSR146BGM  ChIP-seq   \n",
       "ENCFF351KDO          fastq       reads          ENCSR146BGM  ChIP-seq   \n",
       "ENCFF961OUB            bam  alignments          ENCSR146BGM  ChIP-seq   \n",
       "ENCFF014FJF          fastq       reads          ENCSR146BGM  ChIP-seq   \n",
       "ENCFF655EPI          fastq       reads          ENCSR146BGM  ChIP-seq   \n",
       "\n",
       "               Biosample term id         Biosample term name Biosample type  \\\n",
       "File accession                                                                \n",
       "ENCFF467JYT       UBERON:0004550  gastroesophageal sphincter         tissue   \n",
       "ENCFF351KDO       UBERON:0004550  gastroesophageal sphincter         tissue   \n",
       "ENCFF961OUB       UBERON:0004550  gastroesophageal sphincter         tissue   \n",
       "ENCFF014FJF       UBERON:0004550  gastroesophageal sphincter         tissue   \n",
       "ENCFF655EPI       UBERON:0004550  gastroesophageal sphincter         tissue   \n",
       "\n",
       "               Biosample life stage Biosample sex Biosample Age  ... dbxrefs  \\\n",
       "File accession                                                   ...           \n",
       "ENCFF467JYT                   adult        female       51 year  ...     NaN   \n",
       "ENCFF351KDO                   adult        female       51 year  ...     NaN   \n",
       "ENCFF961OUB                   adult        female       51 year  ...     NaN   \n",
       "ENCFF014FJF                   adult        female       51 year  ...     NaN   \n",
       "ENCFF655EPI                   adult        female       51 year  ...     NaN   \n",
       "\n",
       "                                                File download URL Assembly  \\\n",
       "File accession                                                               \n",
       "ENCFF467JYT     https://www.encodeproject.org/files/ENCFF467JY...      NaN   \n",
       "ENCFF351KDO     https://www.encodeproject.org/files/ENCFF351KD...      NaN   \n",
       "ENCFF961OUB     https://www.encodeproject.org/files/ENCFF961OU...     hg19   \n",
       "ENCFF014FJF     https://www.encodeproject.org/files/ENCFF014FJ...      NaN   \n",
       "ENCFF655EPI     https://www.encodeproject.org/files/ENCFF655EP...      NaN   \n",
       "\n",
       "                  Platform        Controlled by File Status  \\\n",
       "File accession                                                \n",
       "ENCFF467JYT     HiSeq 2000  /files/ENCFF231JUU/    released   \n",
       "ENCFF351KDO     HiSeq 2000  /files/ENCFF432BFB/    released   \n",
       "ENCFF961OUB            NaN                  NaN    archived   \n",
       "ENCFF014FJF     HiSeq 2000  /files/ENCFF432BFB/    released   \n",
       "ENCFF655EPI     HiSeq 2000  /files/ENCFF231JUU/    released   \n",
       "\n",
       "                                                    Audit WARNING  \\\n",
       "File accession                                                      \n",
       "ENCFF467JYT     antibody characterized with exemption, mild to...   \n",
       "ENCFF351KDO     antibody characterized with exemption, mild to...   \n",
       "ENCFF961OUB     antibody characterized with exemption, mild to...   \n",
       "ENCFF014FJF     antibody characterized with exemption, mild to...   \n",
       "ENCFF655EPI     antibody characterized with exemption, mild to...   \n",
       "\n",
       "                                            Audit INTERNAL_ACTION  \\\n",
       "File accession                                                      \n",
       "ENCFF467JYT     mismatched file status, experiment not submitt...   \n",
       "ENCFF351KDO     mismatched file status, experiment not submitt...   \n",
       "ENCFF961OUB     mismatched file status, experiment not submitt...   \n",
       "ENCFF014FJF     mismatched file status, experiment not submitt...   \n",
       "ENCFF655EPI     mismatched file status, experiment not submitt...   \n",
       "\n",
       "                                          Audit NOT_COMPLIANT Audit ERROR  \n",
       "File accession                                                             \n",
       "ENCFF467JYT     severe bottlenecking, poor library complexity         NaN  \n",
       "ENCFF351KDO     severe bottlenecking, poor library complexity         NaN  \n",
       "ENCFF961OUB     severe bottlenecking, poor library complexity         NaN  \n",
       "ENCFF014FJF     severe bottlenecking, poor library complexity         NaN  \n",
       "ENCFF655EPI     severe bottlenecking, poor library complexity         NaN  \n",
       "\n",
       "[5 rows x 49 columns]"
      ]
     },
     "execution_count": 27,
     "metadata": {},
     "output_type": "execute_result"
    }
   ],
   "source": [
    "fn = 'all_ENCODE_metadata.tsv.gz'\n",
    "encode = pd.read_csv(path + fn, sep='\\t')\n",
    "encode = encode.set_index('File accession')\n",
    "\n",
    "encode.head()"
   ]
  },
  {
   "cell_type": "markdown",
   "metadata": {},
   "source": [
    "#### How big is this dataframe?  What type of information is present in the rows? Columns?"
   ]
  },
  {
   "cell_type": "code",
   "execution_count": 28,
   "metadata": {},
   "outputs": [
    {
     "name": "stdout",
     "output_type": "stream",
     "text": [
      "(301366, 49)\n",
      "Index(['File format', 'Output type', 'Experiment accession', 'Assay',\n",
      "       'Biosample term id', 'Biosample term name', 'Biosample type',\n",
      "       'Biosample life stage', 'Biosample sex', 'Biosample Age',\n",
      "       'Biosample organism', 'Biosample treatments',\n",
      "       'Biosample subcellular fraction term name', 'Biosample phase',\n",
      "       'Biosample synchronization stage', 'Experiment target',\n",
      "       'Antibody accession', 'Library made from', 'Library depleted in',\n",
      "       'Library extraction method', 'Library lysis method',\n",
      "       'Library crosslinking method', 'Library strand specific',\n",
      "       'Experiment date released', 'Project', 'RBNS protein concentration',\n",
      "       'Library fragmentation method', 'Library size range',\n",
      "       'Biological replicate(s)', 'Technical replicate', 'Read length',\n",
      "       'Mapped read length', 'Run type', 'Paired end', 'Paired with',\n",
      "       'Derived from', 'Size', 'Lab', 'md5sum', 'dbxrefs', 'File download URL',\n",
      "       'Assembly', 'Platform', 'Controlled by', 'File Status', 'Audit WARNING',\n",
      "       'Audit INTERNAL_ACTION', 'Audit NOT_COMPLIANT', 'Audit ERROR'],\n",
      "      dtype='object')\n"
     ]
    }
   ],
   "source": [
    "print(encode.shape)\n",
    "print(encode.columns)"
   ]
  },
  {
   "cell_type": "markdown",
   "metadata": {},
   "source": [
    "#### Create a new dataframe called encode_filt that includes only samples that:\n",
    " - are from human (homo sapiens)\n",
    " - do not have audit errors.  Specifically, only include rows where encode['Audit ERROR'].isnull() is True.\n",
    " \n",
    "For the first criteria, you may need to look at what columns are present in the dataframe to choose the appropriate ones to filter on.  Your dataframe should have 223543 rows."
   ]
  },
  {
   "cell_type": "code",
   "execution_count": 29,
   "metadata": {},
   "outputs": [
    {
     "name": "stdout",
     "output_type": "stream",
     "text": [
      "(223543, 49)\n"
     ]
    }
   ],
   "source": [
    "# I'm providing the answer here, so that you can see how to do this\n",
    "\n",
    "# first, we're creating a variable m1 which asks \"is the value equal to 'Homo sapeins'\n",
    "# for each value in the 'Biosample organism' column\"\n",
    "m1 = encode['Biosample organism'] == 'Homo sapiens'\n",
    "\n",
    "# second, we're creating a variable m2 which asks \"is there no value, i.e., no error included'\n",
    "# for each value in the 'Audit ERROR' column\"\n",
    "m2 = encode['Audit ERROR'].isnull()\n",
    "\n",
    "# now, we're asking if for each element (note that these correspond to rows of the dataframe)\n",
    "# are both criteria two?\n",
    "mask = m1 & m2\n",
    "\n",
    "# now, we're actually filtering the dataframe\n",
    "encode_filt = encode.loc[mask]\n",
    "print(encode_filt.shape)"
   ]
  },
  {
   "cell_type": "markdown",
   "metadata": {},
   "source": [
    "#### Breaking briefly from the ENCODE data, to try to illustrate what is going on here:\n",
    "\n",
    "Here, we've created three arrays, with three values each.  We're performing an \"and\" operation - meaning that if everything is True, it will return True; otherwise, it will return False."
   ]
  },
  {
   "cell_type": "code",
   "execution_count": 30,
   "metadata": {},
   "outputs": [
    {
     "name": "stdout",
     "output_type": "stream",
     "text": [
      "[False  True False]\n"
     ]
    }
   ],
   "source": [
    "# example on how to merge multiple masks\n",
    "\n",
    "a = np.array([True, True, False])\n",
    "b = np.array([False, True, False])\n",
    "c = np.array([True, True, True])\n",
    "\n",
    "d = a & b & c\n",
    "\n",
    "print(d)\n",
    "\n",
    "# note that you can't do this with lists\n",
    "# (try it yourself and see what happens)\n",
    "# arrays make our lives easier"
   ]
  },
  {
   "cell_type": "markdown",
   "metadata": {},
   "source": [
    "#### What types of RNA-seq data are available?  Create a dataframe called rna that only has rows that satisfy all of the following criteria:\n",
    " - They come from RNA-seq experiments.\n",
    " - Their libraries are made from RNA\n",
    " - They are depleted in rRNA\n",
    " - They are fastq files\n",
    " \n",
    "You will need to look at both the column listings, as well as the unique values in these columns, to be able to know what values to filter on.  You will want to look at four columns, create a boolean mask for each of them (a array/series containing either True or False for each value), and then make a final mask that contains only values where all four sub-masks were True.\n",
    "\n",
    "Your final 'rna' dataframe should have 1017 rows."
   ]
  },
  {
   "cell_type": "code",
   "execution_count": 31,
   "metadata": {},
   "outputs": [
    {
     "name": "stdout",
     "output_type": "stream",
     "text": [
      "(1017, 49)\n"
     ]
    }
   ],
   "source": [
    "m1 = encode_filt['Assay'] == 'RNA-seq'\n",
    "m2 = encode_filt['Library made from'] == 'RNA'\n",
    "m3 = encode_filt['Library depleted in'] == 'rRNA'\n",
    "m4 = encode_filt['File format'] == 'fastq'\n",
    "mask = m1 & m2 & m3 & m4\n",
    "\n",
    "rna = encode_filt[mask]\n",
    "\n",
    "print(rna.shape)"
   ]
  },
  {
   "cell_type": "markdown",
   "metadata": {},
   "source": [
    "#### Get a list of the unique biosample term names in the rna dataframe.  In other words, a list of biosample term names for which there exists RNA-seq data that satisfied our above criteria."
   ]
  },
  {
   "cell_type": "code",
   "execution_count": 32,
   "metadata": {},
   "outputs": [
    {
     "name": "stdout",
     "output_type": "stream",
     "text": [
      "['pericardium fibroblast' 'pulmonary artery endothelial cell' 'K562'\n",
      " 'gastrocnemius medialis' 'metanephros' 'thyroid gland' 'body of pancreas'\n",
      " 'airway epithelial cell' 'urinary bladder' 'tongue' 'IMR-90'\n",
      " 'skeletal muscle tissue' 'esophagus muscularis mucosa' 'HeLa-S3'\n",
      " 'dermis microvascular lymphatic vessel endothelial cell' 'heart'\n",
      " 'smooth muscle cell of bladder' 'spinal cord' 'MCF-7' 'sigmoid colon'\n",
      " 'uterus' 'lung' 'skin of body' 'SJSA1' 'A549' 'stomach' 'M059J'\n",
      " 'suprapubic skin' 'fibroblast of lung' 'SK-N-SH' 'RPMI-7951'\n",
      " 'hair follicular keratinocyte' 'omental fat pad' 'adrenal gland'\n",
      " 'vein endothelial cell' 'keratinocyte' 'skeletal muscle satellite cell'\n",
      " 'HepG2' 'subcutaneous preadipocyte' 'subcutaneous adipose tissue'\n",
      " 'fibroblast of villous mesenchyme' 'spleen' 'cerebellum' 'temporal lobe'\n",
      " 'endothelial cell of coronary artery' 'HT1080'\n",
      " 'smooth muscle cell of the umbilical artery' 'right lobe of liver'\n",
      " 'transverse colon' 'umbilical cord' 'occipital lobe'\n",
      " 'glomerular endothelial cell' 'tibial nerve' 'upper lobe of left lung'\n",
      " 'ovary' 'A172' 'melanocyte of skin' 'esophagus squamous epithelium'\n",
      " 'cardiac ventricle fibroblast' 'testis' 'pericyte cell'\n",
      " 'bronchus fibroblast of lung' 'smooth muscle cell of the coronary artery'\n",
      " 'hair follicle dermal papilla cell' 'vagina' 'G401' 'ascending aorta'\n",
      " \"Peyer's patch\" 'neural cell' 'heart left ventricle'\n",
      " 'gastroesophageal sphincter' 'frontal cortex'\n",
      " \"mesenchymal stem cell of Wharton's jelly\"\n",
      " 'smooth muscle cell of the pulmonary artery' 'breast epithelium'\n",
      " 'parietal lobe' 'mesenchymal stem cell of adipose'\n",
      " 'thoracic aorta endothelial cell' 'placental epithelial cell'\n",
      " 'camera-type eye' 'mammary microvascular endothelial cell'\n",
      " 'kidney epithelial cell' 'cardiac atrium fibroblast'\n",
      " 'dermis blood vessel endothelial cell' 'aortic smooth muscle cell'\n",
      " 'mesangial cell' 'A375' 'bladder microvascular endothelial cell' 'HT-29'\n",
      " 'mesenchymal stem cell of the bone marrow' 'liver' 'diencephalon'\n",
      " 'skeletal muscle myoblast'\n",
      " 'nasal cavity respiratory epithelium epithelial cell of viscerocranial mucosa'\n",
      " 'smooth muscle cell of trachea'\n",
      " 'dermis lymphatic vessel endothelial cell'\n",
      " 'right atrium auricular region' 'lung microvascular endothelial cell'\n",
      " 'SK-N-DZ' 'epithelial cell of umbilical artery' 'NCI-H460' 'H1-hESC'\n",
      " 'epithelial cell of proximal tubule'\n",
      " 'fibroblast of the aortic adventitia'\n",
      " 'endometrial microvascular endothelial cells'\n",
      " 'epithelial cell of alveolus of lung' 'prostate gland'\n",
      " 'renal cortical epithelial cell' 'Caki2' 'MG63'\n",
      " 'hematopoietic multipotent progenitor cell' 'foreskin fibroblast'\n",
      " 'SK-MEL-5' 'LHCN-M2' 'lower leg skin' 'mammary epithelial cell'\n",
      " 'uterine smooth muscle cell' 'bronchial smooth muscle cell'\n",
      " 'tracheal epithelial cell' 'myometrial cell' 'regular cardiac myocyte'\n",
      " 'Daoy' 'thoracic aorta' 'articular chondrocyte of knee joint'\n",
      " 'hepatocyte' 'astrocyte' 'SJCRH30' 'GM12878' 'mononuclear cell' 'H4'\n",
      " 'smooth muscle cell' 'H7-hESC' 'myocyte' 'osteoblast'\n",
      " 'neural progenitor cell' 'myotube' 'fibroblast of dermis'\n",
      " 'induced pluripotent stem cell' 'CD14-positive monocyte' 'Karpas-422'\n",
      " 'bronchial epithelial cell' 'endothelial cell of umbilical vein' 'B cell'\n",
      " 'cardiac muscle cell' 'PC-3' 'bipolar neuron' 'OCI-LY7'\n",
      " 'fibroblast of arm']\n"
     ]
    }
   ],
   "source": [
    "in_rna = rna['Biosample term name'].unique()\n",
    "print(in_rna)"
   ]
  },
  {
   "cell_type": "markdown",
   "metadata": {},
   "source": [
    "#### What types of ChIP-seq data are available?  Create a dataframe called chip that only has rows that satisfy all of the following criteria:\n",
    " - They come from ChIP-seq experiments\n",
    " - The ChIP-seq target is H3K27ac-human\n",
    " - The file format is bed narrowPeak\n",
    " - The output type is replicated peaks\n",
    " - The bed files were aligned to the GRCh38 assembly.\n",
    " \n",
    "Your final dataframe should have 80 rows."
   ]
  },
  {
   "cell_type": "code",
   "execution_count": 33,
   "metadata": {},
   "outputs": [
    {
     "name": "stdout",
     "output_type": "stream",
     "text": [
      "(80, 49)\n"
     ]
    }
   ],
   "source": [
    "m1 = encode_filt['Assay'] == 'ChIP-seq'\n",
    "m2 = encode_filt['Experiment target'] == 'H3K27ac-human'\n",
    "m3 = encode_filt['File format'] == 'bed narrowPeak'\n",
    "m4 = encode_filt['Output type'] == 'replicated peaks'\n",
    "m5 = encode_filt['Assembly'] == 'GRCh38'\n",
    "mask = m1 & m2 & m3 & m4 & m5\n",
    "chip = encode_filt.loc[mask]\n",
    "print(chip.shape)"
   ]
  },
  {
   "cell_type": "markdown",
   "metadata": {},
   "source": [
    "#### Get a list of the unique biosample term names in the chip dataframe."
   ]
  },
  {
   "cell_type": "code",
   "execution_count": 34,
   "metadata": {},
   "outputs": [
    {
     "name": "stdout",
     "output_type": "stream",
     "text": [
      "['ACC112' 'neural cell' 'RWPE1' '22Rv1' 'endodermal cell'\n",
      " 'gastrocnemius medialis' 'GM12878' 'SUDHL6' 'MCF-7' 'KMS-11'\n",
      " 'thoracic aorta' 'KOPT-K1' 'RWPE2' 'neutrophil' 'DND-41' 'Loucy' 'VCaP'\n",
      " 'DOHH2' 'OCI-LY1' 'OCI-LY3' 'A549' 'keratinocyte' 'SK-N-SH' 'C4-2B'\n",
      " 'epithelial cell of prostate' 'HCT116' 'smooth muscle cell'\n",
      " 'neuroepithelial stem cell' 'mid-neurogenesis radial glial cells'\n",
      " 'fibroblast of dermis' 'H9' 'neural progenitor cell' 'osteoblast'\n",
      " 'radial glial cell' 'induced pluripotent stem cell' 'Karpas-422'\n",
      " 'astrocyte' 'mammary epithelial cell' 'CD14-positive monocyte' 'Panc1'\n",
      " 'thyroid gland' 'HeLa-S3' 'myotube' 'IMR-90' 'H1-hESC' 'A673'\n",
      " 'mesenchymal stem cell' 'MM.1S' 'hepatocyte' 'iPS DF 19.11' 'B cell'\n",
      " 'mesendoderm' 'endothelial cell of umbilical vein' 'cardiac muscle cell'\n",
      " 'body of pancreas' 'PC-3' 'skeletal muscle myoblast' 'trophoblast cell'\n",
      " 'SK-N-MC' 'bipolar neuron' 'adrenal gland' 'right lobe of liver' 'PC-9'\n",
      " 'neural stem progenitor cell' 'fibroblast of lung' 'OCI-LY7' 'vagina'\n",
      " 'fibroblast of arm']\n"
     ]
    }
   ],
   "source": [
    "in_chip = chip['Biosample term name'].unique()\n",
    "print(in_chip)"
   ]
  },
  {
   "cell_type": "markdown",
   "metadata": {},
   "source": [
    "#### Now, get a list of the biosample term names which are shared between the two lists.  In other words, find the intersection of biosample term names with RNA and ChIP data satisfying our various criteria.  How many samples are there in this list?\n",
    "\n",
    "I've provided one way to do this below using list comprehensions - there are many other ways to do this, such as converting the lists to sets, and then finding the intersection of those sets."
   ]
  },
  {
   "cell_type": "code",
   "execution_count": 35,
   "metadata": {},
   "outputs": [
    {
     "name": "stdout",
     "output_type": "stream",
     "text": [
      "['d', 'e', 'f', 'g']\n"
     ]
    }
   ],
   "source": [
    "list_1 = ['a','b','c','d','e','f','g']\n",
    "list_2 = ['d','e','f','g','h','i','j']\n",
    "\n",
    "list_3 = [i for i in list_1 if i in list_2]\n",
    "print(list_3)"
   ]
  },
  {
   "cell_type": "code",
   "execution_count": 36,
   "metadata": {},
   "outputs": [
    {
     "name": "stdout",
     "output_type": "stream",
     "text": [
      "36\n",
      "['A549', 'B cell', 'CD14-positive monocyte', 'GM12878', 'H1-hESC', 'HeLa-S3', 'IMR-90', 'Karpas-422', 'MCF-7', 'OCI-LY7', 'PC-3', 'SK-N-SH', 'adrenal gland', 'astrocyte', 'bipolar neuron', 'body of pancreas', 'cardiac muscle cell', 'endothelial cell of umbilical vein', 'fibroblast of arm', 'fibroblast of dermis', 'fibroblast of lung', 'gastrocnemius medialis', 'hepatocyte', 'induced pluripotent stem cell', 'keratinocyte', 'mammary epithelial cell', 'myotube', 'neural cell', 'neural progenitor cell', 'osteoblast', 'right lobe of liver', 'skeletal muscle myoblast', 'smooth muscle cell', 'thoracic aorta', 'thyroid gland', 'vagina']\n"
     ]
    }
   ],
   "source": [
    "in_both = [i for i in in_rna if i in in_chip]\n",
    "print(len(in_both))\n",
    "print(sorted(in_both))"
   ]
  },
  {
   "cell_type": "markdown",
   "metadata": {},
   "source": [
    "#### The sample 'gastrocnemius medialis' should be in your list.  Print the data in the rna and chip dataframes that are from this sample."
   ]
  },
  {
   "cell_type": "code",
   "execution_count": 37,
   "metadata": {},
   "outputs": [
    {
     "name": "stdout",
     "output_type": "stream",
     "text": [
      "               File format Output type Experiment accession    Assay  \\\n",
      "File accession                                                         \n",
      "ENCFF173AFN          fastq       reads          ENCSR609NZM  RNA-seq   \n",
      "ENCFF054KNM          fastq       reads          ENCSR609NZM  RNA-seq   \n",
      "ENCFF387IXO          fastq       reads          ENCSR853BNH  RNA-seq   \n",
      "ENCFF307UCJ          fastq       reads          ENCSR853BNH  RNA-seq   \n",
      "ENCFF004CNM          fastq       reads          ENCSR853BNH  RNA-seq   \n",
      "ENCFF086LCO          fastq       reads          ENCSR853BNH  RNA-seq   \n",
      "ENCFF660SLV          fastq       reads          ENCSR678TMV  RNA-seq   \n",
      "ENCFF751QEC          fastq       reads          ENCSR678TMV  RNA-seq   \n",
      "ENCFF139SHO          fastq       reads          ENCSR967JPI  RNA-seq   \n",
      "ENCFF825PCO          fastq       reads          ENCSR967JPI  RNA-seq   \n",
      "\n",
      "               Biosample term id     Biosample term name Biosample type  \\\n",
      "File accession                                                            \n",
      "ENCFF173AFN       UBERON:0011907  gastrocnemius medialis         tissue   \n",
      "ENCFF054KNM       UBERON:0011907  gastrocnemius medialis         tissue   \n",
      "ENCFF387IXO       UBERON:0011907  gastrocnemius medialis         tissue   \n",
      "ENCFF307UCJ       UBERON:0011907  gastrocnemius medialis         tissue   \n",
      "ENCFF004CNM       UBERON:0011907  gastrocnemius medialis         tissue   \n",
      "ENCFF086LCO       UBERON:0011907  gastrocnemius medialis         tissue   \n",
      "ENCFF660SLV       UBERON:0011907  gastrocnemius medialis         tissue   \n",
      "ENCFF751QEC       UBERON:0011907  gastrocnemius medialis         tissue   \n",
      "ENCFF139SHO       UBERON:0011907  gastrocnemius medialis         tissue   \n",
      "ENCFF825PCO       UBERON:0011907  gastrocnemius medialis         tissue   \n",
      "\n",
      "               Biosample life stage Biosample sex Biosample Age  ...  \\\n",
      "File accession                                                   ...   \n",
      "ENCFF173AFN                   adult        female       51 year  ...   \n",
      "ENCFF054KNM                   adult        female       51 year  ...   \n",
      "ENCFF387IXO                   adult          male       37 year  ...   \n",
      "ENCFF307UCJ                   adult          male       37 year  ...   \n",
      "ENCFF004CNM                   adult          male       37 year  ...   \n",
      "ENCFF086LCO                   adult          male       37 year  ...   \n",
      "ENCFF660SLV                   adult        female       53 year  ...   \n",
      "ENCFF751QEC                   adult        female       53 year  ...   \n",
      "ENCFF139SHO                   adult          male       54 year  ...   \n",
      "ENCFF825PCO                   adult          male       54 year  ...   \n",
      "\n",
      "                       dbxrefs  \\\n",
      "File accession                   \n",
      "ENCFF173AFN     SRA:SRR4422023   \n",
      "ENCFF054KNM     SRA:SRR4422023   \n",
      "ENCFF387IXO     SRA:SRR4422372   \n",
      "ENCFF307UCJ     SRA:SRR4422372   \n",
      "ENCFF004CNM     SRA:SRR4422371   \n",
      "ENCFF086LCO     SRA:SRR4422371   \n",
      "ENCFF660SLV     SRA:SRR4422107   \n",
      "ENCFF751QEC     SRA:SRR4422107   \n",
      "ENCFF139SHO     SRA:SRR4422532   \n",
      "ENCFF825PCO     SRA:SRR4422532   \n",
      "\n",
      "                                                File download URL Assembly  \\\n",
      "File accession                                                               \n",
      "ENCFF173AFN     https://www.encodeproject.org/files/ENCFF173AF...      NaN   \n",
      "ENCFF054KNM     https://www.encodeproject.org/files/ENCFF054KN...      NaN   \n",
      "ENCFF387IXO     https://www.encodeproject.org/files/ENCFF387IX...      NaN   \n",
      "ENCFF307UCJ     https://www.encodeproject.org/files/ENCFF307UC...      NaN   \n",
      "ENCFF004CNM     https://www.encodeproject.org/files/ENCFF004CN...      NaN   \n",
      "ENCFF086LCO     https://www.encodeproject.org/files/ENCFF086LC...      NaN   \n",
      "ENCFF660SLV     https://www.encodeproject.org/files/ENCFF660SL...      NaN   \n",
      "ENCFF751QEC     https://www.encodeproject.org/files/ENCFF751QE...      NaN   \n",
      "ENCFF139SHO     https://www.encodeproject.org/files/ENCFF139SH...      NaN   \n",
      "ENCFF825PCO     https://www.encodeproject.org/files/ENCFF825PC...      NaN   \n",
      "\n",
      "                  Platform        Controlled by File Status Audit WARNING  \\\n",
      "File accession                                                              \n",
      "ENCFF173AFN     HiSeq 2500  /files/ENCFF001RTP/    released           NaN   \n",
      "ENCFF054KNM     HiSeq 2500  /files/ENCFF001RTP/    released           NaN   \n",
      "ENCFF387IXO     HiSeq 2000  /files/ENCFF001RTP/    released           NaN   \n",
      "ENCFF307UCJ     HiSeq 2000  /files/ENCFF001RTP/    released           NaN   \n",
      "ENCFF004CNM     HiSeq 2000  /files/ENCFF001RTP/    released           NaN   \n",
      "ENCFF086LCO     HiSeq 2000  /files/ENCFF001RTP/    released           NaN   \n",
      "ENCFF660SLV     HiSeq 2500  /files/ENCFF001RTP/    released           NaN   \n",
      "ENCFF751QEC     HiSeq 2500  /files/ENCFF001RTP/    released           NaN   \n",
      "ENCFF139SHO     HiSeq 2500  /files/ENCFF001RTP/    released           NaN   \n",
      "ENCFF825PCO     HiSeq 2500  /files/ENCFF001RTP/    released           NaN   \n",
      "\n",
      "               Audit INTERNAL_ACTION Audit NOT_COMPLIANT Audit ERROR  \n",
      "File accession                                                        \n",
      "ENCFF173AFN                      NaN                 NaN         NaN  \n",
      "ENCFF054KNM                      NaN                 NaN         NaN  \n",
      "ENCFF387IXO                      NaN                 NaN         NaN  \n",
      "ENCFF307UCJ                      NaN                 NaN         NaN  \n",
      "ENCFF004CNM                      NaN                 NaN         NaN  \n",
      "ENCFF086LCO                      NaN                 NaN         NaN  \n",
      "ENCFF660SLV                      NaN                 NaN         NaN  \n",
      "ENCFF751QEC                      NaN                 NaN         NaN  \n",
      "ENCFF139SHO                      NaN                 NaN         NaN  \n",
      "ENCFF825PCO                      NaN                 NaN         NaN  \n",
      "\n",
      "[10 rows x 49 columns]\n",
      "\n",
      "\n",
      "                   File format       Output type Experiment accession  \\\n",
      "File accession                                                          \n",
      "ENCFF393HCO     bed narrowPeak  replicated peaks          ENCSR736ALU   \n",
      "ENCFF718ILR     bed narrowPeak  replicated peaks          ENCSR801IPH   \n",
      "ENCFF369MQM     bed narrowPeak  replicated peaks          ENCSR948YYZ   \n",
      "\n",
      "                   Assay Biosample term id     Biosample term name  \\\n",
      "File accession                                                       \n",
      "ENCFF393HCO     ChIP-seq    UBERON:0011907  gastrocnemius medialis   \n",
      "ENCFF718ILR     ChIP-seq    UBERON:0011907  gastrocnemius medialis   \n",
      "ENCFF369MQM     ChIP-seq    UBERON:0011907  gastrocnemius medialis   \n",
      "\n",
      "               Biosample type Biosample life stage Biosample sex  \\\n",
      "File accession                                                     \n",
      "ENCFF393HCO            tissue                adult        female   \n",
      "ENCFF718ILR            tissue                adult          male   \n",
      "ENCFF369MQM            tissue                adult          male   \n",
      "\n",
      "               Biosample Age  ... dbxrefs  \\\n",
      "File accession                ...           \n",
      "ENCFF393HCO          53 year  ...     NaN   \n",
      "ENCFF718ILR          37 year  ...     NaN   \n",
      "ENCFF369MQM          54 year  ...     NaN   \n",
      "\n",
      "                                                File download URL Assembly  \\\n",
      "File accession                                                               \n",
      "ENCFF393HCO     https://www.encodeproject.org/files/ENCFF393HC...   GRCh38   \n",
      "ENCFF718ILR     https://www.encodeproject.org/files/ENCFF718IL...   GRCh38   \n",
      "ENCFF369MQM     https://www.encodeproject.org/files/ENCFF369MQ...   GRCh38   \n",
      "\n",
      "               Platform Controlled by File Status  \\\n",
      "File accession                                      \n",
      "ENCFF393HCO         NaN           NaN    released   \n",
      "ENCFF718ILR         NaN           NaN    released   \n",
      "ENCFF369MQM         NaN           NaN    released   \n",
      "\n",
      "                                                    Audit WARNING  \\\n",
      "File accession                                                      \n",
      "ENCFF393HCO                                                   NaN   \n",
      "ENCFF718ILR     mild to moderate bottlenecking, moderate libra...   \n",
      "ENCFF369MQM                        mild to moderate bottlenecking   \n",
      "\n",
      "                                         Audit INTERNAL_ACTION  \\\n",
      "File accession                                                   \n",
      "ENCFF393HCO     biological replicates with identical biosample   \n",
      "ENCFF718ILR                                                NaN   \n",
      "ENCFF369MQM     biological replicates with identical biosample   \n",
      "\n",
      "               Audit NOT_COMPLIANT Audit ERROR  \n",
      "File accession                                  \n",
      "ENCFF393HCO                    NaN         NaN  \n",
      "ENCFF718ILR                    NaN         NaN  \n",
      "ENCFF369MQM                    NaN         NaN  \n",
      "\n",
      "[3 rows x 49 columns]\n"
     ]
    }
   ],
   "source": [
    "print(rna[rna['Biosample term name'] == 'gastrocnemius medialis'])\n",
    "print('\\n')\n",
    "print(chip[chip['Biosample term name'] == 'gastrocnemius medialis'])"
   ]
  },
  {
   "cell_type": "markdown",
   "metadata": {},
   "source": [
    "## The end of Part 1\n",
    "\n",
    "#### Congratulations on finishing this - I know that it's a lot!"
   ]
  },
  {
   "cell_type": "code",
   "execution_count": null,
   "metadata": {},
   "outputs": [],
   "source": []
  }
 ],
 "metadata": {
  "kernelspec": {
   "display_name": "Python 3",
   "language": "python",
   "name": "python3"
  },
  "language_info": {
   "codemirror_mode": {
    "name": "ipython",
    "version": 3
   },
   "file_extension": ".py",
   "mimetype": "text/x-python",
   "name": "python",
   "nbconvert_exporter": "python",
   "pygments_lexer": "ipython3",
   "version": "3.6.7"
  }
 },
 "nbformat": 4,
 "nbformat_minor": 2
}
