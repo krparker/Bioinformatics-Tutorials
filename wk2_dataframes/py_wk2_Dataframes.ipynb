{
 "cells": [
  {
   "cell_type": "markdown",
   "metadata": {},
   "source": [
    "## Welcome to Week 2: Dataframes!\n",
    "\n",
    "### In weeks 2 and 3, we're going to focus on two things, which are essentially the basics of all downstream bioinformatics that you'll do.\n",
    "\n",
    "<u>First</u>, learning to work with dataframes: we're going use the package <b>pandas</b>, which is one of the most commonly used packages for datascience. https://pandas.pydata.org/docs/getting_started/10min.html#min has a brief introduction, if you are curious.  The core idea of dataframes - the primary datatype associated with pandas - is that you have a two-dimensional matrix of data (i.e., rows and columns, like an Excel spreadsheet), and can associate a *label* with each row and column.  For example, with scRNA data, you have a 2D matrix of gene expression counts, where each row is a gene and each column is a cell. If you wanted to look up the expression for a particular gene in a particular cell, rather than have to know the particular XY \"coordinates\" of that datapoint (i.e., gene row # 1827 and cell column # 2937), you can just pass in the names of the gene and cell.  If you wanted to sort the dataframe by the expression of a particular gene, you'd want to make sure that the pairings of gene names, cell names, and datapoints stay correct through this sorting process, and pandas dataframes help take care of this to keep everything organized and correct.  Don't worry if this doesn't make too much sense now - it'll make more sense when we start playing with actual examples.\n",
    "\n",
    "In addition to pandas, we're going to use the package <b>numpy</b>, which is the core \"math\" package (\"scientific computing\", as they describe it - https://docs.scipy.org/doc/numpy/user/quickstart.html and https://docs.scipy.org/doc/numpy/user/basics.html). Oftentimes when working with large datasets, you want to perform a simple operation (for example, log transform or depth normalize) on many pieces of data.  Numpy implements a lot of tricks under the hood to perform vectorized math operations very efficiently - doing the same operation to many pieces of data.  Numpy is built around *arrays*, which are a 1D datatype: essentially a list, but with a lot of added tricks. Say you have a bunch of datapoints - gene counts, for example - and want to multiply each one by 2.  Using a list, you would need to do this one-by-one for each list: iterate through the entire list with a for loop (or list comprehension) and multiply each value by two. However, using a numpy array, you can simply multiply the entire array by 2, and numpy will return the element-wise product of the array by 2 (multiplying each elementy by 2). Again, this will make a little more sense once you've played around with it a little.\n",
    "\n",
    "**I would recommend skimming through the introductions for pandas and numpy, since you'll want to become familiar with them both for this lesson and going forward. It's not as crucial that you memorize each function and every feature, but good to just have a sense of what is possible, so that you can remember that there should be a way to do something easily, then google for it later on and re-figure out how to do it.**\n",
    "\n",
    "* https://pandas.pydata.org/docs/getting_started/10min.html#min\n",
    "* https://docs.scipy.org/doc/numpy/user/quickstart.html\n",
    "\n",
    "The <u>second</u> thing that we're going to focus on is plotting. **Matplotlib** is the core plotting package in Python. It is built around two concepts: the figure, which is the \"overall\" image - think about it like a piece of paper or figure panel - and axes, which are the specific XY axes where you plot things.  The simplest example is a figure with one axis - say a simple scatter plot. This is what you'll do 90% of the time.  Sometimes, though, you might want to group together multiple plots at the same time - say you have four scatter plots you want to make together. In this case, the figure might have four axes (a 2-by-2 grid of scatter plots).  The important thing to remember, is that when you're plotting, you 1) create a figure, 2) create an axis, 3) plot things on that axis, [4) create & plot on any additional axes if applicable], and 5) save the figure (which contains the axis/axes you've plotting things on).\n",
    "\n",
    "Two useful matplotlib links with some tutorials and example plots:\n",
    "\n",
    "* https://matplotlib.org/tutorials/index.html\n",
    "* https://matplotlib.org/gallery/index.html\n",
    "\n",
    "Three other packages that we aren't going to use here, but you will also encounter down the road: <b>scipy</b>, which has a lot of more specialized functions for things like statistics (and many others - https://docs.scipy.org/doc/scipy/reference/, https://docs.scipy.org/doc/scipy/reference/tutorial/index.html), and **scikit-learn**, which is the core machine learning package (https://scikit-learn.org/stable/getting_started.html), and **seaborn**, which is another data visualization package (https://seaborn.pydata.org/introduction.html) built on matplotlib."
   ]
  },
  {
   "cell_type": "markdown",
   "metadata": {},
   "source": [
    "## Import Statements\n",
    "\n",
    "#### First, let's import the packages that we are going to use today: pandas, numpy, and matplotlib.\n",
    "\n",
    "We're going to abbreviate their names as follows:\n",
    "\n",
    "    import pandas as pd\n",
    "    import numpy as np\n",
    "    import matplotlib as mpl\n",
    "    \n",
    "Then, when we want to do things with numpy, for example, such as the log10() function, rather than say: numpy.log10(my_data), we can say np.log10(my_data). Note that if we wanted to just import numpy (and not rename it - so saying numpy.log10(my_data)), we would just say:\n",
    "\n",
    "    import numpy\n",
    "    \n",
    "We can also import a particular function from numpy, rather than everything:\n",
    "\n",
    "    from numpy import log10\n",
    "    \n",
    "If we ran that, we would be importing just the log10() function from numpy, rather than the package as a whole.  We would then access this function by saying log10(my_data), rather than np.log10(my_dat).\n",
    "\n",
    "You can also put these things together and say:\n",
    "\n",
    "    from matplotlib import pyplot as plt\n",
    "    \n",
    "Here, we're importing pyplot from the matplotlib package, and renaming it plt to save us some typing."
   ]
  },
  {
   "cell_type": "code",
   "execution_count": 7,
   "metadata": {},
   "outputs": [],
   "source": [
    "import pandas as pd\n",
    "import numpy as np\n",
    "import matplotlib as mpl\n",
    "from matplotlib import pyplot as plt"
   ]
  },
  {
   "cell_type": "markdown",
   "metadata": {},
   "source": [
    "## 1. Lists, loops, and arrays.\n",
    "\n",
    "First, we're going to do a quick overview of lists vs. arrays, and also list comprehensions."
   ]
  },
  {
   "cell_type": "markdown",
   "metadata": {},
   "source": [
    "### 1.1 Lists, loops, and list comprehensions.\n",
    "\n",
    "Here, I've created a list, where each element is a string.  Let's say I want to convert each element to be an integer.  There are two ways to do this.\n",
    "\n",
    "In the first way, we're creating a new empty list, iterating through each element of string_list, converting it to an integer, and adding it to our new empty list.\n",
    "\n",
    "In the second way, we're using a list comprehension to do this all in one step."
   ]
  },
  {
   "cell_type": "code",
   "execution_count": 2,
   "metadata": {},
   "outputs": [
    {
     "name": "stdout",
     "output_type": "stream",
     "text": [
      "[1, 2, 3, 4, 5, 6, 7, 8, 9, 10]\n",
      "[1, 2, 3, 4, 5, 6, 7, 8, 9, 10]\n",
      "True\n"
     ]
    }
   ],
   "source": [
    "string_list = ['1','2','3','4','5','6','7','8','9','10']\n",
    "\n",
    "# first way\n",
    "int_list = []\n",
    "for i in string_list:\n",
    "    int_list += [int(i)]\n",
    "print(int_list)\n",
    "\n",
    "# second way\n",
    "int_list2 = [int(i) for i in string_list]\n",
    "print(int_list2)\n",
    "\n",
    "# checking that they are equal\n",
    "print(int_list == int_list2)"
   ]
  },
  {
   "cell_type": "markdown",
   "metadata": {},
   "source": [
    "List comprehensions are your friend - they can make it easier to do simple operations to an entire list.  The basic syntax is:\n",
    "\n",
    "    [function(variable) for variable in thing_to_iterate_over]\n",
    "\n",
    "https://treyhunner.com/2015/12/python-list-comprehensions-now-in-color/ has a good short tutorial that is worth reading through.\n",
    "\n",
    "You can also make a list comprehension include a conditional:\n",
    "\n",
    "    [function(variable) for variable in thing_to_iterate_over if condition]\n",
    "    \n",
    "I'm going to provide a few examples below of the same thing done either with a loop or list comprehension, and then ask you to convert a few loops to comprehensions and vice versa."
   ]
  },
  {
   "cell_type": "markdown",
   "metadata": {},
   "source": [
    "### 1.1 Examples"
   ]
  },
  {
   "cell_type": "code",
   "execution_count": 3,
   "metadata": {},
   "outputs": [
    {
     "name": "stdout",
     "output_type": "stream",
     "text": [
      "[0, 1, 2, 3, 4, 5, 6, 7, 8, 9]\n",
      "[0, 1, 2, 3, 4, 5, 6, 7, 8, 9]\n"
     ]
    }
   ],
   "source": [
    "# make a list containing the integers from 0 to 10\n",
    "\n",
    "# here, we are using the range() function, which will automatically start at 0\n",
    "# and then iterate up to the number you provide\n",
    "\n",
    "# with a loop\n",
    "list_1 = []\n",
    "for i in range(10):\n",
    "    list_1 += [i]\n",
    "\n",
    "# list comprehension\n",
    "list_2 = [i for i in range(10)]\n",
    "\n",
    "print(list_1)\n",
    "print(list_2)"
   ]
  },
  {
   "cell_type": "code",
   "execution_count": 4,
   "metadata": {},
   "outputs": [
    {
     "name": "stdout",
     "output_type": "stream",
     "text": [
      "['10', '11', '12', '13', '14', '15', '16', '17', '18', '19']\n",
      "['10', '11', '12', '13', '14', '15', '16', '17', '18', '19']\n"
     ]
    }
   ],
   "source": [
    "# make a list containing the integers from 10 to 20, but as strings.\n",
    "\n",
    "# if you provide two inputs to the range() function, it will start at the first one, and end at the second one\n",
    "\n",
    "# with a loop\n",
    "list_1 = []\n",
    "for i in range(10, 20):\n",
    "    list_1 += [str(i)]\n",
    "\n",
    "# list comprehension\n",
    "list_2 = [str(i) for i in range(10, 20)]\n",
    "\n",
    "print(list_1)\n",
    "print(list_2)"
   ]
  },
  {
   "cell_type": "code",
   "execution_count": 5,
   "metadata": {},
   "outputs": [
    {
     "name": "stdout",
     "output_type": "stream",
     "text": [
      "[0, 1, 4, 9, 16, 25, 36, 49, 64, 81]\n",
      "[0, 1, 4, 9, 16, 25, 36, 49, 64, 81]\n"
     ]
    }
   ],
   "source": [
    "# make a list of the first ten integers squared\n",
    "\n",
    "# note that you can say either i*i or i**2 to square a number\n",
    "# to cube it, you could say i*i*i or i**3, and so on\n",
    "\n",
    "# with a loop\n",
    "list_1 = []\n",
    "for i in range(10):\n",
    "    list_1 += [i * i]\n",
    "\n",
    "# list comprehension\n",
    "list_2 = [i*i for i in range(10)]\n",
    "\n",
    "print(list_1)\n",
    "print(list_2)"
   ]
  },
  {
   "cell_type": "code",
   "execution_count": 6,
   "metadata": {},
   "outputs": [
    {
     "name": "stdout",
     "output_type": "stream",
     "text": [
      "[100, 16, 9, 1, 36, 4, 64]\n",
      "[100, 16, 9, 1, 36, 4, 64]\n"
     ]
    }
   ],
   "source": [
    "# iterate through input_list\n",
    "# if the integer is less than or equal to 10, then square it\n",
    "# otherwise, don't include it\n",
    "\n",
    "input_list = [10, 4, 28, 3, 1, 930, 3928, 6, 2, 8, 2038]\n",
    "\n",
    "# with a loop\n",
    "list_1 = []\n",
    "for i in input_list:\n",
    "    if i <= 10:\n",
    "        list_1 += [i**2]\n",
    "\n",
    "# list comprehension\n",
    "list_2 = [i*i for i in input_list if i <= 10]\n",
    "\n",
    "print(list_1)\n",
    "print(list_2)"
   ]
  },
  {
   "cell_type": "markdown",
   "metadata": {},
   "source": [
    "The following two examples are examples where you can write things with a list comprehension - but it starts to get a little hard to follow, and might just be better off writing with a normal list, because the list comprehension starts to become a little unreadable."
   ]
  },
  {
   "cell_type": "code",
   "execution_count": 7,
   "metadata": {},
   "outputs": [
    {
     "name": "stdout",
     "output_type": "stream",
     "text": [
      "[100, 16, 614656, 9, 1, 748052010000, 238059718905856, 36, 4, 64, 17251097061136]\n",
      "[100, 16, 614656, 9, 1, 748052010000, 238059718905856, 36, 4, 64, 17251097061136]\n"
     ]
    }
   ],
   "source": [
    "# iterate through input list\n",
    "# if it is less than or equal to 10, return the integer squared\n",
    "# otherwise, return the integer raised to the fourth power\n",
    "\n",
    "# note that when you have an if...else that the location gets moved around\n",
    "\n",
    "input_list = [10, 4, 28, 3, 1, 930, 3928, 6, 2, 8, 2038]\n",
    "\n",
    "# with a loop\n",
    "list_1 = []\n",
    "for i in input_list:\n",
    "    if i <= 10:\n",
    "        list_1 += [i**2]\n",
    "    else:\n",
    "        list_1 += [i**4]\n",
    "\n",
    "# list comprehension\n",
    "list_2 = [i**2 if i <= 10 else i ** 4 for i in input_list]\n",
    "\n",
    "print(list_1)\n",
    "print(list_2)"
   ]
  },
  {
   "cell_type": "code",
   "execution_count": 8,
   "metadata": {},
   "outputs": [
    {
     "name": "stdout",
     "output_type": "stream",
     "text": [
      "['black', 'black', 'black', 'black', 'black', 'black', 'red', 'red', 'blue', 'blue']\n",
      "['black', 'black', 'black', 'black', 'black', 'black', 'red', 'red', 'blue', 'blue']\n"
     ]
    }
   ],
   "source": [
    "# iterate through integers from 0 to 10\n",
    "# if it is less than or equal to 5, return 'black'\n",
    "# otherwise, if it is less than 8, return 'red'\n",
    "# otherwise, return 'blue'\n",
    "\n",
    "# note that when you have an if...else that the location gets moved around\n",
    "\n",
    "# with a loop\n",
    "list_1 = []\n",
    "for i in range(10):\n",
    "    if i <= 5:\n",
    "        list_1 += ['black']\n",
    "    elif i < 8:\n",
    "        list_1 += ['red']\n",
    "    else:\n",
    "        list_1 += ['blue']\n",
    "\n",
    "# list comprehension\n",
    "list_2 = ['black' if i <= 5 else 'red' if i < 8 else 'blue' for i in range(10)]\n",
    "\n",
    "print(list_1)\n",
    "print(list_2)"
   ]
  },
  {
   "cell_type": "markdown",
   "metadata": {},
   "source": [
    "### 1.2 Problems\n",
    "\n",
    "Convert the loop to a list comprehension, and the list comprehensions to loops.  Check that the results are equal."
   ]
  },
  {
   "cell_type": "code",
   "execution_count": 1,
   "metadata": {},
   "outputs": [
    {
     "name": "stdout",
     "output_type": "stream",
     "text": [
      "[-2, 2, 6, 10, 14, 18, 22, 26, 30, 34, 38, 42, 46, 50, 54, 58, 62, 66, 70, 74]\n"
     ]
    }
   ],
   "source": [
    "list_1 = []\n",
    "for i in range(20):\n",
    "    list_1 += [4 * i - 2]\n",
    "    \n",
    "print(list_1)\n",
    "\n",
    "# write answer below"
   ]
  },
  {
   "cell_type": "code",
   "execution_count": 2,
   "metadata": {},
   "outputs": [
    {
     "name": "stdout",
     "output_type": "stream",
     "text": [
      "[1, 1, 5, 1, 5, 1, 5, 1, 5, 5, 1, 5, 5, 5]\n"
     ]
    }
   ],
   "source": [
    "input_list = ['black','black','orange','black','red','black','red','black','red','red','black','green','blue','purple']\n",
    "\n",
    "list_1 = []\n",
    "for i in input_list:\n",
    "    if i == 'black':\n",
    "        list_1 += [1]\n",
    "    else:\n",
    "        list_1 += [5]\n",
    "print(list_1)\n",
    "\n",
    "# write answer below\n"
   ]
  },
  {
   "cell_type": "code",
   "execution_count": 3,
   "metadata": {},
   "outputs": [
    {
     "name": "stdout",
     "output_type": "stream",
     "text": [
      "['0.0', '0.5', '1.0', '1.5', '2.0', '2.5', '3.0', '3.5', '4.0', '4.5', '5.0', '5.5', '6.0', '6.5', '7.0']\n"
     ]
    }
   ],
   "source": [
    "list_1 = [str(i / 2) for i in range(15)]\n",
    "print(list_1)\n",
    "\n",
    "# write answer below\n"
   ]
  },
  {
   "cell_type": "code",
   "execution_count": 4,
   "metadata": {},
   "outputs": [
    {
     "name": "stdout",
     "output_type": "stream",
     "text": [
      "[4, 8, 2, 40, 2038, 882]\n"
     ]
    }
   ],
   "source": [
    "input_list = [1,4,8,2,40,2038,233,23,1,5,3,882]\n",
    "\n",
    "list_1 = [i for i in input_list if i % 2 == 0]\n",
    "print(list_1)\n",
    "\n",
    "# write your answer below\n"
   ]
  },
  {
   "cell_type": "markdown",
   "metadata": {},
   "source": [
    "### 1.2 Numpy arrays\n",
    "\n",
    "To create an array from a list, you say:\n",
    "\n",
    "    new_array = np.array(old_list)\n",
    "    \n",
    "We're going to try doing the same things to list and arrays to see what happens in each case.\n",
    "\n",
    "**Before running the cells below, try to guess that the output will be in each case (for the list versus array), and pay attention to the differences between how lists and arrays behave.**"
   ]
  },
  {
   "cell_type": "code",
   "execution_count": 13,
   "metadata": {},
   "outputs": [
    {
     "name": "stdout",
     "output_type": "stream",
     "text": [
      "[0, 1, 2, 3, 4, 5, 6, 7, 8, 9]\n",
      "[0 1 2 3 4 5 6 7 8 9]\n",
      "\n",
      "[0, 1, 2, 3, 4, 5, 6, 7, 8, 9, 0, 1, 2, 3, 4, 5, 6, 7, 8, 9]\n",
      "[ 0  2  4  6  8 10 12 14 16 18]\n"
     ]
    }
   ],
   "source": [
    "test_list = [i for i in range(10)]\n",
    "test_array = np.array(test_list)\n",
    "\n",
    "print(test_list)\n",
    "print(test_array)\n",
    "print()\n",
    "\n",
    "# what happens if we multiply by two?\n",
    "print(test_list * 2)\n",
    "print(test_array * 2)"
   ]
  },
  {
   "cell_type": "code",
   "execution_count": 14,
   "metadata": {},
   "outputs": [],
   "source": [
    "# what happens if we try to add one to each one?\n",
    "# note that this will only work for the arrays: it will throw an error for the list"
   ]
  },
  {
   "cell_type": "code",
   "execution_count": 15,
   "metadata": {},
   "outputs": [
    {
     "ename": "TypeError",
     "evalue": "can only concatenate list (not \"int\") to list",
     "output_type": "error",
     "traceback": [
      "\u001b[0;31m---------------------------------------------------------------------------\u001b[0m",
      "\u001b[0;31mTypeError\u001b[0m                                 Traceback (most recent call last)",
      "\u001b[0;32m<ipython-input-15-127834640291>\u001b[0m in \u001b[0;36m<module>\u001b[0;34m\u001b[0m\n\u001b[0;32m----> 1\u001b[0;31m \u001b[0mprint\u001b[0m\u001b[0;34m(\u001b[0m\u001b[0mtest_list\u001b[0m \u001b[0;34m+\u001b[0m \u001b[0;36m1\u001b[0m\u001b[0;34m)\u001b[0m\u001b[0;34m\u001b[0m\u001b[0;34m\u001b[0m\u001b[0m\n\u001b[0m",
      "\u001b[0;31mTypeError\u001b[0m: can only concatenate list (not \"int\") to list"
     ]
    }
   ],
   "source": [
    "print(test_list + 1)"
   ]
  },
  {
   "cell_type": "code",
   "execution_count": 16,
   "metadata": {},
   "outputs": [
    {
     "name": "stdout",
     "output_type": "stream",
     "text": [
      "[ 1  2  3  4  5  6  7  8  9 10]\n"
     ]
    }
   ],
   "source": [
    "print(test_array + 1)"
   ]
  },
  {
   "cell_type": "code",
   "execution_count": 17,
   "metadata": {},
   "outputs": [
    {
     "name": "stdout",
     "output_type": "stream",
     "text": [
      "[0, 1, 2, 3, 4, 5, 6, 7, 8, 9, 0, 1, 2, 3, 4, 5, 6, 7, 8, 9]\n",
      "[ 0  2  4  6  8 10 12 14 16 18]\n"
     ]
    }
   ],
   "source": [
    "# what happens if we try to add two lists or two arrays together?\n",
    "\n",
    "print(test_list + test_list)\n",
    "print(test_array + test_array)"
   ]
  },
  {
   "cell_type": "markdown",
   "metadata": {},
   "source": [
    "**This is all that we are going to go over for now - the main takeaway here is that when you're dealing with arrays, you're performing the same operation on all elements of the array.**"
   ]
  },
  {
   "cell_type": "markdown",
   "metadata": {},
   "source": [
    "## 2. Importing a genome annotation file in pandas"
   ]
  },
  {
   "cell_type": "markdown",
   "metadata": {},
   "source": [
    "Here, we're going to look at a file that I've downloaded from the ENSEMBL website that contains annotation information for various genes in the genome.  This file was originally downloaded with <i>transcript-based</i> annotations, which I convereted to be <i>gene-based</i>.  When you're doing RNA-seq analysis, you can either perform analyses at the transcript level (meaning considering different isoforms of the same gene differently) or at the gene level (aggregating different isoforms of the same gene); we're going to focus on gene level analysis for now.\n",
    "\n",
    "<b>First, we need to import the annotation file.</b>  I typically like to define paths and file names at the start, just to keep things organized.\n",
    "\n",
    "1. Create a variable called 'path' which contains the directory listing to wherever you downloaded the files.\n",
    "2. Create a variable called 'fn_anno' which is the name of the file.\n",
    "\n",
    "As a reminder, both of these should be strings, and the variable 'path' should end with a '/'."
   ]
  },
  {
   "cell_type": "code",
   "execution_count": 18,
   "metadata": {},
   "outputs": [],
   "source": [
    "# you will need to change this based on where you saved the files on your comptuer, as you did last week\n",
    "\n",
    "# path = '/path/to/the/directory/containing/the/file/'\n",
    "# fn = 'name_of_the_file.extension'"
   ]
  },
  {
   "cell_type": "markdown",
   "metadata": {},
   "source": [
    "**Using pd.read_csv(), import the txt file (comma delimted) containing the annotations into a dataframe called 'anno', and set the index to be the 'gene' column.  Use .head() to show the first 5 rows of the resulting dataframe.**\n",
    "\n",
    "See https://pandas.pydata.org/pandas-docs/stable/generated/pandas.read_csv.html\n",
    "\n",
    "and https://pandas.pydata.org/pandas-docs/stable/generated/pandas.DataFrame.set_index.html\n",
    "\n",
    "and https://pandas.pydata.org/pandas-docs/stable/generated/pandas.DataFrame.head.html\n",
    "\n",
    "for reference.  These are part of the pandas documentation.  I've provided these here just so you can get started, but in the future, I'll provide some hints/direction as to how to go about something, but it will be up to you to look up how to actually use the functions in the pandas (or other) documentation."
   ]
  },
  {
   "cell_type": "code",
   "execution_count": 10,
   "metadata": {},
   "outputs": [
    {
     "data": {
      "text/html": [
       "<div>\n",
       "<style scoped>\n",
       "    .dataframe tbody tr th:only-of-type {\n",
       "        vertical-align: middle;\n",
       "    }\n",
       "\n",
       "    .dataframe tbody tr th {\n",
       "        vertical-align: top;\n",
       "    }\n",
       "\n",
       "    .dataframe thead th {\n",
       "        text-align: right;\n",
       "    }\n",
       "</style>\n",
       "<table border=\"1\" class=\"dataframe\">\n",
       "  <thead>\n",
       "    <tr style=\"text-align: right;\">\n",
       "      <th></th>\n",
       "      <th>start</th>\n",
       "      <th>end</th>\n",
       "      <th>strand</th>\n",
       "      <th>length</th>\n",
       "      <th>chr</th>\n",
       "      <th>gene_symbol</th>\n",
       "      <th>gene_type</th>\n",
       "      <th>source</th>\n",
       "    </tr>\n",
       "    <tr>\n",
       "      <th>gene</th>\n",
       "      <th></th>\n",
       "      <th></th>\n",
       "      <th></th>\n",
       "      <th></th>\n",
       "      <th></th>\n",
       "      <th></th>\n",
       "      <th></th>\n",
       "      <th></th>\n",
       "    </tr>\n",
       "  </thead>\n",
       "  <tbody>\n",
       "    <tr>\n",
       "      <th>ENSG00000000003.14</th>\n",
       "      <td>100630765</td>\n",
       "      <td>100637538</td>\n",
       "      <td>-1</td>\n",
       "      <td>6773</td>\n",
       "      <td>X</td>\n",
       "      <td>TSPAN6</td>\n",
       "      <td>protein_coding</td>\n",
       "      <td>cdna</td>\n",
       "    </tr>\n",
       "    <tr>\n",
       "      <th>ENSG00000000005.5</th>\n",
       "      <td>100589213</td>\n",
       "      <td>100598708</td>\n",
       "      <td>1</td>\n",
       "      <td>9495</td>\n",
       "      <td>X</td>\n",
       "      <td>TNMD</td>\n",
       "      <td>protein_coding</td>\n",
       "      <td>cdna</td>\n",
       "    </tr>\n",
       "    <tr>\n",
       "      <th>ENSG00000000419.12</th>\n",
       "      <td>50935098</td>\n",
       "      <td>50956428</td>\n",
       "      <td>-1</td>\n",
       "      <td>21329</td>\n",
       "      <td>20</td>\n",
       "      <td>DPM1</td>\n",
       "      <td>protein_coding</td>\n",
       "      <td>cdna</td>\n",
       "    </tr>\n",
       "    <tr>\n",
       "      <th>ENSG00000000457.13</th>\n",
       "      <td>169853881</td>\n",
       "      <td>169893003</td>\n",
       "      <td>-1</td>\n",
       "      <td>39121</td>\n",
       "      <td>1</td>\n",
       "      <td>SCYL3</td>\n",
       "      <td>protein_coding</td>\n",
       "      <td>cdna</td>\n",
       "    </tr>\n",
       "    <tr>\n",
       "      <th>ENSG00000000460.16</th>\n",
       "      <td>169780373</td>\n",
       "      <td>169834072</td>\n",
       "      <td>1</td>\n",
       "      <td>53699</td>\n",
       "      <td>1</td>\n",
       "      <td>C1orf112</td>\n",
       "      <td>protein_coding</td>\n",
       "      <td>cdna</td>\n",
       "    </tr>\n",
       "  </tbody>\n",
       "</table>\n",
       "</div>"
      ],
      "text/plain": [
       "                        start        end  strand  length chr gene_symbol  \\\n",
       "gene                                                                       \n",
       "ENSG00000000003.14  100630765  100637538      -1    6773   X      TSPAN6   \n",
       "ENSG00000000005.5   100589213  100598708       1    9495   X        TNMD   \n",
       "ENSG00000000419.12   50935098   50956428      -1   21329  20        DPM1   \n",
       "ENSG00000000457.13  169853881  169893003      -1   39121   1       SCYL3   \n",
       "ENSG00000000460.16  169780373  169834072       1   53699   1    C1orf112   \n",
       "\n",
       "                         gene_type source  \n",
       "gene                                       \n",
       "ENSG00000000003.14  protein_coding   cdna  \n",
       "ENSG00000000005.5   protein_coding   cdna  \n",
       "ENSG00000000419.12  protein_coding   cdna  \n",
       "ENSG00000000457.13  protein_coding   cdna  \n",
       "ENSG00000000460.16  protein_coding   cdna  "
      ]
     },
     "execution_count": 10,
     "metadata": {},
     "output_type": "execute_result"
    }
   ],
   "source": [
    "# you'll need to change these\n",
    "path = '/Users/kevin/changlab/github/Bioinformatics-Tutorials/wk2_dataframes/data/'\n",
    "fn = '/Homo_sapiens.GRCh38.gene_annotations.txt.gz'\n",
    "\n",
    "# example code to do this to get you started\n",
    "anno = pd.read_csv(path + fn, sep=',')\n",
    "anno = anno.set_index('gene')\n",
    "anno.head()"
   ]
  },
  {
   "cell_type": "markdown",
   "metadata": {},
   "source": [
    "**Print the information for the gene** *'ENSG00000181449.3'* **.  You should familiarize yourself with the .loc and .iloc commands.**"
   ]
  },
  {
   "cell_type": "code",
   "execution_count": null,
   "metadata": {},
   "outputs": [],
   "source": []
  },
  {
   "cell_type": "markdown",
   "metadata": {},
   "source": [
    "**Save the information in the** *'start'* **column of the anno dataframe in a new variable, called** *start_column* **. Print start_column.**"
   ]
  },
  {
   "cell_type": "code",
   "execution_count": null,
   "metadata": {},
   "outputs": [],
   "source": []
  },
  {
   "cell_type": "markdown",
   "metadata": {},
   "source": [
    "#### One of the most important things about working with genomics data is double checking that the files you are working with have the data you expect them to have.\n",
    "\n",
    "For instance: what values are present in the 'chr' column of our annotation dataframe?  How many chromosome values are in this column?\n",
    "\n",
    "What chromosomes would you expect to be there?  Are there any other chromosomes present, and if so, what are they?\n",
    "\n",
    "As a hint, you're looking for unique values in that column of the dataframe (and then also the length of the result)."
   ]
  },
  {
   "cell_type": "code",
   "execution_count": null,
   "metadata": {},
   "outputs": [],
   "source": []
  },
  {
   "cell_type": "markdown",
   "metadata": {},
   "source": [
    "#### Note that some of the values in the chromosome column are numbers (e.g., 1, 2, etc.) and others are strings (e.g., 'X', 'Y').  When Python imported the dataframe (pd.read_csv()), did it import the numerical chromosomes as integers or strings?"
   ]
  },
  {
   "cell_type": "code",
   "execution_count": null,
   "metadata": {},
   "outputs": [],
   "source": []
  },
  {
   "cell_type": "markdown",
   "metadata": {},
   "source": [
    "#### Let's say that we want to subset this annotation to get a list of only those genes that are on the 'normal' chromosomes: autosomes, sex chromosomes, in the mitochondrial genome.\n",
    "\n",
    "Make a list that looks like this:\n",
    "\n",
    "[1, 2, 3, 4, 5, 6, 7, 8, 9, 10, 11, 12, 13, 14, 15, 16, 17, 18, 19, 20, 21, 22, 'X', 'Y', 'MT']\n",
    "\n",
    "Do it <u>without</u> explicitly writing out the numbers 1 to 22.  Feel free to use either lists (built-in to Python) or numpy arrays (np.array()).  Be sure to save the numerical chromosomes as the correct data type (integer or string) to match the data type of the values in anno['chr']."
   ]
  },
  {
   "cell_type": "code",
   "execution_count": null,
   "metadata": {},
   "outputs": [],
   "source": []
  },
  {
   "cell_type": "markdown",
   "metadata": {},
   "source": [
    "#### Subset the anno dataframe to include only those genes whose chromosome annotations are in this list of chromosomes.  Save this as a new dataframe called anno_filt.\n",
    "\n",
    "How big is this new annotation/how many things did we filter out? Print the first five columns of the dataframe with .head().\n",
    "\n",
    "You should use the .isin() function, and can also use .shape to get the size of a dataframe.\n",
    "\n",
    "(You should end up with 57106 rows remaining in anno_filt)"
   ]
  },
  {
   "cell_type": "code",
   "execution_count": 12,
   "metadata": {},
   "outputs": [
    {
     "name": "stdout",
     "output_type": "stream",
     "text": [
      "(62803, 8)\n"
     ]
    }
   ],
   "source": [
    "# print(anno.shape) to get the size of the original dataframe\n",
    "print(anno.shape)"
   ]
  },
  {
   "cell_type": "markdown",
   "metadata": {},
   "source": [
    "#### How many genes are on each chromosome?  There's a few ways you could do this, but one is to use a Counter.\n",
    "\n",
    "1. from the package 'collections' import Counter. https://docs.python.org/3.6/library/collections.html#collections.Counter\n",
    "2. create a new variable called chr_count that is a Counter, and pass in the chr column of your dataframe to your counter to get the counts of how many times each chromosome is found\n",
    "3. print the results"
   ]
  },
  {
   "cell_type": "code",
   "execution_count": null,
   "metadata": {},
   "outputs": [],
   "source": []
  },
  {
   "cell_type": "markdown",
   "metadata": {},
   "source": [
    "## Part 3: ENCODE data\n",
    "\n",
    "**Import the file 'all_ENCODE_metadata.tsv.gz' into a dataframe called encode.  Set the index column to be the file accession number, and print the first rows with .head().  Note that this file is tab separated rather than comma separated.  You'll need to include the argument sep='\\t' rather than sep=',' as you did before ('\\t' denotes a tab).**"
   ]
  },
  {
   "cell_type": "code",
   "execution_count": null,
   "metadata": {},
   "outputs": [],
   "source": []
  },
  {
   "cell_type": "markdown",
   "metadata": {},
   "source": [
    "#### How big is this dataframe?  What type of information is present in the rows? Columns?"
   ]
  },
  {
   "cell_type": "code",
   "execution_count": null,
   "metadata": {},
   "outputs": [],
   "source": []
  },
  {
   "cell_type": "markdown",
   "metadata": {},
   "source": [
    "#### Create a new dataframe called encode_filt that includes only samples that:\n",
    " - are from human (homo sapiens)\n",
    " - do not have audit errors.  Specifically, only include rows where encode['Audit ERROR'].isnull() is True.\n",
    " \n",
    "For the first criteria, you may need to look at what columns are present in the dataframe to choose the appropriate ones to filter on.  Your dataframe should have 223543 rows."
   ]
  },
  {
   "cell_type": "code",
   "execution_count": 29,
   "metadata": {},
   "outputs": [
    {
     "name": "stdout",
     "output_type": "stream",
     "text": [
      "(223543, 49)\n"
     ]
    }
   ],
   "source": [
    "# I'm providing the answer here, so that you can see how to do this\n",
    "\n",
    "# first, we're creating a variable m1 which asks \"is the value equal to 'Homo sapeins'\n",
    "# for each value in the 'Biosample organism' column\"\n",
    "m1 = encode['Biosample organism'] == 'Homo sapiens'\n",
    "\n",
    "# second, we're creating a variable m2 which asks \"is there no value, i.e., no error included'\n",
    "# for each value in the 'Audit ERROR' column\"\n",
    "m2 = encode['Audit ERROR'].isnull()\n",
    "\n",
    "# now, we're asking if for each element (note that these correspond to rows of the dataframe)\n",
    "# are both criteria two?\n",
    "mask = m1 & m2\n",
    "\n",
    "# now, we're actually filtering the dataframe\n",
    "encode_filt = encode.loc[mask]\n",
    "print(encode_filt.shape)"
   ]
  },
  {
   "cell_type": "markdown",
   "metadata": {},
   "source": [
    "#### Breaking briefly from the ENCODE data, to try to illustrate what is going on here:\n",
    "\n",
    "Here, we've created three arrays, with three values each.  We're performing an \"and\" operation - meaning that if everything is True, it will return True; otherwise, it will return False."
   ]
  },
  {
   "cell_type": "code",
   "execution_count": 30,
   "metadata": {},
   "outputs": [
    {
     "name": "stdout",
     "output_type": "stream",
     "text": [
      "[False  True False]\n"
     ]
    }
   ],
   "source": [
    "# example on how to merge multiple masks\n",
    "\n",
    "a = np.array([True, True, False])\n",
    "b = np.array([False, True, False])\n",
    "c = np.array([True, True, True])\n",
    "\n",
    "d = a & b & c\n",
    "\n",
    "print(d)\n",
    "\n",
    "# note that you can't do this with lists\n",
    "# (try it yourself and see what happens)\n",
    "# arrays make our lives easier"
   ]
  },
  {
   "cell_type": "markdown",
   "metadata": {},
   "source": [
    "#### What types of RNA-seq data are available?  Create a dataframe called rna that only has rows that satisfy all of the following criteria:\n",
    " - They come from RNA-seq experiments.\n",
    " - Their libraries are made from RNA\n",
    " - They are depleted in rRNA\n",
    " - They are fastq files\n",
    " \n",
    "You will need to look at both the column listings, as well as the unique values in these columns, to be able to know what values to filter on.  You will want to look at four columns, create a boolean mask for each of them (a array/series containing either True or False for each value), and then make a final mask that contains only values where all four sub-masks were True.\n",
    "\n",
    "Your final 'rna' dataframe should have 1017 rows."
   ]
  },
  {
   "cell_type": "code",
   "execution_count": null,
   "metadata": {},
   "outputs": [],
   "source": []
  },
  {
   "cell_type": "markdown",
   "metadata": {},
   "source": [
    "#### Get a list of the unique biosample term names in the rna dataframe.  In other words, a list of biosample term names for which there exists RNA-seq data that satisfied our above criteria."
   ]
  },
  {
   "cell_type": "code",
   "execution_count": null,
   "metadata": {},
   "outputs": [],
   "source": []
  },
  {
   "cell_type": "markdown",
   "metadata": {},
   "source": [
    "#### What types of ChIP-seq data are available?  Create a dataframe called chip that only has rows that satisfy all of the following criteria:\n",
    " - They come from ChIP-seq experiments\n",
    " - The ChIP-seq target is H3K27ac-human\n",
    " - The file format is bed narrowPeak\n",
    " - The output type is replicated peaks\n",
    " - The bed files were aligned to the GRCh38 assembly.\n",
    " \n",
    "Your final dataframe should have 80 rows."
   ]
  },
  {
   "cell_type": "code",
   "execution_count": null,
   "metadata": {},
   "outputs": [],
   "source": []
  },
  {
   "cell_type": "markdown",
   "metadata": {},
   "source": [
    "#### Get a list of the unique biosample term names in the chip dataframe."
   ]
  },
  {
   "cell_type": "code",
   "execution_count": null,
   "metadata": {},
   "outputs": [],
   "source": []
  },
  {
   "cell_type": "markdown",
   "metadata": {},
   "source": [
    "#### Now, get a list of the biosample term names which are shared between the two lists.  In other words, find the intersection of biosample term names with RNA and ChIP data satisfying our various criteria.  How many samples are there in this list?\n",
    "\n",
    "I've provided one way to do this below using list comprehensions - there are many other ways to do this, such as converting the lists to sets, and then finding the intersection of those sets."
   ]
  },
  {
   "cell_type": "code",
   "execution_count": 35,
   "metadata": {},
   "outputs": [
    {
     "name": "stdout",
     "output_type": "stream",
     "text": [
      "['d', 'e', 'f', 'g']\n"
     ]
    }
   ],
   "source": [
    "# example\n",
    "\n",
    "list_1 = ['a','b','c','d','e','f','g']\n",
    "list_2 = ['d','e','f','g','h','i','j']\n",
    "\n",
    "list_3 = [i for i in list_1 if i in list_2]\n",
    "print(list_3)"
   ]
  },
  {
   "cell_type": "code",
   "execution_count": null,
   "metadata": {},
   "outputs": [],
   "source": []
  },
  {
   "cell_type": "markdown",
   "metadata": {},
   "source": [
    "#### The sample 'gastrocnemius medialis' should be in your list.  Print the data in the rna and chip dataframes that are from this sample."
   ]
  },
  {
   "cell_type": "code",
   "execution_count": null,
   "metadata": {},
   "outputs": [],
   "source": []
  },
  {
   "cell_type": "markdown",
   "metadata": {},
   "source": [
    "## The end of Part 1\n",
    "\n",
    "#### Congratulations on finishing this - I know that it's a lot!"
   ]
  }
 ],
 "metadata": {
  "kernelspec": {
   "display_name": "Python 3",
   "language": "python",
   "name": "python3"
  },
  "language_info": {
   "codemirror_mode": {
    "name": "ipython",
    "version": 3
   },
   "file_extension": ".py",
   "mimetype": "text/x-python",
   "name": "python",
   "nbconvert_exporter": "python",
   "pygments_lexer": "ipython3",
   "version": "3.6.7"
  }
 },
 "nbformat": 4,
 "nbformat_minor": 2
}
